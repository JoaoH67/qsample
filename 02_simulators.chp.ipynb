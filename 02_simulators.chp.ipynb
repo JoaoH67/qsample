{
 "cells": [
  {
   "cell_type": "code",
   "execution_count": null,
   "metadata": {},
   "outputs": [],
   "source": [
    "# default_exp simulators.chp"
   ]
  },
  {
   "cell_type": "markdown",
   "metadata": {},
   "source": [
    "# CHP Simulator\n",
    "\n",
    "> Implementation of the Aarenson/Gottesman CHP stabilizer simulator (ref: https://arxiv.org/pdf/quant-ph/0406196.pdf). This simulator updates the stabilizer generators which stabilize a n-qubit state initially in the $|00..0 \\rangle$ state after each gate application. It implements the fundamental gates CNOT, Hadamard and Phase (S-gate) from which all other gates of the Clifford group can be generated. This simulator, most notably, cannot handle any continuous rotation or other gates outside the Clifford group thus it is only applicable for simulating stabilizer circuits. This implementation is based on the work of @Strilanc (ref: https://github.com/Strilanc/python-chp-stabilizer-simulator)."
   ]
  },
  {
   "cell_type": "code",
   "execution_count": null,
   "metadata": {},
   "outputs": [],
   "source": [
    "# hide\n",
    "from nbdev.showdoc import *"
   ]
  },
  {
   "cell_type": "code",
   "execution_count": null,
   "metadata": {},
   "outputs": [
    {
     "ename": "ModuleNotFoundError",
     "evalue": "No module named 'qsam'",
     "output_type": "error",
     "traceback": [
      "\u001b[0;31m---------------------------------------------------------------------------\u001b[0m",
      "\u001b[0;31mModuleNotFoundError\u001b[0m                       Traceback (most recent call last)",
      "Input \u001b[0;32mIn [8]\u001b[0m, in \u001b[0;36m<cell line: 2>\u001b[0;34m()\u001b[0m\n\u001b[1;32m      1\u001b[0m \u001b[38;5;66;03m# export\u001b[39;00m\n\u001b[0;32m----> 2\u001b[0m \u001b[38;5;28;01mfrom\u001b[39;00m \u001b[38;5;21;01mqsam\u001b[39;00m\u001b[38;5;21;01m.\u001b[39;00m\u001b[38;5;21;01msimulators\u001b[39;00m\u001b[38;5;21;01m.\u001b[39;00m\u001b[38;5;21;01msimulator\u001b[39;00m \u001b[38;5;28;01mimport\u001b[39;00m Simulator\n\u001b[1;32m      3\u001b[0m \u001b[38;5;28;01mimport\u001b[39;00m \u001b[38;5;21;01mnumpy\u001b[39;00m \u001b[38;5;28;01mas\u001b[39;00m \u001b[38;5;21;01mnp\u001b[39;00m\n\u001b[1;32m      4\u001b[0m \u001b[38;5;28;01mimport\u001b[39;00m \u001b[38;5;21;01mrandom\u001b[39;00m\n",
      "\u001b[0;31mModuleNotFoundError\u001b[0m: No module named 'qsam'"
     ]
    }
   ],
   "source": [
    "# export\n",
    "from qsam.simulators.simulator import Simulator\n",
    "import numpy as np\n",
    "import random"
   ]
  },
  {
   "cell_type": "code",
   "execution_count": null,
   "metadata": {},
   "outputs": [],
   "source": [
    "#export\n",
    "\n",
    "class CHP(Simulator):\n",
    "    \"\"\"A simple stabilizer simulator\"\"\"\n",
    "    \n",
    "    def __init__(self, n_qubits):\n",
    "        self.n_qubits = n_qubits\n",
    "        self._table = np.eye(2*n_qubits+1, dtype=bool)\n",
    "        self._x = self._table[:, :self.n_qubits] # X stab. gens\n",
    "        self._z = self._table[:, self.n_qubits:-1] # Z stab. gens\n",
    "        self._r = self._table[:, -1] # glob. phase\n",
    "        \n",
    "    def Z(self, i):\n",
    "        self.S(i)\n",
    "        self.S(i)\n",
    "        \n",
    "    def X(self, i):\n",
    "        self.H(i)\n",
    "        self.Z(i)\n",
    "        self.H(i)\n",
    "        \n",
    "    def Y(self, i):\n",
    "        self.S(i)\n",
    "        self.S(i)\n",
    "        self.S(i)\n",
    "        self.X(i)\n",
    "        self.S(i)\n",
    "        \n",
    "    def CNOT(self, c, t):\n",
    "        # XI -> XX, IX -> IX, XX -> XI\n",
    "        # ZI -> ZI, IZ -> ZZ, ZZ -> IZ\n",
    "        # YI -> YX, IY -> ZY, YY -> -ZX\n",
    "        self._r ^= self._x[:, c] & self._z[:, t] & (self._x[:, t] ^ self._z[:, c] ^ True)\n",
    "        self._x[:, t] ^= self._x[:, c] # X propagation\n",
    "        self._z[:, c] ^= self._z[:, t] # Z propagation\n",
    "        \n",
    "    def H(self, i):\n",
    "         # X -> Z, Z -> X, Y -> -Y\n",
    "        self._r ^= self._x[:, i] & self._z[:, i]\n",
    "        self._x[:, i] ^= self._z[:, i]\n",
    "        self._z[:, i] ^= self._x[:, i]\n",
    "        self._x[:, i] ^= self._z[:, i]\n",
    "        \n",
    "    def S(self, i):\n",
    "        # X -> Y, Z -> Z, Y -> -X\n",
    "        self._r ^= self._x[:, i] & self._z[:, i]\n",
    "        self._z[:, i] ^= self._x[:, i]\n",
    "        \n",
    "    def measure(self, i):\n",
    "        for q in range(self.n_qubits):\n",
    "            if self._x[q + self.n_qubits, i]:\n",
    "                return int(self._measure_random(i, q)) # X destabilizes qubit i\n",
    "            else:\n",
    "                return int(self._measure_determined(i)) # only Z destabilizes qubit i\n",
    "            \n",
    "    def _measure_random(self, i, q, bias=0.5):\n",
    "        self._table[q, :] = self._table[q + self.n_qubits, :]\n",
    "        self._table[q + self.n_qubits, :] = 0\n",
    "        self._z[q + self.n_qubits, i] = 1\n",
    "        self._r[q + self.n_qubits] = random.random() < bias\n",
    "        \n",
    "        for j in range(2 * self.n_qubits):\n",
    "            if self._x[j, i] and j != q and j != q + self.n_qubits:\n",
    "                self._row_mult(i, q)\n",
    "                \n",
    "        return self._r[q + self.n_qubits]\n",
    "    \n",
    "    def _measure_determined(self, i):\n",
    "        self._table[-1, :] = 0\n",
    "        for j in range(self.n_qubits):\n",
    "            if self._x[j, i]:\n",
    "                self._row_mult(-1, j + self.n_qubits)\n",
    "        return self._r[-1]\n",
    "    \n",
    "    def _row_product_sign(self, i, k):\n",
    "        pauli_phases = sum( pauli_product_phase(self._x[i, j], self._z[i, j], self._x[k, j], self._z[k,j]) for j in range(self.n_qubits) )\n",
    "        p = (pauli_phases >> 1) & 1\n",
    "        return bool(self._r[i] ^ self._r[k] ^ p)\n",
    "    \n",
    "    def _row_mult(self, i, k):\n",
    "        self._r[i] = self._row_product_sign(i, k)\n",
    "        self._x[i, :self.n_qubits] ^= self._x[k, :self.n_qubits]\n",
    "        self._z[i, :self.n_qubits] ^= self._z[k, :self.n_qubits]\n",
    "        \n",
    "    def __str__(self):\n",
    "        pass\n",
    "    \n",
    "def pauli_product_phase(x1, z1, x2, z2):\n",
    "    if x1 and z1: return int(z2) - int(x2)\n",
    "    elif x1: return z2 and 2 * int(x2) - 1\n",
    "    elif z1: return x2 and 1 - 2 * int(z2)\n",
    "    else: return 0"
   ]
  },
  {
   "cell_type": "markdown",
   "metadata": {},
   "source": [
    "**TODO** Tests and explanation of implementation, implement printing of state."
   ]
  },
  {
   "cell_type": "code",
   "execution_count": null,
   "metadata": {},
   "outputs": [
    {
     "data": {
      "text/plain": [
       "0"
      ]
     },
     "execution_count": null,
     "metadata": {},
     "output_type": "execute_result"
    }
   ],
   "source": []
  }
 ],
 "metadata": {
  "kernelspec": {
   "display_name": "Python 3 (ipykernel)",
   "language": "python",
   "name": "python3"
  }
 },
 "nbformat": 4,
 "nbformat_minor": 4
}
