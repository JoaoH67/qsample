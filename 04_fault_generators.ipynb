{
 "cells": [
  {
   "cell_type": "code",
   "execution_count": null,
   "metadata": {},
   "outputs": [],
   "source": [
    "# default_exp fault_generators"
   ]
  },
  {
   "cell_type": "markdown",
   "metadata": {},
   "source": [
    "# Fault generators\n",
    "\n",
    "> Collection of generators to produce faulty circuits."
   ]
  },
  {
   "cell_type": "code",
   "execution_count": null,
   "metadata": {},
   "outputs": [],
   "source": [
    "# hide\n",
    "from nbdev.showdoc import *"
   ]
  },
  {
   "cell_type": "code",
   "execution_count": null,
   "metadata": {},
   "outputs": [],
   "source": [
    "#export\n",
    "from qsam.circuit import Circuit\n",
    "import numpy as np\n",
    "import itertools as it"
   ]
  },
  {
   "cell_type": "markdown",
   "metadata": {},
   "source": [
    "A faulty circuit is an \"empty\" circuit of the same size as a reference circuit which has \"fault\" gates at some circuit locations. Fault gates are just regular gates (X,Y,Z,..) just with the difference that these are executed in the simulation **after** the gates in a tick of the reference circuit. Thus, a fault circuit is always defined with respect to a reference circuit. Here an example:"
   ]
  },
  {
   "cell_type": "code",
   "execution_count": null,
   "metadata": {},
   "outputs": [
    {
     "name": "stdout",
     "output_type": "stream",
     "text": [
      "0: {'H': {0, 1, 2}}\n",
      "1: {'CNOT': {(0, 1), (0, 2)}}\n",
      "2: {'measure': {0, 1, 2}}\n",
      "\n",
      "0: {}\n",
      "1: {'X': {0, 2}}\n",
      "2: {}\n"
     ]
    }
   ],
   "source": [
    "ref_circ = Circuit([{\"H\":{0,1,2}}, {\"CNOT\": {(0,1), (0,2)}}, {\"measure\":{0,1,2}}])\n",
    "f_circ = Circuit([dict()] * 3)\n",
    "f_circ[1] = {\"X\": {0,2}}\n",
    "\n",
    "print(ref_circ)\n",
    "print(f_circ)"
   ]
  },
  {
   "cell_type": "markdown",
   "metadata": {},
   "source": [
    "The fault generator implements a function to populate the fault circuit (randomly) due to some specified parameters. For now, we only implement a generator for depolarizing circuit-level noise, i.e. equal probability of errors on each given circuit element. For now we also only consider gates as circuit elements (1-qubit, 2-qubit, measurements). In the future, we will also implement a way to place idle and cross-talk noise."
   ]
  },
  {
   "cell_type": "code",
   "execution_count": null,
   "metadata": {},
   "outputs": [],
   "source": [
    "#export\n",
    "\n",
    "ONE_QUBIT_FAULTS = [\"X\", \"Y\", \"Z\"]\n",
    "TWO_QUBIT_FAULTS = list(it.product(ONE_QUBIT_FAULTS + [\"I\"], repeat=2))\n",
    "TWO_QUBIT_FAULTS.remove((\"I\",\"I\"))\n",
    "\n",
    "class Depolar:\n",
    "    \"\"\"Fault circuit generator under depolarizing circuit-level noise\"\"\"\n",
    "    \n",
    "    def __init__(self, n_ticks):\n",
    "        self.n_ticks = n_ticks\n",
    "        \n",
    "    def generate(self, partitions, params, sampler_type):\n",
    "        \n",
    "        if sampler_type == \"DirectSampler\":\n",
    "            faults = [fault for partition, p in zip(partitions, params) for fault in partition if np.random.random() < p ]\n",
    "        elif sampler_type == \"SubsetSampler\":\n",
    "            faults = [partition[idx] for partition, weight in zip(partitions,params) for idx in np.random.choice(len(partition),weight,replace=False)]\n",
    "        else:\n",
    "            raise Exception(f\"Sampler type {sampler_type} not implemented\")\n",
    "            \n",
    "        return self._place_faults(faults)\n",
    "    \n",
    "    def _place_faults(self, faults):\n",
    "        \"\"\"Place `faults` at specified `tick_index`s in empty circuit\"\"\"\n",
    "        \n",
    "        fault_circuit = Circuit([{} for _ in range(self.n_ticks)])\n",
    "        \n",
    "        for (tick_index, qubit) in faults:\n",
    "            if type(qubit) == int:\n",
    "                f_gate = np.random.choice(ONE_QUBIT_FAULTS)\n",
    "                qb_set = fault_circuit[tick_index].get(f_gate, set())\n",
    "                qb_set.add(qubit)\n",
    "                fault_circuit[tick_index][f_gate] = qb_set\n",
    "            elif type(qubit) == tuple:\n",
    "                f_gates = TWO_QUBIT_FAULTS[np.random.choice(len(TWO_QUBIT_FAULTS))]\n",
    "                for f_gate, qubit_i in zip(f_gates, qubit):\n",
    "                    if f_gate != \"I\":\n",
    "                        qb_set = fault_circuit[tick_index].get(f_gate, set())\n",
    "                        qb_set.add(qubit_i)\n",
    "                        fault_circuit[tick_index][f_gate] = qb_set\n",
    "        return fault_circuit"
   ]
  },
  {
   "cell_type": "code",
   "execution_count": null,
   "metadata": {},
   "outputs": [
    {
     "name": "stdout",
     "output_type": "stream",
     "text": [
      "[(0, 1), (5, 2), (3, (5, 4))]\n"
     ]
    },
    {
     "data": {
      "text/plain": [
       "0: {'Z': {1}}\n",
       "1: {}\n",
       "2: {}\n",
       "3: {'X': {5}, 'Z': {4}}\n",
       "4: {}\n",
       "5: {'Y': {2}}"
      ]
     },
     "execution_count": null,
     "metadata": {},
     "output_type": "execute_result"
    }
   ],
   "source": [
    "partitions = [[(0,1),(1,3),(5,2)],[(0,(2,3)), (2,(4,3)), (3,(5,4))]]\n",
    "p_phys = [0.6,0.3]\n",
    "d = Depolar(n_ticks=6)\n",
    "# d.generate(partitions, [[2],[1]], \"SubsetSampler\")\n",
    "d.generate(partitions, p_phys, \"DirectSampler\")"
   ]
  },
  {
   "cell_type": "markdown",
   "metadata": {},
   "source": [
    "**TODO** Tests and example"
   ]
  }
 ],
 "metadata": {
  "kernelspec": {
   "display_name": "Python 3 (ipykernel)",
   "language": "python",
   "name": "python3"
  }
 },
 "nbformat": 4,
 "nbformat_minor": 4
}
