{
 "cells": [
  {
   "cell_type": "code",
   "execution_count": null,
   "metadata": {},
   "outputs": [],
   "source": [
    "# default_exp fault_generators"
   ]
  },
  {
   "cell_type": "markdown",
   "metadata": {},
   "source": [
    "# Fault generators\n",
    "\n",
    "> Collection of generators to produce faulty circuits."
   ]
  },
  {
   "cell_type": "code",
   "execution_count": null,
   "metadata": {},
   "outputs": [],
   "source": [
    "# hide\n",
    "from nbdev.showdoc import *"
   ]
  },
  {
   "cell_type": "code",
   "execution_count": null,
   "metadata": {},
   "outputs": [],
   "source": [
    "#export\n",
    "from qsam.circuit import Circuit, partition, unpack\n",
    "import numpy as np\n",
    "import itertools as it"
   ]
  },
  {
   "cell_type": "markdown",
   "metadata": {},
   "source": [
    "A faulty circuit is an \"empty\" circuit of the same size as a reference circuit which has \"fault\" gates at some circuit locations. Fault gates are just regular gates (X,Y,Z,..) just with the difference that these are executed in the simulation **after** the gates in a tick of the reference circuit. Thus, a fault circuit is always defined with respect to a reference circuit, i.e. with same number of qubits and ticks as the reference circuit. Here an example:"
   ]
  },
  {
   "cell_type": "code",
   "execution_count": null,
   "metadata": {},
   "outputs": [
    {
     "name": "stdout",
     "output_type": "stream",
     "text": [
      "0: {'H': {0, 1, 2}}\n",
      "1: {'CNOT': {(0, 1), (0, 2)}}\n",
      "2: {'measure': {0, 1, 2}}\n",
      "0: {}\n",
      "1: {'X': {0, 2}}\n",
      "2: {}\n"
     ]
    }
   ],
   "source": [
    "ref_circ = Circuit([{\"H\":{0,1,2}}, {\"CNOT\": {(0,1), (0,2)}}, {\"measure\":{0,1,2}}])\n",
    "f_circ = Circuit([dict()] * 3)\n",
    "f_circ[1] = {\"X\": {0,2}}\n",
    "\n",
    "print(ref_circ)\n",
    "print(f_circ)"
   ]
  },
  {
   "cell_type": "markdown",
   "metadata": {},
   "source": [
    "The fault generator implements a function to populate the fault circuit (randomly) due to some specified parameters. For now, we only implement a fault generator for depolarizing circuit-level noise, i.e. equal probability of errors on each given circuit element. For now we also only consider gates as circuit elements (1-qubit, 2-qubit, measurements). In the future, we will also implement a way to place idle and cross-talk noise."
   ]
  },
  {
   "cell_type": "code",
   "execution_count": null,
   "metadata": {},
   "outputs": [],
   "source": [
    "#export\n",
    "def to_ndarray(e):\n",
    "    if isinstance(e, np.ndarray): return e\n",
    "    elif isinstance(e, (list, tuple, set)): return np.array(e)\n",
    "    else: return np.array([e])"
   ]
  },
  {
   "cell_type": "code",
   "execution_count": null,
   "metadata": {},
   "outputs": [],
   "source": [
    "#export\n",
    "def pad(lst,size,val):\n",
    "    return np.append(lst, [val] * (size - len(lst))) if len(lst) < size else lst"
   ]
  },
  {
   "cell_type": "code",
   "execution_count": null,
   "metadata": {},
   "outputs": [],
   "source": [
    "#export\n",
    "ONE_QUBIT_GATES = {'H', 'X', 'Y', 'Z', 'I', 'S', 'Sd', 'T', 'Td', 'Q', 'Qd', 'R', 'Rd'}\n",
    "TWO_QUBIT_GATES = {'CNOT', 'MSd'}\n",
    "MEAS_GATES = {'measure'}\n",
    "INIT_GATES = {'init'}\n",
    "\n",
    "GATE_GROUPS = {'p': ONE_QUBIT_GATES | TWO_QUBIT_GATES,\n",
    "               'p1': ONE_QUBIT_GATES,\n",
    "               'p2': TWO_QUBIT_GATES,\n",
    "               'm': MEAS_GATES,\n",
    "               'in': INIT_GATES\n",
    "               }"
   ]
  },
  {
   "cell_type": "code",
   "execution_count": null,
   "metadata": {},
   "outputs": [],
   "source": [
    "#export\n",
    "class FaultGenerator:\n",
    "    \n",
    "    def __init__(self, err_params, one_qubit_faults, two_qubit_faults):\n",
    "        self.partition_names = list(err_params.keys()) \n",
    "        p_phy = [to_ndarray(p) for p in err_params.values()]\n",
    "        psize = max(p.size for p in p_phy)\n",
    "        self.p_phy = np.array([pad(p,psize,p[-1]) for p in p_phy]).T\n",
    "        \n",
    "        self.ONE_QUBIT_FAULTS = one_qubit_faults\n",
    "        self.TWO_QUBIT_FAULTS = two_qubit_faults\n",
    "        \n",
    "    def configure(self, circuit):\n",
    "        if isinstance(circuit, dict):\n",
    "            partitions = {c_hash: [self._partition(circuit, name) for name in self.partition_names] \n",
    "                          for c_hash, circuit in circuit.items()}\n",
    "        else:\n",
    "            partitions = [self._partition(circuit, name) for name in self.partition_names]\n",
    "        self.partitions = partitions\n",
    "        \n",
    "    def _partition(self, circuit, partition_name):\n",
    "        if partition_name in GATE_GROUPS:\n",
    "            return partition(circuit, GATE_GROUPS[partition_name])\n",
    "        elif partition_name == 'id':\n",
    "            n_qubits = circuit.n_qubits\n",
    "            n_ticks = circuit.n_ticks\n",
    "            return [(i,loc) for i, tick in enumerate(circuit) for loc in unpack(tick)]\n",
    "        elif partition_name == 'x1':\n",
    "            n_qubits = circuit.n_qubits\n",
    "            active_locs = partition(circuit, GATE_GROUPS['p1'])\n",
    "            out = set()\n",
    "            for tick, qb in active_locs:\n",
    "                if qb-1 >= 0 and (tick,qb-1):\n",
    "                    out.add( (tick,qb-1) )\n",
    "                if qb+1 <= n_qubits and (tick,qb+1):\n",
    "                    out.add( (tick,qb-1) )\n",
    "            return list(out)\n",
    "        elif partition_name == 'x2':\n",
    "            # common / not-common neighbors.\n",
    "            # target/control qubit neighbors Ex. MS(6,3): faulty: (3,2),(3,4),(3,5),(3,7), (5,6),(6,7),(6,2),(6,4)\n",
    "            # special operators per gate\n",
    "            pass\n",
    "        else:\n",
    "            raise KeyError(f'Unkown partition {partition_name}.')\n",
    "        \n",
    "    def faults_from_probs(self, ps, c_hash=None):\n",
    "        \"\"\"Select fault locs by random number < p for elements in partitions\"\"\"\n",
    "        if c_hash: partitions = self.partitions[c_hash]\n",
    "        else: partitions = self.partitions\n",
    "        return [loc for locs,p in zip(partitions, ps) for loc in locs if np.random.random() < p]\n",
    "    \n",
    "    def faults_from_weights(self, ws, c_hash=None):\n",
    "        \"\"\"Select fault locs by random choice of w elements per partition\"\"\"\n",
    "        if c_hash: partitions = self.partitions[c_hash]\n",
    "        else: partitions = self.partitions\n",
    "        return [par[i] for par,w in zip(partitions,ws) for i in np.random.choice(len(par),w,replace=False)]\n",
    "    \n",
    "    def gen_circuit(self, n_ticks, faults=[]):\n",
    "        \"\"\"Generate an empty circuit with given faults\"\"\"\n",
    "        fault_circuit = Circuit([{} for _ in range(n_ticks)])\n",
    "        for (tick_index,qubit) in faults:\n",
    "            if isinstance(qubit, int):\n",
    "                f_gate = np.random.choice(self.ONE_QUBIT_FAULTS)\n",
    "                qb_set = fault_circuit[tick_index].get(f_gate, set()) # get previous f_gate type fault\n",
    "                qb_set.add(qubit) # append faults in this tick\n",
    "                fault_circuit[tick_index][f_gate] = qb_set # udpate \n",
    "            elif isinstance(qubit, (list,set,tuple)):\n",
    "                f_gates = self.TWO_QUBIT_FAULTS[np.random.choice(len(self.TWO_QUBIT_FAULTS))]\n",
    "                for f_gate, qubit_i in zip(f_gates, qubit):\n",
    "                    if f_gate != \"I\":\n",
    "                        qb_set = fault_circuit[tick_index].get(f_gate, set())\n",
    "                        qb_set.add(qubit_i)\n",
    "                        fault_circuit[tick_index][f_gate] = qb_set\n",
    "        return fault_circuit  "
   ]
  },
  {
   "cell_type": "code",
   "execution_count": null,
   "metadata": {},
   "outputs": [],
   "source": [
    "#export\n",
    "class Depolarizing(FaultGenerator):\n",
    "    \n",
    "    ONE_QUBIT_FAULTS = ['X', 'Y', 'Z']\n",
    "    TWO_QUBIT_FAULTS = [\n",
    "        ('I', 'X'), ('I', 'Y'), ('I', 'Z'),\n",
    "        ('X', 'I'), ('X', 'X'), ('X', 'Y'), ('X', 'Z'),\n",
    "        ('Y', 'I'), ('Y', 'X'), ('Y', 'Y'), ('Y', 'Z'),\n",
    "        ('Z', 'I'), ('Z', 'X'), ('Z', 'Y'), ('Z', 'Z')\n",
    "    ]\n",
    "    \n",
    "    def __init__(self, err_params):\n",
    "        super().__init__(err_params, self.ONE_QUBIT_FAULTS, self.TWO_QUBIT_FAULTS)"
   ]
  },
  {
   "cell_type": "code",
   "execution_count": null,
   "metadata": {},
   "outputs": [
    {
     "name": "stdout",
     "output_type": "stream",
     "text": [
      "[(0, 0), (0, 1)]\n",
      "0: {'X': {0}, 'Z': {1}}\n",
      "1: {}\n",
      "2: {}\n"
     ]
    }
   ],
   "source": [
    "ref_circ = Circuit([{\"H\":{0,1,2}}, {\"CNOT\": {(0,1), (0,2)}}, {\"measure\":{0,1,2}}])\n",
    "err_params = {'p1': [0.1,0.2,0.3], 'p2': [0.1,0.1]}\n",
    "\n",
    "fault_gen = Depolarizing(err_params)\n",
    "fault_gen.configure(ref_circ)\n",
    "faults = fault_gen.faults_from_probs( (0.8,) )\n",
    "print(faults)\n",
    "\n",
    "fault_circuit = fault_gen.gen_circuit(len(ref_circ), faults)\n",
    "print(fault_circuit)"
   ]
  },
  {
   "cell_type": "markdown",
   "metadata": {},
   "source": [
    "For the `SubsetSampler` we need to select faults of a specific amount (i.e. weight) from the partitions. Thus, we simply call the `faults_from_weights` method to generate faults."
   ]
  },
  {
   "cell_type": "code",
   "execution_count": null,
   "metadata": {},
   "outputs": [
    {
     "name": "stdout",
     "output_type": "stream",
     "text": [
      "[(0, 1), (0, 0)]\n",
      "0: {'Z': {1}, 'X': {0}}\n",
      "1: {}\n",
      "2: {}\n"
     ]
    }
   ],
   "source": [
    "ref_circ = Circuit([{\"H\":{0,1,2}}, {\"CNOT\": {(0,1), (0,2)}}, {\"measure\":{0,1,2}}])\n",
    "err_params = {'p1': [0.1,0.2,0.3], 'p2': [0.1,0.1]}\n",
    "\n",
    "fault_gen = Depolarizing(err_params)\n",
    "fault_gen.configure(ref_circ)\n",
    "faults = fault_gen.faults_from_weights( (2,) )\n",
    "print(faults)\n",
    "\n",
    "fault_circuit = fault_gen.gen_circuit(len(ref_circ), faults)\n",
    "print(fault_circuit)"
   ]
  }
 ],
 "metadata": {
  "kernelspec": {
   "display_name": "Python 3 (ipykernel)",
   "language": "python",
   "name": "python3"
  }
 },
 "nbformat": 4,
 "nbformat_minor": 4
}
