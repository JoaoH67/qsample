{
 "cells": [
  {
   "cell_type": "raw",
   "id": "aefc0d4e",
   "metadata": {},
   "source": [
    "---\n",
    "description: Sampler class for direct Monte Carlo sampling\n",
    "output-file: sampler.direct.html\n",
    "title: Direct Monte Carlo sampler\n",
    "\n",
    "---\n",
    "\n"
   ]
  },
  {
   "cell_type": "code",
   "execution_count": null,
   "id": "dd8008ee-6cf2-4bbe-875f-b9cd17c28cef",
   "metadata": {},
   "outputs": [],
   "source": [
    "#| default_exp sampler.direct"
   ]
  },
  {
   "cell_type": "code",
   "execution_count": null,
   "id": "e31e478d-b9fc-419c-99dc-e035b40a28c1",
   "metadata": {},
   "outputs": [],
   "source": [
    "#| include: false\n",
    "from nbdev.showdoc import *"
   ]
  },
  {
   "cell_type": "code",
   "execution_count": null,
   "id": "ec9b1b36-44a9-4472-a12f-e9e5f5a6b1ad",
   "metadata": {},
   "outputs": [],
   "source": [
    "#| export\n",
    "from qsample.sampler.base import Sampler, err_probs_tomatrix\n",
    "import numpy as np"
   ]
  },
  {
   "cell_type": "code",
   "execution_count": null,
   "id": "1e4f3094-4cc6-487d-a422-d0f426f6de0f",
   "metadata": {},
   "outputs": [],
   "source": [
    "#| export\n",
    "class DirectSampler(Sampler):\n",
    "    \n",
    "    def __init__(self, protocol, simulator, err_model=None, err_probs=None):\n",
    "        super().__init__(protocol, simulator, err_probs=err_probs, err_model=err_model)\n",
    "        self.err_probs = err_probs_tomatrix(err_probs, self.err_model.groups)\n",
    "    \n",
    "    def stats(self, tree_idx=None):\n",
    "        if tree_idx:\n",
    "            p_L = self.trees[tree_idx].direct_rate\n",
    "            v_L = self.trees[tree_idx].direct_variance\n",
    "        else:\n",
    "            p_L, v_L = [], []\n",
    "            for tree in self.trees.values():\n",
    "                p_L.append(tree.direct_rate)\n",
    "                v_L.append(tree.direct_variance)\n",
    "        return p_L, np.sqrt(v_L)\n",
    "    \n",
    "    def optimize(self, tree_node, circuit, grp_probs):\n",
    "        locgrps = self.protocol_groups[circuit.id]\n",
    "        flocs = self.err_model.choose_p(locgrps,grp_probs)\n",
    "        subset = tuple(len(locs) for locs in flocs.values())\n",
    "        return {'subset': subset, 'flocs': flocs}"
   ]
  },
  {
   "cell_type": "code",
   "execution_count": null,
   "id": "e627b654-4279-4cfd-a4ee-3ccaf014579c",
   "metadata": {},
   "outputs": [
    {
     "data": {
      "application/vnd.jupyter.widget-view+json": {
       "model_id": "4f4df1e540b14f0da4dbbd7a17087789",
       "version_major": 2,
       "version_minor": 0
      },
      "text/plain": [
       "p_phy=1.00E-01:   0%|          | 0/50000 [00:00<?, ?it/s]"
      ]
     },
     "metadata": {},
     "output_type": "display_data"
    },
    {
     "name": "stdout",
     "output_type": "stream",
     "text": [
      "2.6397567675619875e-05 8.83635849516693e-06 0.003724008139945334 False\n",
      "1.704484798547869e-05 6.771105452254702e-06 0.0035897920171034103 False\n",
      "9.70677931938663e-06 5.244447473287157e-06 0.0012155498688917188 False\n",
      "8.779527824996818e-06 4.215707665621288e-06 0.0012935985534637817 False\n",
      "6.838783419605407e-06 3.641153511963312e-06 0.0013600003290819007 False\n",
      "6.01482857837642e-06 3.1788255078853225e-06 0.0016703433178606453 False\n",
      "4.96459192865616e-06 2.8854963395405257e-06 0.0017299028138866301 False\n",
      "4.336386144810397e-06 2.640885832570148e-06 0.0013996299143217428 False\n",
      "3.7096392492719742e-06 2.444173277082957e-06 0.001383935580533291 False\n",
      "3.3097148442467728e-06 2.2716769164659404e-06 0.0011584527525297927 False\n",
      "3.1119764575596894e-06 2.094197535543215e-06 0.001081938496391821 False\n",
      "2.80048445225718e-06 1.95371780686471e-06 0.001077332756805327 False\n",
      "2.5219774319700646e-06 1.7437833609518985e-06 0.0009547733469863484 False\n",
      "2.5033122337583186e-06 1.6118162803700508e-06 0.0009027416570752678 False\n",
      "2.366448321659437e-06 1.5351655039975194e-06 0.0009029384911943827 False\n",
      "2.1695571556925583e-06 1.4170032159648536e-06 0.0007314139420114829 False\n",
      "2.014285770967187e-06 1.3153883842097153e-06 0.0006370359419047844 False\n",
      "1.8908035254851645e-06 1.2318320056730104e-06 0.0006364448210732787 False\n",
      "1.86502982114664e-06 1.2145943822983156e-06 0.0003007140669414321 False\n",
      "1.8442001758191966e-06 1.181481030964016e-06 0.0002430128554125055 False\n",
      "1.7333615435244245e-06 1.1220432603145072e-06 0.00022309109670193283 False\n",
      "1.681288856629881e-06 1.059198080833366e-06 0.00019781649888050978 False\n",
      "1.5674377514771075e-06 9.960677378187955e-07 0.00020054077752140742 False\n",
      "1.4793984361162993e-06 9.59414057368283e-07 0.00019865261465845663 False\n",
      "1.4182358813211935e-06 9.301678840895977e-07 0.0001999542654370634 False\n",
      "1.3507724417660582e-06 9.040479290970462e-07 0.00020105439894102517 False\n",
      "1.320251479477861e-06 8.713916961801781e-07 0.00018448574696261488 False\n",
      "1.2713359064958336e-06 8.392474786064174e-07 0.00018416338852267344 False\n",
      "1.2124648299407339e-06 8.103221716855556e-07 0.00018252079242797592 False\n",
      "1.1878047661442186e-06 7.848743517313716e-07 0.00020682679708183827 False\n",
      "1.1441405938964871e-06 7.610277372083418e-07 0.0002149616130830978 False\n",
      "1.0998473574683908e-06 7.336711873962803e-07 0.0002058608246455762 False\n",
      "1.0725865397899763e-06 7.1434666562987e-07 0.00020082410336841328 False\n",
      "1.043321763258661e-06 6.980825317229178e-07 0.0001983253644469718 False\n",
      "1.0125255325969284e-06 6.79862683958172e-07 0.0001849856483684409 False\n",
      "9.893103101518276e-07 6.611085315114703e-07 0.00018371440194686617 False\n",
      "9.478171003645803e-07 6.497783691824182e-07 0.00018583367161295605 False\n",
      "9.327594285845538e-07 6.425700891190664e-07 0.00018568981147371044 False\n",
      "9.179782920407173e-07 6.273197661970081e-07 0.00018810119497647548 False\n",
      "8.940681639154749e-07 6.123009360125879e-07 0.00018565402608961001 False\n",
      "8.780958118120215e-07 5.974108443854272e-07 0.00017505721955712872 False\n",
      "8.626121967031835e-07 5.778267342108986e-07 0.0001713581276961973 False\n",
      "8.333363456756381e-07 5.660857055154873e-07 0.0001739180778915772 False\n",
      "8.13586257585125e-07 5.57593424679467e-07 0.0001724644697507216 False\n",
      "7.947491594809354e-07 5.429502246688804e-07 0.00017672658015721598 False\n",
      "7.785444065002717e-07 5.347721270700391e-07 0.0001790077507878296 False\n",
      "7.544532122748911e-07 5.243630283720995e-07 0.00017710543292492886 False\n",
      "7.349441700900555e-07 5.164053119968785e-07 0.0001773983270864088 False\n",
      "7.226633219492248e-07 5.02722756681872e-07 0.00017676979050396113 False\n",
      "7.092591975837946e-07 4.916688460441932e-07 0.00018074823972147325 False\n"
     ]
    }
   ],
   "source": [
    "from qsample.examples import ghz3\n",
    "from qsample.noise import E1, E2\n",
    "from qsample.sim.stabilizer import StabilizerSimulator as CHP\n",
    "from qsample.callbacks import *\n",
    "from qsample.sampler.auto import SamplerSwitch\n",
    "\n",
    "e = E1\n",
    "\n",
    "# sample_range = np.logspace(-2,0,3)\n",
    "\n",
    "err_probs = {\n",
    "    # \"q1\": 0,\n",
    "    # \"q\": sample_range\n",
    "    \"q\": 0.1\n",
    "}\n",
    "\n",
    "sam = DirectSampler(ghz3, CHP, err_probs=err_probs, err_model=e)\n",
    "\n",
    "sam.run(50000, callbacks=[SamplerSwitch(period=1000)])"
   ]
  },
  {
   "cell_type": "code",
   "execution_count": null,
   "id": "22040b41-aa32-490e-a977-5b2da4ba6762",
   "metadata": {},
   "outputs": [
    {
     "data": {
      "application/vnd.jupyter.widget-view+json": {
       "model_id": "6e769785f4784bac9d365113e96d2164",
       "version_major": 2,
       "version_minor": 0
      },
      "text/plain": [
       "interactive(children=(IntSlider(value=0, description='i', max=0), Output()), _dom_classes=('widget-interact',)…"
      ]
     },
     "metadata": {},
     "output_type": "display_data"
    }
   ],
   "source": [
    "from ipywidgets import interact\n",
    "import ipywidgets as widgets\n",
    "\n",
    "def get_tree(i):\n",
    "    print(\"p_phy=\", list(sam.trees.keys())[i])\n",
    "    return (list(sam.trees.values())[i]).draw()\n",
    "interact(get_tree, i=widgets.IntSlider(min=0, max=len(sam.trees)-1, step=1, value=0));"
   ]
  },
  {
   "cell_type": "code",
   "execution_count": null,
   "id": "0228563e-c98c-4a83-9ef5-80a370a2e8dc",
   "metadata": {},
   "outputs": [],
   "source": [
    "#| slow\n",
    "sam.save('./test')"
   ]
  },
  {
   "cell_type": "code",
   "execution_count": null,
   "id": "ee007b00-362e-459e-97a8-650090dc4ffb",
   "metadata": {},
   "outputs": [
    {
     "data": {
      "application/vnd.jupyter.widget-view+json": {
       "model_id": "d83e9ef22efb4668b4dbfdae258c419d",
       "version_major": 2,
       "version_minor": 0
      },
      "text/plain": [
       "p_phy=1.00E-01:   0%|          | 0/100 [00:00<?, ?it/s]"
      ]
     },
     "metadata": {},
     "output_type": "display_data"
    }
   ],
   "source": [
    "#| slow\n",
    "sam2 = Sampler.load('./test')\n",
    "sam2.run(100)"
   ]
  }
 ],
 "metadata": {
  "kernelspec": {
   "display_name": "Python 3 (ipykernel)",
   "language": "python",
   "name": "python3"
  }
 },
 "nbformat": 4,
 "nbformat_minor": 5
}
