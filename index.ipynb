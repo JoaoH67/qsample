{
 "cells": [
  {
   "cell_type": "raw",
   "id": "35d3ca1e-e1cb-4c89-a9e1-9bce408e0bee",
   "metadata": {},
   "source": [
    "---\n",
    "description: Efficient sampling of noisy quantum circuits and protocols\n",
    "output-file: index.html\n",
    "title: qsample\n",
    "---"
   ]
  },
  {
   "cell_type": "code",
   "execution_count": null,
   "id": "4dc9420a-c2fd-41df-a39d-fb5ea51b71fb",
   "metadata": {},
   "outputs": [],
   "source": []
  }
 ],
 "metadata": {
  "kernelspec": {
   "display_name": "Python 3 (ipykernel)",
   "language": "python",
   "name": "python3"
  }
 },
 "nbformat": 4,
 "nbformat_minor": 5
}
