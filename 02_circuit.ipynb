{
 "cells": [
  {
   "cell_type": "code",
   "execution_count": null,
   "metadata": {},
   "outputs": [],
   "source": [
    "# default_exp circuit"
   ]
  },
  {
   "cell_type": "markdown",
   "metadata": {},
   "source": [
    "# Circuit\n",
    "\n",
    "> Representation of quantum circuits."
   ]
  },
  {
   "cell_type": "code",
   "execution_count": null,
   "metadata": {},
   "outputs": [],
   "source": [
    "# hide\n",
    "from nbdev.showdoc import *"
   ]
  },
  {
   "cell_type": "code",
   "execution_count": null,
   "metadata": {},
   "outputs": [],
   "source": [
    "# export\n",
    "from qsam.nbtools import patch\n",
    "from collections.abc import MutableSequence\n",
    "from qsam.circtools import unpack"
   ]
  },
  {
   "cell_type": "markdown",
   "metadata": {},
   "source": [
    "A circuit is a list of ticks. A tick consists of gates associated to qubits. We can have one-qubit gates which are applied to single gate locations and two-qubit gates which are applied to an ordered (control,target)-qubit pair. For simplicity, we implement this as a list of dictionaries. Each tick is represented by a dictionary (a *tick*tionary if you may) which holds the `gate_symbol` as key and the set of `qubits` we want to apply these gates to as values. Qubits can be either *integers* for single-qubit locations or *tuples* for two-qubit locations."
   ]
  },
  {
   "cell_type": "code",
   "execution_count": null,
   "metadata": {},
   "outputs": [],
   "source": [
    "#export\n",
    "class Circuit(MutableSequence):\n",
    "    \"\"\"Representation of a quantum circuit\"\"\"\n",
    "    \n",
    "    def __init__(self, ticks=None):\n",
    "        self._ticks = ticks if ticks else []\n",
    "        \n",
    "    def __getitem__(self, tick_index):\n",
    "        return self._ticks[tick_index]\n",
    "    \n",
    "    def __setitem__(self, tick_index, tick):\n",
    "        self._ticks[tick_index] = tick\n",
    "        \n",
    "    def __delitem__(self, tick_index):\n",
    "        del self._ticks[tick_index]\n",
    "        \n",
    "    def __len__(self):\n",
    "        return len(self._ticks)\n",
    "    \n",
    "    def insert(self, tick_index, tick):\n",
    "        self._ticks.insert(tick_index, tick)\n",
    "    \n",
    "    def __str__(self):\n",
    "        str_list = []\n",
    "        for i, tick in enumerate(self._ticks):\n",
    "            str_list.append(f\"{i}: {str(tick)}\")\n",
    "        return \"\\n\".join(str_list)\n",
    "    \n",
    "    def __repr__(self):\n",
    "        return self.__str__()\n",
    "    \n",
    "    @property\n",
    "    def _qubits(self):  \n",
    "        \"\"\"Set of qubits used in circuit\"\"\"\n",
    "        return set(unpack(self._ticks))\n",
    "    \n",
    "    @property\n",
    "    def n_qubits(self):\n",
    "        \"\"\"Number of qubits used in circuit\"\"\"\n",
    "        return len(self._qubits)\n",
    "    \n",
    "    @property\n",
    "    def n_ticks(self):\n",
    "        \"\"\"Number of ticks\"\"\"\n",
    "        return len(self._ticks)"
   ]
  },
  {
   "cell_type": "markdown",
   "metadata": {},
   "source": [
    "As `Circuit` is a `MutableSequence` we get all the Pythonic list functionality for free. Let's check several ways we can create and add to a circuit."
   ]
  },
  {
   "cell_type": "code",
   "execution_count": null,
   "metadata": {},
   "outputs": [],
   "source": [
    "circuit = Circuit([{'H': {1,2,3}}])\n",
    "assert circuit._ticks == [{'H': {1,2,3}}]"
   ]
  },
  {
   "cell_type": "code",
   "execution_count": null,
   "metadata": {},
   "outputs": [],
   "source": [
    "circuit.append({'X': {0,1}, 'CNOT':{(2,3)}})\n",
    "assert circuit._ticks == [{'H': {1,2,3}}, {'X': {0,1}, 'CNOT':{(2,3)}}]"
   ]
  },
  {
   "cell_type": "code",
   "execution_count": null,
   "metadata": {},
   "outputs": [],
   "source": [
    "circuit += [{'CNOT':{(2,3),(0,1)}}]\n",
    "assert circuit._ticks == [{'H': {1,2,3}}, {'X': {0,1}, 'CNOT':{(2,3)}}, {'CNOT': {(2,3),(0,1)}}]"
   ]
  },
  {
   "cell_type": "code",
   "execution_count": null,
   "metadata": {},
   "outputs": [],
   "source": [
    "circuit.pop(0)\n",
    "circuit.insert(0, {'Y': {0,3}})\n",
    "assert circuit._ticks == [{'Y': {0,3}}, {'X': {0,1}, 'CNOT':{(2,3)}}, {'CNOT': {(2,3),(0,1)}}]"
   ]
  },
  {
   "cell_type": "markdown",
   "metadata": {},
   "source": [
    "Of course we can also print our `Circuit`. We get a list of ticks and the corresponding ticks which are sequentially applied to our state during simulation."
   ]
  },
  {
   "cell_type": "code",
   "execution_count": null,
   "metadata": {},
   "outputs": [
    {
     "name": "stdout",
     "output_type": "stream",
     "text": [
      "0: {'Y': {0, 3}}\n",
      "1: {'X': {0, 1}, 'CNOT': {(2, 3)}}\n",
      "2: {'CNOT': {(2, 3), (0, 1)}}\n"
     ]
    }
   ],
   "source": [
    "print(circuit)"
   ]
  },
  {
   "cell_type": "markdown",
   "metadata": {},
   "source": [
    "Furthermore, our `Circuit` class gives us some useful information about the circuit, as"
   ]
  },
  {
   "cell_type": "code",
   "execution_count": null,
   "metadata": {},
   "outputs": [
    {
     "data": {
      "text/markdown": [
       "<h4 id=\"Circuit.n_qubits\" class=\"doc_header\"><code>Circuit.n_qubits</code><a href=\"\" class=\"source_link\" style=\"float:right\">[source]</a></h4>\n",
       "\n",
       "Number of qubits used in circuit"
      ],
      "text/plain": [
       "<IPython.core.display.Markdown object>"
      ]
     },
     "metadata": {},
     "output_type": "display_data"
    },
    {
     "data": {
      "text/markdown": [
       "<h4 id=\"Circuit.n_ticks\" class=\"doc_header\"><code>Circuit.n_ticks</code><a href=\"\" class=\"source_link\" style=\"float:right\">[source]</a></h4>\n",
       "\n",
       "Number of ticks"
      ],
      "text/plain": [
       "<IPython.core.display.Markdown object>"
      ]
     },
     "metadata": {},
     "output_type": "display_data"
    }
   ],
   "source": [
    "show_doc(Circuit.n_qubits)\n",
    "show_doc(Circuit.n_ticks)"
   ]
  }
 ],
 "metadata": {
  "kernelspec": {
   "display_name": "Python 3 (ipykernel)",
   "language": "python",
   "name": "python3"
  }
 },
 "nbformat": 4,
 "nbformat_minor": 4
}
