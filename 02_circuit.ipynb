{
 "cells": [
  {
   "cell_type": "code",
   "execution_count": null,
   "metadata": {},
   "outputs": [],
   "source": [
    "# default_exp circuit"
   ]
  },
  {
   "cell_type": "markdown",
   "metadata": {},
   "source": [
    "# Circuit\n",
    "\n",
    "> Representation of quantum circuits."
   ]
  },
  {
   "cell_type": "code",
   "execution_count": null,
   "metadata": {},
   "outputs": [],
   "source": [
    "# hide\n",
    "from nbdev.showdoc import *"
   ]
  },
  {
   "cell_type": "code",
   "execution_count": null,
   "metadata": {},
   "outputs": [],
   "source": [
    "# export\n",
    "from qsam.nbtools import patch\n",
    "from collections.abc import MutableSequence"
   ]
  },
  {
   "cell_type": "markdown",
   "metadata": {},
   "source": [
    "A circuit is a list of ticks. A tick consists of gates associated to qubits. We can have one-qubit gates which are applied to single gate locations and two-qubit gates which are applied to an ordered (control,target)-qubit pair. For simplicity, we implement this as a list of dictionaries. Each tick is represented by a dictionary, a *tick*tionary :), which holds the `gate_symbol` as key and the set of `qubits` we want to apply these gates to as values. Qubits can be either *integers* for single-qubit locations or *tuples* for two-qubit locations."
   ]
  },
  {
   "cell_type": "code",
   "execution_count": null,
   "metadata": {},
   "outputs": [],
   "source": [
    "#export\n",
    "class Circuit(MutableSequence):\n",
    "\n",
    "    \"\"\"Representation of a quantum circuit\"\"\"\n",
    "    def __init__(self, ticks=None):\n",
    "        self._ticks = ticks if ticks else []\n",
    "        \n",
    "    def __getitem__(self, tick_index):\n",
    "        return self._ticks[tick_index]\n",
    "    \n",
    "    def __setitem__(self, tick_index, tick):\n",
    "        self._ticks[tick_index] = tick\n",
    "        \n",
    "    def __delitem__(self, tick_index):\n",
    "        del self._ticks[tick_index]\n",
    "        \n",
    "    def __len__(self):\n",
    "        return len(self._ticks)\n",
    "    \n",
    "    def insert(self, tick_index, tick):\n",
    "        self._ticks.insert(tick_index, tick)\n",
    "    \n",
    "    def __str__(self):\n",
    "        str_list = []\n",
    "        for i, tick in enumerate(self._ticks):\n",
    "            str_list.append(f\"{i}: {str(tick)}\")\n",
    "        return \"\\n\".join(str_list)\n",
    "    \n",
    "    def __repr__(self):\n",
    "        return self.__str__()"
   ]
  },
  {
   "cell_type": "markdown",
   "metadata": {},
   "source": [
    "Having defined the base structure of a circuit let's do some tests"
   ]
  },
  {
   "cell_type": "code",
   "execution_count": null,
   "metadata": {},
   "outputs": [],
   "source": [
    "c = Circuit([{'H': {1,2,3}}])\n",
    "assert c._ticks == [{'H': {1,2,3}}]"
   ]
  },
  {
   "cell_type": "code",
   "execution_count": null,
   "metadata": {},
   "outputs": [],
   "source": [
    "c.append({'X': {0,1}, 'CNOT':{(2,3)}})\n",
    "assert c._ticks == [{'H': {1,2,3}}, {'X': {0,1}, 'CNOT':{(2,3)}}]"
   ]
  },
  {
   "cell_type": "markdown",
   "metadata": {},
   "source": [
    "In order to use our `Circuit` class for simulations it is very useful to define a couple of more advanced functions. First, we can see from the `Simulator` class that we need to know the **number of qubits** present in a circuit. If we'd only had single qubit gates we could simply take the cardinality of the union of all `values` per tick. Since we also have two-qubit gates we must `unpack` (i.e. flatten) those tuples first and then take the union. Let's define a helper function for that."
   ]
  },
  {
   "cell_type": "code",
   "execution_count": null,
   "metadata": {},
   "outputs": [],
   "source": [
    "#export\n",
    "def unpack(seq):\n",
    "    if isinstance(seq, (tuple,set,list)):\n",
    "        yield from (x for y in seq for x in unpack(y))\n",
    "    elif isinstance(seq, dict):\n",
    "        yield from (x for v in seq.values() for y in v for x in unpack(y))\n",
    "    else:\n",
    "        yield seq"
   ]
  },
  {
   "cell_type": "markdown",
   "metadata": {},
   "source": [
    "Let's check if `unpack` does what we want by calling it on our above defined small circuit:"
   ]
  },
  {
   "cell_type": "code",
   "execution_count": null,
   "metadata": {},
   "outputs": [
    {
     "name": "stdout",
     "output_type": "stream",
     "text": [
      "[{'H': {1, 2, 3}}, {'X': {0, 1}, 'CNOT': {(2, 3)}}]\n",
      "[1, 2, 3, 0, 1, 2, 3]\n"
     ]
    }
   ],
   "source": [
    "print(c._ticks)\n",
    "print(list(unpack(c._ticks)))"
   ]
  },
  {
   "cell_type": "markdown",
   "metadata": {},
   "source": [
    "That's looking good. We collect all qubits on which we apply gates in this circuit in a single list. Now, we want to define two properties to return the set of unique `qubits` and the number of those, `n_qubits`."
   ]
  },
  {
   "cell_type": "code",
   "execution_count": null,
   "metadata": {},
   "outputs": [],
   "source": [
    "# export\n",
    "Circuit.qubits = property(lambda self: set(unpack(self._ticks)))\n",
    "Circuit.n_qubits = property(lambda self: len(self.qubits))"
   ]
  },
  {
   "cell_type": "markdown",
   "metadata": {},
   "source": [
    "Let's test our new properties:"
   ]
  },
  {
   "cell_type": "code",
   "execution_count": null,
   "metadata": {},
   "outputs": [
    {
     "name": "stdout",
     "output_type": "stream",
     "text": [
      "{0, 1, 2, 3}\n",
      "4\n"
     ]
    }
   ],
   "source": [
    "print(c.qubits)\n",
    "print(c.n_qubits)"
   ]
  },
  {
   "cell_type": "markdown",
   "metadata": {},
   "source": [
    "Furthermore, we need some way to query the circuit for locations of certain sets of gates, for example all two-qubit gates. This becomes important when we want to apply multi-parameter noise models, i.e. different physical error rates for single-qubit gates, two-qubit gates, measurements, initialization etc. As output of this function we want a list of (tick_index,qubit(s))-tuples for which the applied gates are inside the specified gate set."
   ]
  },
  {
   "cell_type": "code",
   "execution_count": null,
   "metadata": {},
   "outputs": [],
   "source": [
    "#export\n",
    "@patch(Circuit)\n",
    "def partition(self, gateset):\n",
    "    [(tick_idx,) for tick_idx,tick in enumerate(self._ticks) for gate,qbs in tick.items() if gate.upper() in gateset]"
   ]
  }
 ],
 "metadata": {
  "kernelspec": {
   "display_name": "Python 3 (ipykernel)",
   "language": "python",
   "name": "python3"
  }
 },
 "nbformat": 4,
 "nbformat_minor": 4
}
