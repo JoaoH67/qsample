{
 "cells": [
  {
   "cell_type": "code",
   "execution_count": null,
   "id": "a645b97d-5651-4400-9af6-fc564eb8512c",
   "metadata": {},
   "outputs": [],
   "source": [
    "# default_exp simulators.projectq"
   ]
  },
  {
   "cell_type": "markdown",
   "id": "6adaf6f3-925b-495a-b1be-869d66625ea8",
   "metadata": {},
   "source": [
    "# ProjectQ Statevector Simulator\n",
    "\n",
    "> Wrapper for ProjectQ Python library https://github.com/ProjectQ-Framework/ProjectQ"
   ]
  },
  {
   "cell_type": "code",
   "execution_count": null,
   "id": "b09ebf21-5f0f-433e-93c7-a4f1d2bacc98",
   "metadata": {},
   "outputs": [],
   "source": [
    "# hide\n",
    "from nbdev.showdoc import *"
   ]
  },
  {
   "cell_type": "code",
   "execution_count": null,
   "id": "342ca3d1-efec-4a9b-bcc6-9acff65fa890",
   "metadata": {},
   "outputs": [],
   "source": [
    "# export\n",
    "from qsam.simulators.simulator_mixins import CircuitRunnerMixin\n",
    "\n",
    "from projectq import MainEngine\n",
    "import projectq.ops as ops"
   ]
  },
  {
   "cell_type": "code",
   "execution_count": null,
   "id": "e566b1dc-5485-48b4-a5ef-5ac3eeca6020",
   "metadata": {},
   "outputs": [],
   "source": [
    "#export\n",
    "class MeasureResult:\n",
    "    \n",
    "    def __init__(self, value: bool):\n",
    "        self.value = bool(value)\n",
    "        \n",
    "    def __bool__(self):\n",
    "        return self.value"
   ]
  },
  {
   "cell_type": "code",
   "execution_count": null,
   "id": "746ffc58-1ff2-4a03-896c-c90f83d2a8a6",
   "metadata": {},
   "outputs": [],
   "source": [
    "#export\n",
    "class StateVectorSimulator(CircuitRunnerMixin):\n",
    "    def __init__(self, num_qubits):\n",
    "        self._n = num_qubits\n",
    "        self.eng = MainEngine()\n",
    "        self.qureg = self.eng.allocate_qureg(num_qubits)\n",
    "        self.qubits = {i:qb for i,qb in enumerate(self.qureg)}\n",
    "        \n",
    "    def init(self, qubit: int) -> None:\n",
    "        outcome = self.measure(qubit)\n",
    "        if outcome.value == 1:\n",
    "            self.X(qubit)\n",
    "    \n",
    "    def measure(self, qubit: int) -> None:\n",
    "        q = self.qubits[qubit]\n",
    "        self.eng.flush()\n",
    "        ops.Measure | q\n",
    "        self.eng.flush()\n",
    "        return MeasureResult(value=int(q)) \n",
    "    \n",
    "    # expectation value function\n",
    "        \n",
    "    def I(self, qubit: int) -> None:\n",
    "        pass\n",
    "    \n",
    "    def X(self, qubit: int) -> None:\n",
    "        ops.X | self.qubits[qubit]\n",
    "        \n",
    "    def Y(self, qubit: int) -> None:\n",
    "        ops.Y | self.qubits[qubit]\n",
    "        \n",
    "    def Z(self, qubit: int) -> None:\n",
    "        ops.Z | self.qubits[qubit]\n",
    "        \n",
    "    def H(self, qubit: int) -> None:\n",
    "        ops.H | self.qubits[qubit]\n",
    "        \n",
    "    def CNOT(self, control: int, target: int) -> None:\n",
    "        ops.CNOT | (self.qubits[control], self.qubits[target])\n",
    "        \n",
    "    def T(self, qubit: int) -> None:\n",
    "        ops.T | self.qubits[qubit]\n",
    "        \n",
    "    def Td(self, qubit: int) -> None:\n",
    "        ops.Tdagger | self.qubits[qubit]\n",
    "        \n",
    "    def S(self, qubit: int) -> None:\n",
    "        ops.S | self.qubits[qubit]\n",
    "        \n",
    "    def Sd(self, qubit: int) -> None:\n",
    "        ops.Sdagger | self.qubits[qubit]\n",
    "        \n",
    "    def Q(self, qubit: int) -> None:\n",
    "        ops.SqrtX | self.qubits[qubit]\n",
    "        \n",
    "    def Qd(self, qubit: int) -> None:\n",
    "        Qd = ops.get_inverse(ops.SqrtX)\n",
    "        Qd | self.qubits[qubit]\n",
    "        \n",
    "    # + Arbitrary X,Y,Z rotations\n",
    "        \n",
    "    def R(self, qubit: int) -> None:\n",
    "        ops.R | self.qubits[qubit]\n",
    "        \n",
    "    def Rd(self, qubit: int) -> None:\n",
    "        Rd = ops.get_inverse(ops.R)\n",
    "        Rd | self.qubits[qubit]\n",
    "        \n",
    "    def MSd(self, qubitA: int, qubitB: int) -> None:\n",
    "        self.Rd(qubitA)\n",
    "        self.CNOT(qubitA, qubitB)\n",
    "        self.R(qubitA)\n",
    "        self.Qd(qubitA)\n",
    "        self.Qd(qubitB)\n",
    "        \n",
    "    def __del__(self):\n",
    "        self.eng.flush()\n",
    "        ops.All(ops.Measure) | self.qureg # Required by ProjectQ\n",
    "        \n",
    "        try:\n",
    "            self.eng.flush(deallocate_qubits=True)\n",
    "        except KeyError:\n",
    "            pass"
   ]
  }
 ],
 "metadata": {
  "kernelspec": {
   "display_name": "Python 3 (ipykernel)",
   "language": "python",
   "name": "python3"
  }
 },
 "nbformat": 4,
 "nbformat_minor": 5
}
