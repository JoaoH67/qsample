{
 "cells": [
  {
   "cell_type": "code",
   "execution_count": null,
   "id": "5beccba0-ca43-49cf-9aed-5ad6b65119f3",
   "metadata": {},
   "outputs": [],
   "source": [
    "# default_exp math"
   ]
  },
  {
   "cell_type": "markdown",
   "id": "fc156591-53db-4b8a-a4cd-bd0892f3a6e3",
   "metadata": {},
   "source": [
    "# Math\n",
    "\n",
    "> Collection common (vectorized) math functions."
   ]
  },
  {
   "cell_type": "code",
   "execution_count": null,
   "id": "de7706a9-3ad2-4515-a9fe-6aabfe7ecb10",
   "metadata": {},
   "outputs": [],
   "source": [
    "# hide\n",
    "from nbdev.showdoc import *"
   ]
  },
  {
   "cell_type": "code",
   "execution_count": null,
   "id": "e148854e-9c69-4f21-ae2f-33637c0071b6",
   "metadata": {},
   "outputs": [],
   "source": [
    "#export\n",
    "import numpy as np\n",
    "from scipy.special import factorial"
   ]
  },
  {
   "cell_type": "code",
   "execution_count": null,
   "id": "d585d97a-a54b-415f-9878-71cb1d90869a",
   "metadata": {},
   "outputs": [],
   "source": [
    "#export\n",
    "def comb(n, k):\n",
    "    \"\"\"Vectorized combination\"\"\"\n",
    "    return factorial(n) / (factorial(k) * factorial(n-k))"
   ]
  },
  {
   "cell_type": "code",
   "execution_count": null,
   "id": "b322987a-3bdc-4985-a05b-6623dc0557a8",
   "metadata": {},
   "outputs": [],
   "source": [
    "#export\n",
    "def binom(k, n, p):\n",
    "    \"\"\"Vectorized binomial function\"\"\"\n",
    "    return comb(n,k) * p**k * (1-p)**(n-k)"
   ]
  },
  {
   "cell_type": "code",
   "execution_count": null,
   "id": "01c83ed9-e46b-4d67-865e-ce8ec17b194e",
   "metadata": {},
   "outputs": [],
   "source": [
    "#export\n",
    "def Wilson_var(p, N, z=1.96):\n",
    "    \"\"\"Wilson estimator of binomial variance\"\"\"\n",
    "    return z**2 * (p*(1-p)/N + z**2/(4*N**2)) / (1+z**2/N)**2\n",
    "\n",
    "#hide\n",
    "# We arrive at the Wilson var from :\n",
    "# `wilson_max = (p + z**2/(2*N) + z*np.sqrt(p*(1-p)/N+z**2/(4*N**2)))/(1+z**2/N)`\n",
    "# `wilson_min = (p + z**2/(2*N) - z*np.sqrt(p*(1-p)/N+z**2/(4*N**2)))/(1+z**2/N)`\n",
    "# `return (wilson_max - wilson_min) / 2 # assume symmetric C.I. => take std as half.`"
   ]
  },
  {
   "cell_type": "code",
   "execution_count": null,
   "id": "fb458419-04d9-4fd2-8157-0d9d6478b255",
   "metadata": {},
   "outputs": [],
   "source": [
    "#export\n",
    "def Wald_var(p, N):\n",
    "    \"\"\"Wald estimator of binomial variance (known issues, better use Wilson)\"\"\"\n",
    "    return p * (1-p) / N"
   ]
  }
 ],
 "metadata": {
  "kernelspec": {
   "display_name": "Python 3 (ipykernel)",
   "language": "python",
   "name": "python3"
  }
 },
 "nbformat": 4,
 "nbformat_minor": 5
}
