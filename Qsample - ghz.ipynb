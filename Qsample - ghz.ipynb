{
 "cells": [
  {
   "cell_type": "code",
   "execution_count": 1,
   "id": "f78bce89",
   "metadata": {},
   "outputs": [],
   "source": [
    "import qsample as qs\n",
    "import time\n",
    "import stim\n",
    "import numpy as np\n",
    "import matplotlib.pyplot as plt\n",
    "import time\n",
    "import re"
   ]
  },
  {
   "cell_type": "markdown",
   "id": "f70036df",
   "metadata": {},
   "source": [
    "# Helpers"
   ]
  },
  {
   "cell_type": "code",
   "execution_count": 2,
   "id": "4896b9b0",
   "metadata": {},
   "outputs": [],
   "source": [
    "def dem2matrices(dem, n_detectors):\n",
    "    txt = dem.split('\\n')[1:-1]\n",
    "    dims = len(txt)\n",
    "    errors = np.zeros(dims)\n",
    "    err_locs = np.zeros((dims, n_detectors))\n",
    "\n",
    "    for i in range(dims):\n",
    "        errors[i] = re.findall('\\d?\\.?\\d+e?\\-?\\d+', txt[i])[0]\n",
    "        for j in re.findall('D\\d', txt[i]):\n",
    "            err_locs[i, int(j[1])]=1\n",
    "\n",
    "    return errors, err_locs\n",
    "\n",
    "\n",
    "def error_rate(errors, errloc, sequence):\n",
    "    dep = len(sequence)\n",
    "    err = len(errors)\n",
    "    errors=errors.reshape(1,-1)\n",
    "\n",
    "    result = np.stack((np.arange(2**err),) * err, axis=1)\n",
    "\n",
    "    divide = np.stack((2**np.arange(err)[::-1],)*2**err, axis=0) \n",
    "\n",
    "    result=result//divide%2      # Creates binary matrix\n",
    "\n",
    "    result=result[np.all(np.dot(result,errloc)%2==sequence, axis=1)] #find error combination that agrees with sequence\n",
    "    return np.sum(np.prod(errors*result+(1-errors)*(1-result), axis=1))"
   ]
  },
  {
   "cell_type": "markdown",
   "id": "b78aebbb",
   "metadata": {},
   "source": [
    "# QSample"
   ]
  },
  {
   "cell_type": "code",
   "execution_count": 3,
   "id": "de0475a8",
   "metadata": {},
   "outputs": [],
   "source": [
    "ghz = qs.Circuit([ {\"init\": {0,1,2,3,4}},\n",
    "                   {\"H\": {0}},\n",
    "                   {\"CNOT\": {(0,1)}},\n",
    "                   {\"CNOT\": {(1,2)}},\n",
    "                   {\"CNOT\": {(2,3)}},\n",
    "                   {\"CNOT\": {(3,4)}},\n",
    "                   {\"CNOT\": {(0,4)}},\n",
    "                   {\"measure\": {4}}   ])\n",
    "\n",
    "# Define protocol for 1 round of repetition\n",
    "\n",
    "def logErr(msmt_list):\n",
    "    return msmt_list[-1] == 1 # If True transition to FAIL\n",
    "\n",
    "functions = {'logErr': logErr}\n",
    "\n",
    "ghz1 = qs.Protocol(check_functions=functions, fault_tolerant=False)\n",
    "\n",
    "ghz1.add_node('ghz', circuit=ghz) # Add node with corresponding circuit\n",
    "ghz1.add_edge('START', 'ghz', check='True') # Transition START -> first circuit node always True\n",
    "ghz1.add_edge('ghz', 'FAIL', check='logErr(ghz)')"
   ]
  },
  {
   "cell_type": "code",
   "execution_count": 4,
   "id": "d75cebd3",
   "metadata": {},
   "outputs": [
    {
     "data": {
      "image/png": "[encoded data removed]",
      "text/plain": [
       "<Figure size 576x360 with 1 Axes>"
      ]
     },
     "metadata": {},
     "output_type": "display_data"
    }
   ],
   "source": [
    "ghz1.draw(figsize=(8,5))"
   ]
  },
  {
   "cell_type": "code",
   "execution_count": 5,
   "id": "d60b5652",
   "metadata": {},
   "outputs": [],
   "source": [
    "err_model = qs.noise.E1\n",
    "q = [1e-5, 1e-3, 1e-1, 0.5]\n",
    "err_params = {'q': q}"
   ]
  },
  {
   "cell_type": "code",
   "execution_count": 6,
   "id": "34d55355",
   "metadata": {},
   "outputs": [
    {
     "data": {
      "application/vnd.jupyter.widget-view+json": {
       "model_id": "f83ef95b79654730953e4255aa16c16b",
       "version_major": 2,
       "version_minor": 0
      },
      "text/plain": [
       "p=('1.00e-01',):   0%|          | 0/1000 [00:00<?, ?it/s]"
      ]
     },
     "metadata": {},
     "output_type": "display_data"
    }
   ],
   "source": [
    "begin = time.time()\n",
    "ss_sam = qs.SubsetSampler(protocol=ghz1, simulator=qs.StabilizerSimulator,  p_max={'q': 0.1}, err_model=err_model, err_params=err_params, L=3)\n",
    "ss_sam.run(1000)\n",
    "end = time.time()\n",
    "qsample_time = end-begin"
   ]
  },
  {
   "cell_type": "markdown",
   "id": "e2fca45b",
   "metadata": {},
   "source": [
    "## STIM"
   ]
  },
  {
   "cell_type": "code",
   "execution_count": 7,
   "id": "4f20850a",
   "metadata": {},
   "outputs": [],
   "source": [
    "txt = \"H 0 \\n DEPOLARIZE1({}) 0 \\n CNOT 0 1\\n DEPOLARIZE2({}) 0 1\\n CNOT 1 2\\n DEPOLARIZE2({}) 1 2\\n CNOT 2 3\\n DEPOLARIZE2({}) 2 3\\n CNOT 3 4\\n DEPOLARIZE2({}) 3 4\\n CNOT 0 4\\n DEPOLARIZE2({}) 0 4\\nM 4\\n DETECTOR rec[-1]\"\n",
    "i = 0.1\n",
    "circuit = stim.Circuit(txt.format(i, i, i, i, i, i))"
   ]
  },
  {
   "cell_type": "code",
   "execution_count": 8,
   "id": "86470a2d",
   "metadata": {},
   "outputs": [
    {
     "data": {
      "image/svg+xml": [
       "<svg viewBox=\"0 0 1120 416\"  version=\"1.1\" xmlns=\"http://www.w3.org/2000/svg\">\n",
       "<g id=\"qubit_lines\">\n",
       "<path id=\"qubit_line:0\" d=\"M64,64 L1088,64 \" stroke=\"black\"/>\n",
       "<text dominant-baseline=\"central\" text-anchor=\"end\" font-family=\"monospace\" font-size=\"12\" x=\"64\" y=\"64\">q0</text>\n",
       "<path id=\"qubit_line:1\" d=\"M64,128 L1088,128 \" stroke=\"black\"/>\n",
       "<text dominant-baseline=\"central\" text-anchor=\"end\" font-family=\"monospace\" font-size=\"12\" x=\"64\" y=\"128\">q1</text>\n",
       "<path id=\"qubit_line:2\" d=\"M64,192 L1088,192 \" stroke=\"black\"/>\n",
       "<text dominant-baseline=\"central\" text-anchor=\"end\" font-family=\"monospace\" font-size=\"12\" x=\"64\" y=\"192\">q2</text>\n",
       "<path id=\"qubit_line:3\" d=\"M64,256 L1088,256 \" stroke=\"black\"/>\n",
       "<text dominant-baseline=\"central\" text-anchor=\"end\" font-family=\"monospace\" font-size=\"12\" x=\"64\" y=\"256\">q3</text>\n",
       "<path id=\"qubit_line:4\" d=\"M64,320 L1088,320 \" stroke=\"black\"/>\n",
       "<text dominant-baseline=\"central\" text-anchor=\"end\" font-family=\"monospace\" font-size=\"12\" x=\"64\" y=\"320\">q4</text>\n",
       "</g>\n",
       "<rect x=\"80\" y=\"48\" width=\"32\" height=\"32\" stroke=\"black\" fill=\"white\"/>\n",
       "<text dominant-baseline=\"central\" text-anchor=\"middle\" font-family=\"monospace\" font-size=\"30\" x=\"96\" y=\"64\">H</text>\n",
       "<rect x=\"144\" y=\"48\" width=\"32\" height=\"32\" stroke=\"black\" fill=\"pink\"/>\n",
       "<text dominant-baseline=\"central\" text-anchor=\"middle\" font-family=\"monospace\" font-size=\"12\" x=\"160\" y=\"64\">DEP<tspan baseline-shift=\"sub\" font-size=\"10\">1</tspan></text>\n",
       "<text dominant-baseline=\"hanging\" text-anchor=\"middle\" font-family=\"monospace\" font-size=\"10\" stroke=\"red\" x=\"160\" y=\"84\">0.1</text>\n",
       "<path d=\"M224,64 L224,128 \" stroke=\"black\"/>\n",
       "<circle cx=\"224\" cy=\"64\" r=\"12\" stroke=\"none\" fill=\"black\"/>\n",
       "<circle cx=\"224\" cy=\"128\" r=\"12\" stroke=\"black\" fill=\"white\"/>\n",
       "<path d=\"M212,128 L236,128 M224,116 L224,140 \" stroke=\"black\"/>\n",
       "<path d=\"M288,64 L288,128 \" stroke=\"black\"/>\n",
       "<rect x=\"272\" y=\"48\" width=\"32\" height=\"32\" stroke=\"black\" fill=\"pink\"/>\n",
       "<text dominant-baseline=\"central\" text-anchor=\"middle\" font-family=\"monospace\" font-size=\"12\" x=\"288\" y=\"64\">DEP<tspan baseline-shift=\"sub\" font-size=\"10\">2</tspan></text>\n",
       "<rect x=\"272\" y=\"112\" width=\"32\" height=\"32\" stroke=\"black\" fill=\"pink\"/>\n",
       "<text dominant-baseline=\"central\" text-anchor=\"middle\" font-family=\"monospace\" font-size=\"12\" x=\"288\" y=\"128\">DEP<tspan baseline-shift=\"sub\" font-size=\"10\">2</tspan></text>\n",
       "<text dominant-baseline=\"hanging\" text-anchor=\"middle\" font-family=\"monospace\" font-size=\"10\" stroke=\"red\" x=\"288\" y=\"148\">0.1</text>\n",
       "<path d=\"M352,128 L352,192 \" stroke=\"black\"/>\n",
       "<circle cx=\"352\" cy=\"128\" r=\"12\" stroke=\"none\" fill=\"black\"/>\n",
       "<circle cx=\"352\" cy=\"192\" r=\"12\" stroke=\"black\" fill=\"white\"/>\n",
       "<path d=\"M340,192 L364,192 M352,180 L352,204 \" stroke=\"black\"/>\n",
       "<path d=\"M416,128 L416,192 \" stroke=\"black\"/>\n",
       "<rect x=\"400\" y=\"112\" width=\"32\" height=\"32\" stroke=\"black\" fill=\"pink\"/>\n",
       "<text dominant-baseline=\"central\" text-anchor=\"middle\" font-family=\"monospace\" font-size=\"12\" x=\"416\" y=\"128\">DEP<tspan baseline-shift=\"sub\" font-size=\"10\">2</tspan></text>\n",
       "<rect x=\"400\" y=\"176\" width=\"32\" height=\"32\" stroke=\"black\" fill=\"pink\"/>\n",
       "<text dominant-baseline=\"central\" text-anchor=\"middle\" font-family=\"monospace\" font-size=\"12\" x=\"416\" y=\"192\">DEP<tspan baseline-shift=\"sub\" font-size=\"10\">2</tspan></text>\n",
       "<text dominant-baseline=\"hanging\" text-anchor=\"middle\" font-family=\"monospace\" font-size=\"10\" stroke=\"red\" x=\"416\" y=\"212\">0.1</text>\n",
       "<path d=\"M480,192 L480,256 \" stroke=\"black\"/>\n",
       "<circle cx=\"480\" cy=\"192\" r=\"12\" stroke=\"none\" fill=\"black\"/>\n",
       "<circle cx=\"480\" cy=\"256\" r=\"12\" stroke=\"black\" fill=\"white\"/>\n",
       "<path d=\"M468,256 L492,256 M480,244 L480,268 \" stroke=\"black\"/>\n",
       "<path d=\"M544,192 L544,256 \" stroke=\"black\"/>\n",
       "<rect x=\"528\" y=\"176\" width=\"32\" height=\"32\" stroke=\"black\" fill=\"pink\"/>\n",
       "<text dominant-baseline=\"central\" text-anchor=\"middle\" font-family=\"monospace\" font-size=\"12\" x=\"544\" y=\"192\">DEP<tspan baseline-shift=\"sub\" font-size=\"10\">2</tspan></text>\n",
       "<rect x=\"528\" y=\"240\" width=\"32\" height=\"32\" stroke=\"black\" fill=\"pink\"/>\n",
       "<text dominant-baseline=\"central\" text-anchor=\"middle\" font-family=\"monospace\" font-size=\"12\" x=\"544\" y=\"256\">DEP<tspan baseline-shift=\"sub\" font-size=\"10\">2</tspan></text>\n",
       "<text dominant-baseline=\"hanging\" text-anchor=\"middle\" font-family=\"monospace\" font-size=\"10\" stroke=\"red\" x=\"544\" y=\"276\">0.1</text>\n",
       "<path d=\"M608,256 L608,320 \" stroke=\"black\"/>\n",
       "<circle cx=\"608\" cy=\"256\" r=\"12\" stroke=\"none\" fill=\"black\"/>\n",
       "<circle cx=\"608\" cy=\"320\" r=\"12\" stroke=\"black\" fill=\"white\"/>\n",
       "<path d=\"M596,320 L620,320 M608,308 L608,332 \" stroke=\"black\"/>\n",
       "<path d=\"M672,256 L672,320 \" stroke=\"black\"/>\n",
       "<rect x=\"656\" y=\"240\" width=\"32\" height=\"32\" stroke=\"black\" fill=\"pink\"/>\n",
       "<text dominant-baseline=\"central\" text-anchor=\"middle\" font-family=\"monospace\" font-size=\"12\" x=\"672\" y=\"256\">DEP<tspan baseline-shift=\"sub\" font-size=\"10\">2</tspan></text>\n",
       "<rect x=\"656\" y=\"304\" width=\"32\" height=\"32\" stroke=\"black\" fill=\"pink\"/>\n",
       "<text dominant-baseline=\"central\" text-anchor=\"middle\" font-family=\"monospace\" font-size=\"12\" x=\"672\" y=\"320\">DEP<tspan baseline-shift=\"sub\" font-size=\"10\">2</tspan></text>\n",
       "<text dominant-baseline=\"hanging\" text-anchor=\"middle\" font-family=\"monospace\" font-size=\"10\" stroke=\"red\" x=\"672\" y=\"340\">0.1</text>\n",
       "<path d=\"M736,64 L736,320 \" stroke=\"black\"/>\n",
       "<circle cx=\"736\" cy=\"64\" r=\"12\" stroke=\"none\" fill=\"black\"/>\n",
       "<circle cx=\"736\" cy=\"320\" r=\"12\" stroke=\"black\" fill=\"white\"/>\n",
       "<path d=\"M724,320 L748,320 M736,308 L736,332 \" stroke=\"black\"/>\n",
       "<path d=\"M800,64 L800,320 \" stroke=\"black\"/>\n",
       "<rect x=\"784\" y=\"48\" width=\"32\" height=\"32\" stroke=\"black\" fill=\"pink\"/>\n",
       "<text dominant-baseline=\"central\" text-anchor=\"middle\" font-family=\"monospace\" font-size=\"12\" x=\"800\" y=\"64\">DEP<tspan baseline-shift=\"sub\" font-size=\"10\">2</tspan></text>\n",
       "<rect x=\"784\" y=\"304\" width=\"32\" height=\"32\" stroke=\"black\" fill=\"pink\"/>\n",
       "<text dominant-baseline=\"central\" text-anchor=\"middle\" font-family=\"monospace\" font-size=\"12\" x=\"800\" y=\"320\">DEP<tspan baseline-shift=\"sub\" font-size=\"10\">2</tspan></text>\n",
       "<text dominant-baseline=\"hanging\" text-anchor=\"middle\" font-family=\"monospace\" font-size=\"10\" stroke=\"red\" x=\"800\" y=\"340\">0.1</text>\n",
       "<rect x=\"848\" y=\"304\" width=\"32\" height=\"32\" stroke=\"black\" fill=\"black\"/>\n",
       "<text dominant-baseline=\"central\" text-anchor=\"middle\" font-family=\"monospace\" font-size=\"30\" x=\"864\" y=\"320\" fill=\"white\">M</text>\n",
       "<text text-anchor=\"middle\" font-family=\"monospace\" font-size=\"8\" x=\"864\" y=\"300\">rec[0]</text>\n",
       "<rect x=\"912\" y=\"304\" width=\"160\" height=\"32\" stroke=\"black\" fill=\"lightgray\"/>\n",
       "<text dominant-baseline=\"central\" text-anchor=\"middle\" font-family=\"monospace\" font-size=\"16\" x=\"992\" y=\"320\">DETECTOR</text>\n",
       "<text text-anchor=\"middle\" font-family=\"monospace\" font-size=\"8\" x=\"992\" y=\"300\">D0 = rec[0]</text>\n",
       "</svg>"
      ],
      "text/plain": [
       "<svg viewBox=\"0 0 1120 416\"  version=\"1.1\" xmlns=\"http://www.w3.org/2000/svg\">\n",
       "<g id=\"qubit_lines\">\n",
       "<path id=\"qubit_line:0\" d=\"M64,64 L1088,64 \" stroke=\"black\"/>\n",
       "<text dominant-baseline=\"central\" text-anchor=\"end\" font-family=\"monospace\" font-size=\"12\" x=\"64\" y=\"64\">q0</text>\n",
       "<path id=\"qubit_line:1\" d=\"M64,128 L1088,128 \" stroke=\"black\"/>\n",
       "<text dominant-baseline=\"central\" text-anchor=\"end\" font-family=\"monospace\" font-size=\"12\" x=\"64\" y=\"128\">q1</text>\n",
       "<path id=\"qubit_line:2\" d=\"M64,192 L1088,192 \" stroke=\"black\"/>\n",
       "<text dominant-baseline=\"central\" text-anchor=\"end\" font-family=\"monospace\" font-size=\"12\" x=\"64\" y=\"192\">q2</text>\n",
       "<path id=\"qubit_line:3\" d=\"M64,256 L1088,256 \" stroke=\"black\"/>\n",
       "<text dominant-baseline=\"central\" text-anchor=\"end\" font-family=\"monospace\" font-size=\"12\" x=\"64\" y=\"256\">q3</text>\n",
       "<path id=\"qubit_line:4\" d=\"M64,320 L1088,320 \" stroke=\"black\"/>\n",
       "<text dominant-baseline=\"central\" text-anchor=\"end\" font-family=\"monospace\" font-size=\"12\" x=\"64\" y=\"320\">q4</text>\n",
       "</g>\n",
       "<rect x=\"80\" y=\"48\" width=\"32\" height=\"32\" stroke=\"black\" fill=\"white\"/>\n",
       "<text dominant-baseline=\"central\" text-anchor=\"middle\" font-family=\"monospace\" font-size=\"30\" x=\"96\" y=\"64\">H</text>\n",
       "<rect x=\"144\" y=\"48\" width=\"32\" height=\"32\" stroke=\"black\" fill=\"pink\"/>\n",
       "<text dominant-baseline=\"central\" text-anchor=\"middle\" font-family=\"monospace\" font-size=\"12\" x=\"160\" y=\"64\">DEP<tspan baseline-shift=\"sub\" font-size=\"10\">1</tspan></text>\n",
       "<text dominant-baseline=\"hanging\" text-anchor=\"middle\" font-family=\"monospace\" font-size=\"10\" stroke=\"red\" x=\"160\" y=\"84\">0.1</text>\n",
       "<path d=\"M224,64 L224,128 \" stroke=\"black\"/>\n",
       "<circle cx=\"224\" cy=\"64\" r=\"12\" stroke=\"none\" fill=\"black\"/>\n",
       "<circle cx=\"224\" cy=\"128\" r=\"12\" stroke=\"black\" fill=\"white\"/>\n",
       "<path d=\"M212,128 L236,128 M224,116 L224,140 \" stroke=\"black\"/>\n",
       "<path d=\"M288,64 L288,128 \" stroke=\"black\"/>\n",
       "<rect x=\"272\" y=\"48\" width=\"32\" height=\"32\" stroke=\"black\" fill=\"pink\"/>\n",
       "<text dominant-baseline=\"central\" text-anchor=\"middle\" font-family=\"monospace\" font-size=\"12\" x=\"288\" y=\"64\">DEP<tspan baseline-shift=\"sub\" font-size=\"10\">2</tspan></text>\n",
       "<rect x=\"272\" y=\"112\" width=\"32\" height=\"32\" stroke=\"black\" fill=\"pink\"/>\n",
       "<text dominant-baseline=\"central\" text-anchor=\"middle\" font-family=\"monospace\" font-size=\"12\" x=\"288\" y=\"128\">DEP<tspan baseline-shift=\"sub\" font-size=\"10\">2</tspan></text>\n",
       "<text dominant-baseline=\"hanging\" text-anchor=\"middle\" font-family=\"monospace\" font-size=\"10\" stroke=\"red\" x=\"288\" y=\"148\">0.1</text>\n",
       "<path d=\"M352,128 L352,192 \" stroke=\"black\"/>\n",
       "<circle cx=\"352\" cy=\"128\" r=\"12\" stroke=\"none\" fill=\"black\"/>\n",
       "<circle cx=\"352\" cy=\"192\" r=\"12\" stroke=\"black\" fill=\"white\"/>\n",
       "<path d=\"M340,192 L364,192 M352,180 L352,204 \" stroke=\"black\"/>\n",
       "<path d=\"M416,128 L416,192 \" stroke=\"black\"/>\n",
       "<rect x=\"400\" y=\"112\" width=\"32\" height=\"32\" stroke=\"black\" fill=\"pink\"/>\n",
       "<text dominant-baseline=\"central\" text-anchor=\"middle\" font-family=\"monospace\" font-size=\"12\" x=\"416\" y=\"128\">DEP<tspan baseline-shift=\"sub\" font-size=\"10\">2</tspan></text>\n",
       "<rect x=\"400\" y=\"176\" width=\"32\" height=\"32\" stroke=\"black\" fill=\"pink\"/>\n",
       "<text dominant-baseline=\"central\" text-anchor=\"middle\" font-family=\"monospace\" font-size=\"12\" x=\"416\" y=\"192\">DEP<tspan baseline-shift=\"sub\" font-size=\"10\">2</tspan></text>\n",
       "<text dominant-baseline=\"hanging\" text-anchor=\"middle\" font-family=\"monospace\" font-size=\"10\" stroke=\"red\" x=\"416\" y=\"212\">0.1</text>\n",
       "<path d=\"M480,192 L480,256 \" stroke=\"black\"/>\n",
       "<circle cx=\"480\" cy=\"192\" r=\"12\" stroke=\"none\" fill=\"black\"/>\n",
       "<circle cx=\"480\" cy=\"256\" r=\"12\" stroke=\"black\" fill=\"white\"/>\n",
       "<path d=\"M468,256 L492,256 M480,244 L480,268 \" stroke=\"black\"/>\n",
       "<path d=\"M544,192 L544,256 \" stroke=\"black\"/>\n",
       "<rect x=\"528\" y=\"176\" width=\"32\" height=\"32\" stroke=\"black\" fill=\"pink\"/>\n",
       "<text dominant-baseline=\"central\" text-anchor=\"middle\" font-family=\"monospace\" font-size=\"12\" x=\"544\" y=\"192\">DEP<tspan baseline-shift=\"sub\" font-size=\"10\">2</tspan></text>\n",
       "<rect x=\"528\" y=\"240\" width=\"32\" height=\"32\" stroke=\"black\" fill=\"pink\"/>\n",
       "<text dominant-baseline=\"central\" text-anchor=\"middle\" font-family=\"monospace\" font-size=\"12\" x=\"544\" y=\"256\">DEP<tspan baseline-shift=\"sub\" font-size=\"10\">2</tspan></text>\n",
       "<text dominant-baseline=\"hanging\" text-anchor=\"middle\" font-family=\"monospace\" font-size=\"10\" stroke=\"red\" x=\"544\" y=\"276\">0.1</text>\n",
       "<path d=\"M608,256 L608,320 \" stroke=\"black\"/>\n",
       "<circle cx=\"608\" cy=\"256\" r=\"12\" stroke=\"none\" fill=\"black\"/>\n",
       "<circle cx=\"608\" cy=\"320\" r=\"12\" stroke=\"black\" fill=\"white\"/>\n",
       "<path d=\"M596,320 L620,320 M608,308 L608,332 \" stroke=\"black\"/>\n",
       "<path d=\"M672,256 L672,320 \" stroke=\"black\"/>\n",
       "<rect x=\"656\" y=\"240\" width=\"32\" height=\"32\" stroke=\"black\" fill=\"pink\"/>\n",
       "<text dominant-baseline=\"central\" text-anchor=\"middle\" font-family=\"monospace\" font-size=\"12\" x=\"672\" y=\"256\">DEP<tspan baseline-shift=\"sub\" font-size=\"10\">2</tspan></text>\n",
       "<rect x=\"656\" y=\"304\" width=\"32\" height=\"32\" stroke=\"black\" fill=\"pink\"/>\n",
       "<text dominant-baseline=\"central\" text-anchor=\"middle\" font-family=\"monospace\" font-size=\"12\" x=\"672\" y=\"320\">DEP<tspan baseline-shift=\"sub\" font-size=\"10\">2</tspan></text>\n",
       "<text dominant-baseline=\"hanging\" text-anchor=\"middle\" font-family=\"monospace\" font-size=\"10\" stroke=\"red\" x=\"672\" y=\"340\">0.1</text>\n",
       "<path d=\"M736,64 L736,320 \" stroke=\"black\"/>\n",
       "<circle cx=\"736\" cy=\"64\" r=\"12\" stroke=\"none\" fill=\"black\"/>\n",
       "<circle cx=\"736\" cy=\"320\" r=\"12\" stroke=\"black\" fill=\"white\"/>\n",
       "<path d=\"M724,320 L748,320 M736,308 L736,332 \" stroke=\"black\"/>\n",
       "<path d=\"M800,64 L800,320 \" stroke=\"black\"/>\n",
       "<rect x=\"784\" y=\"48\" width=\"32\" height=\"32\" stroke=\"black\" fill=\"pink\"/>\n",
       "<text dominant-baseline=\"central\" text-anchor=\"middle\" font-family=\"monospace\" font-size=\"12\" x=\"800\" y=\"64\">DEP<tspan baseline-shift=\"sub\" font-size=\"10\">2</tspan></text>\n",
       "<rect x=\"784\" y=\"304\" width=\"32\" height=\"32\" stroke=\"black\" fill=\"pink\"/>\n",
       "<text dominant-baseline=\"central\" text-anchor=\"middle\" font-family=\"monospace\" font-size=\"12\" x=\"800\" y=\"320\">DEP<tspan baseline-shift=\"sub\" font-size=\"10\">2</tspan></text>\n",
       "<text dominant-baseline=\"hanging\" text-anchor=\"middle\" font-family=\"monospace\" font-size=\"10\" stroke=\"red\" x=\"800\" y=\"340\">0.1</text>\n",
       "<rect x=\"848\" y=\"304\" width=\"32\" height=\"32\" stroke=\"black\" fill=\"black\"/>\n",
       "<text dominant-baseline=\"central\" text-anchor=\"middle\" font-family=\"monospace\" font-size=\"30\" x=\"864\" y=\"320\" fill=\"white\">M</text>\n",
       "<text text-anchor=\"middle\" font-family=\"monospace\" font-size=\"8\" x=\"864\" y=\"300\">rec[0]</text>\n",
       "<rect x=\"912\" y=\"304\" width=\"160\" height=\"32\" stroke=\"black\" fill=\"lightgray\"/>\n",
       "<text dominant-baseline=\"central\" text-anchor=\"middle\" font-family=\"monospace\" font-size=\"16\" x=\"992\" y=\"320\">DETECTOR</text>\n",
       "<text text-anchor=\"middle\" font-family=\"monospace\" font-size=\"8\" x=\"992\" y=\"300\">D0 = rec[0]</text>\n",
       "</svg>"
      ]
     },
     "execution_count": 8,
     "metadata": {},
     "output_type": "execute_result"
    }
   ],
   "source": [
    "circuit.diagram('timeline-svg')"
   ]
  },
  {
   "cell_type": "code",
   "execution_count": 16,
   "id": "94169956",
   "metadata": {},
   "outputs": [],
   "source": [
    "errors = []\n",
    "begin = time.time()\n",
    "for i in q:\n",
    "    circuit = stim.Circuit(txt.format(i, i, i, i, i, i))\n",
    "    dem = circuit.detector_error_model()\n",
    "    errors.append(dem2matrices(repr(dem), 1)[0][0])\n",
    "end = time.time()\n",
    "stim_time = end-begin"
   ]
  },
  {
   "cell_type": "markdown",
   "id": "3655a9f3",
   "metadata": {},
   "source": [
    "# Comparison"
   ]
  },
  {
   "cell_type": "code",
   "execution_count": 14,
   "id": "78b4a274",
   "metadata": {},
   "outputs": [
    {
     "data": {
      "text/plain": [
       "<matplotlib.legend.Legend at 0x7fa41801a070>"
      ]
     },
     "execution_count": 14,
     "metadata": {},
     "output_type": "execute_result"
    },
    {
     "data": {
      "image/png": "[encoded data removed]",
      "text/plain": [
       "<Figure size 432x288 with 1 Axes>"
      ]
     },
     "metadata": {
      "needs_background": "light"
     },
     "output_type": "display_data"
    }
   ],
   "source": [
    "plt.plot(q, ss_sam.stats()[0], label = 'qsample, up')\n",
    "plt.plot(q, ss_sam.stats()[2], label = 'qsample, down')\n",
    "plt.plot(q, errors, label = 'stim')\n",
    "plt.xscale('log')\n",
    "plt.yscale('log')\n",
    "plt.legend()"
   ]
  },
  {
   "cell_type": "code",
   "execution_count": 17,
   "id": "60d8847c",
   "metadata": {},
   "outputs": [
    {
     "name": "stdout",
     "output_type": "stream",
     "text": [
      "QSample time: 0.346s\n",
      "STIM time: 0.000697s\n"
     ]
    }
   ],
   "source": [
    "print(\"QSample time: {:.3}s\".format(qsample_time))\n",
    "print(\"STIM time: {:.3}s\".format(stim_time))"
   ]
  },
  {
   "cell_type": "code",
   "execution_count": 18,
   "id": "ff1aff8b",
   "metadata": {},
   "outputs": [
    {
     "data": {
      "text/plain": [
       "226.58999999999997"
      ]
     },
     "execution_count": 18,
     "metadata": {},
     "output_type": "execute_result"
    }
   ],
   "source": [
    "458.95-232.36"
   ]
  },
  {
   "cell_type": "code",
   "execution_count": 19,
   "id": "0dd5e618",
   "metadata": {},
   "outputs": [
    {
     "data": {
      "text/plain": [
       "682"
      ]
     },
     "execution_count": 19,
     "metadata": {},
     "output_type": "execute_result"
    }
   ],
   "source": [
    "250+136+30+20+15+820+136+30+20+15+350+820-980-980"
   ]
  },
  {
   "cell_type": "code",
   "execution_count": null,
   "id": "d058ea9e",
   "metadata": {},
   "outputs": [],
   "source": []
  }
 ],
 "metadata": {
  "kernelspec": {
   "display_name": "Python 3 (ipykernel)",
   "language": "python",
   "name": "python3"
  },
  "language_info": {
   "codemirror_mode": {
    "name": "ipython",
    "version": 3
   },
   "file_extension": ".py",
   "mimetype": "text/x-python",
   "name": "python",
   "nbconvert_exporter": "python",
   "pygments_lexer": "ipython3",
   "version": "3.9.12"
  }
 },
 "nbformat": 4,
 "nbformat_minor": 5
}
