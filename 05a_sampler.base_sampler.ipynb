{
 "cells": [
  {
   "cell_type": "code",
   "execution_count": null,
   "id": "084e5216-cb73-4522-bb8e-4af97a50c00c",
   "metadata": {},
   "outputs": [],
   "source": [
    "# default_exp sampler.base_sampler"
   ]
  },
  {
   "cell_type": "markdown",
   "id": "b9335674-9e0f-4c9e-a798-a5daf3aba313",
   "metadata": {},
   "source": [
    "# Sampler base class\n",
    "\n",
    "> Super class for all sampler objects"
   ]
  },
  {
   "cell_type": "code",
   "execution_count": null,
   "id": "02dd1e36-3929-4558-8970-cf4e66a686e0",
   "metadata": {},
   "outputs": [],
   "source": [
    "# hide\n",
    "from nbdev.showdoc import *"
   ]
  },
  {
   "cell_type": "code",
   "execution_count": null,
   "id": "63b1b7fb-8aa0-4ae5-a414-f470a96a0050",
   "metadata": {},
   "outputs": [],
   "source": [
    "#export\n",
    "from qsam.circuit import unpack"
   ]
  },
  {
   "cell_type": "code",
   "execution_count": null,
   "id": "75fff9f3-c50a-47d1-a36e-10af95d6d5fe",
   "metadata": {},
   "outputs": [],
   "source": [
    "#export\n",
    "class BaseSampler:\n",
    "    \n",
    "    def __init__(self, protocol, simulator, fault_gen, *args, **kwargs):\n",
    "        self.protocol = protocol\n",
    "        self.simulator = simulator\n",
    "        self.n_qubits = len(set(q for c in protocol._circuits.values() for q in unpack(c)))\n",
    "        \n",
    "        fault_gen.configure(self.protocol._circuits)\n",
    "        self.fault_gen = fault_gen\n",
    "        \n",
    "        self.setup(*args, **kwargs)\n",
    "    \n",
    "    def setup(self, *args, **kwargs):\n",
    "        \"\"\"Must be specified by child class.\"\"\"\n",
    "        pass\n",
    "        \n",
    "    def _verbose(self, local_vars):\n",
    "        circuit = local_vars.get('circuit', None)\n",
    "        circuit_hash = local_vars.get('circuit_hash', None)\n",
    "        fault_circuit = local_vars.get('fault_circuit', None)\n",
    "        faults = local_vars.get('faults', None)\n",
    "        node = local_vars.get('node', None)\n",
    "        _node = local_vars.get('_node', None)\n",
    "        msmt = local_vars.get('msmt', None)\n",
    "        \n",
    "        fs = [] if not circuit._noisy else [f'Tick {tick}: {fault_circuit[tick]}' for tick,_ in faults]\n",
    "        if circuit_hash not in self.protocol._circuits.keys():\n",
    "            print(f'Node {_node}, Circuit {circuit} -> {node}') # COR nodes\n",
    "        else: # circuit nodes\n",
    "            print(f'Node {_node}, faults {fs}, measured {msmt} -> {node}')"
   ]
  }
 ],
 "metadata": {
  "kernelspec": {
   "display_name": "Python 3 (ipykernel)",
   "language": "python",
   "name": "python3"
  }
 },
 "nbformat": 4,
 "nbformat_minor": 5
}
