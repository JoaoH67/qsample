{
 "cells": [
  {
   "cell_type": "code",
   "execution_count": null,
   "metadata": {},
   "outputs": [],
   "source": [
    "# default_exp samplers"
   ]
  },
  {
   "cell_type": "markdown",
   "metadata": {},
   "source": [
    "# Samplers\n",
    "\n",
    "> Collection of different samplers for sampling logical failure rates from quantum error correction circuits"
   ]
  },
  {
   "cell_type": "code",
   "execution_count": null,
   "metadata": {},
   "outputs": [],
   "source": [
    "# hide\n",
    "from nbdev.showdoc import *"
   ]
  },
  {
   "cell_type": "code",
   "execution_count": null,
   "metadata": {},
   "outputs": [],
   "source": [
    "#export\n",
    "import qsam.math as math\n",
    "from qsam.circuit import partition\n",
    "from qsam.simulators.chp import CHP\n",
    "from qsam.fault_generators import Depolar\n",
    "\n",
    "import numpy as np\n",
    "import itertools as it"
   ]
  },
  {
   "cell_type": "code",
   "execution_count": null,
   "metadata": {},
   "outputs": [],
   "source": [
    "#export\n",
    "ONE_QUBIT_GATES = {'H', 'X', 'Z'}\n",
    "TWO_QUBIT_GATES = {'CNOT'}\n",
    "\n",
    "GATE_GROUPS = {'p': ONE_QUBIT_GATES | TWO_QUBIT_GATES,\n",
    "               'p1': ONE_QUBIT_GATES,\n",
    "               'p2': TWO_QUBIT_GATES }"
   ]
  },
  {
   "cell_type": "code",
   "execution_count": null,
   "metadata": {},
   "outputs": [],
   "source": [
    "#export\n",
    "class Sampler:\n",
    "    \"\"\"Sampler base class\"\"\"\n",
    "    \n",
    "    def __init__(self, circuit, err_params):\n",
    "        self.circuit = circuit\n",
    "        self.n_qubits = circuit.n_qubits\n",
    "        self.partitions = [partition(circuit, GATE_GROUPS[g]) for g in err_params.keys()]\n",
    "        self.p_phys_mat = np.vstack(list(err_params.values())).T # p_phy_range x partitions\n",
    "        self.fault_gen = Depolar(n_ticks=len(circuit))\n",
    "\n",
    "    def _sample(self, params):\n",
    "        sim = CHP(self.n_qubits)\n",
    "        fault_circuit = self.fault_gen.generate(self.partitions, params, type(self).__name__)\n",
    "        return sim.run(self.circuit, fault_circuit)\n",
    "\n",
    "    def _check_logical_failure(self, msmt):\n",
    "        return 1 if msmt.items() <= self.circuit.failures.items() else 0"
   ]
  },
  {
   "cell_type": "code",
   "execution_count": null,
   "metadata": {},
   "outputs": [],
   "source": [
    "#export\n",
    "class DirectSampler(Sampler):\n",
    "    \"\"\"Direct Monte Carlo sampler\"\"\"\n",
    "\n",
    "    def run(self, n_samples=100, var=math.Wilson_var):\n",
    "        fail_cnts = np.zeros((self.p_phys_mat.shape[0])) # one fail counter per p_phys\n",
    "\n",
    "        for i, p_phys in enumerate(self.p_phys_mat):\n",
    "            for _ in range(n_samples):\n",
    "                msmt = self._sample(p_phys)\n",
    "                fail_cnts[i] += self._check_logical_failure(msmt)\n",
    "\n",
    "        p_L = fail_cnts / n_samples\n",
    "        std = np.sqrt( var(p_L, n_samples) )\n",
    "        return p_L, std"
   ]
  },
  {
   "cell_type": "code",
   "execution_count": null,
   "metadata": {},
   "outputs": [],
   "source": [
    "#hide\n",
    "#export\n",
    "def uniform_select(counts, *args, **kwargs):\n",
    "    \"\"\"Return index of least sampled SS\"\"\"\n",
    "    # return np.argmin(counts)\n",
    "    return counts.argmin()\n",
    "\n",
    "def ERV_select(counts, fail_counts, Aw=1, var=math.Wilson_var, *args, **kwargs):\n",
    "    \"\"\"Return index of SS which yields maximum ERV\"\"\"\n",
    "\n",
    "    p = fail_counts / counts # list of SS failure rates\n",
    "    v = var(p, counts) # list of variances\n",
    "\n",
    "    # prospective failure rates\n",
    "    p_p = (fail_counts+1) / (counts+1) # next msmt yields +1 (i.e. 1)\n",
    "    p_m = fail_counts / (counts+1) # next msmt yields -1 (i.e. 0)\n",
    "\n",
    "    # prospective variances\n",
    "    v_p = var(p_p, counts+1) \n",
    "    v_m = var(p_m, counts+1)\n",
    "\n",
    "    # expectation value of prospective variances\n",
    "    v_prop = p*v_p + (1-p)*v_m \n",
    "\n",
    "    # maximize difference (scaled by occurance prob)\n",
    "    delta = Aw**2 * (v - v_prop)\n",
    "    # return np.argmax(delta)\n",
    "    return delta.argmax()"
   ]
  },
  {
   "cell_type": "code",
   "execution_count": null,
   "metadata": {},
   "outputs": [],
   "source": [
    "#hide\n",
    "#export\n",
    "def calc_w_max(p_max, delta_max, n_partition_elems):\n",
    "    \"\"\"Calculate weight cutoff at p_max for delta_max\"\"\"\n",
    "    \n",
    "    delta = 1\n",
    "    for w_max in range(n_partition_elems+1):\n",
    "        delta -= math.binom(w_max, n_partition_elems, p_max)\n",
    "        if delta < delta_max: \n",
    "            break\n",
    "    return w_max\n",
    "\n",
    "def calc_subset_occurances(partitions, partition_weight_vecs, p_phys_mat):\n",
    "    \"\"\"Calculate 3D tensor of binom. coefficients for each partition\"\"\"\n",
    "    \n",
    "    n_partition_elems = np.array([len(p) for p in partitions])\n",
    "    Aws = np.array([math.binom(w_vec, n_partition_elems, p_phys_mat) for w_vec in partition_weight_vecs])\n",
    "    Aws = np.product(Aws, axis=-1) # get list of Aw for each partition SS combination\n",
    "    return Aws"
   ]
  },
  {
   "cell_type": "code",
   "execution_count": null,
   "metadata": {},
   "outputs": [],
   "source": [
    "#export\n",
    "class SubsetSampler(Sampler):\n",
    "    \"\"\"Monte Carlo subset sampler\"\"\"\n",
    "    \n",
    "    def __init__(self, circuit, err_params, w_params, subset_select_fn=uniform_select):\n",
    "        super().__init__(circuit, err_params)\n",
    "        self.subset_select_fn = subset_select_fn\n",
    "                \n",
    "        if 'w_max' in w_params:\n",
    "            w_max_vec = w_params['w_max']\n",
    "        elif 'p_max' in w_params and 'delta_max' in w_params:\n",
    "            w_max_vec = [calc_w_max(p,d,len(par)) for p,d,par in zip(w_params['p_max'],w_params['delta_max'],self.partitions)]\n",
    "        else:\n",
    "            raise Exception(f\"Cannot process setup parameters {w_params}.\")\n",
    "        \n",
    "        w_upto_w_maxs = [tuple(range(w_max+1)) for w_max in w_max_vec] # tuples of ranges upto w_max\n",
    "        w_vecs = list(it.product( *w_upto_w_maxs )) # all weight vector combinations\n",
    "        self.Aws_upper = 1 - np.sum(calc_subset_occurances(self.partitions, w_vecs, self.p_phys_mat), axis=0) # calc. upper bound for binomal weights\n",
    "        \n",
    "        w_exclude = w_params.get('w_exclude', set())\n",
    "        w_exclude = set((w,) if type(w)==int else w for w in w_exclude) # convert ints to tuple for single-parameter case\n",
    "        self.w_vecs = [w_vec for w_vec in it.product( *w_upto_w_maxs ) if w_vec not in w_exclude]\n",
    "        self.Aws = calc_subset_occurances(self.partitions, self.w_vecs, self.p_phys_mat) # Aws with exclusion\n",
    "        \n",
    "        print(f\"Setup sampling of partitions {list(err_params.keys())} with maximum fault weights {w_max_vec} and excluded weights {w_exclude}.\")\n",
    "\n",
    "            \n",
    "    def run(self, n_samples=100, var=math.Wilson_var):\n",
    "        \n",
    "        print(f\"Start sampling of {n_samples} samples using {self.subset_select_fn.__name__} as subset selector.\")\n",
    "        \n",
    "        cnts      = np.zeros((len(self.w_vecs))) + 1 # one virtual sample to avoid div0\n",
    "        fail_cnts = np.zeros((len(self.w_vecs))) \n",
    "\n",
    "        for i in range(n_samples):\n",
    "            idx = self.subset_select_fn(cnts, fail_cnts, Aw=np.sum(self.Aws,axis=1)) # TODO: Aw for ERV should be first selected Aw, not sum\n",
    "            w_vec = self.w_vecs[idx]\n",
    "            msmt = self._sample(w_vec)\n",
    "            fail_cnts[idx] += self._check_logical_failure(msmt)\n",
    "            cnts[idx] += 1\n",
    "        pws = (fail_cnts / (cnts-1))[:,None]\n",
    "        \n",
    "        p_L_low = np.sum(self.Aws * pws, axis=0)\n",
    "        p_L_up = p_L_low + self.Aws_upper\n",
    "        std = math.std_sum(self.Aws, pws, n_samples, var)\n",
    "        \n",
    "        print(f\"Finished sampling. Subset error rates: {pws.T}\")\n",
    "\n",
    "        return p_L_up, p_L_low, std"
   ]
  },
  {
   "cell_type": "markdown",
   "metadata": {},
   "source": [
    "Let's see how the samplers work. First we create some circuit to sample from. Let's choose a simple GHZ preparation flag circuit. This circuit produces the four-qubit GHZ state $|GHZ\\rangle=\\frac{1}{\\sqrt{2}}(|0000\\rangle+|1111\\rangle)$ on qubits 0-3. The fifth qubit (qubit no. 4) is the flag which we measure to be either +1 if our prepared GHZ-state is error-free or if there is only a weight-1 error on the state (Note, we use **error** instead of **fault** to highlight that that we are talking about the **final faulty state**). If the flag measurement yield -1 (i.e. 0 in binary logic) we know that an error of weight larger than 1 occured on our final state, i.e. $|GHZ\\rangle\\rightarrow E_w|GHZ\\rangle$, where $w\\gt 1$ is the error-weight. Only these events we want to count as logical errors. Thus, let us first define the circuit and the physical error probabilities at which we want to sample logical error rates:"
   ]
  },
  {
   "cell_type": "code",
   "execution_count": null,
   "metadata": {},
   "outputs": [],
   "source": [
    "from qsam.circuit import Circuit\n",
    "import numpy as np\n",
    "\n",
    "ghz = Circuit([ {\"H\": {0}},\n",
    "                {\"CNOT\": {(0,1)}},\n",
    "                {\"CNOT\": {(1,2)}},\n",
    "                {\"CNOT\": {(2,3)}},\n",
    "                {\"CNOT\": {(3,4)}},\n",
    "                {\"CNOT\": {(0,4)}},\n",
    "                {\"measure\": {4}}   ])\n",
    "\n",
    "ghz.failures[((6,4),)] = '1' # define which measurement is a failure for this circuit\n",
    "\n",
    "p = np.logspace(-3,0,10)\n",
    "err_params = {'p': p}"
   ]
  },
  {
   "cell_type": "markdown",
   "metadata": {},
   "source": [
    "Next, we create a sampler object and run it for a specified number of samples. Let's start with the `DirectSampler`:"
   ]
  },
  {
   "cell_type": "code",
   "execution_count": null,
   "metadata": {},
   "outputs": [],
   "source": [
    "#slow\n",
    "sam = DirectSampler(ghz, err_params)\n",
    "p_L, std = sam.run(n_samples=1000)"
   ]
  },
  {
   "cell_type": "markdown",
   "metadata": {},
   "source": [
    "Similarly, we can do the same sampling using the `SubsetSampler`. For this, we need to provide a `w_params` dictionary which contains either `p_max` and `delta_max` or `w_max` to specify the maximum partition weight up to which we want to include in the sampling. `delta_max` is the distance between these bounds at the `p_max` value. So, for large `p_max`, larger fault-weight subsets become relevant and in turn `delta_max` would increase if we didn't include those. Additionally, we can specify with `w_exclude` direct if we want to exclude partition weight subsets. We also note that the `run` method in this case gives us an upper and a lower bound on the logical error rate instead of a single `p_L` as before."
   ]
  },
  {
   "cell_type": "code",
   "execution_count": null,
   "metadata": {},
   "outputs": [
    {
     "name": "stdout",
     "output_type": "stream",
     "text": [
      "Setup sampling of partitions ['p'] with maximum fault weights [3] and excluded weights {(0,)}.\n",
      "Start sampling of 100 samples using ERV_select as subset selector.\n",
      "Finished sampling. Subset error rates: [[0.40350877 0.5        0.33333333]]\n"
     ]
    }
   ],
   "source": [
    "#slow\n",
    "w_params = {'w_max':[3], 'w_exclude': {0}}\n",
    "# w_params = {'p_max': [0.1], 'delta_max': [0.1]}\n",
    "sam = SubsetSampler(ghz, err_params, w_params, subset_select_fn=ERV_select)\n",
    "p_L_up, p_L_low, ss_std = sam.run(n_samples=100)"
   ]
  },
  {
   "cell_type": "markdown",
   "metadata": {},
   "source": [
    "Let's plot and compare the two:"
   ]
  },
  {
   "cell_type": "code",
   "execution_count": null,
   "metadata": {},
   "outputs": [
    {
     "data": {
      "image/png": "[encoded data removed]",
      "text/plain": [
       "<Figure size 432x288 with 1 Axes>"
      ]
     },
     "metadata": {
      "needs_background": "light"
     },
     "output_type": "display_data"
    }
   ],
   "source": [
    "#slow\n",
    "#hide_input\n",
    "import matplotlib.pyplot as plt\n",
    "\n",
    "plt.errorbar(p, p_L, fmt='--', c=\"black\", yerr=std, label=\"Direct MC\")\n",
    "\n",
    "plt.plot(p, p_L_low, label=\"SS low\")\n",
    "plt.fill_between(p, p_L_low-ss_std, p_L_low+ss_std, alpha=0.2)\n",
    "plt.plot(p, p_L_up, label=\"SS up\")\n",
    "plt.fill_between(p, p_L_up-ss_std, p_L_up+ss_std, alpha=0.2)\n",
    "\n",
    "plt.plot(p, p, 'k:', alpha=0.5)\n",
    "plt.xscale('log')\n",
    "plt.yscale('log')\n",
    "plt.legend();"
   ]
  },
  {
   "cell_type": "markdown",
   "metadata": {},
   "source": [
    "# Multi-parameter error models\n",
    "Similarly, for a multi-parameter noise model all we have to do is specify the physical error rates for corresponding partitions and pass it to the sampler. Note that for now only two partitions are implemented (one for one-qubit gates and one for two-qubit gates)."
   ]
  },
  {
   "cell_type": "code",
   "execution_count": null,
   "metadata": {},
   "outputs": [],
   "source": [
    "#slow\n",
    "p1 = np.logspace(-3,0,10)\n",
    "p2 = 0.5 * p1\n",
    "err_params = {'p1': p1, 'p2': p2}\n",
    "sam = DirectSampler(ghz, err_params)"
   ]
  },
  {
   "cell_type": "code",
   "execution_count": null,
   "metadata": {},
   "outputs": [
    {
     "data": {
      "image/png": "[encoded data removed]",
      "text/plain": [
       "<Figure size 432x288 with 1 Axes>"
      ]
     },
     "metadata": {
      "needs_background": "light"
     },
     "output_type": "display_data"
    }
   ],
   "source": [
    "#slow\n",
    "#hide_input\n",
    "p_L, std = sam.run(n_samples=1000)\n",
    "plt.errorbar(p, p_L, fmt='--', c=\"black\", yerr=std, label=\"Direct MC\")\n",
    "plt.plot(p, p, 'k:', alpha=0.5)\n",
    "plt.xscale('log')\n",
    "plt.yscale('log')\n",
    "plt.legend();"
   ]
  },
  {
   "cell_type": "markdown",
   "metadata": {},
   "source": [
    "# Subset sampling helper functions\n",
    "> Collection functions to support subset sampling."
   ]
  },
  {
   "cell_type": "markdown",
   "metadata": {},
   "source": [
    "First, let's talk about how to decide which subset to sample from during subset sampling. The simplest strategy would be to always select the subset which was sampled least in order to sample uniformly from every subset:"
   ]
  },
  {
   "cell_type": "code",
   "execution_count": null,
   "metadata": {},
   "outputs": [
    {
     "data": {
      "text/markdown": [
       "<h4 id=\"uniform_select\" class=\"doc_header\"><code>uniform_select</code><a href=\"__main__.py#L3\" class=\"source_link\" style=\"float:right\">[source]</a></h4>\n",
       "\n",
       "> <code>uniform_select</code>(**`counts`**, **\\*`args`**, **\\*\\*`kwargs`**)\n",
       "\n",
       "Return index of least sampled SS"
      ],
      "text/plain": [
       "<IPython.core.display.Markdown object>"
      ]
     },
     "metadata": {},
     "output_type": "display_data"
    }
   ],
   "source": [
    "show_doc(uniform_select)"
   ]
  },
  {
   "cell_type": "markdown",
   "metadata": {},
   "source": [
    "Alternatively, we can make a decision which is more informed on a) the occurance probability of subsets (i.e. the binomial weights $A_w$) and the current as well as prospective variances for sampling respective subsets. Selecting the weight for which the difference scaled by $A_w^2$ yields a maximum is the best next subset weight we can choose in order to reduce the global variance the most. This method is termed Expected Reduction of Variance (ERV):"
   ]
  },
  {
   "cell_type": "code",
   "execution_count": null,
   "metadata": {},
   "outputs": [
    {
     "data": {
      "text/markdown": [
       "<h4 id=\"ERV_select\" class=\"doc_header\"><code>ERV_select</code><a href=\"__main__.py#L7\" class=\"source_link\" style=\"float:right\">[source]</a></h4>\n",
       "\n",
       "> <code>ERV_select</code>(**`counts`**, **`fail_counts`**, **`ss_factors`**=*`1`*, **`var`**=*`Wilson_var`*, **\\*`args`**, **\\*\\*`kwargs`**)\n",
       "\n",
       "Return index of SS which yields maximum ERV"
      ],
      "text/plain": [
       "<IPython.core.display.Markdown object>"
      ]
     },
     "metadata": {},
     "output_type": "display_data"
    }
   ],
   "source": [
    "show_doc(ERV_select)"
   ]
  },
  {
   "cell_type": "markdown",
   "metadata": {},
   "source": [
    "We can compare the results of using the two methods."
   ]
  },
  {
   "cell_type": "code",
   "execution_count": null,
   "metadata": {},
   "outputs": [],
   "source": []
  },
  {
   "cell_type": "code",
   "execution_count": null,
   "metadata": {},
   "outputs": [
    {
     "data": {
      "text/markdown": [
       "<h4 id=\"calc_w_max\" class=\"doc_header\"><code>calc_w_max</code><a href=\"__main__.py#L3\" class=\"source_link\" style=\"float:right\">[source]</a></h4>\n",
       "\n",
       "> <code>calc_w_max</code>(**`p_max`**, **`delta_max`**, **`n_partition_elems`**)\n",
       "\n",
       "Calculate weight cutoff at p_max for delta_max."
      ],
      "text/plain": [
       "<IPython.core.display.Markdown object>"
      ]
     },
     "metadata": {},
     "output_type": "display_data"
    }
   ],
   "source": [
    "show_doc(calc_w_max)"
   ]
  },
  {
   "cell_type": "code",
   "execution_count": null,
   "metadata": {},
   "outputs": [
    {
     "data": {
      "text/markdown": [
       "<h4 id=\"calc_subset_occurances\" class=\"doc_header\"><code>calc_subset_occurances</code><a href=\"__main__.py#L32\" class=\"source_link\" style=\"float:right\">[source]</a></h4>\n",
       "\n",
       "> <code>calc_subset_occurances</code>(**`partitions`**, **`partition_weight_vecs`**, **`p_phys_mat`**)\n",
       "\n",
       "Calculate 3D tensor of binom. coefficients for each partition"
      ],
      "text/plain": [
       "<IPython.core.display.Markdown object>"
      ]
     },
     "metadata": {},
     "output_type": "display_data"
    }
   ],
   "source": [
    "show_doc(calc_subset_occurances)"
   ]
  }
 ],
 "metadata": {
  "kernelspec": {
   "display_name": "Python 3 (ipykernel)",
   "language": "python",
   "name": "python3"
  }
 },
 "nbformat": 4,
 "nbformat_minor": 4
}
