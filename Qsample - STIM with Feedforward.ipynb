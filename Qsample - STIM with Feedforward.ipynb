{
 "cells": [
  {
   "cell_type": "code",
   "execution_count": 2,
   "id": "f78bce89",
   "metadata": {},
   "outputs": [],
   "source": [
    "import qsample as qs\n",
    "import time\n",
    "import stim\n",
    "import numpy as np\n",
    "import matplotlib.pyplot as plt\n",
    "import time\n",
    "import re"
   ]
  },
  {
   "cell_type": "markdown",
   "id": "f70036df",
   "metadata": {},
   "source": [
    "# Helpers"
   ]
  },
  {
   "cell_type": "code",
   "execution_count": 5,
   "id": "4896b9b0",
   "metadata": {},
   "outputs": [],
   "source": [
    "def dem2matrices(dem, n_detectors=20):\n",
    "    txt = dem.split('\\n')[1:-1]\n",
    "    dims = len(txt)\n",
    "    errors = np.zeros(dims)\n",
    "    err_locs = np.zeros((dims, n_detectors))\n",
    "\n",
    "    for i in range(dims):\n",
    "        errors[i] = re.findall('\\d?\\.?\\d+e?\\-?\\d+', txt[i])[0]\n",
    "        for j in re.findall('D\\d', txt[i]):\n",
    "            err_locs[i, int(j[1])]=1\n",
    "            \n",
    "    #err_locs = err_locs[:,:]\n",
    "\n",
    "    return errors, err_locs\n",
    "\n",
    "\n",
    "def error_rate(errors, errloc, sequence):\n",
    "    dep = len(sequence)\n",
    "    err = len(errors)\n",
    "    errors=errors.reshape(1,-1)\n",
    "\n",
    "    result = np.stack((np.arange(2**err),) * err, axis=1)\n",
    "\n",
    "    divide = np.stack((2**np.arange(err)[::-1],)*2**err, axis=0) \n",
    "\n",
    "    result=result//divide%2      # Creates binary matrix\n",
    "\n",
    "    result=result[np.all(np.dot(result,errloc)%2==sequence, axis=1)] #find error combination that agrees with sequence\n",
    "    return np.sum(np.prod(errors*result+(1-errors)*(1-result), axis=1))"
   ]
  },
  {
   "cell_type": "code",
   "execution_count": 6,
   "id": "a1614739",
   "metadata": {},
   "outputs": [],
   "source": [
    "class node:\n",
    "    \n",
    "    def __init__(self, circuit):\n",
    "        self.circuit = circuit\n",
    "        self.zero = None\n",
    "        self.one = None\n",
    "        \n",
    "    def fail_path(self):\n",
    "        fails= []\n",
    "        path = []\n",
    "        if self.one=='1':\n",
    "            path = ['1']\n",
    "            fails.append(path)\n",
    "        else:\n",
    "            for p in self.one.fail_path():\n",
    "                p.append('1')\n",
    "                fails.append(p)\n",
    "        if self.zero!='0':\n",
    "            for p in self.zero.fail_path():\n",
    "                p.append('0')\n",
    "                fails.append(p)\n",
    "        return fails\n",
    "    \n",
    "    def fail_paths(self):\n",
    "        p = []\n",
    "        circs = []\n",
    "        for j in self.fail_path():\n",
    "            p.append(j[::-1])\n",
    "            \n",
    "        for j in p:\n",
    "            node = self\n",
    "            circ = node.circuit\n",
    "            for i in j[:-1]:\n",
    "                if i == '1':\n",
    "                    circ+=node.one.circuit\n",
    "                    node = node.one\n",
    "                if i == '0':\n",
    "                    circ+=node.zero.circuit\n",
    "                    node = node.zero\n",
    "            circs.append(circ)\n",
    "        \n",
    "        return p, circs"
   ]
  },
  {
   "cell_type": "markdown",
   "id": "b78aebbb",
   "metadata": {},
   "source": [
    "# QSample"
   ]
  },
  {
   "cell_type": "code",
   "execution_count": 4,
   "id": "de0475a8",
   "metadata": {},
   "outputs": [],
   "source": [
    "C1 = qs.Circuit([{\"init\": {0, 1, 2, 3, 4}},\n",
    "                       {\"X\": {0, 2, 3}},\n",
    "                       {\"CNOT\": {(0, 3)}},\n",
    "                       {\"measure\": {3}}])\n",
    "\n",
    "\n",
    "C2 =  qs.Circuit([{\"CNOT\": {(0, 2)}},\n",
    "                       {\"H\": {2, 3}},\n",
    "                       {\"CNOT\": {(4, 3)}},\n",
    "                      {\"H\": {2, 3}},\n",
    "                      {\"CNOT\": {(2, 4)}},\n",
    "                       {\"measure\": {4}}])\n",
    "\n",
    "\n",
    "C3 = qs.Circuit([{\"CNOT\": {(2, 1)}},\n",
    "                       {\"measure\": {1}}])\n",
    "\n",
    "\n",
    "C4 = qs.Circuit([{\"CNOT\": {(3, 1)}},\n",
    "                       {\"measure\": {1}}])\n",
    "\n",
    "steane0 = qs.Protocol(fault_tolerant=False)\n",
    "\n",
    "steane0.add_nodes_from(['C1', 'C2', 'C3', 'C4'], circuits=[C1, C2, C3, C4])\n",
    "steane0.add_edge('START', 'C1', check='True')\n",
    "steane0.add_edge('C1', 'C4', check='C1[-1]==0')\n",
    "steane0.add_edge('C1', 'C2', check='C1[-1]==1')\n",
    "steane0.add_edge('C2', 'C3', check='C2[-1]==1')\n",
    "steane0.add_edge('C3', 'FAIL', check='C3[-1]==1')\n",
    "steane0.add_edge('C4', 'FAIL', check='C4[-1]==1')"
   ]
  },
  {
   "cell_type": "code",
   "execution_count": 5,
   "id": "d75cebd3",
   "metadata": {},
   "outputs": [
    {
     "data": {
      "image/png": "[encoded data removed]",
      "text/plain": [
       "<Figure size 720x720 with 1 Axes>"
      ]
     },
     "metadata": {},
     "output_type": "display_data"
    }
   ],
   "source": [
    "steane0.draw(figsize=(10,10))"
   ]
  },
  {
   "cell_type": "code",
   "execution_count": 6,
   "id": "d60b5652",
   "metadata": {},
   "outputs": [],
   "source": [
    "err_model = qs.noise.E1\n",
    "q = [1e-5, 1e-3, 1e-1, 0.5]\n",
    "err_params = {'q': q}"
   ]
  },
  {
   "cell_type": "code",
   "execution_count": 16,
   "id": "34d55355",
   "metadata": {},
   "outputs": [
    {
     "data": {
      "application/vnd.jupyter.widget-view+json": {
       "model_id": "7732d4d887904a90a442ada4bdcae9c5",
       "version_major": 2,
       "version_minor": 0
      },
      "text/plain": [
       "p=('1.00e-01',):   0%|          | 0/1000 [00:00<?, ?it/s]"
      ]
     },
     "metadata": {},
     "output_type": "display_data"
    }
   ],
   "source": [
    "begin = time.time()\n",
    "ss_sam = qs.SubsetSampler(protocol=steane0, simulator=qs.StabilizerSimulator,  p_max={'q': 0.1}, err_model=err_model, err_params=err_params, L=3)\n",
    "ss_sam.run(1000)\n",
    "end = time.time()\n",
    "qsample_time = end-begin"
   ]
  },
  {
   "cell_type": "markdown",
   "id": "e2fca45b",
   "metadata": {},
   "source": [
    "## STIM"
   ]
  },
  {
   "cell_type": "code",
   "execution_count": 7,
   "id": "e2a60656",
   "metadata": {},
   "outputs": [],
   "source": [
    "C1 = \"\"\"X 0 2 3\\nDEPOLARIZE1({}) 0 2 3\\n\n",
    "                    CNOT 0 3\\nDEPOLARIZE2({}) 0 3\\n\n",
    "                    M 3\n",
    "                    DETECTOR rec[-1]\n",
    "                    TICK\n",
    "                    \"\"\"\n",
    "C2 = \"\"\"CNOT 0 2\\nDEPOLARIZE2({}) 0 2\\n\n",
    "                    H 2 3 \\nDEPOLARIZE1({}) 2 3\\n\n",
    "                    CNOT 4 3\\nDEPOLARIZE2({}) 4 3\\n\n",
    "                    H 2 3 \\nDEPOLARIZE1({}) 2 3\\n\n",
    "                    CNOT 2 4\\nDEPOLARIZE2({}) 2 4\\n\n",
    "                    M 4\n",
    "                    DETECTOR rec[-1]\n",
    "                    TICK\n",
    "                    \"\"\"\n",
    "\n",
    "C3 = \"\"\"CNOT 2 1\\nDEPOLARIZE2({}) 2 1\\n\n",
    "                    M 1\n",
    "                    DETECTOR rec[-1]\n",
    "                    TICK\n",
    "                    \"\"\"\n",
    "\n",
    "C4 = \"\"\"CNOT 3 1\\nDEPOLARIZE2({}) 3 1\\n\n",
    "                    M 1\n",
    "                    DETECTOR rec[-1]\n",
    "                    TICK\n",
    "                    \"\"\""
   ]
  },
  {
   "cell_type": "code",
   "execution_count": 8,
   "id": "1787bef5",
   "metadata": {},
   "outputs": [],
   "source": [
    "c3 = node(C3)\n",
    "c3.zero = '0'\n",
    "c3.one = '1'\n",
    "\n",
    "c4 = node(C4)\n",
    "c4.zero = '0'\n",
    "c4.one = '1'\n",
    "\n",
    "c2 = node(C2)\n",
    "c2.zero = '0'\n",
    "c2.one = c3\n",
    "\n",
    "c1 = node(C1)\n",
    "c1.zero = c4\n",
    "c1.one = c2"
   ]
  },
  {
   "cell_type": "code",
   "execution_count": 12,
   "id": "76b43200",
   "metadata": {},
   "outputs": [
    {
     "data": {
      "image/svg+xml": [
       "<svg viewBox=\"0 0 1888 416\"  version=\"1.1\" xmlns=\"http://www.w3.org/2000/svg\">\n",
       "<g id=\"qubit_lines\">\n",
       "<path id=\"qubit_line:0\" d=\"M64,64 L1856,64 \" stroke=\"black\"/>\n",
       "<text dominant-baseline=\"central\" text-anchor=\"end\" font-family=\"monospace\" font-size=\"12\" x=\"64\" y=\"64\">q0</text>\n",
       "<path id=\"qubit_line:1\" d=\"M64,128 L1856,128 \" stroke=\"black\"/>\n",
       "<text dominant-baseline=\"central\" text-anchor=\"end\" font-family=\"monospace\" font-size=\"12\" x=\"64\" y=\"128\">q1</text>\n",
       "<path id=\"qubit_line:2\" d=\"M64,192 L1856,192 \" stroke=\"black\"/>\n",
       "<text dominant-baseline=\"central\" text-anchor=\"end\" font-family=\"monospace\" font-size=\"12\" x=\"64\" y=\"192\">q2</text>\n",
       "<path id=\"qubit_line:3\" d=\"M64,256 L1856,256 \" stroke=\"black\"/>\n",
       "<text dominant-baseline=\"central\" text-anchor=\"end\" font-family=\"monospace\" font-size=\"12\" x=\"64\" y=\"256\">q3</text>\n",
       "<path id=\"qubit_line:4\" d=\"M64,320 L1856,320 \" stroke=\"black\"/>\n",
       "<text dominant-baseline=\"central\" text-anchor=\"end\" font-family=\"monospace\" font-size=\"12\" x=\"64\" y=\"320\">q4</text>\n",
       "</g>\n",
       "<rect x=\"80\" y=\"48\" width=\"32\" height=\"32\" stroke=\"black\" fill=\"white\"/>\n",
       "<text dominant-baseline=\"central\" text-anchor=\"middle\" font-family=\"monospace\" font-size=\"30\" x=\"96\" y=\"64\">X</text>\n",
       "<rect x=\"80\" y=\"176\" width=\"32\" height=\"32\" stroke=\"black\" fill=\"white\"/>\n",
       "<text dominant-baseline=\"central\" text-anchor=\"middle\" font-family=\"monospace\" font-size=\"30\" x=\"96\" y=\"192\">X</text>\n",
       "<rect x=\"80\" y=\"240\" width=\"32\" height=\"32\" stroke=\"black\" fill=\"white\"/>\n",
       "<text dominant-baseline=\"central\" text-anchor=\"middle\" font-family=\"monospace\" font-size=\"30\" x=\"96\" y=\"256\">X</text>\n",
       "<rect x=\"144\" y=\"48\" width=\"32\" height=\"32\" stroke=\"black\" fill=\"pink\"/>\n",
       "<text dominant-baseline=\"central\" text-anchor=\"middle\" font-family=\"monospace\" font-size=\"12\" x=\"160\" y=\"64\">DEP<tspan baseline-shift=\"sub\" font-size=\"10\">1</tspan></text>\n",
       "<text dominant-baseline=\"hanging\" text-anchor=\"middle\" font-family=\"monospace\" font-size=\"10\" stroke=\"red\" x=\"160\" y=\"84\">0.1</text>\n",
       "<rect x=\"144\" y=\"176\" width=\"32\" height=\"32\" stroke=\"black\" fill=\"pink\"/>\n",
       "<text dominant-baseline=\"central\" text-anchor=\"middle\" font-family=\"monospace\" font-size=\"12\" x=\"160\" y=\"192\">DEP<tspan baseline-shift=\"sub\" font-size=\"10\">1</tspan></text>\n",
       "<text dominant-baseline=\"hanging\" text-anchor=\"middle\" font-family=\"monospace\" font-size=\"10\" stroke=\"red\" x=\"160\" y=\"212\">0.1</text>\n",
       "<rect x=\"144\" y=\"240\" width=\"32\" height=\"32\" stroke=\"black\" fill=\"pink\"/>\n",
       "<text dominant-baseline=\"central\" text-anchor=\"middle\" font-family=\"monospace\" font-size=\"12\" x=\"160\" y=\"256\">DEP<tspan baseline-shift=\"sub\" font-size=\"10\">1</tspan></text>\n",
       "<text dominant-baseline=\"hanging\" text-anchor=\"middle\" font-family=\"monospace\" font-size=\"10\" stroke=\"red\" x=\"160\" y=\"276\">0.1</text>\n",
       "<path d=\"M224,64 L224,256 \" stroke=\"black\"/>\n",
       "<circle cx=\"224\" cy=\"64\" r=\"12\" stroke=\"none\" fill=\"black\"/>\n",
       "<circle cx=\"224\" cy=\"256\" r=\"12\" stroke=\"black\" fill=\"white\"/>\n",
       "<path d=\"M212,256 L236,256 M224,244 L224,268 \" stroke=\"black\"/>\n",
       "<path d=\"M288,64 L288,256 \" stroke=\"black\"/>\n",
       "<rect x=\"272\" y=\"48\" width=\"32\" height=\"32\" stroke=\"black\" fill=\"pink\"/>\n",
       "<text dominant-baseline=\"central\" text-anchor=\"middle\" font-family=\"monospace\" font-size=\"12\" x=\"288\" y=\"64\">DEP<tspan baseline-shift=\"sub\" font-size=\"10\">2</tspan></text>\n",
       "<rect x=\"272\" y=\"240\" width=\"32\" height=\"32\" stroke=\"black\" fill=\"pink\"/>\n",
       "<text dominant-baseline=\"central\" text-anchor=\"middle\" font-family=\"monospace\" font-size=\"12\" x=\"288\" y=\"256\">DEP<tspan baseline-shift=\"sub\" font-size=\"10\">2</tspan></text>\n",
       "<text dominant-baseline=\"hanging\" text-anchor=\"middle\" font-family=\"monospace\" font-size=\"10\" stroke=\"red\" x=\"288\" y=\"276\">0.1</text>\n",
       "<rect x=\"336\" y=\"240\" width=\"32\" height=\"32\" stroke=\"black\" fill=\"black\"/>\n",
       "<text dominant-baseline=\"central\" text-anchor=\"middle\" font-family=\"monospace\" font-size=\"30\" x=\"352\" y=\"256\" fill=\"white\">M</text>\n",
       "<text text-anchor=\"middle\" font-family=\"monospace\" font-size=\"8\" x=\"352\" y=\"236\">rec[0]</text>\n",
       "<rect x=\"400\" y=\"240\" width=\"160\" height=\"32\" stroke=\"black\" fill=\"lightgray\"/>\n",
       "<text dominant-baseline=\"central\" text-anchor=\"middle\" font-family=\"monospace\" font-size=\"16\" x=\"480\" y=\"256\">DETECTOR</text>\n",
       "<text text-anchor=\"middle\" font-family=\"monospace\" font-size=\"8\" x=\"480\" y=\"236\">D0 = rec[0]</text>\n",
       "<path d=\"M68,40 L68,32 L572,32 L572,40 \" stroke=\"black\" fill=\"none\"/>\n",
       "<path d=\"M68,376 L68,384 L572,384 L572,376 \" stroke=\"black\" fill=\"none\"/>\n",
       "<path d=\"M608,64 L608,192 \" stroke=\"black\"/>\n",
       "<circle cx=\"608\" cy=\"64\" r=\"12\" stroke=\"none\" fill=\"black\"/>\n",
       "<circle cx=\"608\" cy=\"192\" r=\"12\" stroke=\"black\" fill=\"white\"/>\n",
       "<path d=\"M596,192 L620,192 M608,180 L608,204 \" stroke=\"black\"/>\n",
       "<path d=\"M672,64 L672,192 \" stroke=\"black\"/>\n",
       "<rect x=\"656\" y=\"48\" width=\"32\" height=\"32\" stroke=\"black\" fill=\"pink\"/>\n",
       "<text dominant-baseline=\"central\" text-anchor=\"middle\" font-family=\"monospace\" font-size=\"12\" x=\"672\" y=\"64\">DEP<tspan baseline-shift=\"sub\" font-size=\"10\">2</tspan></text>\n",
       "<rect x=\"656\" y=\"176\" width=\"32\" height=\"32\" stroke=\"black\" fill=\"pink\"/>\n",
       "<text dominant-baseline=\"central\" text-anchor=\"middle\" font-family=\"monospace\" font-size=\"12\" x=\"672\" y=\"192\">DEP<tspan baseline-shift=\"sub\" font-size=\"10\">2</tspan></text>\n",
       "<text dominant-baseline=\"hanging\" text-anchor=\"middle\" font-family=\"monospace\" font-size=\"10\" stroke=\"red\" x=\"672\" y=\"212\">0.1</text>\n",
       "<rect x=\"720\" y=\"176\" width=\"32\" height=\"32\" stroke=\"black\" fill=\"white\"/>\n",
       "<text dominant-baseline=\"central\" text-anchor=\"middle\" font-family=\"monospace\" font-size=\"30\" x=\"736\" y=\"192\">H</text>\n",
       "<rect x=\"720\" y=\"240\" width=\"32\" height=\"32\" stroke=\"black\" fill=\"white\"/>\n",
       "<text dominant-baseline=\"central\" text-anchor=\"middle\" font-family=\"monospace\" font-size=\"30\" x=\"736\" y=\"256\">H</text>\n",
       "<rect x=\"784\" y=\"176\" width=\"32\" height=\"32\" stroke=\"black\" fill=\"pink\"/>\n",
       "<text dominant-baseline=\"central\" text-anchor=\"middle\" font-family=\"monospace\" font-size=\"12\" x=\"800\" y=\"192\">DEP<tspan baseline-shift=\"sub\" font-size=\"10\">1</tspan></text>\n",
       "<text dominant-baseline=\"hanging\" text-anchor=\"middle\" font-family=\"monospace\" font-size=\"10\" stroke=\"red\" x=\"800\" y=\"212\">0.1</text>\n",
       "<rect x=\"784\" y=\"240\" width=\"32\" height=\"32\" stroke=\"black\" fill=\"pink\"/>\n",
       "<text dominant-baseline=\"central\" text-anchor=\"middle\" font-family=\"monospace\" font-size=\"12\" x=\"800\" y=\"256\">DEP<tspan baseline-shift=\"sub\" font-size=\"10\">1</tspan></text>\n",
       "<text dominant-baseline=\"hanging\" text-anchor=\"middle\" font-family=\"monospace\" font-size=\"10\" stroke=\"red\" x=\"800\" y=\"276\">0.1</text>\n",
       "<path d=\"M864,256 L864,320 \" stroke=\"black\"/>\n",
       "<circle cx=\"864\" cy=\"320\" r=\"12\" stroke=\"none\" fill=\"black\"/>\n",
       "<circle cx=\"864\" cy=\"256\" r=\"12\" stroke=\"black\" fill=\"white\"/>\n",
       "<path d=\"M852,256 L876,256 M864,244 L864,268 \" stroke=\"black\"/>\n",
       "<path d=\"M928,256 L928,320 \" stroke=\"black\"/>\n",
       "<rect x=\"912\" y=\"304\" width=\"32\" height=\"32\" stroke=\"black\" fill=\"pink\"/>\n",
       "<text dominant-baseline=\"central\" text-anchor=\"middle\" font-family=\"monospace\" font-size=\"12\" x=\"928\" y=\"320\">DEP<tspan baseline-shift=\"sub\" font-size=\"10\">2</tspan></text>\n",
       "<text dominant-baseline=\"hanging\" text-anchor=\"middle\" font-family=\"monospace\" font-size=\"10\" stroke=\"red\" x=\"928\" y=\"340\">0.1</text>\n",
       "<rect x=\"912\" y=\"240\" width=\"32\" height=\"32\" stroke=\"black\" fill=\"pink\"/>\n",
       "<text dominant-baseline=\"central\" text-anchor=\"middle\" font-family=\"monospace\" font-size=\"12\" x=\"928\" y=\"256\">DEP<tspan baseline-shift=\"sub\" font-size=\"10\">2</tspan></text>\n",
       "<rect x=\"912\" y=\"176\" width=\"32\" height=\"32\" stroke=\"black\" fill=\"white\"/>\n",
       "<text dominant-baseline=\"central\" text-anchor=\"middle\" font-family=\"monospace\" font-size=\"30\" x=\"928\" y=\"192\">H</text>\n",
       "<rect x=\"976\" y=\"240\" width=\"32\" height=\"32\" stroke=\"black\" fill=\"white\"/>\n",
       "<text dominant-baseline=\"central\" text-anchor=\"middle\" font-family=\"monospace\" font-size=\"30\" x=\"992\" y=\"256\">H</text>\n",
       "<rect x=\"976\" y=\"176\" width=\"32\" height=\"32\" stroke=\"black\" fill=\"pink\"/>\n",
       "<text dominant-baseline=\"central\" text-anchor=\"middle\" font-family=\"monospace\" font-size=\"12\" x=\"992\" y=\"192\">DEP<tspan baseline-shift=\"sub\" font-size=\"10\">1</tspan></text>\n",
       "<text dominant-baseline=\"hanging\" text-anchor=\"middle\" font-family=\"monospace\" font-size=\"10\" stroke=\"red\" x=\"992\" y=\"212\">0.1</text>\n",
       "<rect x=\"1040\" y=\"240\" width=\"32\" height=\"32\" stroke=\"black\" fill=\"pink\"/>\n",
       "<text dominant-baseline=\"central\" text-anchor=\"middle\" font-family=\"monospace\" font-size=\"12\" x=\"1056\" y=\"256\">DEP<tspan baseline-shift=\"sub\" font-size=\"10\">1</tspan></text>\n",
       "<text dominant-baseline=\"hanging\" text-anchor=\"middle\" font-family=\"monospace\" font-size=\"10\" stroke=\"red\" x=\"1056\" y=\"276\">0.1</text>\n",
       "<path d=\"M1120,192 L1120,320 \" stroke=\"black\"/>\n",
       "<circle cx=\"1120\" cy=\"192\" r=\"12\" stroke=\"none\" fill=\"black\"/>\n",
       "<circle cx=\"1120\" cy=\"320\" r=\"12\" stroke=\"black\" fill=\"white\"/>\n",
       "<path d=\"M1108,320 L1132,320 M1120,308 L1120,332 \" stroke=\"black\"/>\n",
       "<path d=\"M1184,192 L1184,320 \" stroke=\"black\"/>\n",
       "<rect x=\"1168\" y=\"176\" width=\"32\" height=\"32\" stroke=\"black\" fill=\"pink\"/>\n",
       "<text dominant-baseline=\"central\" text-anchor=\"middle\" font-family=\"monospace\" font-size=\"12\" x=\"1184\" y=\"192\">DEP<tspan baseline-shift=\"sub\" font-size=\"10\">2</tspan></text>\n",
       "<rect x=\"1168\" y=\"304\" width=\"32\" height=\"32\" stroke=\"black\" fill=\"pink\"/>\n",
       "<text dominant-baseline=\"central\" text-anchor=\"middle\" font-family=\"monospace\" font-size=\"12\" x=\"1184\" y=\"320\">DEP<tspan baseline-shift=\"sub\" font-size=\"10\">2</tspan></text>\n",
       "<text dominant-baseline=\"hanging\" text-anchor=\"middle\" font-family=\"monospace\" font-size=\"10\" stroke=\"red\" x=\"1184\" y=\"340\">0.1</text>\n",
       "<rect x=\"1232\" y=\"304\" width=\"32\" height=\"32\" stroke=\"black\" fill=\"black\"/>\n",
       "<text dominant-baseline=\"central\" text-anchor=\"middle\" font-family=\"monospace\" font-size=\"30\" x=\"1248\" y=\"320\" fill=\"white\">M</text>\n",
       "<text text-anchor=\"middle\" font-family=\"monospace\" font-size=\"8\" x=\"1248\" y=\"300\">rec[1]</text>\n",
       "<rect x=\"1296\" y=\"304\" width=\"160\" height=\"32\" stroke=\"black\" fill=\"lightgray\"/>\n",
       "<text dominant-baseline=\"central\" text-anchor=\"middle\" font-family=\"monospace\" font-size=\"16\" x=\"1376\" y=\"320\">DETECTOR</text>\n",
       "<text text-anchor=\"middle\" font-family=\"monospace\" font-size=\"8\" x=\"1376\" y=\"300\">D1 = rec[1]</text>\n",
       "<path d=\"M580,40 L580,32 L1468,32 L1468,40 \" stroke=\"black\" fill=\"none\"/>\n",
       "<path d=\"M580,376 L580,384 L1468,384 L1468,376 \" stroke=\"black\" fill=\"none\"/>\n",
       "<path d=\"M1504,128 L1504,192 \" stroke=\"black\"/>\n",
       "<circle cx=\"1504\" cy=\"192\" r=\"12\" stroke=\"none\" fill=\"black\"/>\n",
       "<circle cx=\"1504\" cy=\"128\" r=\"12\" stroke=\"black\" fill=\"white\"/>\n",
       "<path d=\"M1492,128 L1516,128 M1504,116 L1504,140 \" stroke=\"black\"/>\n",
       "<path d=\"M1568,128 L1568,192 \" stroke=\"black\"/>\n",
       "<rect x=\"1552\" y=\"176\" width=\"32\" height=\"32\" stroke=\"black\" fill=\"pink\"/>\n",
       "<text dominant-baseline=\"central\" text-anchor=\"middle\" font-family=\"monospace\" font-size=\"12\" x=\"1568\" y=\"192\">DEP<tspan baseline-shift=\"sub\" font-size=\"10\">2</tspan></text>\n",
       "<text dominant-baseline=\"hanging\" text-anchor=\"middle\" font-family=\"monospace\" font-size=\"10\" stroke=\"red\" x=\"1568\" y=\"212\">0.1</text>\n",
       "<rect x=\"1552\" y=\"112\" width=\"32\" height=\"32\" stroke=\"black\" fill=\"pink\"/>\n",
       "<text dominant-baseline=\"central\" text-anchor=\"middle\" font-family=\"monospace\" font-size=\"12\" x=\"1568\" y=\"128\">DEP<tspan baseline-shift=\"sub\" font-size=\"10\">2</tspan></text>\n",
       "<rect x=\"1616\" y=\"112\" width=\"32\" height=\"32\" stroke=\"black\" fill=\"black\"/>\n",
       "<text dominant-baseline=\"central\" text-anchor=\"middle\" font-family=\"monospace\" font-size=\"30\" x=\"1632\" y=\"128\" fill=\"white\">M</text>\n",
       "<text text-anchor=\"middle\" font-family=\"monospace\" font-size=\"8\" x=\"1632\" y=\"108\">rec[2]</text>\n",
       "<rect x=\"1680\" y=\"112\" width=\"160\" height=\"32\" stroke=\"black\" fill=\"lightgray\"/>\n",
       "<text dominant-baseline=\"central\" text-anchor=\"middle\" font-family=\"monospace\" font-size=\"16\" x=\"1760\" y=\"128\">DETECTOR</text>\n",
       "<text text-anchor=\"middle\" font-family=\"monospace\" font-size=\"8\" x=\"1760\" y=\"108\">D2 = rec[2]</text>\n",
       "<path d=\"M1476,40 L1476,32 L1852,32 L1852,40 \" stroke=\"black\" fill=\"none\"/>\n",
       "<path d=\"M1476,376 L1476,384 L1852,384 L1852,376 \" stroke=\"black\" fill=\"none\"/>\n",
       "</svg>"
      ],
      "text/plain": [
       "<svg viewBox=\"0 0 1888 416\"  version=\"1.1\" xmlns=\"http://www.w3.org/2000/svg\">\n",
       "<g id=\"qubit_lines\">\n",
       "<path id=\"qubit_line:0\" d=\"M64,64 L1856,64 \" stroke=\"black\"/>\n",
       "<text dominant-baseline=\"central\" text-anchor=\"end\" font-family=\"monospace\" font-size=\"12\" x=\"64\" y=\"64\">q0</text>\n",
       "<path id=\"qubit_line:1\" d=\"M64,128 L1856,128 \" stroke=\"black\"/>\n",
       "<text dominant-baseline=\"central\" text-anchor=\"end\" font-family=\"monospace\" font-size=\"12\" x=\"64\" y=\"128\">q1</text>\n",
       "<path id=\"qubit_line:2\" d=\"M64,192 L1856,192 \" stroke=\"black\"/>\n",
       "<text dominant-baseline=\"central\" text-anchor=\"end\" font-family=\"monospace\" font-size=\"12\" x=\"64\" y=\"192\">q2</text>\n",
       "<path id=\"qubit_line:3\" d=\"M64,256 L1856,256 \" stroke=\"black\"/>\n",
       "<text dominant-baseline=\"central\" text-anchor=\"end\" font-family=\"monospace\" font-size=\"12\" x=\"64\" y=\"256\">q3</text>\n",
       "<path id=\"qubit_line:4\" d=\"M64,320 L1856,320 \" stroke=\"black\"/>\n",
       "<text dominant-baseline=\"central\" text-anchor=\"end\" font-family=\"monospace\" font-size=\"12\" x=\"64\" y=\"320\">q4</text>\n",
       "</g>\n",
       "<rect x=\"80\" y=\"48\" width=\"32\" height=\"32\" stroke=\"black\" fill=\"white\"/>\n",
       "<text dominant-baseline=\"central\" text-anchor=\"middle\" font-family=\"monospace\" font-size=\"30\" x=\"96\" y=\"64\">X</text>\n",
       "<rect x=\"80\" y=\"176\" width=\"32\" height=\"32\" stroke=\"black\" fill=\"white\"/>\n",
       "<text dominant-baseline=\"central\" text-anchor=\"middle\" font-family=\"monospace\" font-size=\"30\" x=\"96\" y=\"192\">X</text>\n",
       "<rect x=\"80\" y=\"240\" width=\"32\" height=\"32\" stroke=\"black\" fill=\"white\"/>\n",
       "<text dominant-baseline=\"central\" text-anchor=\"middle\" font-family=\"monospace\" font-size=\"30\" x=\"96\" y=\"256\">X</text>\n",
       "<rect x=\"144\" y=\"48\" width=\"32\" height=\"32\" stroke=\"black\" fill=\"pink\"/>\n",
       "<text dominant-baseline=\"central\" text-anchor=\"middle\" font-family=\"monospace\" font-size=\"12\" x=\"160\" y=\"64\">DEP<tspan baseline-shift=\"sub\" font-size=\"10\">1</tspan></text>\n",
       "<text dominant-baseline=\"hanging\" text-anchor=\"middle\" font-family=\"monospace\" font-size=\"10\" stroke=\"red\" x=\"160\" y=\"84\">0.1</text>\n",
       "<rect x=\"144\" y=\"176\" width=\"32\" height=\"32\" stroke=\"black\" fill=\"pink\"/>\n",
       "<text dominant-baseline=\"central\" text-anchor=\"middle\" font-family=\"monospace\" font-size=\"12\" x=\"160\" y=\"192\">DEP<tspan baseline-shift=\"sub\" font-size=\"10\">1</tspan></text>\n",
       "<text dominant-baseline=\"hanging\" text-anchor=\"middle\" font-family=\"monospace\" font-size=\"10\" stroke=\"red\" x=\"160\" y=\"212\">0.1</text>\n",
       "<rect x=\"144\" y=\"240\" width=\"32\" height=\"32\" stroke=\"black\" fill=\"pink\"/>\n",
       "<text dominant-baseline=\"central\" text-anchor=\"middle\" font-family=\"monospace\" font-size=\"12\" x=\"160\" y=\"256\">DEP<tspan baseline-shift=\"sub\" font-size=\"10\">1</tspan></text>\n",
       "<text dominant-baseline=\"hanging\" text-anchor=\"middle\" font-family=\"monospace\" font-size=\"10\" stroke=\"red\" x=\"160\" y=\"276\">0.1</text>\n",
       "<path d=\"M224,64 L224,256 \" stroke=\"black\"/>\n",
       "<circle cx=\"224\" cy=\"64\" r=\"12\" stroke=\"none\" fill=\"black\"/>\n",
       "<circle cx=\"224\" cy=\"256\" r=\"12\" stroke=\"black\" fill=\"white\"/>\n",
       "<path d=\"M212,256 L236,256 M224,244 L224,268 \" stroke=\"black\"/>\n",
       "<path d=\"M288,64 L288,256 \" stroke=\"black\"/>\n",
       "<rect x=\"272\" y=\"48\" width=\"32\" height=\"32\" stroke=\"black\" fill=\"pink\"/>\n",
       "<text dominant-baseline=\"central\" text-anchor=\"middle\" font-family=\"monospace\" font-size=\"12\" x=\"288\" y=\"64\">DEP<tspan baseline-shift=\"sub\" font-size=\"10\">2</tspan></text>\n",
       "<rect x=\"272\" y=\"240\" width=\"32\" height=\"32\" stroke=\"black\" fill=\"pink\"/>\n",
       "<text dominant-baseline=\"central\" text-anchor=\"middle\" font-family=\"monospace\" font-size=\"12\" x=\"288\" y=\"256\">DEP<tspan baseline-shift=\"sub\" font-size=\"10\">2</tspan></text>\n",
       "<text dominant-baseline=\"hanging\" text-anchor=\"middle\" font-family=\"monospace\" font-size=\"10\" stroke=\"red\" x=\"288\" y=\"276\">0.1</text>\n",
       "<rect x=\"336\" y=\"240\" width=\"32\" height=\"32\" stroke=\"black\" fill=\"black\"/>\n",
       "<text dominant-baseline=\"central\" text-anchor=\"middle\" font-family=\"monospace\" font-size=\"30\" x=\"352\" y=\"256\" fill=\"white\">M</text>\n",
       "<text text-anchor=\"middle\" font-family=\"monospace\" font-size=\"8\" x=\"352\" y=\"236\">rec[0]</text>\n",
       "<rect x=\"400\" y=\"240\" width=\"160\" height=\"32\" stroke=\"black\" fill=\"lightgray\"/>\n",
       "<text dominant-baseline=\"central\" text-anchor=\"middle\" font-family=\"monospace\" font-size=\"16\" x=\"480\" y=\"256\">DETECTOR</text>\n",
       "<text text-anchor=\"middle\" font-family=\"monospace\" font-size=\"8\" x=\"480\" y=\"236\">D0 = rec[0]</text>\n",
       "<path d=\"M68,40 L68,32 L572,32 L572,40 \" stroke=\"black\" fill=\"none\"/>\n",
       "<path d=\"M68,376 L68,384 L572,384 L572,376 \" stroke=\"black\" fill=\"none\"/>\n",
       "<path d=\"M608,64 L608,192 \" stroke=\"black\"/>\n",
       "<circle cx=\"608\" cy=\"64\" r=\"12\" stroke=\"none\" fill=\"black\"/>\n",
       "<circle cx=\"608\" cy=\"192\" r=\"12\" stroke=\"black\" fill=\"white\"/>\n",
       "<path d=\"M596,192 L620,192 M608,180 L608,204 \" stroke=\"black\"/>\n",
       "<path d=\"M672,64 L672,192 \" stroke=\"black\"/>\n",
       "<rect x=\"656\" y=\"48\" width=\"32\" height=\"32\" stroke=\"black\" fill=\"pink\"/>\n",
       "<text dominant-baseline=\"central\" text-anchor=\"middle\" font-family=\"monospace\" font-size=\"12\" x=\"672\" y=\"64\">DEP<tspan baseline-shift=\"sub\" font-size=\"10\">2</tspan></text>\n",
       "<rect x=\"656\" y=\"176\" width=\"32\" height=\"32\" stroke=\"black\" fill=\"pink\"/>\n",
       "<text dominant-baseline=\"central\" text-anchor=\"middle\" font-family=\"monospace\" font-size=\"12\" x=\"672\" y=\"192\">DEP<tspan baseline-shift=\"sub\" font-size=\"10\">2</tspan></text>\n",
       "<text dominant-baseline=\"hanging\" text-anchor=\"middle\" font-family=\"monospace\" font-size=\"10\" stroke=\"red\" x=\"672\" y=\"212\">0.1</text>\n",
       "<rect x=\"720\" y=\"176\" width=\"32\" height=\"32\" stroke=\"black\" fill=\"white\"/>\n",
       "<text dominant-baseline=\"central\" text-anchor=\"middle\" font-family=\"monospace\" font-size=\"30\" x=\"736\" y=\"192\">H</text>\n",
       "<rect x=\"720\" y=\"240\" width=\"32\" height=\"32\" stroke=\"black\" fill=\"white\"/>\n",
       "<text dominant-baseline=\"central\" text-anchor=\"middle\" font-family=\"monospace\" font-size=\"30\" x=\"736\" y=\"256\">H</text>\n",
       "<rect x=\"784\" y=\"176\" width=\"32\" height=\"32\" stroke=\"black\" fill=\"pink\"/>\n",
       "<text dominant-baseline=\"central\" text-anchor=\"middle\" font-family=\"monospace\" font-size=\"12\" x=\"800\" y=\"192\">DEP<tspan baseline-shift=\"sub\" font-size=\"10\">1</tspan></text>\n",
       "<text dominant-baseline=\"hanging\" text-anchor=\"middle\" font-family=\"monospace\" font-size=\"10\" stroke=\"red\" x=\"800\" y=\"212\">0.1</text>\n",
       "<rect x=\"784\" y=\"240\" width=\"32\" height=\"32\" stroke=\"black\" fill=\"pink\"/>\n",
       "<text dominant-baseline=\"central\" text-anchor=\"middle\" font-family=\"monospace\" font-size=\"12\" x=\"800\" y=\"256\">DEP<tspan baseline-shift=\"sub\" font-size=\"10\">1</tspan></text>\n",
       "<text dominant-baseline=\"hanging\" text-anchor=\"middle\" font-family=\"monospace\" font-size=\"10\" stroke=\"red\" x=\"800\" y=\"276\">0.1</text>\n",
       "<path d=\"M864,256 L864,320 \" stroke=\"black\"/>\n",
       "<circle cx=\"864\" cy=\"320\" r=\"12\" stroke=\"none\" fill=\"black\"/>\n",
       "<circle cx=\"864\" cy=\"256\" r=\"12\" stroke=\"black\" fill=\"white\"/>\n",
       "<path d=\"M852,256 L876,256 M864,244 L864,268 \" stroke=\"black\"/>\n",
       "<path d=\"M928,256 L928,320 \" stroke=\"black\"/>\n",
       "<rect x=\"912\" y=\"304\" width=\"32\" height=\"32\" stroke=\"black\" fill=\"pink\"/>\n",
       "<text dominant-baseline=\"central\" text-anchor=\"middle\" font-family=\"monospace\" font-size=\"12\" x=\"928\" y=\"320\">DEP<tspan baseline-shift=\"sub\" font-size=\"10\">2</tspan></text>\n",
       "<text dominant-baseline=\"hanging\" text-anchor=\"middle\" font-family=\"monospace\" font-size=\"10\" stroke=\"red\" x=\"928\" y=\"340\">0.1</text>\n",
       "<rect x=\"912\" y=\"240\" width=\"32\" height=\"32\" stroke=\"black\" fill=\"pink\"/>\n",
       "<text dominant-baseline=\"central\" text-anchor=\"middle\" font-family=\"monospace\" font-size=\"12\" x=\"928\" y=\"256\">DEP<tspan baseline-shift=\"sub\" font-size=\"10\">2</tspan></text>\n",
       "<rect x=\"912\" y=\"176\" width=\"32\" height=\"32\" stroke=\"black\" fill=\"white\"/>\n",
       "<text dominant-baseline=\"central\" text-anchor=\"middle\" font-family=\"monospace\" font-size=\"30\" x=\"928\" y=\"192\">H</text>\n",
       "<rect x=\"976\" y=\"240\" width=\"32\" height=\"32\" stroke=\"black\" fill=\"white\"/>\n",
       "<text dominant-baseline=\"central\" text-anchor=\"middle\" font-family=\"monospace\" font-size=\"30\" x=\"992\" y=\"256\">H</text>\n",
       "<rect x=\"976\" y=\"176\" width=\"32\" height=\"32\" stroke=\"black\" fill=\"pink\"/>\n",
       "<text dominant-baseline=\"central\" text-anchor=\"middle\" font-family=\"monospace\" font-size=\"12\" x=\"992\" y=\"192\">DEP<tspan baseline-shift=\"sub\" font-size=\"10\">1</tspan></text>\n",
       "<text dominant-baseline=\"hanging\" text-anchor=\"middle\" font-family=\"monospace\" font-size=\"10\" stroke=\"red\" x=\"992\" y=\"212\">0.1</text>\n",
       "<rect x=\"1040\" y=\"240\" width=\"32\" height=\"32\" stroke=\"black\" fill=\"pink\"/>\n",
       "<text dominant-baseline=\"central\" text-anchor=\"middle\" font-family=\"monospace\" font-size=\"12\" x=\"1056\" y=\"256\">DEP<tspan baseline-shift=\"sub\" font-size=\"10\">1</tspan></text>\n",
       "<text dominant-baseline=\"hanging\" text-anchor=\"middle\" font-family=\"monospace\" font-size=\"10\" stroke=\"red\" x=\"1056\" y=\"276\">0.1</text>\n",
       "<path d=\"M1120,192 L1120,320 \" stroke=\"black\"/>\n",
       "<circle cx=\"1120\" cy=\"192\" r=\"12\" stroke=\"none\" fill=\"black\"/>\n",
       "<circle cx=\"1120\" cy=\"320\" r=\"12\" stroke=\"black\" fill=\"white\"/>\n",
       "<path d=\"M1108,320 L1132,320 M1120,308 L1120,332 \" stroke=\"black\"/>\n",
       "<path d=\"M1184,192 L1184,320 \" stroke=\"black\"/>\n",
       "<rect x=\"1168\" y=\"176\" width=\"32\" height=\"32\" stroke=\"black\" fill=\"pink\"/>\n",
       "<text dominant-baseline=\"central\" text-anchor=\"middle\" font-family=\"monospace\" font-size=\"12\" x=\"1184\" y=\"192\">DEP<tspan baseline-shift=\"sub\" font-size=\"10\">2</tspan></text>\n",
       "<rect x=\"1168\" y=\"304\" width=\"32\" height=\"32\" stroke=\"black\" fill=\"pink\"/>\n",
       "<text dominant-baseline=\"central\" text-anchor=\"middle\" font-family=\"monospace\" font-size=\"12\" x=\"1184\" y=\"320\">DEP<tspan baseline-shift=\"sub\" font-size=\"10\">2</tspan></text>\n",
       "<text dominant-baseline=\"hanging\" text-anchor=\"middle\" font-family=\"monospace\" font-size=\"10\" stroke=\"red\" x=\"1184\" y=\"340\">0.1</text>\n",
       "<rect x=\"1232\" y=\"304\" width=\"32\" height=\"32\" stroke=\"black\" fill=\"black\"/>\n",
       "<text dominant-baseline=\"central\" text-anchor=\"middle\" font-family=\"monospace\" font-size=\"30\" x=\"1248\" y=\"320\" fill=\"white\">M</text>\n",
       "<text text-anchor=\"middle\" font-family=\"monospace\" font-size=\"8\" x=\"1248\" y=\"300\">rec[1]</text>\n",
       "<rect x=\"1296\" y=\"304\" width=\"160\" height=\"32\" stroke=\"black\" fill=\"lightgray\"/>\n",
       "<text dominant-baseline=\"central\" text-anchor=\"middle\" font-family=\"monospace\" font-size=\"16\" x=\"1376\" y=\"320\">DETECTOR</text>\n",
       "<text text-anchor=\"middle\" font-family=\"monospace\" font-size=\"8\" x=\"1376\" y=\"300\">D1 = rec[1]</text>\n",
       "<path d=\"M580,40 L580,32 L1468,32 L1468,40 \" stroke=\"black\" fill=\"none\"/>\n",
       "<path d=\"M580,376 L580,384 L1468,384 L1468,376 \" stroke=\"black\" fill=\"none\"/>\n",
       "<path d=\"M1504,128 L1504,192 \" stroke=\"black\"/>\n",
       "<circle cx=\"1504\" cy=\"192\" r=\"12\" stroke=\"none\" fill=\"black\"/>\n",
       "<circle cx=\"1504\" cy=\"128\" r=\"12\" stroke=\"black\" fill=\"white\"/>\n",
       "<path d=\"M1492,128 L1516,128 M1504,116 L1504,140 \" stroke=\"black\"/>\n",
       "<path d=\"M1568,128 L1568,192 \" stroke=\"black\"/>\n",
       "<rect x=\"1552\" y=\"176\" width=\"32\" height=\"32\" stroke=\"black\" fill=\"pink\"/>\n",
       "<text dominant-baseline=\"central\" text-anchor=\"middle\" font-family=\"monospace\" font-size=\"12\" x=\"1568\" y=\"192\">DEP<tspan baseline-shift=\"sub\" font-size=\"10\">2</tspan></text>\n",
       "<text dominant-baseline=\"hanging\" text-anchor=\"middle\" font-family=\"monospace\" font-size=\"10\" stroke=\"red\" x=\"1568\" y=\"212\">0.1</text>\n",
       "<rect x=\"1552\" y=\"112\" width=\"32\" height=\"32\" stroke=\"black\" fill=\"pink\"/>\n",
       "<text dominant-baseline=\"central\" text-anchor=\"middle\" font-family=\"monospace\" font-size=\"12\" x=\"1568\" y=\"128\">DEP<tspan baseline-shift=\"sub\" font-size=\"10\">2</tspan></text>\n",
       "<rect x=\"1616\" y=\"112\" width=\"32\" height=\"32\" stroke=\"black\" fill=\"black\"/>\n",
       "<text dominant-baseline=\"central\" text-anchor=\"middle\" font-family=\"monospace\" font-size=\"30\" x=\"1632\" y=\"128\" fill=\"white\">M</text>\n",
       "<text text-anchor=\"middle\" font-family=\"monospace\" font-size=\"8\" x=\"1632\" y=\"108\">rec[2]</text>\n",
       "<rect x=\"1680\" y=\"112\" width=\"160\" height=\"32\" stroke=\"black\" fill=\"lightgray\"/>\n",
       "<text dominant-baseline=\"central\" text-anchor=\"middle\" font-family=\"monospace\" font-size=\"16\" x=\"1760\" y=\"128\">DETECTOR</text>\n",
       "<text text-anchor=\"middle\" font-family=\"monospace\" font-size=\"8\" x=\"1760\" y=\"108\">D2 = rec[2]</text>\n",
       "<path d=\"M1476,40 L1476,32 L1852,32 L1852,40 \" stroke=\"black\" fill=\"none\"/>\n",
       "<path d=\"M1476,376 L1476,384 L1852,384 L1852,376 \" stroke=\"black\" fill=\"none\"/>\n",
       "</svg>"
      ]
     },
     "execution_count": 12,
     "metadata": {},
     "output_type": "execute_result"
    }
   ],
   "source": [
    "i = 0.1\n",
    "circuit = stim.Circuit(c1.fail_paths()[1][0].format(i,i,i,i,i,i,i,i,i,i,i,i,i))\n",
    "circuit.diagram('timeline-svg')"
   ]
  },
  {
   "cell_type": "code",
   "execution_count": 13,
   "id": "866ec9c7",
   "metadata": {},
   "outputs": [
    {
     "name": "stdout",
     "output_type": "stream",
     "text": [
      "stim.DetectorErrorModel('''\n",
      "    error(0.0904293) D0\n",
      "    error(0.0904293) D0 D1 D2\n",
      "    error(0.0778271) D1\n",
      "    error(0.240251) D1 D2\n",
      "    error(0.0778271) D2\n",
      "''')\n"
     ]
    }
   ],
   "source": [
    "dem = circuit.detector_error_model()\n",
    "print(repr(dem))"
   ]
  },
  {
   "cell_type": "code",
   "execution_count": 10,
   "id": "94169956",
   "metadata": {},
   "outputs": [],
   "source": [
    "err_total = []\n",
    "begin = time.time()\n",
    "paths, circuits = c1.fail_paths()\n",
    "paths = [[int(x) for x in y] for y in paths]\n",
    "for i in q:\n",
    "    count = 0\n",
    "    for p in range(len(paths)):\n",
    "        circuit = stim.Circuit(circuits[p].format(i,i,i,i,i,i,i,i,i,i,i,i,i))\n",
    "        dem = circuit.detector_error_model()\n",
    "        errors, errloc = dem2matrices(repr(dem),len(paths[p]))\n",
    "        count+=error_rate(errors, errloc, paths[p])\n",
    "    err_total.append(count)\n",
    "end = time.time()\n",
    "stim_time = end-begin"
   ]
  },
  {
   "cell_type": "markdown",
   "id": "3655a9f3",
   "metadata": {},
   "source": [
    "# Comparison"
   ]
  },
  {
   "cell_type": "code",
   "execution_count": 17,
   "id": "78b4a274",
   "metadata": {},
   "outputs": [
    {
     "data": {
      "text/plain": [
       "<matplotlib.legend.Legend at 0x7fc200e24a30>"
      ]
     },
     "execution_count": 17,
     "metadata": {},
     "output_type": "execute_result"
    },
    {
     "data": {
      "image/png": "[encoded data removed]",
      "text/plain": [
       "<Figure size 432x288 with 1 Axes>"
      ]
     },
     "metadata": {
      "needs_background": "light"
     },
     "output_type": "display_data"
    }
   ],
   "source": [
    "plt.plot(q, ss_sam.stats()[0], label = 'qsample, up')\n",
    "plt.plot(q, ss_sam.stats()[2], label = 'qsample, down')\n",
    "plt.plot(q, err_total, label = 'stim')\n",
    "plt.xscale('log')\n",
    "plt.yscale('log')\n",
    "plt.legend()"
   ]
  },
  {
   "cell_type": "code",
   "execution_count": 18,
   "id": "60d8847c",
   "metadata": {},
   "outputs": [
    {
     "name": "stdout",
     "output_type": "stream",
     "text": [
      "QSample time: 0.513s\n",
      "STIM time: 0.00489s\n"
     ]
    }
   ],
   "source": [
    "print(\"QSample time: {:.3}s\".format(qsample_time))\n",
    "print(\"STIM time: {:.3}s\".format(stim_time))"
   ]
  },
  {
   "cell_type": "code",
   "execution_count": null,
   "id": "8442e3e1",
   "metadata": {},
   "outputs": [],
   "source": []
  }
 ],
 "metadata": {
  "kernelspec": {
   "display_name": "Python 3 (ipykernel)",
   "language": "python",
   "name": "python3"
  },
  "language_info": {
   "codemirror_mode": {
    "name": "ipython",
    "version": 3
   },
   "file_extension": ".py",
   "mimetype": "text/x-python",
   "name": "python",
   "nbconvert_exporter": "python",
   "pygments_lexer": "ipython3",
   "version": "3.9.12"
  }
 },
 "nbformat": 4,
 "nbformat_minor": 5
}
