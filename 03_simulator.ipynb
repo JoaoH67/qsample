{
 "cells": [
  {
   "cell_type": "code",
   "execution_count": null,
   "metadata": {},
   "outputs": [],
   "source": [
    "# default_exp simulator"
   ]
  },
  {
   "cell_type": "markdown",
   "metadata": {},
   "source": [
    "# Simulator\n",
    "\n",
    "> Interface for working with quantum state simulators."
   ]
  },
  {
   "cell_type": "code",
   "execution_count": null,
   "metadata": {},
   "outputs": [],
   "source": [
    "# hide\n",
    "from nbdev.showdoc import *"
   ]
  },
  {
   "cell_type": "code",
   "execution_count": null,
   "metadata": {},
   "outputs": [],
   "source": [
    "# export\n",
    "from qsam.nbtools import patch"
   ]
  },
  {
   "cell_type": "markdown",
   "metadata": {},
   "source": [
    "`Simulator` is a base class that all simulators will inherit from. It defines two methods `_apply_gate` and `run`, of which only the latter `run` method exposes the main functionality of a simulator in which we are interested in for applications."
   ]
  },
  {
   "cell_type": "code",
   "execution_count": null,
   "metadata": {},
   "outputs": [],
   "source": [
    "#export\n",
    "class Simulator:\n",
    "    \"\"\"Interface for quantum state simulation\"\"\"\n",
    "    def __init__(self, num_qubits):\n",
    "        self.n_qubits = num_qubits\n",
    "        \n",
    "    def _apply_gate(self, gate_symbol, qubits):\n",
    "        \"\"\"Apply a gate to the `qubits` of the current state.\"\"\"\n",
    "        gate = getattr(self, gate_symbol.lower())    \n",
    "        args = (qubits,) if type(qubits)==int else qubits\n",
    "        return gate(*args)\n",
    "    \n",
    "    def run(self, circuit, fault_circuit=None):\n",
    "        \"\"\"Apply gates in `circuit` sequentially to current state.\n",
    "        If `fault_circuit` is specified apply fault gates at end of each tick.\"\"\"\n",
    "        measurements = []\n",
    "        for tick_index, tick in enumerate(circuit):\n",
    "            if type(tick) == list:\n",
    "                for sub_tick in tick:\n",
    "                    res = self._apply_gate(*sub_tick)\n",
    "                    if res: measurements.append( (tick_index,res) )\n",
    "            elif type(tick) == tuple:\n",
    "                res = self._apply_gate(*tick)\n",
    "                if res: measurements.append( (tick_index,res) )\n",
    "\n",
    "            if fault_circuit:\n",
    "                fault_tick = fault_circuit[tick_index]\n",
    "                if fault_tick:\n",
    "                    if type(fault_tick) == list:\n",
    "                        for sub_fault_tick in fault_tick:\n",
    "                            self._apply_gate(*sub_fault_tick)\n",
    "                    elif type(fault_tick) == tuple:\n",
    "                        self._apply_gate(*fault_tick)\n",
    "        return measurements"
   ]
  },
  {
   "cell_type": "markdown",
   "metadata": {},
   "source": [
    "A quantum state simulation in the circuit model always consists of some representation of a quantum state and some gates (or a sequence of gates, i.e. a `Circuit`) we want to (sequentially) apply to this state. Which gates we can apply depends on the specific simulator we are using. Stabilizer simulators for instance do not include any continuous rotations, while state vector simulators do. Thus, we would expect our `Simulator` object to always yield an error when we try to apply gates to it which the simulator cannot simulate. Let's show this for our base simulator class which doesn't contain any gate definition so far, by making use of the `_apply_gate` method."
   ]
  },
  {
   "cell_type": "code",
   "execution_count": null,
   "metadata": {},
   "outputs": [
    {
     "data": {
      "text/markdown": [
       "<h4 id=\"Simulator._apply_gate\" class=\"doc_header\"><code>Simulator._apply_gate</code><a href=\"__main__.py#L7\" class=\"source_link\" style=\"float:right\">[source]</a></h4>\n",
       "\n",
       "> <code>Simulator._apply_gate</code>(**`gate_symbol`**, **`qubits`**)\n",
       "\n",
       "Apply a gate to the `qubits` of the current state."
      ],
      "text/plain": [
       "<IPython.core.display.Markdown object>"
      ]
     },
     "metadata": {},
     "output_type": "display_data"
    }
   ],
   "source": [
    "show_doc(Simulator._apply_gate)"
   ]
  },
  {
   "cell_type": "code",
   "execution_count": null,
   "metadata": {},
   "outputs": [
    {
     "name": "stdout",
     "output_type": "stream",
     "text": [
      "'Simulator' object has no attribute 'x'\n"
     ]
    }
   ],
   "source": [
    "s = Simulator(num_qubits=1)\n",
    "try:\n",
    "    s._apply_gate(\"X\", 0) \n",
    "except AttributeError as e:\n",
    "    print(e)"
   ]
  },
  {
   "cell_type": "markdown",
   "metadata": {},
   "source": [
    "As expected, we get an AttributeError, which means the class doesn't implement anything by the name of this gate (\"X\"). The way we are going to implement gates later in the simulators is by means of functions which may or may not return something (think measurements, which we treat in the same way as \"gates\" and for which we want to get some result back). Let's see what happens if we add a gate to our `Simulator` class and try to call it.  "
   ]
  },
  {
   "cell_type": "code",
   "execution_count": null,
   "metadata": {},
   "outputs": [],
   "source": [
    "@patch(Simulator)\n",
    "def x(self,qubit):\n",
    "    pass\n",
    "\n",
    "s = Simulator(num_qubits=1)\n",
    "s._apply_gate(\"X\", 0) "
   ]
  },
  {
   "cell_type": "markdown",
   "metadata": {},
   "source": [
    "As expected we get no error."
   ]
  },
  {
   "cell_type": "markdown",
   "metadata": {},
   "source": [
    "Now, let's focus on the central functionality of the simulator, the `run` function."
   ]
  },
  {
   "cell_type": "code",
   "execution_count": null,
   "metadata": {},
   "outputs": [
    {
     "data": {
      "text/markdown": [
       "<h4 id=\"Simulator.run\" class=\"doc_header\"><code>Simulator.run</code><a href=\"__main__.py#L13\" class=\"source_link\" style=\"float:right\">[source]</a></h4>\n",
       "\n",
       "> <code>Simulator.run</code>(**`circuit`**, **`fault_circuit`**=*`None`*)\n",
       "\n",
       "Apply gates in `circuit` sequentially to current state.\n",
       "If `fault_circuit` is specified apply fault gates at end of each tick."
      ],
      "text/plain": [
       "<IPython.core.display.Markdown object>"
      ]
     },
     "metadata": {},
     "output_type": "display_data"
    }
   ],
   "source": [
    "show_doc(Simulator.run)"
   ]
  },
  {
   "cell_type": "markdown",
   "metadata": {},
   "source": [
    "**TODO** Tests for `run` method"
   ]
  }
 ],
 "metadata": {
  "kernelspec": {
   "display_name": "Python 3 (ipykernel)",
   "language": "python",
   "name": "python3"
  }
 },
 "nbformat": 4,
 "nbformat_minor": 4
}
