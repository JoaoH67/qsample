{
 "cells": [
  {
   "cell_type": "code",
   "execution_count": null,
   "id": "1eac109e-5c8d-4d65-95a7-b940f3b9adff",
   "metadata": {},
   "outputs": [],
   "source": [
    "# default_exp samplers.common"
   ]
  },
  {
   "cell_type": "markdown",
   "id": "dd36eecc-4aad-4517-b973-e476772cda9f",
   "metadata": {},
   "source": [
    "# Samplers Common\n",
    "\n",
    "> Collection of helper functions and constants common to both Circuit and Protocol samplers"
   ]
  },
  {
   "cell_type": "code",
   "execution_count": null,
   "id": "87000734-a882-46da-9637-503eea0a3ee1",
   "metadata": {},
   "outputs": [],
   "source": [
    "# hide\n",
    "from nbdev.showdoc import *"
   ]
  },
  {
   "cell_type": "code",
   "execution_count": null,
   "id": "dd365886-bd91-4a4d-81bc-44afa9d69f1f",
   "metadata": {},
   "outputs": [],
   "source": [
    "#export\n",
    "import qsam.math as math\n",
    "from qsam.circuit import partition\n",
    "\n",
    "import itertools as it\n",
    "import functools\n",
    "import numpy as np"
   ]
  },
  {
   "cell_type": "markdown",
   "id": "2834e1c5-c538-4d25-ad07-5974b66806a6",
   "metadata": {},
   "source": [
    "# Constants"
   ]
  },
  {
   "cell_type": "code",
   "execution_count": null,
   "id": "5d10c28d-14cc-4027-8ecd-97d0cff59e93",
   "metadata": {},
   "outputs": [],
   "source": [
    "#export\n",
    "ONE_QUBIT_GATES = {'H', 'X', 'Z'}\n",
    "TWO_QUBIT_GATES = {'CNOT'}\n",
    "\n",
    "GATE_GROUPS = {'p': ONE_QUBIT_GATES | TWO_QUBIT_GATES,\n",
    "               'p1': ONE_QUBIT_GATES,\n",
    "               'p2': TWO_QUBIT_GATES,\n",
    "               }"
   ]
  },
  {
   "cell_type": "markdown",
   "id": "ec99e65d-c78c-4831-a84b-ce9f85eebe7d",
   "metadata": {},
   "source": [
    "# Data structures"
   ]
  },
  {
   "cell_type": "code",
   "execution_count": null,
   "id": "83b1a6c3-5414-41ab-9721-611e4ea178e3",
   "metadata": {},
   "outputs": [],
   "source": [
    "#export\n",
    "from anytree import RenderTree, NodeMixin\n",
    "from anytree.exporter import JsonExporter\n",
    "from anytree.importer import JsonImporter, DictImporter"
   ]
  },
  {
   "cell_type": "code",
   "execution_count": null,
   "id": "dcef1407-1820-4f35-be44-b1066bd25000",
   "metadata": {},
   "outputs": [],
   "source": [
    "#export\n",
    "class CountNode(NodeMixin):\n",
    "    def __init__(self, name, parent=None, children=None, counts=0, \n",
    "                 ckey=None, is_deterministic=False, is_fail=False):\n",
    "        super(CountNode, self).__init__()\n",
    "        \n",
    "        self.name = name\n",
    "        self.ckey = ckey\n",
    "        self.counts = counts\n",
    "        self.is_deterministic = is_deterministic\n",
    "        self.is_fail = is_fail\n",
    "        \n",
    "        self.parent = parent\n",
    "        if children:\n",
    "            self.children = children\n",
    "            \n",
    "    @property\n",
    "    def rate(self):\n",
    "        assert not self.ckey and not self.is_root\n",
    "        if self.parent.counts < 2: return 0.5\n",
    "        else: return self.counts / self.parent.counts\n",
    "\n",
    "    @property\n",
    "    def var(self, var_fn=math.Wilson_var):\n",
    "        assert not self.ckey and not self.is_root\n",
    "        if self.parent.counts < 2: return 1.0\n",
    "        else: return var_fn(self.rate, self.parent.counts)\n",
    "    \n",
    "    def __str__(self):\n",
    "        if self.is_root or self.ckey:\n",
    "            return f'{self.name} ({self.counts})'\n",
    "        else:\n",
    "            return f'{self.name} ({self.counts}/{self.parent.counts}, {self.var:.2e})'"
   ]
  },
  {
   "cell_type": "code",
   "execution_count": null,
   "id": "79413e14-774c-4027-88cf-e397b20f6eb4",
   "metadata": {},
   "outputs": [],
   "source": [
    "#export\n",
    "class SampleTree:\n",
    "    def __init__(self, root=None):\n",
    "        self.root = root\n",
    "    \n",
    "    def add(self, name, parent=None, **kwargs):\n",
    "        if parent == None:\n",
    "            if self.root == None:\n",
    "                self.root = CountNode(name, **kwargs)\n",
    "            return self.root\n",
    "        else:\n",
    "            child_match = [n for n in parent.children if n.name==name]\n",
    "            if child_match: return child_match[0]\n",
    "            else: return CountNode(name, parent=parent, **kwargs)\n",
    "        \n",
    "    def update(self, name, parent=None, **kwargs):\n",
    "        node = self.add(name, parent, **kwargs)\n",
    "        node.counts += 1\n",
    "        return node\n",
    "        \n",
    "    def detach(self, node):\n",
    "        node.parent = None\n",
    "        \n",
    "    def rate(self, const):\n",
    "        p = 0\n",
    "        for leaf in self.root.leaves:\n",
    "            if not leaf.is_root and not leaf.parent.is_deterministic and leaf.is_fail: \n",
    "                prod = 1\n",
    "                for n in leaf.path[1:]:\n",
    "                    if n.ckey: prod *= const[n.ckey[0]][n.ckey[1]]\n",
    "                    else: prod *= n.rate\n",
    "                p += prod\n",
    "        return p\n",
    "    \n",
    "    def var(self, const):\n",
    "        var = 0\n",
    "        for node in [n for n in self.root.descendants if not n.ckey]:\n",
    "            if not node.parent.is_deterministic:\n",
    "                twig = 1.0\n",
    "                for n in node.path[1:-1]:\n",
    "                    if n.ckey: twig *= const[n.ckey[0]][n.ckey[1]]\n",
    "                    else: twig *= n.rate\n",
    "                                    \n",
    "                subtree = 0\n",
    "                for leaf in node.leaves:\n",
    "                    if not leaf.is_fail:\n",
    "                        continue\n",
    "                    prod = 1\n",
    "                    for n in leaf.iter_path_reverse():\n",
    "                        if n == node: break\n",
    "                        elif n.ckey: prod *= const[n.ckey[0]][n.ckey[1]]\n",
    "                        else: prod *= n.rate\n",
    "                    subtree += prod\n",
    "                var += node.var * twig**2 * subtree**2\n",
    "        return var\n",
    "    \n",
    "    def delta(self, const):\n",
    "        path_sum = 0.0\n",
    "        for leaf in self.root.leaves:\n",
    "            if not leaf.is_root:\n",
    "                prod = 1.0\n",
    "                for n in leaf.path[1:]:\n",
    "                    if n.ckey: prod *= const[n.ckey[0]][n.ckey[1]]\n",
    "                    else: prod *= n.rate\n",
    "                path_sum += prod\n",
    "        return 1.0 - path_sum\n",
    "    \n",
    "    def __str__(self):\n",
    "        return '\\n'.join([f'{pre}{node}' for pre, _, node in RenderTree(self.root)])\n",
    "    \n",
    "    def save(self, fname):\n",
    "        exporter = JsonExporter(indent=2, sort_keys=False)\n",
    "        with open(fname, 'w') as f:\n",
    "            exporter.write(self.root, f)\n",
    "\n",
    "    def load(self, fname):\n",
    "        dictimporter = DictImporter(CountNode)\n",
    "        importer = JsonImporter(dictimporter)\n",
    "        with open(fname, 'r') as f:\n",
    "            self.root = importer.read(f)\n",
    "        return self"
   ]
  },
  {
   "cell_type": "markdown",
   "id": "3e902a77-17ce-456c-ab54-54bdebfebe4e",
   "metadata": {},
   "source": [
    "______\n",
    "# Callback functions"
   ]
  },
  {
   "cell_type": "code",
   "execution_count": null,
   "id": "73e45039-6690-44b9-ad54-073430266e56",
   "metadata": {},
   "outputs": [],
   "source": [
    "#export\n",
    "def curried(func):\n",
    "    \"\"\"A decorator that curries the given function.\n",
    "\n",
    "    @curried\n",
    "    def a(b, c):\n",
    "        return (b, c)\n",
    "\n",
    "    a(c=1)(2)  # returns (2, 1)\n",
    "    \"\"\"\n",
    "    @functools.wraps(func)\n",
    "    def _curried(*args, **kwargs):\n",
    "        if 'run' in kwargs.keys(): return func(*args, **kwargs)\n",
    "        partial_func = functools.partial(func, *args, **kwargs)\n",
    "        functools.update_wrapper(partial_func, func)\n",
    "        return partial_func\n",
    "    return _curried"
   ]
  },
  {
   "cell_type": "code",
   "execution_count": null,
   "id": "12d84a7f-2701-4ae4-b5e5-56a591c4dc24",
   "metadata": {},
   "outputs": [],
   "source": [
    "#export\n",
    "def stats(**kwargs):\n",
    "    sampler = kwargs['sampler']\n",
    "    return sampler.stats(**kwargs)"
   ]
  },
  {
   "cell_type": "code",
   "execution_count": null,
   "id": "35b81363-eaa2-4585-81d3-8ac811d3089f",
   "metadata": {},
   "outputs": [],
   "source": [
    "#export\n",
    "@curried\n",
    "def store(fn_names, **kwargs):\n",
    "    sampler = kwargs['sampler']\n",
    "    if not isinstance(fn_names, (list, tuple, set)): fn_names = [fn_names]\n",
    "    for fn_name in fn_names:\n",
    "        assert fn_name in kwargs, f'`{fn_name}` not in `kwargs` {kwargs}'\n",
    "        cur_store = sampler.store.get(fn_name, [])\n",
    "        sampler.store[fn_name] = cur_store + [kwargs[fn_name]]\n",
    "    return None"
   ]
  },
  {
   "cell_type": "code",
   "execution_count": null,
   "id": "d6d1d01c-1080-4617-81b8-bb4b4ad3970f",
   "metadata": {},
   "outputs": [],
   "source": [
    "#export\n",
    "@curried\n",
    "def rel_std_target(target=0.1, **kwargs):\n",
    "    assert 'stats' in kwargs, f'`stats` not in `kwargs` {kwargs}'\n",
    "    p_L, std, delta = kwargs['stats']\n",
    "    if p_L > 0 and (std + delta) / p_L < target: \n",
    "        print(f'Rel. std target of {target} reached. Sampling stopped.') \n",
    "        return StopIteration"
   ]
  },
  {
   "cell_type": "code",
   "execution_count": null,
   "id": "5b860ead-44c1-4a68-b962-45a8a2ec1550",
   "metadata": {},
   "outputs": [],
   "source": [
    "#export\n",
    "@curried\n",
    "def plot_stats(sample_range, **kwargs):\n",
    "    assert 'stats' in kwargs, f'`stats` not in `kwargs` {kwargs}'\n",
    "    p_L_low, std, delta = kwargs['stats']\n",
    "    p_L_up = p_L_low + delta\n",
    "    \n",
    "    import matplotlib.pyplot as plt\n",
    "    if 'ax' not in kwargs: fig,ax = plt.subplots(figsize=(6,4))\n",
    "    else: ax = kwargs['ax']\n",
    "    \n",
    "    if np.array_equal(p_L_up, p_L_low):\n",
    "        ax.errorbar(sample_range, p_L_low, fmt='--', c=\"black\", yerr=std, label=\"Direct MC\")\n",
    "    else:\n",
    "        ax.plot(sample_range, p_L_low, label=\"SS low\")\n",
    "        ax.fill_between(sample_range, p_L_low-std, p_L_low+std, alpha=0.2)\n",
    "        ax.plot(sample_range, p_L_up, label=\"SS up\")\n",
    "        ax.fill_between(sample_range, p_L_up-std, p_L_up+std, alpha=0.2)\n",
    "\n",
    "    ax.plot(sample_range, sample_range, 'k:', alpha=0.5)\n",
    "    ax.set_xscale('log')\n",
    "    ax.set_yscale('log')\n",
    "    ax.legend()\n",
    "    return fig,ax"
   ]
  },
  {
   "cell_type": "markdown",
   "id": "1b009fd4-15ea-42a4-894b-1092f5da412c",
   "metadata": {},
   "source": [
    "## Callbacks for Protocol sampler only:"
   ]
  },
  {
   "cell_type": "code",
   "execution_count": null,
   "id": "4ad59fde-4c8c-4e38-908a-f0eb1c1100bd",
   "metadata": {},
   "outputs": [],
   "source": [
    "#export\n",
    "def verbose(msmt, _node, node, circuit, faults=None, fault_circuit=None, **kwargs):\n",
    "    pauli_faults = [] if not circuit._noisy else [f'Tick {tick} :: {fault_circuit[tick]}' for tick,_ in faults]\n",
    "    if _node == 'COR': print(f\"Node {_node}, Circuit {circuit} -> {node}\")\n",
    "    else: print(f\"Node {_node}, Faults {pauli_faults}, Measured {msmt}-> {node}\")"
   ]
  },
  {
   "cell_type": "code",
   "execution_count": null,
   "id": "954b6bf4-34ef-4881-a4d4-e9d0563851e9",
   "metadata": {},
   "outputs": [],
   "source": [
    "#export\n",
    "@curried\n",
    "def plot_stored_stats(plot_delta=False, labels=['$p_L\\pm std$', 'std', '$\\delta$'], **kwargs):\n",
    "    sampler = kwargs['sampler']\n",
    "    assert 'stats' in sampler.store, f'Sampler {sampler} has no stored stats.'\n",
    "    stored_stats = np.array(sampler.store['stats'])\n",
    "    if stored_stats.size == 0: return None\n",
    "    \n",
    "    import matplotlib.pyplot as plt\n",
    "    p_L, std, delta = stored_stats.T\n",
    "    x = range(len(p_L))\n",
    "    delta_0 = np.all(delta == 0)\n",
    "    if delta_0: n_plots = 2\n",
    "    else: n_plots = 3\n",
    "    \n",
    "    fig, ax = plt.subplots(1, n_plots, figsize=(20, 4))\n",
    "    \n",
    "    ax[0].plot(x, p_L)\n",
    "    if plot_delta: ax[0].fill_between(x, p_L - (std + delta), p_L + (std + delta), alpha=0.2)\n",
    "    else: ax[0].fill_between(x, p_L - std, p_L + std, alpha=0.2)\n",
    "    ax[1].plot(x, std)\n",
    "    if not delta_0:\n",
    "        ax[2].plot(x, delta)\n",
    "        ax[2].set_yscale('log')\n",
    "    \n",
    "    for i in range(n_plots):\n",
    "        ax[i].set_xlabel('# of samples')\n",
    "        ax[i].set_ylabel(labels[i])\n",
    "    return fig,ax"
   ]
  },
  {
   "cell_type": "markdown",
   "id": "5e2c677e-559b-4f0b-aea2-807c2b2102ce",
   "metadata": {},
   "source": [
    "## Callbacks for Subset Protocol sampler only:"
   ]
  },
  {
   "cell_type": "code",
   "execution_count": null,
   "id": "351a81f7-4b91-406e-bc03-0d3bf3c5779e",
   "metadata": {},
   "outputs": [],
   "source": [
    "#export\n",
    "def subset_rates(**kwargs):\n",
    "    sampler = kwargs['sampler']\n",
    "    path_rates = []\n",
    "    fail_rates = []\n",
    "    path_names = []\n",
    "    for leaf in sampler.tree.root.leaves:\n",
    "        if not leaf.is_root and leaf.is_fail:\n",
    "            path_str = \":\".join([f'{n.name}' for n in leaf.path])\n",
    "            path_names.append(path_str)\n",
    "            fail_rates.append(leaf.rate)\n",
    "            prod = 1\n",
    "            for n in leaf.path[1:]:\n",
    "                if n.ckey: prod *= sampler.Aws_pmax[n.ckey[0]][n.ckey[1]]\n",
    "                else: prod *= n.rate\n",
    "            path_rates.append(prod)\n",
    "    return (path_names, path_rates, fail_rates)"
   ]
  },
  {
   "cell_type": "code",
   "execution_count": null,
   "id": "1da8e2ac-8a21-4b6e-9652-b8de7a1edb22",
   "metadata": {},
   "outputs": [],
   "source": [
    "#export\n",
    "def plot_subset_rates(**kwargs):\n",
    "    sampler = kwargs['sampler']\n",
    "    assert 'subset_rates' in sampler.store, f'Sampler {sampler} has no stored subset rates.'\n",
    "    \n",
    "    names, path_rates, fail_rates = np.array(sampler.store['subset_rates'], dtype=object).T\n",
    "\n",
    "    \n",
    "    def fill_na(arr):\n",
    "        max_len = np.max([len(sub_arr) for sub_arr in arr])\n",
    "        return np.asarray([np.pad(sub_arr, (0, max_len - len(sub_arr)), constant_values=np.nan) for sub_arr in arr])\n",
    "    \n",
    "    path_rates = fill_na(path_rates)\n",
    "    fail_rates = fill_na(fail_rates)\n",
    "    \n",
    "    legend_labels = names[-1]\n",
    "    n_samples = fail_rates.shape[0]\n",
    "    \n",
    "    import matplotlib.pyplot as plt\n",
    "    fig, ax = plt.subplots(1, 2, figsize=(15, 5))\n",
    "    for i, rates in enumerate([fail_rates, path_rates]):\n",
    "        ax[i].plot(range(n_samples), rates)\n",
    "        ax[i].set_xlim([0, n_samples])\n",
    "    ax[1].legend(legend_labels, bbox_to_anchor=(1.04, 1), loc='upper left')\n",
    "    return fig, ax"
   ]
  },
  {
   "cell_type": "code",
   "execution_count": null,
   "id": "1e1b9cfb-51e7-43c9-87aa-5a24e91bb58a",
   "metadata": {},
   "outputs": [],
   "source": [
    "#export\n",
    "def path_prods(**kwargs):\n",
    "    sampler = kwargs['sampler']\n",
    "    paths, path_fails, prodAws, prodAwPws_m1, prodAwPws = [], [], [], [], []\n",
    "    for leaf in sampler.tree.root.leaves:\n",
    "        if not leaf.is_root:\n",
    "            prod = 1\n",
    "            for n in leaf.path[1:]:\n",
    "                if n.ckey: prod *= sampler.Aws_pmax[n.ckey[0]][n.ckey[1]]\n",
    "            prodAws.append(prod)\n",
    "            \n",
    "            for n in leaf.path[1:-1]:\n",
    "                if not n.ckey: prod *= n.rate\n",
    "            prodAwPws_m1.append(prod)\n",
    "            \n",
    "            prod *= leaf.rate if leaf.is_fail else 0\n",
    "            prodAwPws.append(prod)\n",
    "            \n",
    "            path_str = \":\".join([f'{n.name}' for n in leaf.path])\n",
    "            paths.append( path_str + f\" ({leaf.counts}/{sampler.tree.root.counts})\" )\n",
    "            path_fails.append(leaf.is_fail)\n",
    "            \n",
    "    return paths, path_fails, prodAws, prodAwPws, prodAwPws_m1"
   ]
  },
  {
   "cell_type": "code",
   "execution_count": null,
   "id": "8c13594a-3b76-4ccd-a40e-0451ed587050",
   "metadata": {},
   "outputs": [],
   "source": [
    "#export\n",
    "def plot_paths(**kwargs):\n",
    "    assert 'path_prods' in kwargs, f'`path_prods` not in `kwargs` {kwargs}'\n",
    "    path_prods = kwargs['path_prods']\n",
    "    \n",
    "    import matplotlib.pyplot as plt\n",
    "    \n",
    "    paths, path_fails, prodAws, prodAwPws, prodAwPws_m1 = path_prods\n",
    "    sorted_ids = np.argsort(prodAws)[::-1]\n",
    "    paths = np.array(paths)[sorted_ids]\n",
    "    path_fails = np.array(path_fails)[sorted_ids]\n",
    "    prodAws = np.array(prodAws)[sorted_ids]\n",
    "    prodAwPws = np.array(prodAwPws)[sorted_ids]\n",
    "    prodAwPws_m1 = np.array(prodAwPws_m1)[sorted_ids]\n",
    "    \n",
    "    fig,ax = plt.subplots(figsize=(20,4))\n",
    "    ax.bar(paths, prodAws, label='$\\prod_{n\\in P} A_w$')\n",
    "    ax.bar(paths, prodAwPws_m1, label='$\\prod_{n-1\\in P} A_{w} p_n$')\n",
    "    ax.bar(paths, prodAwPws, label='$\\prod_{n\\in P} A_{w} p_n$')\n",
    "    ax.set_yscale('log')\n",
    "    plt.setp(ax.get_xticklabels(), ha=\"right\", rotation=45)\n",
    "    \n",
    "    xticklabels = ax.get_xticklabels()\n",
    "    for i, (path, is_fail) in enumerate(zip(paths,path_fails)):\n",
    "        if is_fail: plt.setp(xticklabels[i], weight='bold')\n",
    "            \n",
    "    ax.legend()\n",
    "    return fig, ax"
   ]
  },
  {
   "cell_type": "code",
   "execution_count": null,
   "id": "9f643024-556e-4f09-a51d-b300859f6c44",
   "metadata": {},
   "outputs": [],
   "source": [
    "#export\n",
    "def plot_path_hist(**kwargs):\n",
    "    sampler = kwargs['sampler']\n",
    "    \n",
    "    path_cnts = {}\n",
    "    for leaf in sampler.tree.root.leaves:\n",
    "        if not leaf.is_root:\n",
    "            path_str = \":\".join([f'{n.name}' for n in leaf.path[:-1]])\n",
    "            if path_str in path_cnts.keys():\n",
    "                cnts, fails = path_cnts[path_str]\n",
    "                path_cnts[path_str] = (cnts, fails + (leaf.counts if leaf.is_fail else 0))\n",
    "            else:\n",
    "                path_cnts[path_str] = (leaf.parent.counts, (leaf.counts if leaf.is_fail else 0))\n",
    "            \n",
    "    paths = list(path_cnts.keys())\n",
    "    cnts, f_cnts = np.array(list(path_cnts.values())).T\n",
    "    sorted_ids = np.argsort(cnts)[::-1]\n",
    "    paths = np.array(paths)[sorted_ids]\n",
    "    cnts = cnts[sorted_ids]\n",
    "    f_cnts = f_cnts[sorted_ids]\n",
    "    \n",
    "    import matplotlib.pyplot as plt\n",
    "    fig,ax = plt.subplots(figsize=(20,4))\n",
    "    ax.bar(paths, cnts, label=\"Path count\")\n",
    "    ax.bar(paths, f_cnts, label=\"Fail count\")\n",
    "    ax.set_yscale('log')\n",
    "    plt.setp(ax.get_xticklabels(), ha=\"right\", rotation=45)\n",
    "    ax.legend()\n",
    "    return ax, fig"
   ]
  },
  {
   "cell_type": "code",
   "execution_count": null,
   "id": "a702b2aa-2455-48ed-a695-af6856324e75",
   "metadata": {},
   "outputs": [],
   "source": [
    "#export\n",
    "@curried\n",
    "def plot_save_tree(fname='temp.png', **kwargs):\n",
    "    sampler = kwargs['sampler']\n",
    "    n_samples = sampler.tree.root.counts\n",
    "\n",
    "    def edgeattrfunc(node, child):\n",
    "        weight = 10.0 * child.counts / n_samples\n",
    "        weight = 5.0 if weight > 5.0 else weight\n",
    "        return f'penwidth=\"{weight}\"'\n",
    "\n",
    "    def nodeattrfunc(node):\n",
    "        node_form = \"\"\n",
    "        if node.is_fail: \n",
    "            node_form = ', style=filled, fillcolor=\"#ff9999\"'\n",
    "        return f'label=\"{node.name}\"' + node_form\n",
    "\n",
    "    from anytree.exporter import UniqueDotExporter\n",
    "    from IPython.display import Image, display ## ! requirements: jupyter, graphviz\n",
    "    \n",
    "    img = UniqueDotExporter(sampler.tree.root, \n",
    "                      edgeattrfunc=edgeattrfunc,\n",
    "                      nodeattrfunc=nodeattrfunc).to_picture(fname)\n",
    "    display(Image(fname))\n",
    "    return fname"
   ]
  },
  {
   "cell_type": "markdown",
   "id": "96fa3b4b-149d-460f-a20e-73525ea15815",
   "metadata": {},
   "source": [
    "_____\n",
    "# Other functions"
   ]
  },
  {
   "cell_type": "markdown",
   "id": "e787432c-48ae-44c1-ac45-6a857abbf485",
   "metadata": {},
   "source": [
    "## Subset analytics"
   ]
  },
  {
   "cell_type": "code",
   "execution_count": null,
   "id": "61ed5ce8-877c-47ba-a09f-3822da30f1e9",
   "metadata": {},
   "outputs": [],
   "source": [
    "#export\n",
    "def circuit_partitions(circ, partition_names):\n",
    "    return [partition(circ, GATE_GROUPS[name]) for name in partition_names]"
   ]
  },
  {
   "cell_type": "code",
   "execution_count": null,
   "id": "5fbab1bd-94cd-43a1-96b1-fa1f74b1adab",
   "metadata": {},
   "outputs": [],
   "source": [
    "#export\n",
    "def circuit_weight_vectors(w_max, w_exclude={}):\n",
    "    w_exclude = set((w,) if isinstance(w, int) else w for w in w_exclude)\n",
    "    w_maxs = [w_max] if isinstance(w_max, int) else w_max\n",
    "\n",
    "    w_upto_w_maxs = [tuple(range(w_max+1)) for w_max in w_maxs]\n",
    "    w_vecs = list(it.product( *w_upto_w_maxs ))\n",
    "    filtered_w_vecs = [w for w in w_vecs if w not in w_exclude]\n",
    "    return filtered_w_vecs"
   ]
  },
  {
   "cell_type": "code",
   "execution_count": null,
   "id": "dad8e467-1955-4755-885c-29df191d7126",
   "metadata": {},
   "outputs": [],
   "source": [
    "#export\n",
    "def circuit_subset_occurence(partitions, partition_w_vecs, p_phy_per_partition):\n",
    "    \"\"\"Return (weight)x(p_phys) (parition) subset occurance matrix transforming p_SS vector to p_L vector\"\"\"\n",
    "    n_partition_elems = np.array([len(p) for p in partitions])\n",
    "    Aws = np.array([math.binom(w_vec, n_partition_elems, p_phy_per_partition) for w_vec in partition_w_vecs])\n",
    "    Aws = np.product(Aws, axis=-1) # mult Aws for multi-parameter, i.e. multi-partitions\n",
    "    return Aws"
   ]
  },
  {
   "cell_type": "code",
   "execution_count": null,
   "id": "8d5963fb-37ca-4bb2-8553-e86f895fd248",
   "metadata": {},
   "outputs": [],
   "source": [
    "#export\n",
    "def protocol_partitions(circuits_dict, partition_names):\n",
    "    return {c_hash: circuit_partitions(circ, partition_names)\n",
    "           for c_hash, circ in circuits_dict.items() if circ._noisy}"
   ]
  },
  {
   "cell_type": "code",
   "execution_count": null,
   "id": "43dbe4e6-8413-48b0-bfb0-405efba09232",
   "metadata": {},
   "outputs": [],
   "source": [
    "#export\n",
    "def protocol_weight_vectors(partition_dict):\n",
    "    return {c_hash: circuit_weight_vectors([len(p) for p in partitions]) \n",
    "            for c_hash, partitions in partition_dict.items()}"
   ]
  },
  {
   "cell_type": "code",
   "execution_count": null,
   "id": "fcb1ea1f-5510-4ca0-8a41-7263af106c08",
   "metadata": {},
   "outputs": [],
   "source": [
    "#export\n",
    "def protocol_subset_occurence(partition_dict, w_vecs_dict, p_phys):\n",
    "    return {c_hash: circuit_subset_occurence(partition_dict[c_hash], w_vecs, p_phys)\n",
    "            for c_hash, w_vecs in w_vecs_dict.items()}"
   ]
  },
  {
   "cell_type": "markdown",
   "id": "8c66bbf4-bca9-4ae6-bf5a-9393b8c11c6b",
   "metadata": {},
   "source": [
    "## Subset filtering and selection"
   ]
  },
  {
   "cell_type": "code",
   "execution_count": null,
   "id": "a6be77c4-8740-4fec-ac1b-6744c7d6055d",
   "metadata": {},
   "outputs": [],
   "source": [
    "#export\n",
    "def w_plus1_filter(sampler, w_ids, circuit_hash, **kwargs):\n",
    "    n_Aws = np.ma.array(sampler.Aws_pmax[circuit_hash])\n",
    "    n_Aws[w_ids,] = np.ma.masked # mask existing (already sampled) subsets\n",
    "    w_ids.append(np.argmax(n_Aws)) # add next most important subset as possible candidate\n",
    "    return w_ids"
   ]
  },
  {
   "cell_type": "code",
   "execution_count": null,
   "id": "f843951b-aca1-4652-9616-adc9694e192c",
   "metadata": {},
   "outputs": [],
   "source": [
    "#export\n",
    "def random_sel(w_ids, **kwargs):\n",
    "    return np.random.choice(w_ids)"
   ]
  },
  {
   "cell_type": "code",
   "execution_count": null,
   "id": "b249ce97-5886-4b57-8461-146dfa0a4cf3",
   "metadata": {},
   "outputs": [],
   "source": [
    "#export\n",
    "def ERV_sel(self, sampler, w_ids, circuit_hash, tree_node, **kwargs):\n",
    "    erv_deltas = []\n",
    "    v_L = sampler.tree.var(sampler.Aws_pmax)\n",
    "    delta = sampler.tree.delta(sampler.Aws_pmax)\n",
    "    for idx in w_ids:\n",
    "        w_vec = sampler.w_vecs[circuit_hash][idx]\n",
    "\n",
    "        _tree_node = sampler.tree.add(w_vec, parent=tree_node, ckey=(circuit_hash, idx))\n",
    "        __tree_node = sampler.tree.add('FAIL', parent=_tree_node, is_fail=True)\n",
    "        _delta = sampler.tree.delta(sampler.Aws_pmax)\n",
    "        _rate = __tree_node.rate\n",
    "\n",
    "        _tree_node.counts += 1\n",
    "        v_L_minus = sampler.tree.var(sampler.Aws_pmax)\n",
    "\n",
    "        __tree_node.counts += 1\n",
    "        v_L_plus = sampler.tree.var(sampler.Aws_pmax)\n",
    "\n",
    "        _v_L = _rate * v_L_plus + (1 - _rate) * v_L_minus\n",
    "        erv_delta = np.abs(v_L - _v_L) + (delta - _delta)\n",
    "        erv_deltas.append( erv_delta )\n",
    "\n",
    "        # revert the change\n",
    "        _tree_node.counts -= 1\n",
    "        __tree_node.counts -= 1\n",
    "        if _tree_node.counts == 0: sampler.tree.detach(_tree_node)\n",
    "        if __tree_node.counts == 0: sampler.tree.detach(__tree_node)\n",
    "\n",
    "    idx = np.argmax(erv_deltas)\n",
    "    return w_ids[idx]"
   ]
  },
  {
   "cell_type": "code",
   "execution_count": null,
   "id": "c0e66387-872c-42fd-af6c-d1c7e80fb39f",
   "metadata": {},
   "outputs": [],
   "source": []
  }
 ],
 "metadata": {
  "kernelspec": {
   "display_name": "Python 3 (ipykernel)",
   "language": "python",
   "name": "python3"
  }
 },
 "nbformat": 4,
 "nbformat_minor": 5
}
