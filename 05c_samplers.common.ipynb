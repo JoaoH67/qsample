{
 "cells": [
  {
   "cell_type": "code",
   "execution_count": null,
   "id": "1eac109e-5c8d-4d65-95a7-b940f3b9adff",
   "metadata": {},
   "outputs": [],
   "source": [
    "# default_exp samplers.common"
   ]
  },
  {
   "cell_type": "markdown",
   "id": "dd36eecc-4aad-4517-b973-e476772cda9f",
   "metadata": {},
   "source": [
    "# Samplers Common\n",
    "\n",
    "> Collection of helper functions and constants common to both Circuit and Protocol samplers"
   ]
  },
  {
   "cell_type": "code",
   "execution_count": null,
   "id": "87000734-a882-46da-9637-503eea0a3ee1",
   "metadata": {},
   "outputs": [],
   "source": [
    "# hide\n",
    "from nbdev.showdoc import *"
   ]
  },
  {
   "cell_type": "code",
   "execution_count": null,
   "id": "dd365886-bd91-4a4d-81bc-44afa9d69f1f",
   "metadata": {},
   "outputs": [],
   "source": [
    "#export\n",
    "import qsam.math as math\n",
    "from qsam.circuit import partition\n",
    "\n",
    "import itertools as it\n",
    "import functools\n",
    "import numpy as np"
   ]
  },
  {
   "cell_type": "markdown",
   "id": "2834e1c5-c538-4d25-ad07-5974b66806a6",
   "metadata": {},
   "source": [
    "# Constants"
   ]
  },
  {
   "cell_type": "code",
   "execution_count": null,
   "id": "5d10c28d-14cc-4027-8ecd-97d0cff59e93",
   "metadata": {},
   "outputs": [],
   "source": [
    "#export\n",
    "ONE_QUBIT_GATES = {'H', 'X', 'Z'}\n",
    "TWO_QUBIT_GATES = {'CNOT'}\n",
    "\n",
    "GATE_GROUPS = {'p': ONE_QUBIT_GATES | TWO_QUBIT_GATES,\n",
    "               'p1': ONE_QUBIT_GATES,\n",
    "               'p2': TWO_QUBIT_GATES,\n",
    "               }"
   ]
  },
  {
   "cell_type": "markdown",
   "id": "ec99e65d-c78c-4831-a84b-ce9f85eebe7d",
   "metadata": {},
   "source": [
    "# Data structures"
   ]
  },
  {
   "cell_type": "code",
   "execution_count": null,
   "id": "83b1a6c3-5414-41ab-9721-611e4ea178e3",
   "metadata": {},
   "outputs": [],
   "source": [
    "#export\n",
    "from anytree import RenderTree, NodeMixin\n",
    "from anytree.exporter import JsonExporter\n",
    "from anytree.importer import JsonImporter, DictImporter"
   ]
  },
  {
   "cell_type": "code",
   "execution_count": null,
   "id": "dcef1407-1820-4f35-be44-b1066bd25000",
   "metadata": {},
   "outputs": [],
   "source": [
    "#export\n",
    "class CountNode(NodeMixin):\n",
    "    def __init__(self, name, parent=None, children=None, counts=0, \n",
    "                 ckey=None, is_deterministic=False, is_fail=False):\n",
    "        super(CountNode, self).__init__()\n",
    "        \n",
    "        self.name = name\n",
    "        self.ckey = ckey\n",
    "        self.counts = int(counts)\n",
    "        self.is_deterministic = is_deterministic\n",
    "        self.is_fail = is_fail\n",
    "        \n",
    "        self.parent = parent\n",
    "        if children:\n",
    "            self.children = children\n",
    "            \n",
    "    @property\n",
    "    def rate(self):\n",
    "        assert not self.ckey and not self.is_root\n",
    "        if self.parent.counts < 2: return 0.5\n",
    "        else: return self.counts / self.parent.counts\n",
    "\n",
    "    @property\n",
    "    def var(self, var_fn=math.Wilson_var):\n",
    "        assert not self.ckey and not self.is_root\n",
    "        if self.parent.counts < 2: return 1.0\n",
    "        else: return var_fn(self.rate, self.parent.counts)\n",
    "    \n",
    "    def __str__(self):\n",
    "        if self.is_root or self.ckey:\n",
    "            return f'{self.name} ({self.counts})'\n",
    "        else:\n",
    "            return f'{self.name} ({self.counts}/{self.parent.counts}, {self.var:.2e})'"
   ]
  },
  {
   "cell_type": "code",
   "execution_count": null,
   "id": "79413e14-774c-4027-88cf-e397b20f6eb4",
   "metadata": {},
   "outputs": [],
   "source": [
    "#export\n",
    "class SampleTree:\n",
    "    def __init__(self, root=None):\n",
    "        self.root = root\n",
    "    \n",
    "    def add(self, name, parent=None, **kwargs):\n",
    "        if parent == None:\n",
    "            if self.root == None:\n",
    "                self.root = CountNode(name, **kwargs)\n",
    "            return self.root\n",
    "        else:\n",
    "            child_match = [n for n in parent.children if n.name==name]\n",
    "            if child_match: return child_match[0]\n",
    "            else: return CountNode(name, parent=parent, **kwargs)\n",
    "        \n",
    "    def update(self, name, parent=None, **kwargs):\n",
    "        node = self.add(name, parent, **kwargs)\n",
    "        node.counts += 1\n",
    "        return node\n",
    "        \n",
    "    def detach(self, node):\n",
    "        node.parent = None\n",
    "        \n",
    "    def rate(self, const):\n",
    "        p = 0\n",
    "        for leaf in self.root.leaves:\n",
    "            if not leaf.is_root and not leaf.parent.is_deterministic and leaf.is_fail: \n",
    "                prod = 1\n",
    "                for n in leaf.path[1:]:\n",
    "                    if n.ckey: prod *= const[n.ckey[0]][n.ckey[1]]\n",
    "                    else: prod *= n.rate\n",
    "                p += prod\n",
    "        return p\n",
    "    \n",
    "    def var(self, const):\n",
    "        var = 0\n",
    "        for node in [n for n in self.root.descendants if not n.ckey]:\n",
    "            if not node.parent.is_deterministic:\n",
    "                twig = 1.0\n",
    "                for n in node.path[1:-1]:\n",
    "                    if n.ckey: twig *= const[n.ckey[0]][n.ckey[1]]\n",
    "                    else: twig *= n.rate\n",
    "                                    \n",
    "                subtree = 0\n",
    "                for leaf in node.leaves:\n",
    "                    if not leaf.is_fail: # CHECK.\n",
    "                        continue\n",
    "                    \n",
    "                    prod = 1\n",
    "                    for n in leaf.iter_path_reverse():\n",
    "                        if n == node: \n",
    "                            break\n",
    "                        elif n.ckey: prod *= const[n.ckey[0]][n.ckey[1]]\n",
    "                        else: prod *= n.rate\n",
    "                    \n",
    "                    # if any([n.is_fail for n in leaf.siblings]): prod /= 2\n",
    "                        \n",
    "                    subtree += prod\n",
    "                    \n",
    "                var += node.var * twig**2 * subtree**2\n",
    "        return var\n",
    "    \n",
    "    def delta(self, const):\n",
    "        path_sum = 0.0\n",
    "        for leaf in self.root.leaves:\n",
    "            if not leaf.is_root:\n",
    "                prod = 1.0\n",
    "                for n in leaf.path[1:]:\n",
    "                    if n.ckey: prod *= const[n.ckey[0]][n.ckey[1]]\n",
    "                    else: prod *= n.rate\n",
    "                path_sum += prod\n",
    "        return 1.0 - path_sum\n",
    "    \n",
    "    def __str__(self):\n",
    "        return '\\n'.join([f'{pre}{node}' for pre, _, node in RenderTree(self.root)])\n",
    "    \n",
    "    def display(self, fname='temp.png'):\n",
    "        \n",
    "        from anytree.exporter import UniqueDotExporter\n",
    "        from IPython.display import Image, display ## ! requirements: jupyter, graphviz\n",
    "        \n",
    "        def edgeattrfunc(node, child):\n",
    "            weight = 10.0 * child.counts / self.root.counts\n",
    "            weight = 5.0 if weight > 5.0 else weight\n",
    "            return f'penwidth=\"{weight}\"'\n",
    "\n",
    "        def nodeattrfunc(node):\n",
    "            node_form = \"\"\n",
    "            if node.is_fail: \n",
    "                node_form = ', style=filled, fillcolor=\"#ff9999\"'\n",
    "            return f'label=\"{node.name}\"' + node_form\n",
    "\n",
    "        img = UniqueDotExporter(self.root, \n",
    "                          edgeattrfunc=edgeattrfunc,\n",
    "                          nodeattrfunc=nodeattrfunc).to_picture(fname)\n",
    "        display(Image(fname))\n",
    "        return fname\n",
    "    \n",
    "    def save(self, fname):\n",
    "        exporter = JsonExporter(indent=2, sort_keys=False, default=str)\n",
    "        with open(fname, 'w') as f:\n",
    "            exporter.write(self.root, f)\n",
    "\n",
    "    def load(self, fname):\n",
    "        dictimporter = DictImporter(CountNode)\n",
    "        importer = JsonImporter(dictimporter)\n",
    "        with open(fname, 'r') as f:\n",
    "            self.root = importer.read(f)\n",
    "        return self"
   ]
  },
  {
   "cell_type": "markdown",
   "id": "96fa3b4b-149d-460f-a20e-73525ea15815",
   "metadata": {},
   "source": [
    "_____\n",
    "# Other functions"
   ]
  },
  {
   "cell_type": "markdown",
   "id": "e787432c-48ae-44c1-ac45-6a857abbf485",
   "metadata": {},
   "source": [
    "## Subset analytics"
   ]
  },
  {
   "cell_type": "code",
   "execution_count": null,
   "id": "61ed5ce8-877c-47ba-a09f-3822da30f1e9",
   "metadata": {},
   "outputs": [],
   "source": [
    "#export\n",
    "def circuit_partitions(circ, partition_names):\n",
    "    return [partition(circ, GATE_GROUPS[name]) for name in partition_names]"
   ]
  },
  {
   "cell_type": "code",
   "execution_count": null,
   "id": "5fbab1bd-94cd-43a1-96b1-fa1f74b1adab",
   "metadata": {},
   "outputs": [],
   "source": [
    "#export\n",
    "def circuit_weight_vectors(w_max, w_exclude={}):\n",
    "    w_exclude = set((w,) if isinstance(w, int) else w for w in w_exclude)\n",
    "    w_maxs = [w_max] if isinstance(w_max, int) else w_max\n",
    "\n",
    "    w_upto_w_maxs = [tuple(range(w_max+1)) for w_max in w_maxs]\n",
    "    w_vecs = list(it.product( *w_upto_w_maxs ))\n",
    "    filtered_w_vecs = [w for w in w_vecs if w not in w_exclude]\n",
    "    return filtered_w_vecs"
   ]
  },
  {
   "cell_type": "code",
   "execution_count": null,
   "id": "dad8e467-1955-4755-885c-29df191d7126",
   "metadata": {},
   "outputs": [],
   "source": [
    "#export\n",
    "def circuit_subset_occurence(partitions, partition_w_vecs, p_phy_per_partition):\n",
    "    \"\"\"Return (weight)x(p_phys) (parition) subset occurance matrix transforming p_SS vector to p_L vector\"\"\"\n",
    "    n_partition_elems = np.array([len(p) for p in partitions])\n",
    "    Aws = np.array([math.binom(w_vec, n_partition_elems, p_phy_per_partition) for w_vec in partition_w_vecs])\n",
    "    Aws = np.product(Aws, axis=-1) # mult Aws for multi-parameter, i.e. multi-partitions\n",
    "    return Aws"
   ]
  },
  {
   "cell_type": "code",
   "execution_count": null,
   "id": "8d5963fb-37ca-4bb2-8553-e86f895fd248",
   "metadata": {},
   "outputs": [],
   "source": [
    "#export\n",
    "def protocol_partitions(circuits_dict, partition_names):\n",
    "    return {c_hash: circuit_partitions(circ, partition_names)\n",
    "           for c_hash, circ in circuits_dict.items() if circ._noisy}"
   ]
  },
  {
   "cell_type": "code",
   "execution_count": null,
   "id": "43dbe4e6-8413-48b0-bfb0-405efba09232",
   "metadata": {},
   "outputs": [],
   "source": [
    "#export\n",
    "def protocol_weight_vectors(partition_dict):\n",
    "    return {c_hash: circuit_weight_vectors([len(p) for p in partitions]) \n",
    "            for c_hash, partitions in partition_dict.items()}"
   ]
  },
  {
   "cell_type": "code",
   "execution_count": null,
   "id": "fcb1ea1f-5510-4ca0-8a41-7263af106c08",
   "metadata": {},
   "outputs": [],
   "source": [
    "#export\n",
    "def protocol_subset_occurence(partition_dict, w_vecs_dict, p_phys):\n",
    "    return {c_hash: circuit_subset_occurence(partition_dict[c_hash], w_vecs, p_phys)\n",
    "            for c_hash, w_vecs in w_vecs_dict.items()}"
   ]
  },
  {
   "cell_type": "markdown",
   "id": "8c66bbf4-bca9-4ae6-bf5a-9393b8c11c6b",
   "metadata": {},
   "source": [
    "## Subset filtering and selection"
   ]
  },
  {
   "cell_type": "code",
   "execution_count": null,
   "id": "a6be77c4-8740-4fec-ac1b-6744c7d6055d",
   "metadata": {},
   "outputs": [],
   "source": [
    "#export\n",
    "def w_plus1_filter(sampler, w_ids, circuit_hash, **kwargs):\n",
    "    n_Aws = np.ma.array(sampler.Aws_pmax[circuit_hash])\n",
    "    n_Aws[w_ids,] = np.ma.masked # mask existing (already sampled) subsets\n",
    "    w_ids.append(np.argmax(n_Aws)) # add next most important subset as possible candidate\n",
    "    return w_ids"
   ]
  },
  {
   "cell_type": "code",
   "execution_count": null,
   "id": "f843951b-aca1-4652-9616-adc9694e192c",
   "metadata": {},
   "outputs": [],
   "source": [
    "#export\n",
    "def random_sel(w_ids, **kwargs):\n",
    "    return np.random.choice(w_ids)"
   ]
  },
  {
   "cell_type": "code",
   "execution_count": null,
   "id": "b249ce97-5886-4b57-8461-146dfa0a4cf3",
   "metadata": {},
   "outputs": [],
   "source": [
    "#export\n",
    "def ERV_sel(self, sampler, w_ids, circuit_hash, tree_node, **kwargs):\n",
    "    erv_deltas = []\n",
    "    v_L = sampler.tree.var(sampler.Aws_pmax)\n",
    "    delta = sampler.tree.delta(sampler.Aws_pmax)\n",
    "    for idx in w_ids:\n",
    "        w_vec = sampler.w_vecs[circuit_hash][idx]\n",
    "\n",
    "        _tree_node = sampler.tree.add(w_vec, parent=tree_node, ckey=(circuit_hash, idx))\n",
    "        __tree_node = sampler.tree.add('FAIL', parent=_tree_node, is_fail=True)\n",
    "        _delta = sampler.tree.delta(sampler.Aws_pmax)\n",
    "        _rate = __tree_node.rate\n",
    "\n",
    "        _tree_node.counts += 1\n",
    "        v_L_minus = sampler.tree.var(sampler.Aws_pmax)\n",
    "\n",
    "        __tree_node.counts += 1\n",
    "        v_L_plus = sampler.tree.var(sampler.Aws_pmax)\n",
    "\n",
    "        _v_L = _rate * v_L_plus + (1 - _rate) * v_L_minus\n",
    "        erv_delta = np.abs(v_L - _v_L) + (delta - _delta) \n",
    "        # erv_delta = v_L - _v_L + (delta - _delta) # Check with new def of var\n",
    "        erv_deltas.append( erv_delta )\n",
    "\n",
    "        # revert the change\n",
    "        _tree_node.counts -= 1\n",
    "        __tree_node.counts -= 1\n",
    "        if _tree_node.counts == 0: sampler.tree.detach(_tree_node)\n",
    "        if __tree_node.counts == 0: sampler.tree.detach(__tree_node)\n",
    "\n",
    "    idx = np.argmax(erv_deltas)\n",
    "    return w_ids[idx]"
   ]
  }
 ],
 "metadata": {
  "kernelspec": {
   "display_name": "Python 3 (ipykernel)",
   "language": "python",
   "name": "python3"
  }
 },
 "nbformat": 4,
 "nbformat_minor": 5
}
