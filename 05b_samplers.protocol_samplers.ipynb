{
 "cells": [
  {
   "cell_type": "code",
   "execution_count": null,
   "metadata": {},
   "outputs": [],
   "source": [
    "# default_exp samplers.protocol_samplers"
   ]
  },
  {
   "cell_type": "markdown",
   "metadata": {},
   "source": [
    "# Protocol Samplers\n",
    "\n",
    "> Collection of different samplers for sampling logical failure rates from quantum error correction protocols"
   ]
  },
  {
   "cell_type": "code",
   "execution_count": null,
   "metadata": {},
   "outputs": [],
   "source": [
    "# hide\n",
    "from nbdev.showdoc import *"
   ]
  },
  {
   "cell_type": "code",
   "execution_count": null,
   "metadata": {},
   "outputs": [],
   "source": [
    "#export\n",
    "import qsam.math as math\n",
    "from qsam.circuit import partition, make_hash, unpack\n",
    "from qsam.fault_generators import Depolar\n",
    "from qsam.protocol import iterate\n",
    "from qsam.samplers.sampler_mixins import SubsetAnalytics\n",
    "from qsam.samplers.datatypes import CountNode, Variable, Constant, Fail, NoFail, Tree\n",
    "\n",
    "import numpy as np\n",
    "from tqdm import tqdm"
   ]
  },
  {
   "cell_type": "code",
   "execution_count": null,
   "metadata": {},
   "outputs": [],
   "source": [
    "#export\n",
    "ONE_QUBIT_GATES = {'H', 'X', 'Z'}\n",
    "TWO_QUBIT_GATES = {'CNOT'}\n",
    "\n",
    "GATE_GROUPS = {'p': ONE_QUBIT_GATES | TWO_QUBIT_GATES,\n",
    "               'p1': ONE_QUBIT_GATES,\n",
    "               'p2': TWO_QUBIT_GATES,\n",
    "               }"
   ]
  },
  {
   "cell_type": "code",
   "execution_count": null,
   "metadata": {},
   "outputs": [],
   "source": [
    "#export\n",
    "\n",
    "class Sampler:\n",
    "    def __init__(self, protocol, simulator):\n",
    "        self.protocol = protocol\n",
    "        self.simulator = simulator\n",
    "        self.n_qubits = len(set(q for c in protocol._circuits.values() for q in unpack(c)))\n",
    "                         \n",
    "    def run(self, n_samples, sample_range, err_params, RSE_target=1e-1, var=math.Wilson_var, eval_fns=None, verbose=False):\n",
    "        \n",
    "        # RSE: rel. standard error target\n",
    "        fail_cnts = np.zeros(len(sample_range)) # one fail counter per sample point\n",
    "        partitions = {circuit_hash: [partition(circuit, GATE_GROUPS[k]) for k in err_params.keys()]\n",
    "                     for circuit_hash, circuit in self.protocol._circuits.items()}\n",
    "                \n",
    "        for i,sample_pt in enumerate(sample_range): # n_samples at sample_pt\n",
    "            \n",
    "            p_phy = np.array(list(err_params.values())) * sample_pt\n",
    "            \n",
    "            for j in tqdm(range(n_samples)):\n",
    "                \n",
    "                sim = self.simulator(self.n_qubits)\n",
    "                p_it = iterate(self.protocol, eval_fns)\n",
    "                node = next(p_it)\n",
    "                \n",
    "                if verbose: print(f'--- Protocol run {j} ---')\n",
    "                \n",
    "                while node:\n",
    "                    \n",
    "                    if not self.protocol.out_edges(node):\n",
    "                        fail_cnts[i] += 1\n",
    "                        break\n",
    "                    \n",
    "                    circuit_hash, circuit = self.protocol.circuit_from_node(node)\n",
    "                    if not circuit._noisy or circuit_hash not in partitions.keys():\n",
    "                        msmt = sim.run(circuit)\n",
    "                    else:\n",
    "                        circuit_partitions = partitions[circuit_hash]\n",
    "                        faults = Depolar.faults_from_probs(circuit_partitions, p_phy)\n",
    "                        fault_circuit = Depolar.gen_circuit(len(circuit), faults)\n",
    "                        msmt = sim.run(circuit, fault_circuit)\n",
    "                    _node = node\n",
    "                    node = p_it.send(msmt if msmt==None else int(msmt,2))\n",
    "\n",
    "                    if verbose:\n",
    "                        pauli_faults = [] if not circuit._noisy else [f'Tick {tick} :: {fault_circuit[tick]}' for tick,_ in faults]\n",
    "                        if _node == 'COR': print(f\"Node {_node}, Circuit {circuit} -> {node}\")\n",
    "                        else: print(f\"Node {_node}, Faults {pauli_faults}, Measured {msmt}-> {node}\")\n",
    "                \n",
    "                if j > 1:\n",
    "                    p_L_j = fail_cnts[i] / j\n",
    "                    if p_L_j != 0 and np.sqrt( var(p_L_j, j) )/ p_L_j < RSE_target: \n",
    "                        print(f'RSE target of {RSE_target} reached.') \n",
    "                        break\n",
    "                    \n",
    "        p_L = fail_cnts / n_samples\n",
    "        std = np.sqrt( var(p_L, n_samples) )\n",
    "        return p_L, std"
   ]
  },
  {
   "cell_type": "markdown",
   "metadata": {},
   "source": [
    "We are going to test the direct Monte Carlo sampler on the simple GHZ state preparation flag circuit. "
   ]
  },
  {
   "cell_type": "code",
   "execution_count": null,
   "metadata": {},
   "outputs": [
    {
     "data": {
      "image/png": "[encoded data removed]",
      "text/plain": [
       "<Figure size 432x432 with 1 Axes>"
      ]
     },
     "metadata": {},
     "output_type": "display_data"
    }
   ],
   "source": [
    "from qsam.circuit import Circuit\n",
    "from qsam.protocol import Protocol, draw_protocol\n",
    "\n",
    "ghz = Circuit([ {\"init\": {0,1,2,3,4}},\n",
    "                {\"H\": {0}},\n",
    "                {\"CNOT\": {(0,1)}},\n",
    "                {\"CNOT\": {(1,2)}},\n",
    "                {\"CNOT\": {(2,3)}},\n",
    "                {\"CNOT\": {(3,4)}},\n",
    "                {\"CNOT\": {(0,4)}},\n",
    "                {\"measure\": {4}}   ])\n",
    "\n",
    "def repeat(m):\n",
    "    return len(m) < 3 and m[-1] == 1\n",
    "    \n",
    "def logErr(m):\n",
    "    return len(m) >= 3 and m[-1] == 1 and m[-2] == 1 and m[-3] == 1\n",
    "\n",
    "functions = {'logErr': logErr, 'repeat': repeat}\n",
    "\n",
    "g = Protocol()\n",
    "g.add_nodes_from(['ghz'], circuits=[ghz])\n",
    "\n",
    "g.add_edge('START', 'ghz', check='True')\n",
    "\n",
    "g.add_edge('ghz', 'ghz', check='repeat(ghz)')\n",
    "g.add_edge('ghz', 'FAIL', check='logErr(ghz)')\n",
    "\n",
    "draw_protocol(g, figsize=(6,6))"
   ]
  },
  {
   "cell_type": "code",
   "execution_count": null,
   "metadata": {},
   "outputs": [
    {
     "name": "stderr",
     "output_type": "stream",
     "text": [
      "100%|████████████████████████████████████████████████████████| 10000/10000 [00:02<00:00, 3885.96it/s]\n",
      "100%|████████████████████████████████████████████████████████| 10000/10000 [00:02<00:00, 3769.53it/s]\n",
      "100%|████████████████████████████████████████████████████████| 10000/10000 [00:02<00:00, 3641.64it/s]\n",
      "100%|████████████████████████████████████████████████████████| 10000/10000 [00:02<00:00, 3603.72it/s]\n",
      "100%|████████████████████████████████████████████████████████| 10000/10000 [00:02<00:00, 3408.12it/s]\n",
      "100%|████████████████████████████████████████████████████████| 10000/10000 [00:03<00:00, 2894.26it/s]\n",
      "100%|████████████████████████████████████████████████████████| 10000/10000 [00:04<00:00, 2320.94it/s]\n",
      " 73%|█████████████████████████████████████████▌               | 7284/10000 [00:04<00:01, 1756.52it/s]\n"
     ]
    },
    {
     "name": "stdout",
     "output_type": "stream",
     "text": [
      "RSE target of 0.1 reached.\n"
     ]
    },
    {
     "name": "stderr",
     "output_type": "stream",
     "text": [
      " 30%|████████████████▊                                        | 2953/10000 [00:02<00:05, 1295.48it/s]\n"
     ]
    },
    {
     "name": "stdout",
     "output_type": "stream",
     "text": [
      "RSE target of 0.1 reached.\n"
     ]
    },
    {
     "name": "stderr",
     "output_type": "stream",
     "text": [
      " 25%|██████████████▋                                           | 2538/10000 [00:02<00:08, 899.86it/s]"
     ]
    },
    {
     "name": "stdout",
     "output_type": "stream",
     "text": [
      "RSE target of 0.1 reached.\n"
     ]
    },
    {
     "name": "stderr",
     "output_type": "stream",
     "text": [
      "\n"
     ]
    }
   ],
   "source": [
    "#slow\n",
    "\n",
    "from qsam.simulators.chp import ChpSimulator\n",
    "\n",
    "sample_range = np.logspace(-3,0,10)\n",
    "err_params = {'p': 1}\n",
    "\n",
    "sam = Sampler(g, ChpSimulator)\n",
    "p_L, std = sam.run(10000, sample_range, err_params, RSE_target=1e-1, eval_fns=functions)"
   ]
  },
  {
   "cell_type": "code",
   "execution_count": null,
   "metadata": {},
   "outputs": [
    {
     "data": {
      "image/png": "[encoded data removed]",
      "text/plain": [
       "<Figure size 432x288 with 1 Axes>"
      ]
     },
     "metadata": {
      "needs_background": "light"
     },
     "output_type": "display_data"
    }
   ],
   "source": [
    "#hide_input\n",
    "#slow\n",
    "\n",
    "import matplotlib.pyplot as plt\n",
    "\n",
    "p = sample_range\n",
    "\n",
    "plt.errorbar(p, p_L, fmt='--', c=\"black\", yerr=std, label=\"Direct MC\")\n",
    "\n",
    "plt.plot(p, p, 'k:', alpha=0.5)\n",
    "plt.xscale('log')\n",
    "plt.yscale('log')\n",
    "plt.ylabel(r'$p_L$')\n",
    "plt.xlabel(r'$p_{phy}$')\n",
    "plt.legend();"
   ]
  },
  {
   "cell_type": "code",
   "execution_count": null,
   "metadata": {},
   "outputs": [
    {
     "data": {
      "text/markdown": [
       "<h2 id=\"Sampler\" class=\"doc_header\"><code>class</code> <code>Sampler</code><a href=\"\" class=\"source_link\" style=\"float:right\">[source]</a></h2>\n",
       "\n",
       "> <code>Sampler</code>(**`protocol`**, **`simulator`**)\n",
       "\n"
      ],
      "text/plain": [
       "<IPython.core.display.Markdown object>"
      ]
     },
     "metadata": {},
     "output_type": "display_data"
    }
   ],
   "source": [
    "show_doc(Sampler)"
   ]
  },
  {
   "cell_type": "markdown",
   "metadata": {},
   "source": [
    "For the `SubsetSampler` we want to sample from specific fault-weight-subsets upto a certain maximum weight $w_{max}$. The benefit of this approach is that we can scale each of the resulting failure rates by analytically calculated `subset_occurances` for each `p_phy` which then gives us `p_L(p_phy)` for all `p_phy` without any additional sampling required. The subset sampler chooses the next fault-weight subset that is used when sampling from the next circuit in the protocol by the minimum sampled subset for a given circuit, which results in a balanced sampling over all subsets for a circuit. Additionally, one can exclude sampling for all circuits in a protocol from certain subsets by specifying a *list of ints* of `w_exclude` fault-weights. Overall, this approach of choosing the subsets and defining the weight threshold is not ideal. The dynamic subset sampler includes methods to improve on both of these points."
   ]
  },
  {
   "cell_type": "code",
   "execution_count": null,
   "metadata": {},
   "outputs": [],
   "source": [
    "# export\n",
    "\n",
    "class SubsetSampler(SubsetAnalytics):\n",
    "    \"\"\"Subset Sampler of quantum protocols\"\"\"\n",
    "    \n",
    "    def __init__(self, protocol, simulator):\n",
    "        self.protocol = protocol\n",
    "        self.simulator = simulator\n",
    "        self.n_qubits = len(set(q for c in protocol._circuits.values() for q in unpack(c)))\n",
    "        self.tree = Tree()\n",
    "        \n",
    "    def run(self, n_samples, sample_range, err_params, chi_min=1e-2, p_max=0.1, RSE_target=1e-1, ERV_sel=True, var=math.Wilson_var, eval_fns={}):\n",
    "        \n",
    "        p_phy_per_partition = np.array([[p_phy * mul for p_phy in sample_range] for mul in err_params.values()]).T\n",
    "        partitions = {circuit_hash: [partition(circuit, GATE_GROUPS[k]) for k in err_params.keys()]\n",
    "                      for circuit_hash, circuit in self.protocol._circuits.items() if circuit._noisy}\n",
    "        w_vecs = {circuit_hash: SubsetSampler.weight_vectors([len(p) for p in pars]) \n",
    "                  for circuit_hash, pars in partitions.items()}\n",
    "        Aws = {circuit_hash: SubsetSampler.subset_occurence(partitions[circuit_hash], w_vecs, p_phy_per_partition)\n",
    "               for circuit_hash, w_vecs in w_vecs.items()}\n",
    "        \n",
    "        Aws_at_p_max = {circuit_hash: SubsetSampler.subset_occurence(partitions[circuit_hash], w_vecs, np.array(p_max))\n",
    "                        for circuit_hash, w_vecs in w_vecs.items()}\n",
    "        \n",
    "        for _ in tqdm(range(n_samples)):\n",
    "\n",
    "            chi = 1\n",
    "            sim = self.simulator(self.n_qubits)\n",
    "            p_it = iterate(self.protocol, eval_fns)\n",
    "            node = next(p_it)\n",
    "            tree_node = self.tree.add(name=node, node_cls=CountNode)\n",
    "            tree_node.counts += 1\n",
    "                                    \n",
    "            while node:\n",
    "                \n",
    "                if not self.protocol.out_edges(node): \n",
    "                    break # terminal node reached\n",
    "                \n",
    "                circuit_hash, circuit = self.protocol.circuit_from_node(node)\n",
    "                \n",
    "                if circuit_hash not in partitions.keys(): # handle circuits created at runtime\n",
    "                    msmt = sim.run(circuit)\n",
    "                    tree_node = self.tree.add(name=(0,), \n",
    "                                              node_cls=Constant,\n",
    "                                              parent=tree_node,\n",
    "                                              data={'Aw': np.ones(shape=p_phy_per_partition.shape[0]), \n",
    "                                                    'Aw_p_max': np.array([1])})\n",
    "                else:\n",
    "                    ids = np.where(chi * Aws_at_p_max[circuit_hash] > chi_min)[0]\n",
    "                    if len(ids) == 0 or not circuit._noisy: \n",
    "                        idx = 0 \n",
    "                    else:\n",
    "                        delta = self.tree.delta(ckey='Aw_p_max')\n",
    "                        v_L = self.tree.var(ckey='Aw_p_max')\n",
    "                        p_L = self.tree.rate(ckey='Aw_p_max')\n",
    "\n",
    "                        if not ERV_sel:\n",
    "                            idx = np.random.choice(ids)\n",
    "                        else:\n",
    "                            erv_deltas = []\n",
    "                            for idx in ids:\n",
    "                                Aw = Aws[circuit_hash][idx]\n",
    "                                Aw_p_max = Aws_at_p_max[circuit_hash][idx]\n",
    "                                w_vec = w_vecs[circuit_hash][idx]\n",
    "\n",
    "                                _tree_node = self.tree.add(w_vec, node_cls=Constant, parent=tree_node, data={'Aw': Aw, 'Aw_p_max': Aw_p_max})\n",
    "                                __tree_node = self.tree.add('FAIL', node_cls=Fail, parent=_tree_node)\n",
    "                                _delta = self.tree.delta(ckey='Aw_p_max')\n",
    "                                _rate = __tree_node.rate\n",
    "\n",
    "                                _tree_node.counts += 1\n",
    "                                v_L_minus = self.tree.var(ckey='Aw_p_max')\n",
    "\n",
    "                                __tree_node.counts += 1\n",
    "                                v_L_plus = self.tree.var(ckey='Aw_p_max')\n",
    "\n",
    "                                _v_L = _rate * v_L_plus + (1 - _rate) * v_L_minus\n",
    "                                erv_delta = np.abs(v_L - _v_L) + (delta - _delta)\n",
    "                                erv_deltas.append( erv_delta )\n",
    "\n",
    "                                # revert the change\n",
    "                                _tree_node.counts -= 1\n",
    "                                __tree_node.counts -= 1\n",
    "                                if _tree_node.counts == 0: self.tree.detach(_tree_node)\n",
    "                                if __tree_node.counts == 0: self.tree.detach(__tree_node)\n",
    "\n",
    "                            idx = np.argmax(erv_deltas)\n",
    "                            idx = ids[idx]\n",
    "\n",
    "                    Aw = Aws[circuit_hash][idx]\n",
    "                    Aw_p_max = Aws_at_p_max[circuit_hash][idx]\n",
    "                    w_vec = w_vecs[circuit_hash][idx]\n",
    "                    chi *= Aw_p_max\n",
    "\n",
    "                    faults = Depolar.faults_from_weights(partitions[circuit_hash], w_vec)\n",
    "                    fault_circuit = Depolar.gen_circuit(len(circuit), faults)\n",
    "                    msmt = sim.run(circuit, fault_circuit)\n",
    "\n",
    "                    tree_node = self.tree.add(name=w_vec, node_cls=Constant, parent=tree_node, data={'Aw': Aw, 'Aw_p_max': Aw_p_max},\n",
    "                                              deterministic=True if circuit._ff_deterministic and not any(w_vec) else False)\n",
    "                    \n",
    "                tree_node.counts += 1\n",
    "                node = p_it.send(msmt if msmt==None else int(msmt,2)) # exchange with iterator \n",
    "                \n",
    "                if node == None: name, node_cls = \"NO FAIL\", NoFail\n",
    "                elif node == 'FAIL': name, node_cls = node, Fail\n",
    "                else: name, node_cls = node, Variable\n",
    "                tree_node = self.tree.add(name=name, node_cls=node_cls, parent=tree_node)\n",
    "                tree_node.counts += 1\n",
    "                \n",
    "            \n",
    "            if p_L > 0 and (np.sqrt(v_L) + delta) / p_L < RSE_target: \n",
    "                print(f'RSE target of {RSE_target} reached.') \n",
    "                break\n",
    "         \n",
    "        v_L = self.tree.var(ckey='Aw')\n",
    "        p_L_low = self.tree.rate(ckey='Aw')\n",
    "        p_L_low = np.zeros_like(v_L) if type(p_L_low) == int else p_L_low # if all paths fault free: return array of 0s\n",
    "        p_L_up = p_L_low + self.tree.delta(ckey='Aw')\n",
    "               \n",
    "        return p_L_low, p_L_up, np.sqrt(v_L)\n",
    "    \n",
    "    def __str__(self):\n",
    "        return self.tree.__str__()"
   ]
  },
  {
   "cell_type": "code",
   "execution_count": null,
   "metadata": {},
   "outputs": [
    {
     "name": "stderr",
     "output_type": "stream",
     "text": [
      "100%|███████████████████████████████████████████████████████████| 1000/1000 [00:02<00:00, 392.85it/s]"
     ]
    },
    {
     "name": "stdout",
     "output_type": "stream",
     "text": [
      "ghz (1000/1000)\n",
      "├── (0,) (Aw: 9.94e-01,...,0.00e+00, Aw_p_max: 6.06e-01)\n",
      "│   └── NO FAIL (617/617, 9.57e-06)\n",
      "├── (1,) (Aw: 5.97e-03,...,0.00e+00, Aw_p_max: 3.16e-01)\n",
      "│   ├── NO FAIL (169/317, 2.98e-03)\n",
      "│   └── ghz (148/317, 2.98e-03)\n",
      "│       ├── (0,) (Aw: 9.94e-01,...,0.00e+00, Aw_p_max: 6.06e-01)\n",
      "│       │   └── NO FAIL (96/96, 3.70e-04)\n",
      "│       ├── (1,) (Aw: 5.97e-03,...,0.00e+00, Aw_p_max: 3.16e-01)\n",
      "│       │   ├── ghz (20/45, 1.94e-02)\n",
      "│       │   │   ├── (0,) (Aw: 9.94e-01,...,0.00e+00, Aw_p_max: 6.06e-01)\n",
      "│       │   │   │   └── NO FAIL (17/17, 8.49e-03)\n",
      "│       │   │   └── (1,) (Aw: 5.97e-03,...,0.00e+00, Aw_p_max: 3.16e-01)\n",
      "│       │   │       ├── EXIT (2/3, 1.34e-01)\n",
      "│       │   │       └── NO FAIL (1/3, 1.34e-01)\n",
      "│       │   └── NO FAIL (25/45, 1.94e-02)\n",
      "│       └── (2,) (Aw: 1.49e-05,...,0.00e+00, Aw_p_max: 6.88e-02)\n",
      "│           ├── NO FAIL (4/7, 8.74e-02)\n",
      "│           └── ghz (3/7, 8.74e-02)\n",
      "│               └── (0,) (Aw: 9.94e-01,...,0.00e+00, Aw_p_max: 6.06e-01)\n",
      "│                   └── NO FAIL (3/3, 7.88e-02)\n",
      "└── (2,) (Aw: 1.49e-05,...,0.00e+00, Aw_p_max: 6.88e-02)\n",
      "    ├── ghz (36/66, 1.36e-02)\n",
      "    │   ├── (0,) (Aw: 9.94e-01,...,0.00e+00, Aw_p_max: 6.06e-01)\n",
      "    │   │   └── NO FAIL (25/25, 4.44e-03)\n",
      "    │   └── (1,) (Aw: 5.97e-03,...,0.00e+00, Aw_p_max: 3.16e-01)\n",
      "    │       ├── ghz (7/11, 6.11e-02)\n",
      "    │       │   └── (0,) (Aw: 9.94e-01,...,0.00e+00, Aw_p_max: 6.06e-01)\n",
      "    │       │       └── NO FAIL (7/7, 3.14e-02)\n",
      "    │       └── NO FAIL (4/11, 6.11e-02)\n",
      "    └── NO FAIL (30/66, 1.36e-02)\n"
     ]
    },
    {
     "name": "stderr",
     "output_type": "stream",
     "text": [
      "\n"
     ]
    }
   ],
   "source": [
    "#slow\n",
    "\n",
    "from qsam.simulators.chp import ChpSimulator as CHP\n",
    "\n",
    "sample_range = np.logspace(-3,0,10)\n",
    "err_params = {'p': 1}\n",
    "\n",
    "sam = SubsetSampler(g, CHP)\n",
    "p_L_low, p_L_up, ss_std = sam.run(1000, sample_range, err_params, ERV_sel=True, RSE_target=0.8, chi_min=1e-2, p_max=0.08, eval_fns=functions)\n",
    "print(sam)"
   ]
  },
  {
   "cell_type": "code",
   "execution_count": null,
   "metadata": {},
   "outputs": [
    {
     "data": {
      "image/png": "[encoded data removed]",
      "text/plain": [
       "<Figure size 432x288 with 1 Axes>"
      ]
     },
     "metadata": {
      "needs_background": "light"
     },
     "output_type": "display_data"
    }
   ],
   "source": [
    "#slow\n",
    "#hide_input\n",
    "\n",
    "import matplotlib.pyplot as plt\n",
    "\n",
    "p = sample_range\n",
    "plt.errorbar(p, p_L, fmt='--', c=\"black\", yerr=std, label=\"Direct MC\")\n",
    "\n",
    "plt.plot(p, p_L_low, label=\"SS low\")\n",
    "plt.fill_between(p, p_L_low-ss_std, p_L_low+ss_std, alpha=0.2)\n",
    "\n",
    "plt.plot(p, p_L_up, label=\"SS up\")\n",
    "plt.fill_between(p, p_L_up-ss_std, p_L_up+ss_std, alpha=0.2)\n",
    "\n",
    "plt.plot(p, p, 'k:', alpha=0.5)\n",
    "plt.xscale('log')\n",
    "plt.yscale('log')\n",
    "plt.legend();"
   ]
  },
  {
   "cell_type": "code",
   "execution_count": null,
   "metadata": {},
   "outputs": [
    {
     "data": {
      "text/markdown": [
       "<h2 id=\"SubsetSampler\" class=\"doc_header\"><code>class</code> <code>SubsetSampler</code><a href=\"\" class=\"source_link\" style=\"float:right\">[source]</a></h2>\n",
       "\n",
       "> <code>SubsetSampler</code>(**`protocol`**, **`simulator`**) :: [`SubsetAnalytics`](/qsam/samplers.sampler_mixins.html#SubsetAnalytics)\n",
       "\n",
       "Subset Sampler of quantum protocols"
      ],
      "text/plain": [
       "<IPython.core.display.Markdown object>"
      ]
     },
     "metadata": {},
     "output_type": "display_data"
    }
   ],
   "source": [
    "show_doc(SubsetSampler)"
   ]
  },
  {
   "cell_type": "markdown",
   "metadata": {},
   "source": [
    "**Documentation & plots missing...**"
   ]
  },
  {
   "cell_type": "code",
   "execution_count": null,
   "metadata": {},
   "outputs": [],
   "source": []
  }
 ],
 "metadata": {
  "kernelspec": {
   "display_name": "Python 3 (ipykernel)",
   "language": "python",
   "name": "python3"
  }
 },
 "nbformat": 4,
 "nbformat_minor": 4
}
