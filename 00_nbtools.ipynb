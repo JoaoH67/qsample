{
 "cells": [
  {
   "cell_type": "code",
   "execution_count": null,
   "id": "a206804f-f7a1-471f-ab95-986b28146a26",
   "metadata": {},
   "outputs": [],
   "source": [
    "# default_exp nbtools"
   ]
  },
  {
   "cell_type": "markdown",
   "id": "ed991fcc-cf0d-4aaa-bae4-ff2b0b25d386",
   "metadata": {},
   "source": [
    "# Nbtools\n",
    "\n",
    "> Implements several useful methods to make aid the library creation process."
   ]
  },
  {
   "cell_type": "markdown",
   "id": "eeb56fe6-1a45-445f-bdcc-e1e8f5636712",
   "metadata": {},
   "source": [
    "This library is object-oriented, thus there are quite a few classes which need to be defined. Sometimes it is useful to split a long class up into several cells. This is what the `patch` decorator is for."
   ]
  },
  {
   "cell_type": "code",
   "execution_count": null,
   "id": "1c44eef7-1485-467e-8b5b-123a518b1a11",
   "metadata": {},
   "outputs": [],
   "source": [
    "import functools\n",
    "\n",
    "# export\n",
    "def patch(cls):\n",
    "    def decorate(cls,func):\n",
    "        setattr(cls,func.__name__,func)\n",
    "        return func\n",
    "    return functools.partial(decorate, cls)"
   ]
  },
  {
   "cell_type": "markdown",
   "id": "21d51d11-ac88-490f-baa3-59102084707d",
   "metadata": {},
   "source": [
    "`patch` allows us to insert a function into a given class. Let's see how it works:"
   ]
  },
  {
   "cell_type": "code",
   "execution_count": null,
   "id": "defb7aae-e543-4657-903e-645ca26c2122",
   "metadata": {},
   "outputs": [],
   "source": [
    "class A:\n",
    "    def __init__(self, greeting):\n",
    "        self.greeting = greeting\n",
    "\n",
    "@patch(A)\n",
    "def greet(self, name):\n",
    "    return self.greeting + \" \" + name\n",
    "\n",
    "a = A('Hi')\n",
    "assert a.greet('Joe') == 'Hi Joe'"
   ]
  },
  {
   "cell_type": "markdown",
   "id": "cc89f18f-a7dc-4ca8-8d40-7be7f05b86c9",
   "metadata": {},
   "source": [
    "However, we cannot use this decorator to define class properties. For those use the `property` keyword and define the property directly on the class."
   ]
  },
  {
   "cell_type": "code",
   "execution_count": null,
   "id": "9963187a-3a2a-44b8-b7da-a9379bcdfc20",
   "metadata": {},
   "outputs": [
    {
     "name": "stdout",
     "output_type": "stream",
     "text": [
      "Hi property\n"
     ]
    }
   ],
   "source": [
    "A.prop = property(lambda self: self.greet('property'))\n",
    "print(a.prop)"
   ]
  },
  {
   "cell_type": "markdown",
   "id": "808eb679-5101-4aa4-a28f-b3aae8018539",
   "metadata": {},
   "source": [
    "Let's inspect the class we just created:"
   ]
  },
  {
   "cell_type": "code",
   "execution_count": null,
   "id": "d555a0e9-389f-455e-b1a4-59e5a1bebcb3",
   "metadata": {},
   "outputs": [
    {
     "name": "stdout",
     "output_type": "stream",
     "text": [
      "{'__module__': '__main__', '__init__': <function A.__init__ at 0x7fc320900160>, '__dict__': <attribute '__dict__' of 'A' objects>, '__weakref__': <attribute '__weakref__' of 'A' objects>, '__doc__': None, 'greet': <function greet at 0x7fc320900670>, 'prop': <property object at 0x7fc320ae7240>}\n"
     ]
    }
   ],
   "source": [
    "print(A.__dict__)"
   ]
  }
 ],
 "metadata": {
  "kernelspec": {
   "display_name": "Python 3 (ipykernel)",
   "language": "python",
   "name": "python3"
  }
 },
 "nbformat": 4,
 "nbformat_minor": 5
}
