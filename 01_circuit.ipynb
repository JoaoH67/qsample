{
 "cells": [
  {
   "cell_type": "code",
   "execution_count": null,
   "metadata": {},
   "outputs": [],
   "source": [
    "# default_exp circuit"
   ]
  },
  {
   "cell_type": "markdown",
   "metadata": {},
   "source": [
    "# Circuit\n",
    "\n",
    "> Representation of a quantum circuit."
   ]
  },
  {
   "cell_type": "code",
   "execution_count": null,
   "metadata": {},
   "outputs": [],
   "source": [
    "# hide\n",
    "from nbdev.showdoc import *"
   ]
  },
  {
   "cell_type": "code",
   "execution_count": null,
   "metadata": {},
   "outputs": [],
   "source": [
    "# export\n",
    "from collections.abc import MutableSequence\n",
    "from functools import cached_property"
   ]
  },
  {
   "cell_type": "markdown",
   "metadata": {},
   "source": [
    "A circuit is a list of ticks. A tick consists of gates associated to qubits. We can have one-qubit gates which are applied to single gate locations and two-qubit gates which are applied to an ordered (control,target)-qubit pair. For simplicity, we implement this as a list of dictionaries. Each tick is represented by a dictionary (a *tick*tionary if you may) which holds the `gate_symbol` as key and the set of `qubits` we want to apply these gates to as values. Qubits can be either *integers* for single-qubit locations or *tuples* for two-qubit locations."
   ]
  },
  {
   "cell_type": "code",
   "execution_count": null,
   "metadata": {},
   "outputs": [],
   "source": [
    "#export\n",
    "class Circuit(MutableSequence):\n",
    "    \"\"\"Representation of a quantum circuit\"\"\"\n",
    "    \n",
    "    def __init__(self, ticks=None, failures=None):\n",
    "        self._ticks = ticks if ticks else []\n",
    "        \n",
    "    def __getitem__(self, tick_index):\n",
    "        return self._ticks[tick_index]\n",
    "    \n",
    "    def __setitem__(self, tick_index, tick):\n",
    "        self._ticks[tick_index] = tick\n",
    "        \n",
    "    def __delitem__(self, tick_index):\n",
    "        del self._ticks[tick_index]\n",
    "        \n",
    "    def __len__(self):\n",
    "        return len(self._ticks)\n",
    "    \n",
    "    def insert(self, tick_index, tick):\n",
    "        self._ticks.insert(tick_index, tick)\n",
    "    \n",
    "    def __str__(self):\n",
    "        str_list = []\n",
    "        for i, tick in enumerate(self._ticks):\n",
    "            str_list.append(f\"{i}: {str(tick)}\")\n",
    "        return \"\\n\".join(str_list)\n",
    "    \n",
    "    def __repr__(self):\n",
    "        return self.__str__()\n",
    "    \n",
    "    @property\n",
    "    def _qubits(self):  \n",
    "        \"\"\"Set of qubits used in circuit\"\"\"\n",
    "        return set(unpack(self._ticks))\n",
    "    \n",
    "    @cached_property\n",
    "    def n_qubits(self):\n",
    "        \"\"\"Number of qubits used in circuit\"\"\"\n",
    "        return len(self._qubits)\n",
    "    \n",
    "    @property\n",
    "    def n_ticks(self):\n",
    "        \"\"\"Number of ticks\"\"\"\n",
    "        return len(self._ticks)"
   ]
  },
  {
   "cell_type": "markdown",
   "metadata": {},
   "source": [
    "As `Circuit` is a `MutableSequence` we get all the Pythonic list functionality for free. Let's check several ways we can create and add to a circuit."
   ]
  },
  {
   "cell_type": "code",
   "execution_count": null,
   "metadata": {},
   "outputs": [],
   "source": [
    "circuit = Circuit([{'H': {1,2,3}}])\n",
    "assert circuit._ticks == [{'H': {1,2,3}}]"
   ]
  },
  {
   "cell_type": "code",
   "execution_count": null,
   "metadata": {},
   "outputs": [],
   "source": [
    "circuit.append({'X': {0,1}, 'CNOT':{(2,3)}})\n",
    "assert circuit._ticks == [{'H': {1,2,3}}, {'X': {0,1}, 'CNOT':{(2,3)}}]"
   ]
  },
  {
   "cell_type": "code",
   "execution_count": null,
   "metadata": {},
   "outputs": [],
   "source": [
    "circuit += [{'CNOT':{(2,3),(0,1)}}]\n",
    "assert circuit._ticks == [{'H': {1,2,3}}, {'X': {0,1}, 'CNOT':{(2,3)}}, {'CNOT': {(2,3),(0,1)}}]"
   ]
  },
  {
   "cell_type": "code",
   "execution_count": null,
   "metadata": {},
   "outputs": [],
   "source": [
    "circuit[0] = {'Y': {0,3}}\n",
    "assert circuit._ticks == [{'Y': {0,3}}, {'X': {0,1}, 'CNOT':{(2,3)}}, {'CNOT': {(2,3),(0,1)}}]"
   ]
  },
  {
   "cell_type": "markdown",
   "metadata": {},
   "source": [
    "Of course we can also print our `Circuit`. We get a list of ticks and the corresponding ticks which are sequentially applied to our state during simulation."
   ]
  },
  {
   "cell_type": "code",
   "execution_count": null,
   "metadata": {},
   "outputs": [
    {
     "name": "stdout",
     "output_type": "stream",
     "text": [
      "0: {'Y': {0, 3}}\n",
      "1: {'X': {0, 1}, 'CNOT': {(2, 3)}}\n",
      "2: {'CNOT': {(2, 3), (0, 1)}}\n"
     ]
    }
   ],
   "source": [
    "print(circuit)"
   ]
  },
  {
   "cell_type": "markdown",
   "metadata": {},
   "source": [
    "Furthermore, our `Circuit` class gives us some useful information about the circuit, as"
   ]
  },
  {
   "cell_type": "code",
   "execution_count": null,
   "metadata": {},
   "outputs": [
    {
     "data": {
      "text/markdown": [
       "<h4 id=\"Circuit.n_qubits\" class=\"doc_header\"><code>Circuit.n_qubits</code><a href=\"\" class=\"source_link\" style=\"float:right\">[source]</a></h4>\n",
       "\n",
       "Number of qubits used in circuit"
      ],
      "text/plain": [
       "<IPython.core.display.Markdown object>"
      ]
     },
     "metadata": {},
     "output_type": "display_data"
    },
    {
     "data": {
      "text/markdown": [
       "<h4 id=\"Circuit.n_ticks\" class=\"doc_header\"><code>Circuit.n_ticks</code><a href=\"\" class=\"source_link\" style=\"float:right\">[source]</a></h4>\n",
       "\n",
       "Number of ticks"
      ],
      "text/plain": [
       "<IPython.core.display.Markdown object>"
      ]
     },
     "metadata": {},
     "output_type": "display_data"
    }
   ],
   "source": [
    "show_doc(Circuit.n_qubits)\n",
    "show_doc(Circuit.n_ticks)"
   ]
  },
  {
   "cell_type": "markdown",
   "metadata": {},
   "source": [
    "# Circuit helper functions\n",
    "Sometimes it is useful to get a list of all the qubits which are \"touched\" in a circuit. From this we can for example infer the total number of qubits in a circuit without ever specifying them directly. Now, we define a `Circuit` as a list of ticks where each tick is represented by a dictionary and the values of these dictionaries contain sets of qubits. These sets can either contain integers or tuples of two integers of qubit indices. Thus, we need a way to unpack (or flatten) all these tuples first before we can merge the indices together in a list. `unpack` accomplishes this recursively."
   ]
  },
  {
   "cell_type": "code",
   "execution_count": null,
   "metadata": {},
   "outputs": [],
   "source": [
    "#export\n",
    "def unpack(seq):\n",
    "    \"\"\"Generator for all qubits defined in a (sub)circuit\"\"\"\n",
    "    \n",
    "    if isinstance(seq, (tuple,set,list)):\n",
    "        yield from (x for y in seq for x in unpack(y))\n",
    "    elif isinstance(seq, dict):\n",
    "        yield from (x for v in seq.values() for y in v for x in unpack(y))\n",
    "    else:\n",
    "        yield seq"
   ]
  },
  {
   "cell_type": "markdown",
   "metadata": {},
   "source": [
    "Let's see how it works. We give it a list of dictionaries as a representation for some circuit."
   ]
  },
  {
   "cell_type": "code",
   "execution_count": null,
   "metadata": {},
   "outputs": [
    {
     "name": "stdout",
     "output_type": "stream",
     "text": [
      "[1, 2, 3, 0, 1, 2, 3, 1, 5]\n"
     ]
    }
   ],
   "source": [
    "circuit = [{'H': {1, 2, 3}}, {'X': {0, 1}, 'CNOT': {(2, 3), (1,5)}}]\n",
    "print(list(unpack(circuit)))"
   ]
  },
  {
   "cell_type": "markdown",
   "metadata": {},
   "source": [
    "As we can see, the output does, exactly as we expected, contains a list of all the qubits in the order we defined them in the circuit where tuples are correctly unpacked as well."
   ]
  },
  {
   "cell_type": "markdown",
   "metadata": {},
   "source": [
    "Another useful method which is of particular interest for the creation of multi-parameter noise models is `partition`. This function allows us to scan a `Circuit` for certain gates and return a list of `(tick_index,qubits)`-tuples which represent a certain `partition` of a circuit. For example we could pass the gate symbols for all two-qubit gates to `partition` to retrieve a list of all circuit locations where two-qubit gates are present. This list can be subsequently used for example to randomly select faulty locations with some probability."
   ]
  },
  {
   "cell_type": "code",
   "execution_count": null,
   "metadata": {},
   "outputs": [],
   "source": [
    "#export\n",
    "def partition(circuit,gates):\n",
    "    \"\"\"Find all (tick,qubit) circuit locations for list of `gates`\"\"\"\n",
    "    \n",
    "    return [(t_idx,q) for (t_idx,tick) in enumerate(circuit) \n",
    "            for g,qs in tick.items() for q in qs if g.upper() in gates]"
   ]
  },
  {
   "cell_type": "code",
   "execution_count": null,
   "metadata": {},
   "outputs": [
    {
     "name": "stdout",
     "output_type": "stream",
     "text": [
      "[(1, 0), (1, 1)]\n",
      "[(0, 1), (0, 2), (0, 3), (1, 0), (1, 1)]\n",
      "[(1, (2, 3)), (1, (1, 5))]\n"
     ]
    }
   ],
   "source": [
    "print(partition(circuit, [\"X\"]))\n",
    "print(partition(circuit, [\"X\",\"H\"]))\n",
    "print(partition(circuit, [\"CNOT\"]))"
   ]
  },
  {
   "cell_type": "markdown",
   "metadata": {},
   "source": [
    "If we want to use circuits as keys in dictionaries we first need to create a hash, i.e. a unique ID for a particular circuit. As a circuit is in general a mutable object we cannot hash it itself. The external function `make_hash` generates a hash for a circuit."
   ]
  },
  {
   "cell_type": "code",
   "execution_count": null,
   "metadata": {},
   "outputs": [],
   "source": [
    "#hide\n",
    "#export\n",
    "def freeze(obj):\n",
    "    if isinstance(obj, dict): # dicts to frozensets\n",
    "        return frozenset({k:freeze(v) for k,v in obj.items()}.items())\n",
    "    if isinstance(obj, (set,tuple,list)):\n",
    "        return tuple([freeze(v) for v in obj]) # lists sets and tuples to tuples\n",
    "    return obj # hashable object"
   ]
  },
  {
   "cell_type": "code",
   "execution_count": null,
   "metadata": {},
   "outputs": [],
   "source": [
    "#export\n",
    "def make_hash(circuit):\n",
    "    return hash(freeze(circuit))"
   ]
  },
  {
   "cell_type": "code",
   "execution_count": null,
   "metadata": {},
   "outputs": [
    {
     "name": "stdout",
     "output_type": "stream",
     "text": [
      "-2227223373693009670\n",
      "2112759809525957455\n"
     ]
    }
   ],
   "source": [
    "circuit = [{'H': {1, 2, 3}}, {'X': {0, 1}, 'CNOT': {(2, 3), (1,5)}}]\n",
    "circuit2 = [{'H': {1, 2, 3}}, {'X': {0, 1}}]\n",
    "\n",
    "print(make_hash(circuit))\n",
    "print(make_hash(circuit2))"
   ]
  }
 ],
 "metadata": {
  "kernelspec": {
   "display_name": "Python 3 (ipykernel)",
   "language": "python",
   "name": "python3"
  }
 },
 "nbformat": 4,
 "nbformat_minor": 4
}
