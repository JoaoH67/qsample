{
 "cells": [
  {
   "cell_type": "code",
   "execution_count": null,
   "metadata": {},
   "outputs": [],
   "source": [
    "# default_exp simulators.simulator"
   ]
  },
  {
   "cell_type": "markdown",
   "metadata": {},
   "source": [
    "# Simulator\n",
    "\n",
    "> Interface for working with quantum state simulators."
   ]
  },
  {
   "cell_type": "code",
   "execution_count": null,
   "metadata": {},
   "outputs": [],
   "source": [
    "# hide\n",
    "from nbdev.showdoc import *"
   ]
  },
  {
   "cell_type": "markdown",
   "metadata": {},
   "source": [
    "`Simulator` is a base class that all simulators will inherit from. It defines two methods `_apply_gate` and `run`, of which only the latter `run` method exposes the main functionality of a simulator in which we are interested in for applications."
   ]
  },
  {
   "cell_type": "code",
   "execution_count": null,
   "metadata": {},
   "outputs": [],
   "source": [
    "#export\n",
    "class Simulator:\n",
    "    \"\"\"Interface for quantum state simulation\"\"\"\n",
    "    \n",
    "    def __init__(self, n_qubits):\n",
    "        self.n_qubits = n_qubits\n",
    "        \n",
    "    def _apply_gate(self, gate_symbol, qubits):\n",
    "        \"\"\"Apply a gate to the `qubits` of the current state.\"\"\"\n",
    "        gate = getattr(self, gate_symbol)    \n",
    "        args = (qubits,) if type(qubits)==int else qubits\n",
    "        return gate(*args)\n",
    "    \n",
    "    def run(self, circuit, fault_circuit=None):\n",
    "        \"\"\"Apply gates in `circuit` sequentially to current state.\n",
    "        If `fault_circuit` is specified apply fault gates at end of each tick.\"\"\"\n",
    "        \n",
    "        msmt_res = []\n",
    "        for tick_index in range(circuit.n_ticks):\n",
    "            \n",
    "            for gate, qubits in circuit[tick_index].items():\n",
    "                for qubit in qubits:\n",
    "                    res = self._apply_gate(gate, qubit)\n",
    "                    if res==0 or res==1: \n",
    "                        msmt_res.append( res )\n",
    "                    \n",
    "            for f_gate, f_qubits in fault_circuit[tick_index].items():\n",
    "                for f_qubit in f_qubits:\n",
    "                    self._apply_gate(f_gate, f_qubit)\n",
    "                    \n",
    "        return int(''.join(map(str,msmt_res)), 2)"
   ]
  },
  {
   "cell_type": "markdown",
   "metadata": {},
   "source": [
    "A quantum state simulation in the circuit model always consists of some representation of a quantum state and some gates (or a sequence of gates, i.e. a `Circuit`) we want to (sequentially) apply to this state. Which gates we can apply depends on the specific simulator we are using. Stabilizer simulators for instance do not include any continuous rotations, while state vector simulators do. Thus, we would expect our `Simulator` object to always yield an error when we try to apply gates to it which the simulator cannot simulate. Let's show this for our base simulator class which doesn't contain any gate definition so far, by making use of the `_apply_gate` method."
   ]
  },
  {
   "cell_type": "code",
   "execution_count": null,
   "metadata": {},
   "outputs": [
    {
     "data": {
      "text/markdown": [
       "<h4 id=\"Simulator._apply_gate\" class=\"doc_header\"><code>Simulator._apply_gate</code><a href=\"__main__.py#L8\" class=\"source_link\" style=\"float:right\">[source]</a></h4>\n",
       "\n",
       "> <code>Simulator._apply_gate</code>(**`gate_symbol`**, **`qubits`**)\n",
       "\n",
       "Apply a gate to the `qubits` of the current state."
      ],
      "text/plain": [
       "<IPython.core.display.Markdown object>"
      ]
     },
     "metadata": {},
     "output_type": "display_data"
    }
   ],
   "source": [
    "show_doc(Simulator._apply_gate)"
   ]
  },
  {
   "cell_type": "code",
   "execution_count": null,
   "metadata": {},
   "outputs": [
    {
     "name": "stdout",
     "output_type": "stream",
     "text": [
      "'Simulator' object has no attribute 'X'\n"
     ]
    }
   ],
   "source": [
    "s = Simulator(n_qubits=1)\n",
    "try:\n",
    "    s._apply_gate(\"X\", 0) \n",
    "except AttributeError as e:\n",
    "    print(e)"
   ]
  },
  {
   "cell_type": "markdown",
   "metadata": {},
   "source": [
    "As expected, we get an AttributeError, which means the class doesn't implement anything by the name of this gate (\"X\"). The way we are going to implement gates later in the simulators is by means of functions which may or may not return something (think measurements, which we treat in the same way as \"gates\" and for which we want to get some result back)."
   ]
  },
  {
   "cell_type": "markdown",
   "metadata": {},
   "source": [
    "Now, let's focus on the central functionality of the simulator, the `run` function."
   ]
  },
  {
   "cell_type": "code",
   "execution_count": null,
   "metadata": {},
   "outputs": [
    {
     "data": {
      "text/markdown": [
       "<h4 id=\"Simulator.run\" class=\"doc_header\"><code>Simulator.run</code><a href=\"__main__.py#L13\" class=\"source_link\" style=\"float:right\">[source]</a></h4>\n",
       "\n",
       "> <code>Simulator.run</code>(**`circuit`**, **`fault_circuit`**=*`None`*)\n",
       "\n",
       "Apply gates in `circuit` sequentially to current state.\n",
       "If `fault_circuit` is specified apply fault gates at end of each tick."
      ],
      "text/plain": [
       "<IPython.core.display.Markdown object>"
      ]
     },
     "metadata": {},
     "output_type": "display_data"
    }
   ],
   "source": [
    "show_doc(Simulator.run)"
   ]
  },
  {
   "cell_type": "markdown",
   "metadata": {},
   "source": [
    "**TODO** Tests for `run` method"
   ]
  }
 ],
 "metadata": {
  "kernelspec": {
   "display_name": "Python 3 (ipykernel)",
   "language": "python",
   "name": "python3"
  }
 },
 "nbformat": 4,
 "nbformat_minor": 4
}
