{
 "cells": [
  {
   "cell_type": "code",
   "execution_count": null,
   "metadata": {},
   "outputs": [],
   "source": [
    "# default_exp simulators.simulator_mixins"
   ]
  },
  {
   "cell_type": "markdown",
   "metadata": {},
   "source": [
    "# SimulatorMixins\n",
    "\n",
    "> A mixin for simulators to implement gate application defined in a given `circuit` and optional `fault_circuit`."
   ]
  },
  {
   "cell_type": "code",
   "execution_count": null,
   "metadata": {},
   "outputs": [],
   "source": [
    "# hide\n",
    "from nbdev.showdoc import *"
   ]
  },
  {
   "cell_type": "markdown",
   "metadata": {},
   "source": [
    "The `CircuitRunner` mixin defines two methods `_apply_gate` and `run`, of which only the latter `run` method exposes the main functionality of a simulator. "
   ]
  },
  {
   "cell_type": "code",
   "execution_count": null,
   "metadata": {},
   "outputs": [],
   "source": [
    "#export\n",
    "class CircuitRunnerMixin:\n",
    "    \"\"\"Simulator mixin for running quantum circuits\"\"\"\n",
    "        \n",
    "    def _apply_gate(self, gate_symbol, qubits):\n",
    "        \"\"\"Apply a gate to the `qubits` of the current state.\"\"\"\n",
    "        \n",
    "        gate = getattr(self, gate_symbolol)    \n",
    "        args = (qubits,) if type(qubits)==int else qubits\n",
    "        return gate(*args)\n",
    "    \n",
    "    def run(self, circuit, fault_circuit=None):\n",
    "        \"\"\"Apply gates in `circuit` sequentially to current state.\n",
    "        If `fault_circuit` is specified apply fault gates at end of each tick.\n",
    "        \n",
    "        Measurement results are saves in the order in which they appear in the\n",
    "        circuit into an output string.\"\"\"\n",
    "        \n",
    "        msmt_res = []\n",
    "        for tick_index in range(circuit.n_ticks):\n",
    "            \n",
    "            for gate, qubits in circuit[tick_index].items():\n",
    "                for qubit in qubits:\n",
    "                    res = self._apply_gate(gate, qubit)\n",
    "\n",
    "                    if res is not None:\n",
    "                        msmt_res.append( int(res.value) )\n",
    "            if fault_circuit:\n",
    "                for f_gate, f_qubits in fault_circuit[tick_index].items():\n",
    "                    for f_qubit in f_qubits:\n",
    "                        self._apply_gate(f_gate, f_qubit)\n",
    "\n",
    "        if msmt_res: \n",
    "            return ''.join(map(str, msmt_res))\n",
    "        else: \n",
    "            return None # no measurement"
   ]
  },
  {
   "cell_type": "markdown",
   "metadata": {},
   "source": [
    "This mixin is not meant to be used as a standalone object. It is rather meant to be referenced (i.e. inherited) by a `Simulator` class to implement the *circuit-running* functionality."
   ]
  },
  {
   "cell_type": "code",
   "execution_count": null,
   "metadata": {},
   "outputs": [
    {
     "name": "stdout",
     "output_type": "stream",
     "text": [
      "101\n"
     ]
    }
   ],
   "source": [
    "from qsam.circuit import Circuit\n",
    "from qsam.simulators.chp import MeasureResult\n",
    "\n",
    "class TestSim(CircuitRunnerMixin):\n",
    "    def X(self, i):\n",
    "        pass\n",
    "    def measure(self, i):\n",
    "        if i == 0 or i == 2:\n",
    "            return MeasureResult(value=True, determined=True)\n",
    "        elif i == 1:\n",
    "            return MeasureResult(value=False, determined=True)\n",
    "    \n",
    "circuit = Circuit([{'X': [1,2,3]}, {'measure': [2,1]}, {'measure': [0]}])\n",
    "\n",
    "test_sim = TestSim()\n",
    "res = test_sim.run(circuit) # TestSim knows how to run() a circuit\n",
    "print(res)"
   ]
  },
  {
   "cell_type": "markdown",
   "metadata": {},
   "source": [
    "The circuit run returns a string of measurement results. It is important to note that the order of bits in the measurement output follows the order of measurements defined in the circuit **exactly**. We can for example see that the first digit corresponds to the Z-measurement on qubit number 2, as this measurement is defined before the one on qubit number 1 in the same tick."
   ]
  }
 ],
 "metadata": {
  "kernelspec": {
   "display_name": "Python 3 (ipykernel)",
   "language": "python",
   "name": "python3"
  }
 },
 "nbformat": 4,
 "nbformat_minor": 4
}
