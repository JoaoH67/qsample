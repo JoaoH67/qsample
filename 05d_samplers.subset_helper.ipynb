{
 "cells": [
  {
   "cell_type": "code",
   "execution_count": null,
   "id": "bfe88472-3d07-4d25-b50a-69b7a59e6ed5",
   "metadata": {},
   "outputs": [],
   "source": [
    "# default_exp samplers.subset_helper"
   ]
  },
  {
   "cell_type": "markdown",
   "id": "788914c9-4f6f-4e2f-9c84-7a35bbfd8b13",
   "metadata": {},
   "source": [
    "# Subset Helper\n",
    "\n",
    "> Collection of functions to assist the subset sampling process."
   ]
  },
  {
   "cell_type": "code",
   "execution_count": null,
   "id": "2cf643a2-0d4e-4c24-8cdb-16a3bf34b36c",
   "metadata": {},
   "outputs": [],
   "source": [
    "# hide\n",
    "from nbdev.showdoc import *"
   ]
  },
  {
   "cell_type": "code",
   "execution_count": null,
   "id": "ca75ad72-4b4d-4016-8be1-f6cdb30a8ea2",
   "metadata": {},
   "outputs": [],
   "source": [
    "#export\n",
    "import qsam.math as math\n",
    "from qsam.circuit import partition\n",
    "from qsam.samplers.constants import *\n",
    "\n",
    "import itertools as it\n",
    "import functools\n",
    "import numpy as np"
   ]
  },
  {
   "cell_type": "markdown",
   "id": "9e02b623-088d-49d1-a30f-d3f4d80b6ec4",
   "metadata": {},
   "source": [
    "## Subset analytics"
   ]
  },
  {
   "cell_type": "code",
   "execution_count": null,
   "id": "7c17343b-d363-4641-aa04-77aadf121849",
   "metadata": {},
   "outputs": [],
   "source": [
    "#export\n",
    "def circuit_partitions(circ, partition_names):\n",
    "    return [partition(circ, GATE_GROUPS[name]) for name in partition_names]"
   ]
  },
  {
   "cell_type": "code",
   "execution_count": null,
   "id": "1a883521-f868-4870-b4b3-25319386ef5b",
   "metadata": {},
   "outputs": [],
   "source": [
    "#export\n",
    "def circuit_weight_vectors(w_max, w_exclude={}):\n",
    "    w_exclude = set((w,) if isinstance(w, int) else w for w in w_exclude)\n",
    "    w_maxs = [w_max] if isinstance(w_max, int) else w_max\n",
    "\n",
    "    w_upto_w_maxs = [tuple(range(w_max+1)) for w_max in w_maxs]\n",
    "    w_vecs = list(it.product( *w_upto_w_maxs ))\n",
    "    filtered_w_vecs = [w for w in w_vecs if w not in w_exclude]\n",
    "    return filtered_w_vecs"
   ]
  },
  {
   "cell_type": "code",
   "execution_count": null,
   "id": "b4147ead-3459-45f4-86c6-e25bbc320779",
   "metadata": {},
   "outputs": [],
   "source": [
    "#export\n",
    "def circuit_subset_occurence(partitions, partition_w_vecs, p_phy_per_partition):\n",
    "    \"\"\"Return (weight)x(p_phys) (parition) subset occurance matrix transforming p_SS vector to p_L vector\"\"\"\n",
    "    n_partition_elems = np.array([len(p) for p in partitions])\n",
    "    Aws = np.array([math.binom(w_vec, n_partition_elems, p_phy_per_partition) for w_vec in partition_w_vecs])\n",
    "    Aws = np.product(Aws, axis=-1) # mult Aws for multi-parameter, i.e. multi-partitions\n",
    "    return Aws"
   ]
  },
  {
   "cell_type": "code",
   "execution_count": null,
   "id": "894ba064-1110-42a1-9f8a-b18127503720",
   "metadata": {},
   "outputs": [],
   "source": [
    "#export\n",
    "def protocol_partitions(circuits_dict, partition_names):\n",
    "    return {c_hash: circuit_partitions(circ, partition_names)\n",
    "           for c_hash, circ in circuits_dict.items() if circ._noisy}"
   ]
  },
  {
   "cell_type": "code",
   "execution_count": null,
   "id": "a2b12352-cb3c-4c2a-aaff-dcafbeee0c0e",
   "metadata": {},
   "outputs": [],
   "source": [
    "#export\n",
    "def protocol_weight_vectors(partition_dict):\n",
    "    return {c_hash: circuit_weight_vectors([len(p) for p in partitions]) \n",
    "            for c_hash, partitions in partition_dict.items()}"
   ]
  },
  {
   "cell_type": "code",
   "execution_count": null,
   "id": "3d6800ee-8b82-4e62-be54-0dad470d35df",
   "metadata": {},
   "outputs": [],
   "source": [
    "#export\n",
    "def protocol_subset_occurence(partition_dict, w_vecs_dict, p_phys):\n",
    "    return {c_hash: circuit_subset_occurence(partition_dict[c_hash], w_vecs, p_phys)\n",
    "            for c_hash, w_vecs in w_vecs_dict.items()}"
   ]
  },
  {
   "cell_type": "markdown",
   "id": "064626f2-2d45-4163-af40-6194083b37b8",
   "metadata": {},
   "source": [
    "## Subset selection"
   ]
  },
  {
   "cell_type": "code",
   "execution_count": null,
   "id": "6d839a8e-1381-4cc1-b2d1-4ffa5eedf8e7",
   "metadata": {},
   "outputs": [],
   "source": [
    "#export\n",
    "def w_plus1_filter(sampler, w_ids, circuit_hash, **kwargs):\n",
    "    n_Aws = np.ma.array(sampler.Aws_pmax[circuit_hash])\n",
    "    n_Aws[w_ids,] = np.ma.masked # mask existing (already sampled) subsets\n",
    "    w_ids.append(np.argmax(n_Aws)) # add next most important subset as possible candidate\n",
    "    return w_ids"
   ]
  },
  {
   "cell_type": "code",
   "execution_count": null,
   "id": "cb2f412e-c25a-498c-b312-9666369e83ea",
   "metadata": {},
   "outputs": [],
   "source": [
    "#export\n",
    "def random_sel(w_ids, **kwargs):\n",
    "    return np.random.choice(w_ids)"
   ]
  },
  {
   "cell_type": "code",
   "execution_count": null,
   "id": "7b9aaa44-5ad6-497f-8d75-47a3b3cfacd2",
   "metadata": {},
   "outputs": [],
   "source": [
    "#export\n",
    "def ERV_sel(self, sampler, w_ids, circuit_hash, tree_node, **kwargs):\n",
    "    erv_deltas = []\n",
    "    v_L = sampler.tree.var(sampler.Aws_pmax)\n",
    "    delta = sampler.tree.delta(sampler.Aws_pmax)\n",
    "    for idx in w_ids:\n",
    "        w_vec = sampler.w_vecs[circuit_hash][idx]\n",
    "\n",
    "        _tree_node = sampler.tree.add(w_vec, parent=tree_node, ckey=(circuit_hash, idx))\n",
    "        __tree_node = sampler.tree.add('FAIL', parent=_tree_node, is_fail=True)\n",
    "        _delta = sampler.tree.delta(sampler.Aws_pmax)\n",
    "        _rate = __tree_node.rate\n",
    "\n",
    "        _tree_node.counts += 1        \n",
    "        v_L_minus = sampler.tree.var(sampler.Aws_pmax)\n",
    "\n",
    "        __tree_node.counts += 1\n",
    "        v_L_plus = sampler.tree.var(sampler.Aws_pmax)\n",
    "\n",
    "        _v_L = _rate * v_L_plus + (1 - _rate) * v_L_minus\n",
    "        erv_delta = np.abs(v_L - _v_L) + (delta - _delta) \n",
    "        # erv_delta = v_L - _v_L + (delta - _delta) # Check with new def of var\n",
    "        erv_deltas.append( erv_delta )\n",
    "\n",
    "        # revert the change\n",
    "        _tree_node.counts -= 1\n",
    "        __tree_node.counts -= 1\n",
    "        if _tree_node.counts == 0: sampler.tree.detach(_tree_node)\n",
    "        if __tree_node.counts == 0: sampler.tree.detach(__tree_node)\n",
    "    \n",
    "    idx = np.argmax(erv_deltas)\n",
    "    return w_ids[idx]"
   ]
  },
  {
   "cell_type": "code",
   "execution_count": null,
   "id": "a82c9759-c83d-4c72-b46a-501a33b79163",
   "metadata": {},
   "outputs": [],
   "source": []
  }
 ],
 "metadata": {
  "kernelspec": {
   "display_name": "Python 3 (ipykernel)",
   "language": "python",
   "name": "python3"
  }
 },
 "nbformat": 4,
 "nbformat_minor": 5
}
