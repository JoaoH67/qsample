{
 "cells": [
  {
   "cell_type": "code",
   "execution_count": 1,
   "id": "f78bce89",
   "metadata": {},
   "outputs": [],
   "source": [
    "import qsample as qs\n",
    "import time\n",
    "import stim\n",
    "import numpy as np\n",
    "import matplotlib.pyplot as plt\n",
    "import time\n",
    "import re\n",
    "from tqdm.notebook import tqdm"
   ]
  },
  {
   "cell_type": "markdown",
   "id": "f70036df",
   "metadata": {},
   "source": [
    "# Helpers"
   ]
  },
  {
   "cell_type": "code",
   "execution_count": 2,
   "id": "4896b9b0",
   "metadata": {},
   "outputs": [],
   "source": [
    "def dem2matrices(dem, n_detectors):\n",
    "    txt = dem.split('\\n')[1:-1]\n",
    "    dims = len(txt)\n",
    "    errors = np.zeros(dims)\n",
    "    err_locs = np.zeros((dims, n_detectors))\n",
    "\n",
    "    for i in range(dims):\n",
    "        errors[i] = re.findall('\\d?\\.?\\d+e?\\-?\\d+', txt[i])[0]\n",
    "        for j in re.findall('D\\d', txt[i]):\n",
    "            err_locs[i, int(j[1])]=1\n",
    "\n",
    "    return errors, err_locs\n",
    "\n",
    "\n",
    "def error_rate(errors, errloc, sequence):\n",
    "    dep = len(sequence)\n",
    "    err = len(errors)\n",
    "    errors=errors.reshape(1,-1)\n",
    "\n",
    "    result = np.stack((np.arange(2**err),) * err, axis=1)\n",
    "\n",
    "    divide = np.stack((2**np.arange(err)[::-1],)*2**err, axis=0) \n",
    "\n",
    "    result=result//divide%2      # Creates binary matrix\n",
    "\n",
    "    result=result[np.all(np.dot(result,errloc)%2==sequence, axis=1)] #find error combination that agrees with sequence\n",
    "    return np.sum(np.prod(errors*result+(1-errors)*(1-result), axis=1))"
   ]
  },
  {
   "cell_type": "code",
   "execution_count": 3,
   "id": "a1614739",
   "metadata": {},
   "outputs": [],
   "source": [
    "class node:\n",
    "    \n",
    "    def __init__(self, circuit):\n",
    "        self.circuit = circuit\n",
    "        self.zero = None\n",
    "        self.one = None\n",
    "        \n",
    "    def fail_path(self):\n",
    "        fails= []\n",
    "        path = []\n",
    "        if self.one=='1':\n",
    "            path = ['1']\n",
    "            fails.append(path)\n",
    "        else:\n",
    "            for p in self.one.fail_path():\n",
    "                p.append('1')\n",
    "                fails.append(p)\n",
    "        if self.zero!='0':\n",
    "            for p in self.zero.fail_path():\n",
    "                p.append('0')\n",
    "                fails.append(p)\n",
    "        return fails\n",
    "    \n",
    "    def fail_paths(self):\n",
    "        p = []\n",
    "        circs = []\n",
    "        for j in self.fail_path():\n",
    "            p.append(j[::-1])\n",
    "            \n",
    "        for j in p:\n",
    "            node = self\n",
    "            circ = node.circuit\n",
    "            for i in j[:-1]:\n",
    "                if i == '1':\n",
    "                    circ+=node.one.circuit\n",
    "                    node = node.one\n",
    "                if i == '0':\n",
    "                    circ+=node.zero.circuit\n",
    "                    node = node.zero\n",
    "            circs.append(circ)\n",
    "            \n",
    "        return p, circs"
   ]
  },
  {
   "cell_type": "markdown",
   "id": "b78aebbb",
   "metadata": {},
   "source": [
    "# QSample"
   ]
  },
  {
   "cell_type": "code",
   "execution_count": 4,
   "id": "de0475a8",
   "metadata": {},
   "outputs": [],
   "source": [
    "eft = qs.Circuit([  {\"init\": {0,1,2,4,3,5,6,7}},\n",
    "                    {\"H\": {0,1,3}},\n",
    "                    {\"CNOT\": {(0,4)}},\n",
    "                    {\"CNOT\": {(1,2)}},\n",
    "                    {\"CNOT\": {(3,5)}},\n",
    "                    {\"CNOT\": {(0,6)}},\n",
    "                    {\"CNOT\": {(3,4)}},\n",
    "                    {\"CNOT\": {(1,5)}},\n",
    "                    {\"CNOT\": {(0,2)}},\n",
    "                    {\"CNOT\": {(5,6)}},\n",
    "                    {\"CNOT\": {(4,7)}},\n",
    "                    {\"CNOT\": {(2,7)}},\n",
    "                    {\"CNOT\": {(5,7)}},\n",
    "                    {\"measure\": {7}} ])\n",
    "\n",
    "sz_123 = qs.Circuit([   {\"init\": {8}},\n",
    "                        {\"CNOT\": {(0,8)}},\n",
    "                        {\"CNOT\": {(1,8)}},\n",
    "                        {\"CNOT\": {(3,8)}},\n",
    "                        {\"CNOT\": {(6,8)}},\n",
    "                        {\"measure\": {8}}])\n",
    "\n",
    "meas7 = qs.Circuit([ {\"measure\": {0,1,2,3,4,5,6}} ], noisy=False)\n",
    "\n",
    "k1 = 0b0001111\n",
    "k2 = 0b1010101\n",
    "k3 = 0b0110011\n",
    "k12 = k1 ^ k2\n",
    "k23 = k2 ^ k3\n",
    "k13 = k1 ^ k3\n",
    "k123 = k12 ^ k3\n",
    "stabilizerGenerators = [k1, k2, k3]\n",
    "stabilizerSet = [0, k1, k2, k3, k12, k23, k13, k123]\n",
    "\n",
    "def hamming2(x, y):\n",
    "    count, z = 0, x ^ y\n",
    "    while z:\n",
    "        count += 1\n",
    "        z &= z - 1\n",
    "    return count\n",
    "\n",
    "\n",
    "def logErr(out):\n",
    "\n",
    "    c = np.array([hamming2(out, i) for i in stabilizerSet])\n",
    "    d = np.flatnonzero(c <= 1)\n",
    "    e = np.array([hamming2(out ^ (0b1111111), i) for i in stabilizerSet])\n",
    "    f = np.flatnonzero(e <= 1)\n",
    "    if len(d) != 0:\n",
    "        return False\n",
    "    elif len(f) != 0:\n",
    "        return True\n",
    "    if len(d) != 0 and len(f) != 0: \n",
    "        raise('-!-!-CANNOT BE TRUE-!-!-')\n",
    "\n",
    "def flagged_z_look_up_table_1(z):\n",
    "    s = [z]\n",
    "\n",
    "    if s == [1]:\n",
    "        return True\n",
    "    else: \n",
    "        return False\n",
    "\n",
    "functions = {\"logErr\": logErr, \"lut\": flagged_z_look_up_table_1}\n",
    "\n",
    "steane0 = qs.Protocol(check_functions=functions, fault_tolerant=True)\n",
    "\n",
    "steane0.add_nodes_from(['ENC', 'Z2', 'meas'], circuits=[eft, sz_123, meas7])\n",
    "steane0.add_node('X_COR', circuit=qs.Circuit([{'X': {6}}], noisy=True))\n",
    "steane0.add_edge('START', 'ENC', check='True')\n",
    "steane0.add_edge('ENC', 'meas', check='ENC[-1]==0')\n",
    "steane0.add_edge('ENC', 'Z2', check='ENC[-1]==1')\n",
    "steane0.add_edge('Z2', 'X_COR', check='lut(Z2[-1])')\n",
    "steane0.add_edge('Z2', 'meas', check='not lut(Z2[-1])')\n",
    "steane0.add_edge('X_COR', 'meas', check='True')\n",
    "steane0.add_edge('meas', 'FAIL', check='logErr(meas[-1])')"
   ]
  },
  {
   "cell_type": "code",
   "execution_count": 5,
   "id": "d75cebd3",
   "metadata": {},
   "outputs": [
    {
     "data": {
      "image/png": "[encoded data removed]",
      "text/plain": [
       "<Figure size 576x360 with 1 Axes>"
      ]
     },
     "metadata": {},
     "output_type": "display_data"
    }
   ],
   "source": [
    "steane0.draw(figsize=(8,5))"
   ]
  },
  {
   "cell_type": "code",
   "execution_count": 6,
   "id": "d60b5652",
   "metadata": {},
   "outputs": [],
   "source": [
    "err_model = qs.noise.E1\n",
    "q = [1e-5, 1e-4, 1e-3, 1e-2, 1e-1, 0.5]\n",
    "err_params = {'q': q}"
   ]
  },
  {
   "cell_type": "code",
   "execution_count": 7,
   "id": "34d55355",
   "metadata": {},
   "outputs": [
    {
     "data": {
      "application/vnd.jupyter.widget-view+json": {
       "model_id": "c77f3e62b2524c37ac794697c5278a26",
       "version_major": 2,
       "version_minor": 0
      },
      "text/plain": [
       "p=('1.00e-01',):   0%|          | 0/1000 [00:00<?, ?it/s]"
      ]
     },
     "metadata": {},
     "output_type": "display_data"
    }
   ],
   "source": [
    "begin = time.time()\n",
    "ss_sam = qs.SubsetSampler(protocol=steane0, simulator=qs.StabilizerSimulator,  p_max={'q': 0.1}, err_model=err_model, err_params=err_params, L=3)\n",
    "ss_sam.run(1000)\n",
    "end = time.time()\n",
    "qsample_time = end-begin"
   ]
  },
  {
   "cell_type": "markdown",
   "id": "e2fca45b",
   "metadata": {},
   "source": [
    "## STIM"
   ]
  },
  {
   "cell_type": "code",
   "execution_count": 8,
   "id": "e2a60656",
   "metadata": {},
   "outputs": [],
   "source": [
    "ENC = \"\"\"H 0 1 3\\nDEPOLARIZE1({}) 0 1 3\\n\n",
    "                    CNOT 0 4\\nDEPOLARIZE2({}) 0 4\\n\n",
    "                    CNOT 1 2\\nDEPOLARIZE2({}) 1 2\\n\n",
    "                    CNOT 3 5\\nDEPOLARIZE2({}) 3 5\\n\n",
    "                    CNOT 0 6\\nDEPOLARIZE2({}) 0 6\\n\n",
    "                    CNOT 3 4\\nDEPOLARIZE2({}) 3 4\\n\n",
    "                    CNOT 1 5\\nDEPOLARIZE2({}) 1 5\\n\n",
    "                    CNOT 0 2\\nDEPOLARIZE2({}) 0 2\\n\n",
    "                    CNOT 5 6\\nDEPOLARIZE2({}) 5 6\\n\n",
    "                    CNOT 4 7\\nDEPOLARIZE2({}) 4 7\\n\n",
    "                    CNOT 2 7\\nDEPOLARIZE2({}) 2 7\\n\n",
    "                    CNOT 5 7\\nDEPOLARIZE2({}) 5 7\\n\n",
    "                    M 7\\n\n",
    "                    DETECTOR rec[-1]\n",
    "                      \"\"\"\n",
    "\n",
    "sz_123 = \"\"\"CNOT 0 8\\nDEPOLARIZE2({}) 0 8\\n\n",
    "            CNOT 1 8\\nDEPOLARIZE2({}) 1 8\\n\n",
    "            CNOT 3 8\\nDEPOLARIZE2({}) 3 8\\n\n",
    "            CNOT 6 8\\nDEPOLARIZE2({}) 6 8\\n\n",
    "                        M 8\\n\n",
    "                        DETECTOR rec[-1]\\n\n",
    "                        TICK\\n\n",
    "                        \"\"\"\n",
    "\n",
    "x_cor = \"\"\"X 6\\nDEPOLARIZE1({}) 6\\n\"\"\"\n",
    "\n",
    "meas7 = \"TICK\\nM 0 1 2 3 4 5 6\\n\"\n",
    "\n",
    "\n",
    "KZ1 = \"\"\"\\nCNOT 3 9\\nCNOT 4 9\\nCNOT 5 9\\nCNOT 6 9\\nM 9\\n\"\"\"\n",
    "KZ2 = \"\"\"\\nCNOT 0 10\\nCNOT 2 10\\nCNOT 4 10\\nCNOT 6 10\\nM 10\\n\"\"\"\n",
    "KZ3 = \"\"\"\\nCNOT 1 11\\nCNOT 2 11\\nCNOT 5 11\\nCNOT 6 11\\nM 11\\n\"\"\"\n",
    "\n",
    "\n",
    "LOG_Z = \"\"\"\\nCNOT 0 12\\nCNOT 1 12\\nCNOT 2 12\\nCNOT 3 12\\nCNOT 4 12\\nCNOT 5 12\\nCNOT 6 12\\nM 12\\nDETECTOR rec[-1]\"\"\""
   ]
  },
  {
   "cell_type": "code",
   "execution_count": 9,
   "id": "ad61fcbe",
   "metadata": {},
   "outputs": [],
   "source": [
    "kz1 = node(meas7+LOG_Z)\n",
    "kz1.zero = '0'\n",
    "kz1.one = '1'\n",
    "\n",
    "xkz1 = node(x_cor+meas7+LOG_Z)\n",
    "xkz1.zero = '0'\n",
    "xkz1.one = '1'\n",
    "\n",
    "enc = node(ENC)\n",
    "enc.zero = kz1\n",
    "\n",
    "sz = node(sz_123)\n",
    "enc.one = sz\n",
    "\n",
    "sz.zero = kz1\n",
    "sz.one = xkz1"
   ]
  },
  {
   "cell_type": "code",
   "execution_count": 10,
   "id": "901a97fe",
   "metadata": {},
   "outputs": [],
   "source": [
    "err_total = []\n",
    "begin = time.time()\n",
    "paths, circuits = enc.fail_paths()\n",
    "paths = [[int(x) for x in y] for y in paths]\n",
    "for i in q:\n",
    "    count = 0\n",
    "    for p in range(len(paths)):\n",
    "        circuit = stim.Circuit(circuits[p].format(i,i,i,i,i,i,i,i,i,i,i,i,i,i,i,i,i,i,i))\n",
    "        dem = circuit.detector_error_model()\n",
    "        errors, errloc = dem2matrices(repr(dem),len(paths[p]))\n",
    "        count+=error_rate(errors, errloc, paths[p])\n",
    "    err_total.append(count**2)\n",
    "end = time.time()\n",
    "stim_time = end-begin"
   ]
  },
  {
   "cell_type": "markdown",
   "id": "3655a9f3",
   "metadata": {},
   "source": [
    "# Comparison"
   ]
  },
  {
   "cell_type": "code",
   "execution_count": 11,
   "id": "78b4a274",
   "metadata": {},
   "outputs": [
    {
     "data": {
      "text/plain": [
       "<matplotlib.legend.Legend at 0x7fd3e064b220>"
      ]
     },
     "execution_count": 11,
     "metadata": {},
     "output_type": "execute_result"
    },
    {
     "data": {
      "image/png": "[encoded data removed]",
      "text/plain": [
       "<Figure size 432x288 with 1 Axes>"
      ]
     },
     "metadata": {
      "needs_background": "light"
     },
     "output_type": "display_data"
    }
   ],
   "source": [
    "plt.plot(q, ss_sam.stats()[0], label = 'qsample, up')\n",
    "plt.plot(q, ss_sam.stats()[2], label = 'qsample, down')\n",
    "plt.plot(q, err_total, label = 'stim')\n",
    "plt.xscale('log')\n",
    "plt.yscale('log')\n",
    "plt.legend()"
   ]
  },
  {
   "cell_type": "code",
   "execution_count": 12,
   "id": "60d8847c",
   "metadata": {},
   "outputs": [
    {
     "name": "stdout",
     "output_type": "stream",
     "text": [
      "QSample time: 0.975s\n",
      "STIM time: 0.00925s\n"
     ]
    }
   ],
   "source": [
    "print(\"QSample time: {:.3}s\".format(qsample_time))\n",
    "print(\"STIM time: {:.3}s\".format(stim_time))"
   ]
  },
  {
   "cell_type": "code",
   "execution_count": null,
   "id": "9d250ec2",
   "metadata": {},
   "outputs": [],
   "source": []
  }
 ],
 "metadata": {
  "kernelspec": {
   "display_name": "Python 3 (ipykernel)",
   "language": "python",
   "name": "python3"
  },
  "language_info": {
   "codemirror_mode": {
    "name": "ipython",
    "version": 3
   },
   "file_extension": ".py",
   "mimetype": "text/x-python",
   "name": "python",
   "nbconvert_exporter": "python",
   "pygments_lexer": "ipython3",
   "version": "3.9.12"
  }
 },
 "nbformat": 4,
 "nbformat_minor": 5
}
