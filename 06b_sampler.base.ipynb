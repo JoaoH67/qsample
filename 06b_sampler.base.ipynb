{
 "cells": [
  {
   "cell_type": "code",
   "execution_count": null,
   "id": "93f2261b-ba75-4949-a4a7-dd3bb887d0d4",
   "metadata": {},
   "outputs": [],
   "source": [
    "# default_exp sampler.base"
   ]
  },
  {
   "cell_type": "markdown",
   "id": "ceb1d3f3-e365-43b8-8f94-490cd083dfd5",
   "metadata": {},
   "source": [
    "# Sampler base class\n",
    "\n",
    "> Super class for all sampler objects"
   ]
  },
  {
   "cell_type": "code",
   "execution_count": null,
   "id": "173d5244-d80c-442b-82ea-44a45bacea78",
   "metadata": {},
   "outputs": [],
   "source": [
    "# hide\n",
    "from nbdev.showdoc import *"
   ]
  },
  {
   "cell_type": "code",
   "execution_count": null,
   "id": "1e7c8e4d-b1ac-4487-aa0f-a28225d55101",
   "metadata": {},
   "outputs": [],
   "source": [
    "#export\n",
    "from qsam.sampler.tree import CountTree, Variable, Constant\n",
    "\n",
    "from qsam.callbacks import CallbackList\n",
    "from tqdm.auto import tqdm\n",
    "import itertools as it\n",
    "import numpy as np\n",
    "import qsam.math as math\n",
    "from qsam.noise import E0\n",
    "\n",
    "from collections.abc import Iterable\n",
    "from collections import OrderedDict"
   ]
  },
  {
   "cell_type": "markdown",
   "id": "889eede4-5f27-46c2-8f70-50aa72ce47fd",
   "metadata": {},
   "source": [
    "Definitions: \n",
    "* A *circuit location* (`cloc`) is a tuple (tick_index,qubit(s)) which specifies a location in a circuit. In the simplest case this tuple can be understood as a Euclidean coordinate in tick-qubit-space, for example (1,2) for a circuit element at tick 1 on qubit 2, for example a single-qubit gate. However, the second entry in the tuple can also be a tuple of qubits, i.e. (tick_index, (qubitA, qubitB)), for example (1,(2,3)) for a 2-qubit gate in tick 1 from qubit 2 (control) to qubit 3 (target). It is important that (1,(2,3)) $\\neq$ (1,(3,2)) $\\neq$ (1,2)+(1,3). \n",
    "* Common circuit locations can be grouped into a *location group* (`locgrp`), for example the set of all 1-qubit gate locations or the set of all idle qubits or all neighboring qubits of 1-qubit gates. A location group is defined by the error model, which sweeps through a circuit and extracts all elements belonging to a certain group. Note that circuit locations can appear in more than one location group and the union of all location groups must not necessarily give all possible circuit locations. This is for example the case for error models which only define errors on gates but not on idle qubits.\n",
    "* By *location group weight* (`locgrp_wgt`) we refer to an integer number specifying the amount of location group elements on which to place faults. Note that the weight only specifies the amount, neither the specific element on which the fault is placed (this will be choosen uniformly random) nor the specific error which will be placed (this will be drawn uniformly random from a set of group errors (`locgrp_errsets`) defined by the error model).\n",
    "* By *location group probability* (`locgrp_prob`) on the other hand, we refer to the probability of placing faults on **each** element of a group. Thus, during circuit execution it will be decided for each element of a location group if an error is placed based on the group probability.\n",
    "* Both the above can be written as vectors over all location groups an error model specifies. The vector of location group weights (`locgrp_wgts`) thereby characterizes a so-called fault-weight `subset`, i.e. a particular amount of faults on each location group defined in an error model. These subsets form the sampling space on which we apply importance sampling during subset sampling.\n",
    "* For subset sampling we analytically calculate the *subset occurence probability* (`Aws`) as a function of location group probabilities `locgrp_probs`for each location group. As a subset occurence probability results from a binomial distribution *binom(locgrp_wts, locgrp_lens, locgrp_probs)* we also refer to it as *binomial weight* of a subset, or simply $A_w$, as this is the symbol used in the paper.\n",
    "* If one of the above quantities is preceeded by a `protocol_` we have a dictionary with *circuit ids* (`cids`) as keys and the given quantity for a circuit as value. Note that `locgrp_probs` are defined equally for each circuit in the protocol as those represent physical error rates of a (faulty) device which also won't be different for different circuits in reality. To sample from more than physical error rate a range `locgrp_probs_range` can be specified which contains a range of error rates for each location group.\n",
    "* `locgrp_wgts_combis` are all possible `locgrp_wgts` vectors up to the total number of elements (`locgrp_len`) in each location group."
   ]
  },
  {
   "cell_type": "code",
   "execution_count": null,
   "id": "7928de2d-7dea-4a22-8ae6-f6a8262f4aec",
   "metadata": {},
   "outputs": [],
   "source": [
    "#export\n",
    "\n",
    "locgrp_lens = lambda locgrps: [len(locgrp) for locgrp in locgrps.values()]\n",
    "\n",
    "def ranges_from_probs(locgrp_probs):\n",
    "\n",
    "    if isinstance(locgrp_probs, dict): \n",
    "        locgrp_probs = list(locgrp_probs.values())\n",
    "    \n",
    "    prob_lists = [p if isinstance(p, Iterable) else [p] for p in locgrp_probs]\n",
    "    targ_len = max([len(prob_list) for prob_list in prob_lists])\n",
    "\n",
    "    pad = lambda lst,e: np.append(lst, [e] * (targ_len - len(lst))) if len(lst) < targ_len else lst\n",
    "    prob_lists = np.array([pad(prob_list,prob_list[-1]) for prob_list in prob_lists])\n",
    "\n",
    "    return prob_lists.T\n",
    "\n",
    "def circuit_subset_occurence(locgrps: dict, locgrps_wgts_combis: list, locgrp_probs: (dict,list)) -> np.ndarray:\n",
    "    \"\"\"Return matrix of dims (locgrp_wgts)x(probs_range), i.e. the binomial weights \n",
    "    for each location group weight (rows) and the corresponding physical error rates (columns).\"\"\"\n",
    "    # assert len(locgrps) == len(locgrp_probs), f\"Must specify probabilities for all location groups ({len(locgrps)}). Received ({len(locgrp_probs)}) values.\"\n",
    "\n",
    "    probs_ranges = ranges_from_probs(locgrp_probs)\n",
    "    Aws = np.array([math.binom(np.array(locgrp_wgts), np.array(locgrp_lens(locgrps)), probs_ranges) for locgrp_wgts in locgrps_wgts_combis])\n",
    "    Aws = np.product(Aws, axis=-1)\n",
    "    return Aws\n",
    "\n",
    "def protocol_subset_occurence(protocol_locgrps: dict, protocol_locgrp_wgts_combis: dict, locgrp_probs: (dict,list)) -> dict:\n",
    "    \"\"\"Generate subset occurence probabilities corresponding to each subset weight\n",
    "    combination per circuit location group in `locgrp` in protocol.\"\"\"\n",
    "    \n",
    "    return {cid: {wgts_vec: Aw for wgts_vec, Aw in zip(wgts_combis, circuit_subset_occurence(protocol_locgrps[cid], wgts_combis, locgrp_probs))} \n",
    "            for cid, wgts_combis in protocol_locgrp_wgts_combis.items()}\n",
    "\n",
    "def locgrp_wgts_combis(locgrps: dict) -> list:\n",
    "    \"\"\"Return list of all possible location group weight vector combinations.\"\"\"\n",
    "    return list(it.product( *[tuple(range(N+1)) for N in locgrp_lens(locgrps)] ))\n",
    "    \n",
    "def protocol_locgrp_wgts_combis(protocol_locgrps: dict) -> dict:\n",
    "    \"\"\"Generate all possible location group weight vector combinations \n",
    "    for each circuit in a given protocol.\"\"\"\n",
    "    \n",
    "    return {cid: locgrp_wgts_combis(locgrps) for cid, locgrps in protocol_locgrps.items()}"
   ]
  },
  {
   "cell_type": "code",
   "execution_count": null,
   "id": "c50a9147-7c0e-4916-a1e4-9b135d5778f6",
   "metadata": {},
   "outputs": [
    {
     "name": "stdout",
     "output_type": "stream",
     "text": [
      "[0.1 0.1]\n"
     ]
    }
   ],
   "source": [
    "prob_vecs = ranges_from_probs([0.1,0.1])\n",
    "for prob_vec in prob_vecs:\n",
    "    print(prob_vec)"
   ]
  },
  {
   "cell_type": "code",
   "execution_count": null,
   "id": "158d4fff-16ae-457f-adea-0bfb691d7221",
   "metadata": {},
   "outputs": [
    {
     "data": {
      "text/plain": [
       "{'a': {(0, 0): (0, 0), (0, 1): (0, 1), (1, 0): (1, 0), (1, 1): (1, 1)}}"
      ]
     },
     "execution_count": null,
     "metadata": {},
     "output_type": "execute_result"
    }
   ],
   "source": [
    "d = {'a': {'p': {(0,1)}, 'p2': {(0,(0,1))}}}\n",
    "proto_ws = protocol_locgrp_wgts_combis(d)\n",
    "proto_Aws = protocol_subset_occurence(d,proto_ws,{'p': 0.1, 'p2': 0.2})\n",
    "\n",
    "{cid: {w: Aw for Aw, w in zip(Aws,ws)} for (cid, Aws), ws in zip(proto_Aws.items(), proto_ws.values())}"
   ]
  },
  {
   "cell_type": "code",
   "execution_count": null,
   "id": "bb8e4eed-93a9-461f-8e0a-0adc66ad9771",
   "metadata": {},
   "outputs": [],
   "source": [
    "#export\n",
    "class Sampler:\n",
    "    \n",
    "    def __init__(self, protocol, simulator, err_model=E0):\n",
    "        self.protocol = protocol\n",
    "        self.simulator = simulator\n",
    "        self.n_qubits = protocol.n_qubits\n",
    "        self.err_model = err_model\n",
    "        self.trees = OrderedDict()\n",
    "        self.protocol_locgrps = {cid: err_model.group(circuit) for cid, circuit in self.protocol._circuits.items()}\n",
    "        self.protocol_wgts_combis = protocol_locgrp_wgts_combis(self.protocol_locgrps)\n",
    "    \n",
    "    def optimize(self, tree_node, circuit):\n",
    "        \"\"\"Must be overwritten by child class.\"\"\"\n",
    "        raise NotImplemented\n",
    "            \n",
    "    def run(self, n_samples: int, err_params: (dict,list), callbacks=[]) -> None:\n",
    "        assert isinstance(err_params, (dict,list)), \"`err_params` must be either dict or list.\"\n",
    "        assert len(err_params) == len(self.err_model.groups), \"`err_params` must have same length as `groups` defined in error model.\"\n",
    "        prob_vecs = ranges_from_probs(err_params)\n",
    "            \n",
    "        if not isinstance(callbacks, CallbackList):\n",
    "            callbacks = CallbackList(sampler=self, callbacks=callbacks)\n",
    "        callbacks.on_sampler_begin()\n",
    "        \n",
    "        for prob_vec in tqdm(prob_vecs, desc=\"Total\"):\n",
    "            self.stop_sampling = False\n",
    "            \n",
    "            self.tree_idx = tuple(prob_vec)\n",
    "            tree = self.trees.get(self.tree_idx, CountTree(min_path_weight=2 if self.protocol._ft else 1))\n",
    "            self.trees[self.tree_idx] = tree\n",
    "            tree.constants = protocol_subset_occurence(self.protocol_locgrps, self.protocol_wgts_combis, prob_vec)\n",
    "                \n",
    "            for _ in tqdm(range(n_samples), desc=f'p_phy={\",\".join(list(f\"{p:.2E}\" for p in prob_vec))}', leave=True):\n",
    "                callbacks.on_protocol_begin()\n",
    "\n",
    "                state = self.simulator(self.n_qubits)\n",
    "                tree_node = None\n",
    "\n",
    "                for name, circuit in self.protocol:\n",
    "                    callbacks.on_circuit_begin()\n",
    "\n",
    "                    tree_node = tree.add(name=name, parent=tree_node, nodetype=Variable)\n",
    "                    tree_node.counts += 1\n",
    "                    opt_out = dict()\n",
    "\n",
    "                    if circuit:\n",
    "                        if not circuit._noisy:\n",
    "                            msmt = state.run(circuit)\n",
    "                        else:\n",
    "                            opt_out = self.optimize(tree_node, circuit, prob_vec)\n",
    "                            tree_node = tree.add(name=opt_out['grp_wgts'], parent=tree_node, nodetype=Constant, cid=circuit.id,\n",
    "                                                 is_deterministic=True if circuit._ff_det and not any(opt_out['grp_wgts']) else False)\n",
    "                            tree_node.counts += 1\n",
    "                            fault_circuit = self.err_model.run(circuit, opt_out['flocs'])\n",
    "\n",
    "                            msmt = state.run(circuit, fault_circuit)\n",
    "                        self.protocol.send(msmt)\n",
    "\n",
    "                    elif name != None:\n",
    "                        tree_node.marked = True\n",
    "                    \n",
    "                    callbacks.on_circuit_end(locals() | opt_out)\n",
    "\n",
    "                callbacks.on_protocol_end()\n",
    "                if self.stop_sampling: break\n",
    "            \n",
    "        callbacks.on_sampler_end()"
   ]
  }
 ],
 "metadata": {
  "kernelspec": {
   "display_name": "Python 3 (ipykernel)",
   "language": "python",
   "name": "python3"
  }
 },
 "nbformat": 4,
 "nbformat_minor": 5
}
