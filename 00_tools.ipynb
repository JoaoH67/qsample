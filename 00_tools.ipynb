{
 "cells": [
  {
   "cell_type": "code",
   "execution_count": null,
   "id": "a206804f-f7a1-471f-ab95-986b28146a26",
   "metadata": {},
   "outputs": [],
   "source": [
    "# default_exp tools"
   ]
  },
  {
   "cell_type": "markdown",
   "id": "ed991fcc-cf0d-4aaa-bae4-ff2b0b25d386",
   "metadata": {},
   "source": [
    "# Tools\n",
    "\n",
    "> Implements several useful methods to make creation process easier and documentation better to read."
   ]
  },
  {
   "cell_type": "markdown",
   "id": "eeb56fe6-1a45-445f-bdcc-e1e8f5636712",
   "metadata": {},
   "source": [
    "This library is object-oriented, thus there are quite a few classes which need to be defined. In order to illustrate the methods of each class in more detail we want to split them up in several cells instead of writing them all in a single cell. The `patch` decorator precisely accomplishes this:"
   ]
  },
  {
   "cell_type": "code",
   "execution_count": null,
   "id": "1c44eef7-1485-467e-8b5b-123a518b1a11",
   "metadata": {},
   "outputs": [],
   "source": [
    "import functools\n",
    "\n",
    "# export\n",
    "def patch(cls):\n",
    "    def decorate(cls,func):\n",
    "        setattr(cls,func.__name__,func)\n",
    "        return func\n",
    "    return functools.partial(decorate, cls)"
   ]
  },
  {
   "cell_type": "markdown",
   "id": "21d51d11-ac88-490f-baa3-59102084707d",
   "metadata": {},
   "source": [
    "We can now insert any function into any class by decorating a function with `@patch` and passing the class we want to patch along. We can see that the function is correctly recognized as a new class function."
   ]
  },
  {
   "cell_type": "code",
   "execution_count": null,
   "id": "defb7aae-e543-4657-903e-645ca26c2122",
   "metadata": {},
   "outputs": [],
   "source": [
    "class A:\n",
    "    def __init__(self, greeting):\n",
    "        self.greeting = greeting\n",
    "\n",
    "@patch(A)\n",
    "def greet(self, name):\n",
    "    return self.greeting + \" \" + name\n",
    "\n",
    "a = A('Hi')\n",
    "assert a.greet('Joe') == 'Hi Joe'"
   ]
  },
  {
   "cell_type": "markdown",
   "id": "cc89f18f-a7dc-4ca8-8d40-7be7f05b86c9",
   "metadata": {},
   "source": [
    "Properties we can also define outside a class. We use the `property` statement for that."
   ]
  },
  {
   "cell_type": "code",
   "execution_count": null,
   "id": "9963187a-3a2a-44b8-b7da-a9379bcdfc20",
   "metadata": {},
   "outputs": [
    {
     "data": {
      "text/plain": [
       "'Hi property'"
      ]
     },
     "execution_count": null,
     "metadata": {},
     "output_type": "execute_result"
    }
   ],
   "source": [
    "A.prop = property(lambda self: self.greet('property'))\n",
    "a.prop"
   ]
  },
  {
   "cell_type": "markdown",
   "id": "808eb679-5101-4aa4-a28f-b3aae8018539",
   "metadata": {},
   "source": [
    "Let's inspect the class we just created:"
   ]
  },
  {
   "cell_type": "code",
   "execution_count": null,
   "id": "d555a0e9-389f-455e-b1a4-59e5a1bebcb3",
   "metadata": {},
   "outputs": [
    {
     "data": {
      "text/plain": [
       "mappingproxy({'__module__': '__main__',\n",
       "              '__init__': <function __main__.A.__init__(self, greeting)>,\n",
       "              '__dict__': <attribute '__dict__' of 'A' objects>,\n",
       "              '__weakref__': <attribute '__weakref__' of 'A' objects>,\n",
       "              '__doc__': None,\n",
       "              'greet': <function __main__.greet(self, name)>,\n",
       "              'prop': <property at 0x7f2284300450>})"
      ]
     },
     "execution_count": null,
     "metadata": {},
     "output_type": "execute_result"
    }
   ],
   "source": [
    "A.__dict__"
   ]
  }
 ],
 "metadata": {
  "kernelspec": {
   "display_name": "Python 3 (ipykernel)",
   "language": "python",
   "name": "python3"
  }
 },
 "nbformat": 4,
 "nbformat_minor": 5
}
