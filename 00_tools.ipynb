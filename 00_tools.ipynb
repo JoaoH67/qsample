{
 "cells": [
  {
   "cell_type": "code",
   "execution_count": null,
   "id": "a206804f-f7a1-471f-ab95-986b28146a26",
   "metadata": {},
   "outputs": [],
   "source": [
    "# default_exp tools"
   ]
  },
  {
   "cell_type": "markdown",
   "id": "ed991fcc-cf0d-4aaa-bae4-ff2b0b25d386",
   "metadata": {},
   "source": [
    "# Tools for library creation in nbdev\n",
    "\n",
    "> Implements several useful methods to make creation process easier and documentation better to read."
   ]
  },
  {
   "cell_type": "markdown",
   "id": "eeb56fe6-1a45-445f-bdcc-e1e8f5636712",
   "metadata": {},
   "source": [
    "This library is object-oriented, thus there are quiete a few classes which need to be defined. In order to illustrate the methods of each class in more detail we want to split them up in several cells instead of writing them all in a single cell. The `patch` decorator precisely accomplishes this:"
   ]
  },
  {
   "cell_type": "code",
   "execution_count": null,
   "id": "1c44eef7-1485-467e-8b5b-123a518b1a11",
   "metadata": {},
   "outputs": [],
   "source": [
    "import functools\n",
    "\n",
    "# export\n",
    "def patch(cls):\n",
    "    def decorate(cls,func):\n",
    "        setattr(cls,func.__name__,func)\n",
    "        return func\n",
    "    return functools.partial(decorate, cls)"
   ]
  },
  {
   "cell_type": "markdown",
   "id": "21d51d11-ac88-490f-baa3-59102084707d",
   "metadata": {},
   "source": [
    "We can see how it works:"
   ]
  },
  {
   "cell_type": "code",
   "execution_count": null,
   "id": "defb7aae-e543-4657-903e-645ca26c2122",
   "metadata": {},
   "outputs": [],
   "source": [
    "class A:\n",
    "    def __init__(self, greeting):\n",
    "        self.greeting = greeting"
   ]
  },
  {
   "cell_type": "code",
   "execution_count": null,
   "id": "2d436a1f-9df2-42c8-9128-d28933e2dd4d",
   "metadata": {},
   "outputs": [],
   "source": [
    "@patch(A)\n",
    "def greet(self, name):\n",
    "    return self.greeting + \" \" + name"
   ]
  },
  {
   "cell_type": "code",
   "execution_count": null,
   "id": "209db08b-1f47-41a9-b39a-d8080d9143c7",
   "metadata": {},
   "outputs": [],
   "source": [
    "a = A('Hi')\n",
    "assert a.greet('Joe') == 'Hi Joe'"
   ]
  },
  {
   "cell_type": "code",
   "execution_count": null,
   "id": "f6eb21ce-fc32-4e8d-9c55-4bd56855314f",
   "metadata": {},
   "outputs": [],
   "source": []
  }
 ],
 "metadata": {
  "kernelspec": {
   "display_name": "Python 3 (ipykernel)",
   "language": "python",
   "name": "python3"
  }
 },
 "nbformat": 4,
 "nbformat_minor": 5
}
