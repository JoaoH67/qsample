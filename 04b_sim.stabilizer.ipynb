{
 "cells": [
  {
   "cell_type": "code",
   "execution_count": null,
   "id": "a848d167-4b4f-4795-97d7-9f357869b43e",
   "metadata": {},
   "outputs": [],
   "source": [
    "# default_exp sim.stabilizer"
   ]
  },
  {
   "cell_type": "markdown",
   "id": "cb5d1a84-d339-4dca-94c7-b87c88b579ae",
   "metadata": {},
   "source": [
    "# CHP Simulator\n",
    "\n",
    "> Implementation of the Aarenson/Gottesman CHP stabilizer simulator"
   ]
  },
  {
   "cell_type": "code",
   "execution_count": null,
   "id": "c0ed1a37-f5f7-40ed-9970-9ef1d079e4e4",
   "metadata": {},
   "outputs": [],
   "source": [
    "# hide\n",
    "from nbdev.showdoc import *"
   ]
  },
  {
   "cell_type": "code",
   "execution_count": null,
   "id": "5f2bb9af-9eec-455b-9395-3f2cfe2337d4",
   "metadata": {},
   "outputs": [],
   "source": [
    "#export\n",
    "from chp_sim import ChpSimulator\n",
    "from qsam.sim.mixin import CircuitRunnerMixin"
   ]
  },
  {
   "cell_type": "code",
   "execution_count": null,
   "id": "46e65df7-4105-4a43-b81d-0d1b45041e96",
   "metadata": {},
   "outputs": [],
   "source": [
    "#export\n",
    "class StabilizerSimulator(ChpSimulator, CircuitRunnerMixin):\n",
    "    \"\"\"The bare minimum needed for the CHP simulation.\n",
    "    \n",
    "    Reference:\n",
    "        \"Improved Simulation of Stabilizer Circuits\"\n",
    "        Scott Aaronson and Daniel Gottesman\n",
    "        https://arxiv.org/abs/quant-ph/0406196\n",
    "        \n",
    "    Original author:\n",
    "        Craig Gidney\n",
    "        https://github.com/Strilanc/python-chp-stabilizer-simulator\n",
    "    \"\"\"\n",
    "    \n",
    "    def init(self, qubit: int) -> None:\n",
    "        \"\"\"Initialize to |0>\"\"\"\n",
    "        m = self.measure(qubit)\n",
    "        if m == 1: \n",
    "            self.X(qubit)\n",
    "                   \n",
    "    def S(self, qubit: int) -> None:\n",
    "        \"\"\"Phase gate\"\"\"\n",
    "        self.phase(qubit)\n",
    "        \n",
    "    def H(self, qubit:int) -> None:\n",
    "        \"\"\"H gate\"\"\"\n",
    "        self.hadamard(qubit)\n",
    "        \n",
    "    def CNOT(self, control: int, target: int) -> None:\n",
    "        \"\"\"CNOT gate\"\"\"\n",
    "        self.cnot(control, target)\n",
    "            \n",
    "    def I(self, qubit: int) -> None:\n",
    "        \"\"\"Identity gate\"\"\"\n",
    "        pass\n",
    "        \n",
    "    def Z(self, qubit: int) -> None:\n",
    "        \"\"\"Z gate\"\"\"\n",
    "        self.S(qubit)\n",
    "        self.S(qubit)\n",
    "        \n",
    "    def X(self, qubit: int) -> None:\n",
    "        \"\"\"X gate\"\"\"\n",
    "        self.H(qubit)\n",
    "        self.Z(qubit)\n",
    "        self.H(qubit)\n",
    "        \n",
    "    def Y(self, qubit: int) -> None:\n",
    "        \"\"\"Y gate\"\"\"\n",
    "        self.S(qubit)\n",
    "        self.S(qubit)\n",
    "        self.S(qubit)\n",
    "        self.X(qubit)\n",
    "        self.S(qubit)"
   ]
  }
 ],
 "metadata": {
  "kernelspec": {
   "display_name": "Python 3 (ipykernel)",
   "language": "python",
   "name": "python3"
  }
 },
 "nbformat": 4,
 "nbformat_minor": 5
}
