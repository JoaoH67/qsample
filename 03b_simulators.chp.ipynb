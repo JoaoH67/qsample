{
 "cells": [
  {
   "cell_type": "code",
   "execution_count": null,
   "metadata": {},
   "outputs": [],
   "source": [
    "# default_exp simulators.chp"
   ]
  },
  {
   "cell_type": "markdown",
   "metadata": {},
   "source": [
    "# CHP Simulator\n",
    "\n",
    "> Implementation of the Aarenson/Gottesman CHP stabilizer simulator"
   ]
  },
  {
   "cell_type": "markdown",
   "metadata": {},
   "source": [
    "* Original paper https://arxiv.org/pdf/quant-ph/0406196.pdf<br>\n",
    "\n",
    "This simulator updates the stabilizer generators which stabilize a n-qubit state initially in the $|00..0 \\rangle$ state after each gate application. It implements the fundamental gates CNOT, Hadamard and Phase (S-gate) from which all other gates of the Clifford group can be generated. This simulator, most notably, cannot handle any continuous rotation or other gates outside the Clifford group thus it is only applicable for simulating stabilizer circuits. This implementation is based on the work of @Strilanc (ref: https://github.com/Strilanc/python-chp-stabilizer-simulator)."
   ]
  },
  {
   "cell_type": "code",
   "execution_count": null,
   "metadata": {},
   "outputs": [],
   "source": [
    "# hide\n",
    "from nbdev.showdoc import *"
   ]
  },
  {
   "cell_type": "code",
   "execution_count": null,
   "metadata": {},
   "outputs": [],
   "source": [
    "# export\n",
    "from qsam.simulators.simulator import Simulator\n",
    "import numpy as np\n",
    "import random"
   ]
  },
  {
   "cell_type": "code",
   "execution_count": null,
   "metadata": {},
   "outputs": [],
   "source": [
    "#hide\n",
    "#export\n",
    "def pauli_product_phase(x1, z1, x2, z2):\n",
    "    if x1 and z1: return int(z2) - int(x2)\n",
    "    elif x1: return z2 and 2 * int(x2) - 1\n",
    "    elif z1: return x2 and 1 - 2 * int(z2)\n",
    "    else: return 0"
   ]
  },
  {
   "cell_type": "code",
   "execution_count": null,
   "metadata": {},
   "outputs": [],
   "source": [
    "#export\n",
    "\n",
    "class CHP(Simulator):\n",
    "    \"\"\"A simple CHP stabilizer simulator\"\"\"\n",
    "    \n",
    "    def __init__(self, n_qubits):\n",
    "        self.n_qubits = n_qubits\n",
    "        self._table = np.eye(2*n_qubits+1, dtype=bool)\n",
    "        self._x = self._table[:, :self.n_qubits] # X stab. gens\n",
    "        self._z = self._table[:, self.n_qubits:-1] # Z stab. gens\n",
    "        self._r = self._table[:, -1] # glob. phase\n",
    "        \n",
    "    def init(self, i):\n",
    "        m = self.measure(i)\n",
    "        if m == 1: self.X(i)\n",
    "        \n",
    "    def I(self, i):\n",
    "        \"\"\"Identity gate\"\"\"\n",
    "        pass\n",
    "        \n",
    "    def Z(self, i):\n",
    "        \"\"\"Z gate\"\"\"\n",
    "        self.S(i)\n",
    "        self.S(i)\n",
    "        \n",
    "    def X(self, i):\n",
    "        \"\"\"X gate\"\"\"\n",
    "        self.H(i)\n",
    "        self.Z(i)\n",
    "        self.H(i)\n",
    "        \n",
    "    def Y(self, i):\n",
    "        \"\"\"Y gate\"\"\"\n",
    "        self.S(i)\n",
    "        self.S(i)\n",
    "        self.S(i)\n",
    "        self.X(i)\n",
    "        self.S(i)\n",
    "        \n",
    "    def H(self, i):\n",
    "        \"\"\"Hadamard gate\"\"\"\n",
    "         # X -> Z, Z -> X, Y -> -Y\n",
    "        self._r ^= self._x[:, i] & self._z[:, i]\n",
    "        self._x[:, i] ^= self._z[:, i]\n",
    "        self._z[:, i] ^= self._x[:, i]\n",
    "        self._x[:, i] ^= self._z[:, i]\n",
    "        \n",
    "    def S(self, i):\n",
    "        \"\"\"Phase gate\"\"\"\n",
    "        # X -> Y, Z -> Z, Y -> -X\n",
    "        self._r ^= self._x[:, i] & self._z[:, i]\n",
    "        self._z[:, i] ^= self._x[:, i]\n",
    "        \n",
    "    def CNOT(self, c, t):\n",
    "        \"\"\"CNOT gate\"\"\"\n",
    "        # XI -> XX, IX -> IX, XX -> XI\n",
    "        # ZI -> ZI, IZ -> ZZ, ZZ -> IZ\n",
    "        # YI -> YX, IY -> ZY, YY -> -ZX\n",
    "        self._r ^= self._x[:, c] & self._z[:, t] & (self._x[:, t] ^ self._z[:, c] ^ True)\n",
    "        self._x[:, t] ^= self._x[:, c] # X propagation\n",
    "        self._z[:, c] ^= self._z[:, t] # Z propagation\n",
    "        \n",
    "    def measure(self, i):\n",
    "        \"\"\"Factory function for measurements\"\"\"\n",
    "        for q in range(self.n_qubits):\n",
    "            if self._x[q + self.n_qubits, i]:\n",
    "                return int(self._measure_random(i, q)) # X destabilizes qubit i\n",
    "        return int(self._measure_determined(i)) # only Z destabilizes qubit i\n",
    "            \n",
    "    def _measure_random(self, i, q, bias=0.5):\n",
    "        self._table[q, :] = self._table[q + self.n_qubits, :]\n",
    "        self._table[q + self.n_qubits, :] = 0\n",
    "        self._z[q + self.n_qubits, i] = 1\n",
    "        self._r[q + self.n_qubits] = random.random() < bias\n",
    "        \n",
    "        for j in range(2 * self.n_qubits):\n",
    "            if self._x[j, i] and j != q and j != q + self.n_qubits:\n",
    "                self._row_mult(i, q)\n",
    "                \n",
    "        return self._r[q + self.n_qubits]\n",
    "    \n",
    "    def _measure_determined(self, i):\n",
    "        self._table[-1, :] = 0\n",
    "        for j in range(self.n_qubits):\n",
    "            if self._x[j, i]:\n",
    "                self._row_mult(-1, j + self.n_qubits)\n",
    "        return self._r[-1]\n",
    "    \n",
    "    def _row_product_sign(self, i, k):\n",
    "        pauli_phases = sum( pauli_product_phase(self._x[i, j], self._z[i, j], self._x[k, j], self._z[k,j]) for j in range(self.n_qubits) )\n",
    "        p = (pauli_phases >> 1) & 1\n",
    "        return bool(self._r[i] ^ self._r[k] ^ p)\n",
    "    \n",
    "    def _row_mult(self, i, k):\n",
    "        self._r[i] = self._row_product_sign(i, k)\n",
    "        self._x[i, :self.n_qubits] ^= self._x[k, :self.n_qubits]\n",
    "        self._z[i, :self.n_qubits] ^= self._z[k, :self.n_qubits]"
   ]
  },
  {
   "cell_type": "markdown",
   "metadata": {},
   "source": [
    "**TODO** Tests and explanation of implementation, implement printing of state."
   ]
  }
 ],
 "metadata": {
  "kernelspec": {
   "display_name": "Python 3 (ipykernel)",
   "language": "python",
   "name": "python3"
  }
 },
 "nbformat": 4,
 "nbformat_minor": 4
}
