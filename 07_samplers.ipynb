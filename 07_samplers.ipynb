{
 "cells": [
  {
   "cell_type": "code",
   "execution_count": null,
   "metadata": {},
   "outputs": [],
   "source": [
    "# default_exp samplers"
   ]
  },
  {
   "cell_type": "markdown",
   "metadata": {},
   "source": [
    "# Samplers\n",
    "\n",
    "> Collection of different samplers for sampling logical failure rates from quantum error correction circuits"
   ]
  },
  {
   "cell_type": "code",
   "execution_count": null,
   "metadata": {},
   "outputs": [],
   "source": [
    "# hide\n",
    "from nbdev.showdoc import *"
   ]
  },
  {
   "cell_type": "code",
   "execution_count": null,
   "metadata": {},
   "outputs": [],
   "source": [
    "#export\n",
    "import qsam.samptools as math\n",
    "from qsam.chp_simulator import CHP\n",
    "from qsam.fault_generators import Depolar\n",
    "\n",
    "import numpy as np\n",
    "import itertools as it"
   ]
  },
  {
   "cell_type": "code",
   "execution_count": null,
   "metadata": {},
   "outputs": [],
   "source": [
    "#export\n",
    "ONE_QUBIT_GATES = {'H', 'X', 'Z'}\n",
    "TWO_QUBIT_GATES = {'CNOT'}\n",
    "\n",
    "GATE_GROUPS = {'p': ONE_QUBIT_GATES | TWO_QUBIT_GATES,\n",
    "               'p1': ONE_QUBIT_GATES,\n",
    "               'p2': TWO_QUBIT_GATES }"
   ]
  },
  {
   "cell_type": "code",
   "execution_count": null,
   "metadata": {},
   "outputs": [],
   "source": [
    "#export\n",
    "class Sampler:\n",
    "    \"\"\"Sampler base class\"\"\"\n",
    "    \n",
    "    def __init__(self, circuit, err_params):\n",
    "        self.circuit = circuit\n",
    "        self.n_qubits = circuit.n_qubits\n",
    "        self.partitions = [circuit.partition(GATE_GROUPS[g]) for g in err_params.keys()]\n",
    "        self.p_phys_mat = np.vstack(list(err_params.values())).T # p_phy_range x partitions\n",
    "\n",
    "    def _sample(self, err_gen=None, p_phys=None):\n",
    "        sim = CHP(self.n_qubits)\n",
    "        err_circuit = None if err_gen==None else err_gen.generate(self.partitions, p_phys)\n",
    "        msmt = sim.run(self.circuit, err_circuit)\n",
    "        return msmt\n",
    "\n",
    "    def _check_logical_failure(self, msmt): # THIS SHOULD BE DEFINED SOMEWHERE ELSE.\n",
    "        return 1 if msmt else 0 "
   ]
  },
  {
   "cell_type": "code",
   "execution_count": null,
   "metadata": {},
   "outputs": [],
   "source": [
    "#export\n",
    "class DirectSampler(Sampler):\n",
    "    \"\"\"Direct Monte Carlo sampler\"\"\"\n",
    "\n",
    "    def __init__(self, circuit, err_params):\n",
    "        super().__init__(circuit, err_params)\n",
    "        choose_fn = lambda l,p: set(i for i in l if np.random.random() < p)\n",
    "        self.err_gen = Depolar(choose_fn=choose_fn, n_ticks=len(circuit))\n",
    "\n",
    "    def run(self, n_samples=100, var=math.Wilson_var):\n",
    "        fail_cnts = np.zeros((self.p_phys_mat.shape[0])) # one fail counter per p_phys\n",
    "\n",
    "        for i, p_phys in enumerate(self.p_phys_mat):\n",
    "            for _ in range(n_samples):\n",
    "                msmt = self._sample(self.err_gen, p_phys)\n",
    "                fail_cnts[i] += self._check_logical_failure(msmt)\n",
    "\n",
    "        p_L = fail_cnts / n_samples\n",
    "        std = np.sqrt( var(p_L, n_samples) )\n",
    "        return p_L, std"
   ]
  },
  {
   "cell_type": "code",
   "execution_count": null,
   "metadata": {},
   "outputs": [],
   "source": [
    "#export\n",
    "class SubsetSampler(Sampler):\n",
    "    \"\"\"Monte Carlo subset sampler\"\"\"\n",
    "    \n",
    "    def __init__(self, circuit, err_params):\n",
    "        super().__init__(circuit, err_params)\n",
    "        choose_fn = lambda l,k: [l[i] for i in np.random.choice(len(l),k,replace=False)]\n",
    "        self.err_gen = Depolar(choose_fn=choose_fn, n_ticks=circuit.n_ticks)\n",
    "\n",
    "    def _monte_carlo(self, w_vecs, n_samples, SS_sel_fn):\n",
    "        # Generate 1D list of subset failure rates per weight vector combi\n",
    "        cnts      = np.zeros((len(w_vecs))) + 1 # one virtual sample to avoid div0\n",
    "        fail_cnts = np.zeros((len(w_vecs))) \n",
    "        idx = 0 # Needed for Metropolis SS selector (if chosen)\n",
    "\n",
    "        for i in range(n_samples):\n",
    "            idx = SS_sel_fn(cnts, fail_cnts, curr_idx=idx)\n",
    "            w_vec = w_vecs[idx]\n",
    "            msmt = self._sample(self.err_gen, w_vec)\n",
    "            fail_cnts[idx] += self._check_logical_failure(msmt)\n",
    "            cnts[idx] += 1\n",
    "\n",
    "        return fail_cnts, cnts - 1 # remove virtual sample\n",
    "\n",
    "    def _find_weights(self, p_max, delta_max):\n",
    "        # Find w_max vector for delta_max at p_max\n",
    "        assert len(p_max) == len(delta_max) == len(self.partitions)\n",
    "        w_cutoff = np.zeros_like(p_max, dtype=int)\n",
    "        for i in range(len(w_cutoff)):\n",
    "            w_cutoff[i] = math.weight_cutoff(p_max[i], delta_max[i], len(self.partitions[i]))\n",
    "        # Generate weight vectors (combis of all ws up to each w_max per partition)\n",
    "        w_vecs = list(it.product( *[list(range(w_cutoff_i+1)) for w_cutoff_i in w_cutoff] ))\n",
    "        return w_vecs\n",
    "\n",
    "    def _calc_binomial_weights(self, w_vecs):\n",
    "        # Calculate 3D tensor of binom. coefs for each partition\n",
    "        partition_lens = np.array([len(p) for p in self.partitions])\n",
    "        Aws = np.array([math.binom(w_vec, partition_lens, self.p_phys_mat) for w_vec in w_vecs])\n",
    "        Aws = np.product(Aws, axis=-1) # get list of Aw for each partition SS combination\n",
    "        return Aws\n",
    "\n",
    "    def _calc_stats(self, Aws, pws, n_samples, var=math.Wilson_var):\n",
    "        # Calculate failure rates and std\n",
    "        p_L_low = np.sum(Aws * pws, axis=0)\n",
    "        p_L_up = p_L_low + 1 - np.sum(Aws, axis=0)\n",
    "        std = math.std_sum(Aws, pws, n_samples, var)\n",
    "        return p_L_up, p_L_low, std\n",
    "            \n",
    "    def run(self, p_max, delta_max, n_samples=20, var=math.Wilson_var, SS_sel_fn=math.balanced_SS_selector):\n",
    "\n",
    "        w_vecs = self._find_weights(p_max, delta_max)\n",
    "        fail_cnts, cnts = self._monte_carlo(w_vecs, n_samples, SS_sel_fn)\n",
    "\n",
    "        pws = (fail_cnts/ cnts)[:,None]\n",
    "        Aws = self._calc_binomial_weights(w_vecs)\n",
    "        return self._calc_stats(Aws, pws, n_samples, var)"
   ]
  },
  {
   "cell_type": "markdown",
   "metadata": {},
   "source": [
    "**TODO** Tests and example"
   ]
  }
 ],
 "metadata": {
  "kernelspec": {
   "display_name": "Python 3 (ipykernel)",
   "language": "python",
   "name": "python3"
  }
 },
 "nbformat": 4,
 "nbformat_minor": 4
}
