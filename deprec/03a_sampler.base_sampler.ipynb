{
 "cells": [
  {
   "cell_type": "code",
   "execution_count": null,
   "id": "084e5216-cb73-4522-bb8e-4af97a50c00c",
   "metadata": {},
   "outputs": [],
   "source": [
    "# default_exp sampler.base_sampler"
   ]
  },
  {
   "cell_type": "markdown",
   "id": "b9335674-9e0f-4c9e-a798-a5daf3aba313",
   "metadata": {},
   "source": [
    "# Sampler base class\n",
    "\n",
    "> Super class for all sampler objects"
   ]
  },
  {
   "cell_type": "code",
   "execution_count": null,
   "id": "02dd1e36-3929-4558-8970-cf4e66a686e0",
   "metadata": {},
   "outputs": [],
   "source": [
    "# hide\n",
    "from nbdev.showdoc import *"
   ]
  },
  {
   "cell_type": "code",
   "execution_count": null,
   "id": "63b1b7fb-8aa0-4ae5-a414-f470a96a0050",
   "metadata": {},
   "outputs": [],
   "source": [
    "#export\n",
    "from qsam.datatypes.counttree import CountTree, Variable, Constant\n",
    "from qsam.datatypes.protocol import iterate\n",
    "from qsam.datatypes.circuit import unpack\n",
    "\n",
    "import itertools as it\n",
    "from tqdm.auto import tqdm"
   ]
  },
  {
   "cell_type": "code",
   "execution_count": null,
   "id": "75fff9f3-c50a-47d1-a36e-10af95d6d5fe",
   "metadata": {},
   "outputs": [],
   "source": [
    "#export\n",
    "\n",
    "class BaseSampler:\n",
    "    \n",
    "    def __init__(self, protocol, simulator, err_mod, *args, **kwargs):\n",
    "        \n",
    "        self.protocol = protocol\n",
    "        self.simulator = simulator\n",
    "        \n",
    "        min_path_weight = 2 if protocol.fault_tolerant else 1\n",
    "        self.tree = CountTree(min_path_weight=min_path_weight)\n",
    "        \n",
    "        fault_gen.configure(self.protocol._circuits)\n",
    "        self.w_vecs = protocol_weight_vectors(fault_gen.partitions)\n",
    "        self.fault_gen = fault_gen\n",
    "        \n",
    "        self.n_qubits = len(set(q for c in protocol._circuits.values() for q in unpack(c)))\n",
    "        self.setup(*args, **kwargs)\n",
    "        \n",
    "    def setup(self, *args, **kwargs):\n",
    "        \"\"\"Pass-through to child class.\"\"\"\n",
    "        pass\n",
    "        \n",
    "    def sample(self, callbacks, *args, **kwargs):\n",
    "        assert getattr(self, \"loop_fn\")\n",
    "        \n",
    "        callbacks.on_protocol_begin()\n",
    "        sim = self.simulator(self.n_qubits)\n",
    "        p_it = iterate(self.protocol)\n",
    "        node = next(p_it)\n",
    "        tree_node = None\n",
    "\n",
    "        while True:\n",
    "            callbacks.on_circuit_begin()\n",
    "\n",
    "            tree_node = self.tree.add(name=node, parent=tree_node, nodetype=Variable)\n",
    "            tree_node.counts += 1\n",
    "\n",
    "            if node == None:\n",
    "                fail = 0; break\n",
    "            elif not self.protocol.out_edges(node):\n",
    "                tree_node.marked = True\n",
    "                fail = 1; break\n",
    "\n",
    "            circuit_hash, circuit = self.protocol.circuit_from_node(node)\n",
    "            if not circuit._noisy or circuit_hash not in self.protocol._circuits.keys():\n",
    "                msmt = sim.run(circuit)\n",
    "            else:\n",
    "                # w_vec, w_idx, faults = self.loop_fn( kwargs | locals() )\n",
    "                loop_out = self.loop_fn( kwargs | locals() )\n",
    "                tree_node = self.tree.add(name=loop_out[\"w_vec\"], parent=tree_node, nodetype=Constant, c_hash=circuit_hash, w_idx=loop_out[\"w_idx\"],\n",
    "                                         is_deterministic=True if circuit._ff_deterministic and not any(loop_out[\"w_vec\"]) else False)\n",
    "                tree_node.counts += 1\n",
    "                fault_circuit = self.fault_gen.gen_circuit(len(circuit), loop_out[\"faults\"])\n",
    "                msmt = sim.run(circuit, fault_circuit)\n",
    "\n",
    "            _node = node\n",
    "            node = p_it.send(msmt)\n",
    "\n",
    "            callbacks.on_circuit_end(locals())\n",
    "\n",
    "        callbacks.on_protocol_end()\n",
    "        \n",
    "        return fail"
   ]
  },
  {
   "cell_type": "markdown",
   "id": "8f19de59-0acf-474a-ace6-0505243b8fc8",
   "metadata": {},
   "source": [
    "## Helper methods"
   ]
  },
  {
   "cell_type": "code",
   "execution_count": null,
   "id": "7fc5417f-46ef-447c-8c81-bb64d7cdc73e",
   "metadata": {},
   "outputs": [],
   "source": [
    "#export\n",
    "def circuit_partitions(circ, partition_names):\n",
    "    return [partition(circ, GATE_GROUPS[name]) for name in partition_names]\n",
    "\n",
    "def protocol_partitions(circuits_dict, partition_names):\n",
    "    return {c_hash: circuit_partitions(circ, partition_names)\n",
    "           for c_hash, circ in circuits_dict.items() if circ._noisy}"
   ]
  },
  {
   "cell_type": "code",
   "execution_count": null,
   "id": "41b99b82-c961-493d-8108-112ca9fb632d",
   "metadata": {},
   "outputs": [],
   "source": [
    "#export\n",
    "def circuit_weight_vectors(w_max, w_exclude={}):\n",
    "    w_exclude = set((w,) if isinstance(w, int) else w for w in w_exclude)\n",
    "    w_maxs = [w_max] if isinstance(w_max, int) else w_max\n",
    "\n",
    "    w_upto_w_maxs = [tuple(range(w_max+1)) for w_max in w_maxs]\n",
    "    w_vecs = list(it.product( *w_upto_w_maxs ))\n",
    "    filtered_w_vecs = [w for w in w_vecs if w not in w_exclude]\n",
    "    return filtered_w_vecs\n",
    "\n",
    "def protocol_weight_vectors(partition_dict):\n",
    "    return {c_hash: circuit_weight_vectors([len(p) for p in partitions]) \n",
    "            for c_hash, partitions in partition_dict.items()}"
   ]
  }
 ],
 "metadata": {
  "kernelspec": {
   "display_name": "Python 3 (ipykernel)",
   "language": "python",
   "name": "python3"
  }
 },
 "nbformat": 4,
 "nbformat_minor": 5
}
