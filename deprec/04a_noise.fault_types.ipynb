{
 "cells": [
  {
   "cell_type": "code",
   "execution_count": null,
   "id": "c821bce5-f53e-4dbe-b81d-f99f7d8e7660",
   "metadata": {},
   "outputs": [],
   "source": [
    "# default_exp noise.fault_types"
   ]
  },
  {
   "cell_type": "markdown",
   "id": "99a47f83-ac73-43b9-a2a1-de959a38cbfe",
   "metadata": {},
   "source": [
    "# Fault types\n",
    "\n",
    "> Collection of classes defining types of errors that can happen on circuit elements."
   ]
  },
  {
   "cell_type": "code",
   "execution_count": null,
   "id": "9067055f-ffb4-4d41-a38a-de79388a2dc4",
   "metadata": {},
   "outputs": [],
   "source": [
    "# hide\n",
    "from nbdev.showdoc import *"
   ]
  },
  {
   "cell_type": "code",
   "execution_count": null,
   "id": "1dcc6d93-c782-48bc-a604-7a358e9e76e1",
   "metadata": {},
   "outputs": [],
   "source": [
    "#export\n",
    "from qsam.datatypes.circuit import Circuit, partition, unpack\n",
    "import numpy as np\n",
    "import itertools as it"
   ]
  },
  {
   "cell_type": "code",
   "execution_count": null,
   "id": "cf15b3bf-dca7-455a-89aa-10cbe8a52938",
   "metadata": {},
   "outputs": [],
   "source": [
    "#export\n",
    "class OneQubitGateFaults:\n",
    "    \n",
    "    def generate(self):\n",
    "        pass"
   ]
  },
  {
   "cell_type": "code",
   "execution_count": null,
   "id": "92277ccc-7f96-461c-a1bb-66c327752563",
   "metadata": {},
   "outputs": [],
   "source": [
    "#export\n",
    "class TwoQubitGateFaults:\n",
    "    pass"
   ]
  },
  {
   "cell_type": "code",
   "execution_count": null,
   "id": "8e37db76-7c76-4583-9f37-99ab53609ff1",
   "metadata": {},
   "outputs": [],
   "source": [
    "#export\n",
    "class IdleQubitFaults:\n",
    "    pass"
   ]
  },
  {
   "cell_type": "code",
   "execution_count": null,
   "id": "3260ee83-1fc8-40ac-99cd-2b31d110b5a1",
   "metadata": {},
   "outputs": [],
   "source": [
    "#export\n",
    "class OneQubitGateOverrotationFaults:\n",
    "    pass"
   ]
  },
  {
   "cell_type": "code",
   "execution_count": null,
   "id": "33cdb341-7e1d-4c0a-a0d0-256d8338bc0f",
   "metadata": {},
   "outputs": [],
   "source": [
    "#export\n",
    "class TwoQubitGateOverrotationFaults:\n",
    "    pass"
   ]
  },
  {
   "cell_type": "code",
   "execution_count": null,
   "id": "9df4d979-5c5e-4510-9aa5-e54471dffcc0",
   "metadata": {},
   "outputs": [],
   "source": [
    "#export\n",
    "class OneQubitGateCrosstalkFaults:\n",
    "    pass"
   ]
  },
  {
   "cell_type": "code",
   "execution_count": null,
   "id": "b7d082b2-9881-433d-a8a4-758d2ef8e93c",
   "metadata": {},
   "outputs": [],
   "source": [
    "#export\n",
    "class TwoQubitGateCrosstalkFaults:\n",
    "    pass"
   ]
  },
  {
   "cell_type": "code",
   "execution_count": null,
   "id": "2812c769-07af-4649-acba-73de2ae30094",
   "metadata": {},
   "outputs": [
    {
     "data": {
      "text/plain": [
       "0: {'init': [0, 1, 2, 3, 4, 5]}\n",
       "1: {'H': [1, 2, 3]}\n",
       "2: {'X': [0, 1], 'CNOT': [(2, 3), (1, 5)]}\n",
       "3: {'measure': [1, 2, 3]}"
      ]
     },
     "execution_count": null,
     "metadata": {},
     "output_type": "execute_result"
    }
   ],
   "source": [
    "from qsam.datatypes.circuit import Circuit, unpack\n",
    "\n",
    "circuit = Circuit([{'init':[0,1,2,3,4,5]}, {'H': [1, 2, 3]}, {'X': [0, 1], 'CNOT': [(2, 3), (1,5)]}, {'measure' : [1,2,3]}])\n",
    "circuit"
   ]
  },
  {
   "cell_type": "code",
   "execution_count": null,
   "id": "c2eb4d04-9888-43ba-93ca-eefedf37d31d",
   "metadata": {},
   "outputs": [
    {
     "data": {
      "text/plain": [
       "{'idle': [(1, 0), (1, 4), (1, 5), (2, 4), (3, 0), (3, 4), (3, 5)],\n",
       " 'gate1': [(1, 1), (1, 2), (1, 3), (2, 0), (2, 1)],\n",
       " 'gate2': [(2, (2, 3)), (2, (1, 5))],\n",
       " 'meas': [(3, 1), (3, 2), (3, 3)],\n",
       " 'init': [(0, 0), (0, 1), (0, 2), (0, 3), (0, 4), (0, 5)]}"
      ]
     },
     "execution_count": null,
     "metadata": {},
     "output_type": "execute_result"
    }
   ],
   "source": [
    "GATESETS = {\n",
    "    'gate1': {'H', 'X', 'Y', 'Z', 'I', 'S', 'Sd', 'T', 'Td', 'Q', 'Qd', 'R', 'Rd'},\n",
    "    'gate2': {'CNOT', 'MSd'},\n",
    "    'meas': {'measure'},\n",
    "    'init': {'init'}\n",
    "}\n",
    "    \n",
    "def partition(circuit):\n",
    "\n",
    "    qubits = set(range(circuit.n_qubits))\n",
    "    out = {'idle': []}\n",
    "    get_partition = lambda gset: [(i,q) for i,t in enumerate(circuit)\n",
    "                                   for g,qs in t.items() for q in qs if g in gset]\n",
    "    \n",
    "    for gname,gset in GATESETS.items():\n",
    "        out[gname] = get_partition(gset)\n",
    "        \n",
    "    for i,tick in enumerate(circuit):\n",
    "        out['idle'] += [(i,q) for q in qubits.difference(set(unpack(tick)))]\n",
    "    \n",
    "    return out\n",
    "            \n",
    "partition(circuit)"
   ]
  },
  {
   "cell_type": "code",
   "execution_count": null,
   "id": "b2db934a-5ae1-44a9-9ada-8b06f2cf7cc5",
   "metadata": {},
   "outputs": [
    {
     "data": {
      "text/plain": [
       "['CNOT']"
      ]
     },
     "execution_count": null,
     "metadata": {},
     "output_type": "execute_result"
    }
   ],
   "source": [
    "def gates_at_loc(circuit, tick_idx, qbloc):\n",
    "    gates = circuit[tick_idx]\n",
    "    return [gate for gate, locs in gates.items() if qbloc in locs]\n",
    "\n",
    "\n",
    "gates_at_loc(circuit, 2, (2,3))\n",
    "# circuit"
   ]
  },
  {
   "cell_type": "code",
   "execution_count": null,
   "id": "5f413791-eb1b-489e-873c-7e0485837207",
   "metadata": {},
   "outputs": [
    {
     "data": {
      "text/plain": [
       "0: {'init': [0, 1, 2, 3, 4, 5]}\n",
       "1: {'H': [1, 2, 3]}\n",
       "2: {'X': [0, 1], 'CNOT': [(2, 3), (1, 5)]}\n",
       "3: {'measure': [1, 2, 3]}"
      ]
     },
     "execution_count": null,
     "metadata": {},
     "output_type": "execute_result"
    }
   ],
   "source": [
    "circuit"
   ]
  },
  {
   "cell_type": "code",
   "execution_count": null,
   "id": "b3067715-7498-4aec-9f44-44205dc9bec1",
   "metadata": {},
   "outputs": [
    {
     "data": {
      "text/plain": [
       "{'gate1': [(1, 0), (1, 4)], 'gate2': {'common': [(2, 4)], 'uncommon': []}}"
      ]
     },
     "execution_count": null,
     "metadata": {},
     "output_type": "execute_result"
    }
   ],
   "source": [
    "par = partition(circuit)\n",
    "\n",
    "n_faults = {'gate1': 1, 'gate2': 0, 'idle':2, 'meas': 0, 'init': 0}\n",
    "\n",
    "# clarify if xtalk1, xtalk2, overrotation should have their own subsets.\n",
    "\n",
    "def faults_from_weights(weights):\n",
    "    faults = []\n",
    "    for group,locs in par.items():\n",
    "        r_ids = np.random.choice(len(locs), weights[group], replace=False)\n",
    "        faults += [locs[r_idx] for r_idx in r_ids]\n",
    "        \n",
    "    # include overrot and crosstalk..\n",
    "    return faults\n",
    "\n",
    "def xt_neighbors(circuit):\n",
    "    \n",
    "    out = {'gate1': [], 'gate2': {'common': [], 'uncommon': []}}\n",
    "    n_qubits = set(range(circuit.n_qubits))\n",
    "    \n",
    "    for i,tick in enumerate(circuit):\n",
    "        \n",
    "        tickqubits = set(unpack(tick))\n",
    "        inactive = n_qubits.difference(tickqubits)\n",
    "        \n",
    "        for g,qs in tick.items():\n",
    "            \n",
    "            if g in GATESETS['gate1']:\n",
    "                for q in qs:\n",
    "                    if q-1 in inactive:\n",
    "                        out['gate1'].append((i,q-1))\n",
    "                    elif q+1 in inactive:\n",
    "                        out['gate1'].append((i,q+1))\n",
    "                        \n",
    "            elif g in GATESETS['gate2']:\n",
    "                neighbors = []\n",
    "                for qtup in qs:\n",
    "                    neighbor = []\n",
    "                    for q in qtup:\n",
    "                        if q-1 in inactive:\n",
    "                            neighbor.append((i,q-1))\n",
    "                        elif q+1 in inactive:\n",
    "                            neighbor.append((i,q+1))\n",
    "                    neighbors.append(neighbor)\n",
    "                    \n",
    "                out['gate2']['common'] = list(filter(lambda x: x in neighbors[1], neighbors[0]))\n",
    "                out['gate2']['uncommon'] = list(filter(lambda x: x not in neighbors[1], neighbors[0]))\n",
    "    return out\n",
    "        \n",
    "xt_neighbors(circuit)\n",
    "# faults_from_weights(n_faults)"
   ]
  },
  {
   "cell_type": "code",
   "execution_count": null,
   "id": "81a284bb-b4bb-45b5-8ce6-9477da7aced1",
   "metadata": {},
   "outputs": [
    {
     "data": {
      "text/plain": [
       "0: {'init': [0, 1, 2, 3, 4, 5]}\n",
       "1: {'H': [1, 2, 3]}\n",
       "2: {'X': [0, 1], 'CNOT': [(2, 3), (1, 5)]}\n",
       "3: {'measure': [1, 2, 3]}"
      ]
     },
     "execution_count": null,
     "metadata": {},
     "output_type": "execute_result"
    }
   ],
   "source": [
    "circuit"
   ]
  },
  {
   "cell_type": "code",
   "execution_count": null,
   "id": "e7e5b752-2f12-40c2-8b46-51587fdd1d62",
   "metadata": {},
   "outputs": [
    {
     "data": {
      "text/plain": [
       "['a', 'c']"
      ]
     },
     "execution_count": null,
     "metadata": {},
     "output_type": "execute_result"
    }
   ],
   "source": [
    "l = ['a','b','c']\n",
    "b = ['c','a']\n",
    "list(filter(lambda x: x in b, l))"
   ]
  }
 ],
 "metadata": {
  "kernelspec": {
   "display_name": "Python 3 (ipykernel)",
   "language": "python",
   "name": "python3"
  }
 },
 "nbformat": 4,
 "nbformat_minor": 5
}
