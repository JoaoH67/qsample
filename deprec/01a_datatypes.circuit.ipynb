{
 "cells": [
  {
   "cell_type": "code",
   "execution_count": null,
   "metadata": {},
   "outputs": [],
   "source": [
    "# default_exp datatypes.circuit"
   ]
  },
  {
   "cell_type": "markdown",
   "metadata": {},
   "source": [
    "# Circuit\n",
    "\n",
    "> Representation of a quantum circuit."
   ]
  },
  {
   "cell_type": "code",
   "execution_count": null,
   "metadata": {},
   "outputs": [],
   "source": [
    "# hide\n",
    "from nbdev.showdoc import *"
   ]
  },
  {
   "cell_type": "code",
   "execution_count": null,
   "metadata": {},
   "outputs": [],
   "source": [
    "# export\n",
    "from collections.abc import MutableSequence\n",
    "from functools import lru_cache\n",
    "import hashlib"
   ]
  },
  {
   "cell_type": "code",
   "execution_count": null,
   "metadata": {},
   "outputs": [],
   "source": [
    "#export\n",
    "GATESETS = {\n",
    "    'gate1': {'H', 'X', 'Y', 'Z', 'I', 'S', 'Sd', 'T', 'Td', 'Q', 'Qd', 'R', 'Rd'},\n",
    "    'gate2': {'CNOT', 'MSd'},\n",
    "    'meas': {'measure'},\n",
    "    'init': {'init'}\n",
    "}"
   ]
  },
  {
   "cell_type": "markdown",
   "metadata": {},
   "source": [
    "A circuit is a list of ticks. A tick consists of gates associated to qubits. We can have one-qubit gates which are applied to single gate locations and two-qubit gates which are applied to an ordered (control,target)-qubit pair. For simplicity, we implement this as a list of dictionaries. Each tick is represented by a dictionary (a *tick*tionary if you may) which holds the `gate_symbol` as key and the set of `qubits` we want to apply these gates to as values. Qubits can be either *integers* for single-qubit locations or *tuples* for two-qubit locations."
   ]
  },
  {
   "cell_type": "code",
   "execution_count": null,
   "metadata": {},
   "outputs": [],
   "source": [
    "#export\n",
    "class Circuit(MutableSequence):\n",
    "    \"\"\"Representation of a quantum circuit\"\"\"\n",
    "    \n",
    "    def __init__(self, ticks=None, noisy=True, ff_det=False):\n",
    "        self._ticks = ticks if ticks else []\n",
    "        self._noisy = noisy\n",
    "        self._ff_deterministic = ff_det # fault-free deterministic\n",
    "        \n",
    "    def __getitem__(self, tick_index):\n",
    "        return self._ticks[tick_index]\n",
    "    \n",
    "    def __setitem__(self, tick_index, tick):\n",
    "        self._ticks[tick_index] = tick\n",
    "        \n",
    "    def __delitem__(self, tick_index):\n",
    "        del self._ticks[tick_index]\n",
    "        \n",
    "    def __len__(self):\n",
    "        return len(self._ticks)\n",
    "    \n",
    "    def insert(self, tick_index, tick):\n",
    "        self._ticks.insert(tick_index, tick)\n",
    "    \n",
    "    def __str__(self):\n",
    "        str_list = []\n",
    "        for i, tick in enumerate(self._ticks):\n",
    "            str_list.append(f\"{i}: {str(tick)}\")\n",
    "        return \"\\n\".join(str_list)\n",
    "    \n",
    "    def __repr__(self):\n",
    "        return self.__str__()\n",
    "    \n",
    "    @property\n",
    "    def _qubits(self):  \n",
    "        \"\"\"Set of qubits used in circuit\"\"\"\n",
    "        return set(unpack(self._ticks))\n",
    "    \n",
    "    @property\n",
    "    @lru_cache(maxsize=1)\n",
    "    def n_qubits(self):\n",
    "        \"\"\"Number of qubits used in circuit\"\"\"\n",
    "        return len(self._qubits)\n",
    "    \n",
    "    @property\n",
    "    def n_ticks(self):\n",
    "        \"\"\"Number of ticks\"\"\"\n",
    "        return len(self._ticks)\n",
    "    \n",
    "    @property\n",
    "    def partition(self):\n",
    "        \"\"\"Partition circuit into gatesets+idle groups\"\"\"\n",
    "        qubits = set(range(self.n_qubits))\n",
    "        out = {'idle': []}\n",
    "        get_partition = lambda gset: [(i,q) for i,t in enumerate(self)\n",
    "                                       for g,qs in t.items() for q in qs if g in gset]\n",
    "        \n",
    "        for gname,gset in GATESETS.items():\n",
    "            out[gname] = get_partition(gset)\n",
    "            \n",
    "        for i,tick in enumerate(self):\n",
    "            out['idle'] += [(i,q) for q in qubits.difference(set(unpack(tick)))]\n",
    "            \n",
    "        return out"
   ]
  },
  {
   "cell_type": "code",
   "execution_count": null,
   "metadata": {},
   "outputs": [
    {
     "name": "stdout",
     "output_type": "stream",
     "text": [
      "{'idle': [(0, 1), (0, 2)], 'gate1': [(0, 0), (0, 3), (1, 0), (1, 1)], 'gate2': [(1, (2, 3)), (2, (2, 3)), (2, (0, 1))], 'meas': [], 'init': []}\n",
      "{'s1': [(0, 0, 0, 0, 0), (0, 0, 1, 0, 0), (0, 0, 2, 0, 0), (0, 0, 3, 0, 0), (0, 1, 0, 0, 0), (0, 1, 1, 0, 0), (0, 1, 2, 0, 0), (0, 1, 3, 0, 0), (0, 2, 0, 0, 0), (0, 2, 1, 0, 0), (0, 2, 2, 0, 0), (0, 2, 3, 0, 0), (0, 3, 0, 0, 0), (0, 3, 1, 0, 0), (0, 3, 2, 0, 0), (0, 3, 3, 0, 0), (0, 4, 0, 0, 0), (0, 4, 1, 0, 0), (0, 4, 2, 0, 0), (0, 4, 3, 0, 0), (1, 0, 0, 0, 0), (1, 0, 1, 0, 0), (1, 0, 2, 0, 0), (1, 0, 3, 0, 0), (1, 1, 0, 0, 0), (1, 1, 1, 0, 0), (1, 1, 2, 0, 0), (1, 1, 3, 0, 0), (1, 2, 0, 0, 0), (1, 2, 1, 0, 0), (1, 2, 2, 0, 0), (1, 2, 3, 0, 0), (1, 3, 0, 0, 0), (1, 3, 1, 0, 0), (1, 3, 2, 0, 0), (1, 3, 3, 0, 0), (1, 4, 0, 0, 0), (1, 4, 1, 0, 0), (1, 4, 2, 0, 0), (1, 4, 3, 0, 0), (2, 0, 0, 0, 0), (2, 0, 1, 0, 0), (2, 0, 2, 0, 0), (2, 0, 3, 0, 0), (2, 1, 0, 0, 0), (2, 1, 1, 0, 0), (2, 1, 2, 0, 0), (2, 1, 3, 0, 0), (2, 2, 0, 0, 0), (2, 2, 1, 0, 0), (2, 2, 2, 0, 0), (2, 2, 3, 0, 0), (2, 3, 0, 0, 0), (2, 3, 1, 0, 0), (2, 3, 2, 0, 0), (2, 3, 3, 0, 0), (2, 4, 0, 0, 0), (2, 4, 1, 0, 0), (2, 4, 2, 0, 0), (2, 4, 3, 0, 0)]}\n",
      "[(0, 0, 0, 0, 0), (0, 0, 1, 0, 0), (0, 0, 2, 0, 0), (0, 0, 3, 0, 0), (0, 1, 0, 0, 0), (0, 1, 1, 0, 0), (0, 1, 2, 0, 0), (0, 1, 3, 0, 0), (0, 2, 0, 0, 0), (0, 2, 1, 0, 0), (0, 2, 2, 0, 0), (0, 2, 3, 0, 0), (0, 3, 0, 0, 0), (0, 3, 1, 0, 0), (0, 3, 2, 0, 0), (0, 3, 3, 0, 0), (0, 4, 0, 0, 0), (0, 4, 1, 0, 0), (0, 4, 2, 0, 0), (0, 4, 3, 0, 0), (1, 0, 0, 0, 0), (1, 0, 1, 0, 0), (1, 0, 2, 0, 0), (1, 0, 3, 0, 0), (1, 1, 0, 0, 0), (1, 1, 1, 0, 0), (1, 1, 2, 0, 0), (1, 1, 3, 0, 0), (1, 2, 0, 0, 0), (1, 2, 1, 0, 0), (1, 2, 2, 0, 0), (1, 2, 3, 0, 0), (1, 3, 0, 0, 0), (1, 3, 1, 0, 0), (1, 3, 2, 0, 0), (1, 3, 3, 0, 0), (1, 4, 0, 0, 0), (1, 4, 1, 0, 0), (1, 4, 2, 0, 0), (1, 4, 3, 0, 0), (2, 0, 0, 0, 0), (2, 0, 1, 0, 0), (2, 0, 2, 0, 0), (2, 0, 3, 0, 0), (2, 1, 0, 0, 0), (2, 1, 1, 0, 0), (2, 1, 2, 0, 0), (2, 1, 3, 0, 0), (2, 2, 0, 0, 0), (2, 2, 1, 0, 0), (2, 2, 2, 0, 0), (2, 2, 3, 0, 0), (2, 3, 0, 0, 0), (2, 3, 1, 0, 0), (2, 3, 2, 0, 0), (2, 3, 3, 0, 0), (2, 4, 0, 0, 0), (2, 4, 1, 0, 0), (2, 4, 2, 0, 0), (2, 4, 3, 0, 0)]\n"
     ]
    },
    {
     "data": {
      "text/plain": [
       "{'s1': array([3.87420489e-01, 1.29140163e-01, 1.43489070e-02, 5.31441000e-04,\n",
       "        1.72186884e-01, 5.73956280e-02, 6.37729200e-03, 2.36196000e-04,\n",
       "        2.86978140e-02, 9.56593800e-03, 1.06288200e-03, 3.93660000e-05,\n",
       "        2.12576400e-03, 7.08588000e-04, 7.87320000e-05, 2.91600000e-06,\n",
       "        5.90490000e-05, 1.96830000e-05, 2.18700000e-06, 8.10000000e-08,\n",
       "        8.60934420e-02, 2.86978140e-02, 3.18864600e-03, 1.18098000e-04,\n",
       "        3.82637520e-02, 1.27545840e-02, 1.41717600e-03, 5.24880000e-05,\n",
       "        6.37729200e-03, 2.12576400e-03, 2.36196000e-04, 8.74800000e-06,\n",
       "        4.72392000e-04, 1.57464000e-04, 1.74960000e-05, 6.48000000e-07,\n",
       "        1.31220000e-05, 4.37400000e-06, 4.86000000e-07, 1.80000000e-08,\n",
       "        4.78296900e-03, 1.59432300e-03, 1.77147000e-04, 6.56100000e-06,\n",
       "        2.12576400e-03, 7.08588000e-04, 7.87320000e-05, 2.91600000e-06,\n",
       "        3.54294000e-04, 1.18098000e-04, 1.31220000e-05, 4.86000000e-07,\n",
       "        2.62440000e-05, 8.74800000e-06, 9.72000000e-07, 3.60000000e-08,\n",
       "        7.29000000e-07, 2.43000000e-07, 2.70000000e-08, 1.00000000e-09])}"
      ]
     },
     "execution_count": null,
     "metadata": {},
     "output_type": "execute_result"
    }
   ],
   "source": [
    "circuit = Circuit([{'Y': [0,3]}, {'X': [0,1], 'CNOT': [(2,3)]}, {'CNOT': [(2,3),(0,1)]}])\n",
    "par = circuit.partition\n",
    "\n",
    "# partition = [subset_gate1_locs, subset_gate2_locs, subset_meas_locs, ..]\n",
    "\n",
    "import itertools as it\n",
    "import qsam.math as math\n",
    "\n",
    "# ...\n",
    "def protocol_subset_occurence(partitions: dict, partition_weights: dict, p_phys: (list,np.ndarray,float)) -> dict:\n",
    "    \"\"\"Generate subset occurence probabilities corresponding to each subset weight\n",
    "    combination per circuit partition in partitions\"\"\"\n",
    "    \n",
    "    def circuit_subset_occurence(partition, partition_weight, p_phy_per_subset):\n",
    "        subset_lens = np.array([len(locs) for locs in partition.values()])\n",
    "        Aws = np.array([math.binom(w_vec, subset_lens, p_phy_per_subset) for w_vec in partition_weight])\n",
    "        Aws = np.product(Aws, axis=-1)\n",
    "        return Aws\n",
    "\n",
    "    return {chash: circuit_subset_occurence(partitions[chash],partition_weight,p_phys)\n",
    "            for chash, partition_weight in partition_weights.items()}\n",
    "\n",
    "def protocol_partition_weights(partitions: dict) -> dict:\n",
    "    \"\"\"Generate all possible subset weights per circuit partition in partitions\"\"\"\n",
    "    \n",
    "    def partition_weight_combs(subset_lens):\n",
    "        return list(it.product( *[tuple(range(l+1)) for l in subset_lens] ))\n",
    "    \n",
    "    return {chash: partition_weight_combs([len(subset) for subset in partition.values()])\n",
    "            for chash, partition in partitions.items()}\n",
    "\n",
    "print(par)\n",
    "p_weights = protocol_partition_weights({'s1': par})\n",
    "print(p_weights)\n",
    "protocol_subset_occurence({'s1': par}, p_weights, np.array([0.1]))"
   ]
  },
  {
   "cell_type": "markdown",
   "metadata": {},
   "source": [
    "As `Circuit` is a `MutableSequence` we get all the Pythonic list functionality for free. Let's check several ways we can create and add to a circuit.<br>\n",
    "\n",
    "**Note:** It is important to define the values as a **list** of qubits, and not as a **set**. Although both work, for several measurements in one tick only lists maintain the order in which these measurements take place, whereas for sets the qubit order is changed to increasing value. For example {2,1,3} will become {1,2,3}. Thus the output string of the `Simulator.run()` method will also follow this order when defining qubits in circuits as sets."
   ]
  },
  {
   "cell_type": "code",
   "execution_count": null,
   "metadata": {},
   "outputs": [],
   "source": [
    "circuit = Circuit([{'H': [1,2,3]}])\n",
    "assert circuit._ticks == [{'H': [1,2,3]}]"
   ]
  },
  {
   "cell_type": "code",
   "execution_count": null,
   "metadata": {},
   "outputs": [],
   "source": [
    "circuit.append({'X': [0,1], 'CNOT': [(2,3)]})\n",
    "assert circuit._ticks == [{'H': [1,2,3]}, {'X': [0,1], 'CNOT': [(2,3)]}]"
   ]
  },
  {
   "cell_type": "code",
   "execution_count": null,
   "metadata": {},
   "outputs": [],
   "source": [
    "circuit += [{'CNOT': [(2,3),(0,1)]}]\n",
    "assert circuit._ticks == [{'H': [1,2,3]}, {'X': [0,1], 'CNOT': [(2,3)]}, {'CNOT': [(2,3),(0,1)]}]"
   ]
  },
  {
   "cell_type": "code",
   "execution_count": null,
   "metadata": {},
   "outputs": [],
   "source": [
    "circuit[0] = {'Y': [0,3]}\n",
    "assert circuit._ticks == [{'Y': [0,3]}, {'X': [0,1], 'CNOT': [(2,3)]}, {'CNOT': [(2,3),(0,1)]}]"
   ]
  },
  {
   "cell_type": "markdown",
   "metadata": {},
   "source": [
    "Of course we can also print our `Circuit`. We get a list of ticks and the corresponding ticks which are sequentially applied to our state during simulation."
   ]
  },
  {
   "cell_type": "code",
   "execution_count": null,
   "metadata": {},
   "outputs": [
    {
     "name": "stdout",
     "output_type": "stream",
     "text": [
      "0: {'Y': [0, 3]}\n",
      "1: {'X': [0, 1], 'CNOT': [(2, 3)]}\n",
      "2: {'CNOT': [(2, 3), (0, 1)]}\n"
     ]
    }
   ],
   "source": [
    "print(circuit)"
   ]
  },
  {
   "cell_type": "markdown",
   "metadata": {},
   "source": [
    "Furthermore, our `Circuit` class gives us some useful information about the circuit, as"
   ]
  },
  {
   "cell_type": "code",
   "execution_count": null,
   "metadata": {},
   "outputs": [
    {
     "data": {
      "text/markdown": [
       "<h4 id=\"Circuit.n_qubits\" class=\"doc_header\"><code>Circuit.n_qubits</code><a href=\"\" class=\"source_link\" style=\"float:right\">[source]</a></h4>\n",
       "\n",
       "Number of qubits used in circuit"
      ],
      "text/plain": [
       "<IPython.core.display.Markdown object>"
      ]
     },
     "metadata": {},
     "output_type": "display_data"
    },
    {
     "data": {
      "text/markdown": [
       "<h4 id=\"Circuit.n_ticks\" class=\"doc_header\"><code>Circuit.n_ticks</code><a href=\"\" class=\"source_link\" style=\"float:right\">[source]</a></h4>\n",
       "\n",
       "Number of ticks"
      ],
      "text/plain": [
       "<IPython.core.display.Markdown object>"
      ]
     },
     "metadata": {},
     "output_type": "display_data"
    }
   ],
   "source": [
    "show_doc(Circuit.n_qubits)\n",
    "show_doc(Circuit.n_ticks)"
   ]
  },
  {
   "cell_type": "markdown",
   "metadata": {},
   "source": [
    "# Circuit helper functions\n",
    "Sometimes it is useful to get a list of all the qubits which are \"touched\" in a circuit. From this we can for example infer the total number of qubits in a circuit without ever specifying them directly. Now, we define a `Circuit` as a list of ticks where each tick is represented by a dictionary and the values of these dictionaries contain sets of qubits. These sets can either contain integers or tuples of two integers of qubit indices. Thus, we need a way to unpack (or flatten) all these tuples first before we can merge the indices together in a list. `unpack` accomplishes this recursively."
   ]
  },
  {
   "cell_type": "code",
   "execution_count": null,
   "metadata": {},
   "outputs": [],
   "source": [
    "#export\n",
    "def unpack(seq):\n",
    "    \"\"\"Generator for all qubits defined in a (sub)circuit\"\"\"\n",
    "    \n",
    "    if isinstance(seq, (tuple,set,list,Circuit)):\n",
    "        yield from (x for y in seq for x in unpack(y))\n",
    "    elif isinstance(seq, dict):\n",
    "        yield from (x for v in seq.values() for y in v for x in unpack(y))\n",
    "    else:\n",
    "        yield seq"
   ]
  },
  {
   "cell_type": "markdown",
   "metadata": {},
   "source": [
    "Let's see how it works. We give it a list of dictionaries as a representation for some circuit."
   ]
  },
  {
   "cell_type": "code",
   "execution_count": null,
   "metadata": {},
   "outputs": [
    {
     "name": "stdout",
     "output_type": "stream",
     "text": [
      "[1, 2, 3, 0, 1, 2, 3, 1, 5]\n"
     ]
    }
   ],
   "source": [
    "circuit = [{'H': [1, 2, 3]}, {'X': [0, 1], 'CNOT': [(2, 3), (1,5)]}]\n",
    "print(list(unpack(circuit)))"
   ]
  },
  {
   "cell_type": "markdown",
   "metadata": {},
   "source": [
    "And for several circuits, for example as we find them in a protocol."
   ]
  },
  {
   "cell_type": "code",
   "execution_count": null,
   "metadata": {},
   "outputs": [
    {
     "data": {
      "text/plain": [
       "{0, 1, 2, 3, 5, 6}"
      ]
     },
     "execution_count": null,
     "metadata": {},
     "output_type": "execute_result"
    }
   ],
   "source": [
    "c1 = [{'H': [1, 2, 3]}, {'X': [0, 1], 'CNOT': [(2, 3), (1,5)]}]\n",
    "c2 = [{'Y': [6,1,3]}]\n",
    "cs = [c1,c2]\n",
    "\n",
    "set(q for c in cs for q in unpack(c))"
   ]
  },
  {
   "cell_type": "markdown",
   "metadata": {},
   "source": [
    "As we can see, the output does, exactly as we expected, contains a list of all the qubits in the order we defined them in the circuit where tuples are correctly unpacked as well."
   ]
  },
  {
   "cell_type": "markdown",
   "metadata": {},
   "source": [
    "Another useful method which is of particular interest for the creation of multi-parameter noise models is `partition`. This function allows us to scan a `Circuit` for certain gates and return a list of `(tick_index,qubits)`-tuples which represent a certain `partition` of a circuit. For example we could pass the gate symbols for all two-qubit gates to `partition` to retrieve a list of all circuit locations where two-qubit gates are present. This list can be subsequently used for example to randomly select faulty locations with some probability."
   ]
  },
  {
   "cell_type": "code",
   "execution_count": null,
   "metadata": {},
   "outputs": [],
   "source": [
    "#export\n",
    "def partition(circuit,gates):\n",
    "    \"\"\"Find all (tick,qubit) circuit locations for list of `gates`\"\"\"\n",
    "    \n",
    "    return [(t_idx,q) for (t_idx,tick) in enumerate(circuit) \n",
    "            for g,qs in tick.items() for q in qs if g in gates]"
   ]
  },
  {
   "cell_type": "code",
   "execution_count": null,
   "metadata": {},
   "outputs": [
    {
     "name": "stdout",
     "output_type": "stream",
     "text": [
      "[(1, 0), (1, 1)]\n",
      "[(0, 1), (0, 2), (0, 3), (1, 0), (1, 1)]\n",
      "[(1, (2, 3)), (1, (1, 5))]\n"
     ]
    }
   ],
   "source": [
    "print(partition(circuit, [\"X\"]))\n",
    "print(partition(circuit, [\"X\",\"H\"]))\n",
    "print(partition(circuit, [\"CNOT\"]))"
   ]
  },
  {
   "cell_type": "markdown",
   "metadata": {},
   "source": [
    "If we want to use circuits as keys in dictionaries we first need to create a hash, i.e. a unique ID for a particular circuit. As a circuit is in general a mutable object we cannot hash it itself. The external function `make_hash` generates a hash for a circuit."
   ]
  },
  {
   "cell_type": "code",
   "execution_count": null,
   "metadata": {},
   "outputs": [],
   "source": [
    "#hide\n",
    "#export\n",
    "def freeze(obj):\n",
    "    if isinstance(obj, dict): # dicts to frozensets\n",
    "        return frozenset({k:freeze(v) for k,v in obj.items()}.items())\n",
    "    if isinstance(obj, (set,tuple,list)):\n",
    "        return tuple([freeze(v) for v in obj]) # lists sets and tuples to tuples\n",
    "    return obj # hashable object"
   ]
  },
  {
   "cell_type": "code",
   "execution_count": null,
   "metadata": {},
   "outputs": [],
   "source": [
    "#export\n",
    "def make_hash(circuit):\n",
    "    return hashlib.sha1(str(freeze(circuit)).encode('UTF-8')).hexdigest()[:10]"
   ]
  },
  {
   "cell_type": "code",
   "execution_count": null,
   "metadata": {},
   "outputs": [
    {
     "name": "stdout",
     "output_type": "stream",
     "text": [
      "459b14736e\n",
      "4d0c78074f\n"
     ]
    }
   ],
   "source": [
    "circuit = [{'H': [1, 2, 3]}, {'X': [0, 1], 'CNOT': [(2, 3), (1,5)]}]\n",
    "circuit2 = [{'H': [1, 2, 3]}, {'X': [0, 1]}]\n",
    "\n",
    "print(make_hash(circuit))\n",
    "print(make_hash(circuit2))"
   ]
  }
 ],
 "metadata": {
  "kernelspec": {
   "display_name": "Python 3 (ipykernel)",
   "language": "python",
   "name": "python3"
  }
 },
 "nbformat": 4,
 "nbformat_minor": 4
}
