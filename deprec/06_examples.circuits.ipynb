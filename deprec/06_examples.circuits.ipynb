{
 "cells": [
  {
   "cell_type": "code",
   "execution_count": null,
   "id": "74bf080a-9a23-4818-981c-1cb4526a21c5",
   "metadata": {},
   "outputs": [],
   "source": [
    "# default_exp examples.circuits"
   ]
  },
  {
   "cell_type": "markdown",
   "id": "29d3cd12-0247-46db-952b-a06d3113c0db",
   "metadata": {},
   "source": [
    "# Example circuits\n",
    "\n",
    "> Collection of circuits used for show-casing examples of samplings."
   ]
  },
  {
   "cell_type": "code",
   "execution_count": null,
   "id": "19c60f3c-8609-40a8-938d-afabee837739",
   "metadata": {},
   "outputs": [],
   "source": [
    "# hide\n",
    "from nbdev.showdoc import *"
   ]
  },
  {
   "cell_type": "code",
   "execution_count": null,
   "id": "13c5e9c2-ca98-42e9-9721-1e611b2e62c4",
   "metadata": {},
   "outputs": [],
   "source": [
    "# export\n",
    "from qsam.datatypes.circuit import Circuit"
   ]
  },
  {
   "cell_type": "markdown",
   "id": "551ad46b-742a-41ff-84a7-8cfca5ad12cc",
   "metadata": {},
   "source": [
    "## GHZ preparation flag circuit"
   ]
  },
  {
   "cell_type": "code",
   "execution_count": null,
   "id": "5b2c9041-0795-4f3c-b673-c267f88838fe",
   "metadata": {},
   "outputs": [],
   "source": [
    "# export\n",
    "\n",
    "ghz = Circuit([ {\"init\": {0,1,2,3,4}},\n",
    "                {\"H\": {0}},\n",
    "                {\"CNOT\": {(0,1)}},\n",
    "                {\"CNOT\": {(1,2)}},\n",
    "                {\"CNOT\": {(2,3)}},\n",
    "                {\"CNOT\": {(3,4)}},\n",
    "                {\"CNOT\": {(0,4)}},\n",
    "                {\"measure\": {4}}   ], ff_det=True)"
   ]
  },
  {
   "cell_type": "markdown",
   "id": "4d91526e-a978-44bd-a208-c3494b361437",
   "metadata": {},
   "source": [
    "## Stabilizer measurement circuit of GHZ state"
   ]
  },
  {
   "cell_type": "code",
   "execution_count": null,
   "id": "93bfbacb-ba70-4bfc-abea-7604e592f414",
   "metadata": {},
   "outputs": [],
   "source": [
    "# export\n",
    "\n",
    "# stabilizers for 4-qubit ghz state are XXXX and three ZZ parity checks\n",
    "ghz_stabs = Circuit([{\"init\": {4}},\n",
    "                {\"H\": {4}},\n",
    "                {\"CNOT\": {(4,0)}},\n",
    "                {\"CNOT\": {(4,1)}},\n",
    "                {\"CNOT\": {(4,2)}},\n",
    "                {\"CNOT\": {(4,3)}},\n",
    "                {\"H\": {4}},\n",
    "                {\"measure\": {4}},\n",
    "                \n",
    "                {\"init\": {4}},\n",
    "                {\"CNOT\": {(0,4)}},\n",
    "                {\"CNOT\": {(1,4)}},\n",
    "                {\"measure\": {4}},\n",
    "                \n",
    "                {\"init\": {4}},\n",
    "                {\"CNOT\": {(1,4)}},\n",
    "                {\"CNOT\": {(2,4)}},\n",
    "                {\"measure\": {4}},\n",
    "                \n",
    "                {\"init\": {4}},\n",
    "                {\"CNOT\": {(2,4)}},\n",
    "                {\"CNOT\": {(3,4)}},\n",
    "                {\"measure\": {4}}], noisy=False)"
   ]
  },
  {
   "cell_type": "markdown",
   "id": "9f86f6be-35d8-4629-81c2-f06f89fb2ae3",
   "metadata": {},
   "source": [
    "## .."
   ]
  },
  {
   "cell_type": "code",
   "execution_count": null,
   "id": "cd73287e-b635-4e4b-9a4b-82c6766f4598",
   "metadata": {},
   "outputs": [],
   "source": [
    "# export\n",
    "\n",
    "eft = Circuit([ {\"init\": {0,1,2,4,3,5,6,7}},\n",
    "                {\"H\": {0,1,3}},\n",
    "                {\"CNOT\": {(0,4)}},\n",
    "                {\"CNOT\": {(1,2)}},\n",
    "                {\"CNOT\": {(3,5)}},\n",
    "                {\"CNOT\": {(0,6)}},\n",
    "                {\"CNOT\": {(3,4)}},\n",
    "                {\"CNOT\": {(1,5)}},\n",
    "                {\"CNOT\": {(0,2)}},\n",
    "                {\"CNOT\": {(5,6)}},\n",
    "                {\"CNOT\": {(4,7)}},\n",
    "                {\"CNOT\": {(2,7)}},\n",
    "                {\"CNOT\": {(5,7)}},\n",
    "                {\"measure\": {7}} ], ff_det=True)"
   ]
  },
  {
   "cell_type": "markdown",
   "id": "33940b0d-7ca1-4386-a7af-ac2f39199f78",
   "metadata": {},
   "source": [
    "## Steane color code Z-plaquette stabilizer"
   ]
  },
  {
   "cell_type": "code",
   "execution_count": null,
   "id": "d59b29bf-8bc8-44c4-8a1e-a1ba3ea989f1",
   "metadata": {},
   "outputs": [],
   "source": [
    "# export\n",
    "\n",
    "sz_123 = Circuit([{\"init\": {8}},\n",
    "                {\"CNOT\": {(0,8)}},\n",
    "                {\"CNOT\": {(1,8)}},\n",
    "                {\"CNOT\": {(3,8)}},\n",
    "                {\"CNOT\": {(6,8)}},\n",
    "                {\"measure\": {8}}])"
   ]
  },
  {
   "cell_type": "markdown",
   "id": "67797795-ea34-4086-bc53-d819ea9657bb",
   "metadata": {},
   "source": [
    "## Measurement circuits"
   ]
  },
  {
   "cell_type": "code",
   "execution_count": null,
   "id": "1ec87e68-fdb8-446c-8179-880f9b89a706",
   "metadata": {},
   "outputs": [],
   "source": [
    "# export\n",
    "\n",
    "meas7 = Circuit([ {\"measure\": {0,1,2,3,4,5,6}} ])\n"
   ]
  },
  {
   "cell_type": "markdown",
   "id": "498734b6-f5df-4f2c-aef8-649de1e78526",
   "metadata": {},
   "source": [
    "## .."
   ]
  },
  {
   "cell_type": "code",
   "execution_count": null,
   "id": "cc1f6e9a-96df-41a2-94b6-aaedcebfd2d5",
   "metadata": {},
   "outputs": [],
   "source": [
    "# export\n",
    "\n",
    "fmx_1 = Circuit([{\"init\": {8}},\n",
    "                 {\"H\": {8}},\n",
    "                {\"init\": {9}},\n",
    "                {\"CNOT\": {(8,3)}},\n",
    "                {\"CNOT\": {(8,9)}},\n",
    "                {\"CNOT\": {(8,4)}},\n",
    "                {\"CNOT\": {(8,5)}},\n",
    "                {\"CNOT\": {(8,9)}},\n",
    "                {\"CNOT\": {(8,6)}},\n",
    "                 {\"H\": {8}},\n",
    "                {\"measure\": {8}},\n",
    "                {\"measure\": {9}} ])\n",
    "\n",
    "fmx_2 = Circuit([{\"init\": {8}},\n",
    "                  {\"H\": {8}},\n",
    "                {\"init\": {9}},\n",
    "                {\"CNOT\": {(8,0)}},\n",
    "                {\"CNOT\": {(8,9)}},\n",
    "                {\"CNOT\": {(8,2)}},\n",
    "                {\"CNOT\": {(8,4)}},\n",
    "                {\"CNOT\": {(8,9)}},\n",
    "                {\"CNOT\": {(8,6)}},\n",
    "                 {\"H\": {8}},\n",
    "                {\"measure\": {8}},\n",
    "                {\"measure\": {9}} ])\n",
    "\n",
    "fmx_3 = Circuit([{\"init\": {8}},\n",
    "              {\"H\": {8}},\n",
    "                {\"init\": {9}},\n",
    "                {\"CNOT\": {(8,1)}},\n",
    "                {\"CNOT\": {(8,9)}},\n",
    "                {\"CNOT\": {(8,2)}},\n",
    "                {\"CNOT\": {(8,5)}},\n",
    "                {\"CNOT\": {(8,9)}},\n",
    "                {\"CNOT\": {(8,6)}},\n",
    "                 {\"H\": {8}},\n",
    "                {\"measure\": {8}},\n",
    "                {\"measure\": {9}} ])\n",
    "\n",
    "nfs = Circuit([{\"init\": {7,8,9}},\n",
    "               {\"H\": {7,8,9}},\n",
    "                {\"CNOT\": {(7,3)}},\n",
    "                {\"CNOT\": {(7,4)}},\n",
    "                {\"CNOT\": {(7,5)}},\n",
    "                {\"CNOT\": {(7,6)}},\n",
    "                {\"CNOT\": {(8,0)}},\n",
    "                {\"CNOT\": {(8,2)}},\n",
    "                {\"CNOT\": {(8,4)}},\n",
    "                {\"CNOT\": {(8,6)}},\n",
    "                {\"CNOT\": {(9,1)}},\n",
    "                {\"CNOT\": {(9,2)}},\n",
    "                {\"CNOT\": {(9,5)}},\n",
    "                {\"CNOT\": {(9,6)}},\n",
    "                {\"H\": {7,8,9}},\n",
    "                {\"measure\": {7,8,9}},\n",
    "                {\"init\": {7,8,9}},\n",
    "                {\"CNOT\": {(3,7)}},\n",
    "                {\"CNOT\": {(4,7)}},\n",
    "                {\"CNOT\": {(5,7)}},\n",
    "                {\"CNOT\": {(6,7)}},\n",
    "                {\"CNOT\": {(0,8)}},\n",
    "                {\"CNOT\": {(2,8)}},\n",
    "                {\"CNOT\": {(4,8)}},\n",
    "                {\"CNOT\": {(6,8)}},\n",
    "                {\"CNOT\": {(1,9)}},\n",
    "                {\"CNOT\": {(2,9)}},\n",
    "                {\"CNOT\": {(5,9)}},\n",
    "                {\"CNOT\": {(6,9)}},\n",
    "                {\"measure\": {7,8,9}} ])"
   ]
  },
  {
   "cell_type": "code",
   "execution_count": null,
   "id": "ee063439-85a1-4ee1-9790-872788d4175e",
   "metadata": {},
   "outputs": [],
   "source": []
  },
  {
   "cell_type": "code",
   "execution_count": null,
   "id": "6e286a51-34b4-45c7-995a-ef596cbce11a",
   "metadata": {},
   "outputs": [],
   "source": []
  }
 ],
 "metadata": {
  "kernelspec": {
   "display_name": "Python 3 (ipykernel)",
   "language": "python",
   "name": "python3"
  }
 },
 "nbformat": 4,
 "nbformat_minor": 5
}
