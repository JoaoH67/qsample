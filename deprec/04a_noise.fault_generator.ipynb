{
 "cells": [
  {
   "cell_type": "code",
   "execution_count": null,
   "id": "c821bce5-f53e-4dbe-b81d-f99f7d8e7660",
   "metadata": {},
   "outputs": [],
   "source": [
    "# default_exp noise.fault_generator"
   ]
  },
  {
   "cell_type": "markdown",
   "id": "99a47f83-ac73-43b9-a2a1-de959a38cbfe",
   "metadata": {},
   "source": [
    "# Fault generator\n",
    "\n",
    "> Parent class of generator of fault circuits according to specified error parameters"
   ]
  },
  {
   "cell_type": "code",
   "execution_count": null,
   "id": "d9948269-3b06-4a73-8498-c2fce4707a31",
   "metadata": {},
   "outputs": [],
   "source": [
    "# hide\n",
    "from nbdev.showdoc import *"
   ]
  },
  {
   "cell_type": "code",
   "execution_count": null,
   "id": "0d824a00-ef2e-4a46-b239-85eb752354b4",
   "metadata": {},
   "outputs": [],
   "source": [
    "#export\n",
    "from qsam.datatypes.circuit import Circuit\n",
    "import numpy as np"
   ]
  },
  {
   "cell_type": "code",
   "execution_count": null,
   "id": "0b63104b-2ad8-48bd-9dbb-549b3dc33aa9",
   "metadata": {},
   "outputs": [],
   "source": [
    "#export\n",
    "DEPOLAR1 = {\"X\", \"Y\", \"Z\"}\n",
    "DEPOLAR2 = {('I', 'X'), ('I', 'Y'), ('I', 'Z'),\n",
    "            ('X', 'I'), ('X', 'X'), ('X', 'Y'), ('X', 'Z'),\n",
    "            ('Y', 'I'), ('Y', 'X'), ('Y', 'Y'), ('Y', 'Z'),\n",
    "            ('Z', 'I'), ('Z', 'X'), ('Z', 'Y'), ('Z', 'Z')}\n",
    "XFLIP = {\"X\"}\n",
    "ZFLIP = {\"Z\"}\n",
    "\n",
    "# GATEROTS = {\"MSd\": ((\"X\",\"X\"), np.pi/2),\n",
    "#             \"CNOT\": ((\"X\",\"X\"), np.pi/2),\n",
    "#             \"X\": (\"X\", np.pi/2),\n",
    "#             \"Z\": (\"Z\", np.pi/2),\n",
    "#             \"Y\": (\"Y\", np.pi/2),\n",
    "#             \"H\": (\"XZ\", np.pi/2),\n",
    "            \n",
    "#            }"
   ]
  },
  {
   "cell_type": "code",
   "execution_count": null,
   "id": "9620ed3d-d263-49e2-a8ca-29e693fcf676",
   "metadata": {},
   "outputs": [],
   "source": [
    "# export\n",
    "class FaultGenerator:\n",
    "    \n",
    "    def __init__(self):\n",
    "        self.GATE1_ERRSET = DEPOLAR1\n",
    "        self.GATE2_ERRSET = DEPOLAR2\n",
    "        self.MEAS_ERRSET = XFLIP\n",
    "        self.INIT_ERRSET = XFLIP\n",
    "        self.IDLE_ERRSET = DEPOLAR1\n",
    "    \n",
    "    @staticmethod\n",
    "    def faults_from_weights(self, weights):\n",
    "        faults = []\n",
    "        for group,locs in par.items():\n",
    "            r_ids = np.random.choice(len(locs), weights[group], replace=False)\n",
    "            faults += [locs[r_idx] for r_idx in r_ids]\n",
    "        return faults\n",
    "    \n",
    "    def gen_circuit(self, n_ticks, faults=[]):\n",
    "        \"\"\"Generate an empty circuit with given faults\"\"\"\n",
    "        fault_circuit = Circuit([{} for _ in range(n_ticks)])\n",
    "        for (tick_index,qubit) in faults:\n",
    "            if isinstance(qubit, int):\n",
    "                f_gate = np.random.choice(self.GATE1_ERRSET)\n",
    "                qb_set = fault_circuit[tick_index].get(f_gate, set()) # get previous f_gate type fault\n",
    "                qb_set.add(qubit) # append faults in this tick\n",
    "                fault_circuit[tick_index][f_gate] = qb_set # udpate \n",
    "            elif isinstance(qubit, (list,set,tuple)):\n",
    "                f_gates = self.GATE2_ERRSET[np.random.choice(len(self.GATE2_ERRSET))]\n",
    "                for f_gate, qubit_i in zip(f_gates, qubit):\n",
    "                    if f_gate != \"I\":\n",
    "                        qb_set = fault_circuit[tick_index].get(f_gate, set())\n",
    "                        qb_set.add(qubit_i)\n",
    "                        fault_circuit[tick_index][f_gate] = qb_set\n",
    "        return fault_circuit  "
   ]
  },
  {
   "cell_type": "code",
   "execution_count": null,
   "id": "2fd864bd-1cc1-4b99-832f-dbdc57fcd5a2",
   "metadata": {},
   "outputs": [
    {
     "ename": "NameError",
     "evalue": "name 'FaultGenerator' is not defined",
     "output_type": "error",
     "traceback": [
      "\u001b[0;31m---------------------------------------------------------------------------\u001b[0m",
      "\u001b[0;31mNameError\u001b[0m                                 Traceback (most recent call last)",
      "Input \u001b[0;32mIn [4]\u001b[0m, in \u001b[0;36m<cell line: 2>\u001b[0;34m()\u001b[0m\n\u001b[1;32m      1\u001b[0m \u001b[38;5;66;03m#export\u001b[39;00m\n\u001b[0;32m----> 2\u001b[0m \u001b[38;5;28;01mclass\u001b[39;00m \u001b[38;5;21;01mInnsbruckTrapFG\u001b[39;00m(\u001b[43mFaultGenerator\u001b[49m):\n\u001b[1;32m      4\u001b[0m     \u001b[38;5;28;01mdef\u001b[39;00m \u001b[38;5;21m__init__\u001b[39m(\u001b[38;5;28mself\u001b[39m):\n\u001b[1;32m      5\u001b[0m         \n\u001b[1;32m      6\u001b[0m         \u001b[38;5;66;03m# device parameters/gate application times in seconds\u001b[39;00m\n\u001b[1;32m      7\u001b[0m         tau \u001b[38;5;241m=\u001b[39m \u001b[38;5;241m1e-1\u001b[39m  \u001b[38;5;66;03m# Decoherence time \u001b[39;00m\n",
      "\u001b[0;31mNameError\u001b[0m: name 'FaultGenerator' is not defined"
     ]
    }
   ],
   "source": [
    "class InnsbruckTrapFG(FaultGenerator):\n",
    "    \n",
    "    def __init__(self):\n",
    "        \n",
    "        # device parameters/gate application times in seconds\n",
    "        tau = 1e-1  # Decoherence time \n",
    "        t1 = 15e-6  # single qubit gates\n",
    "        t2 = 200e-6 # two-qubit gates\n",
    "        tmeas = 300e-6 # measurement (gates)\n",
    "        tinit = 0 # initialization\n",
    "        delta = 1e-9 # Avg. gate overrotation angle \n",
    "        xt = True # enable crosstalk\n",
    "        \n",
    "        # possible errors in partitions\n",
    "        gate1_errors = DEPOLAR1\n",
    "        gate2_errors = DEPOLAR2\n",
    "        meas_errors = XFLIP\n",
    "        init_errors = XFLIP\n",
    "        idle_errors = DEPOLAR1\n",
    "        \n",
    "        super().__init__(t1=t1,t2=t2,tmeas=tmeas,tinit=tinit,tau=tau,delta=delta)"
   ]
  },
  {
   "cell_type": "code",
   "execution_count": null,
   "id": "ef14166f-59b2-4ac2-86e3-2ec2182e44fc",
   "metadata": {},
   "outputs": [],
   "source": []
  },
  {
   "cell_type": "code",
   "execution_count": null,
   "id": "31f0bdbc-bae6-4092-b1bd-a305d57d29ed",
   "metadata": {},
   "outputs": [],
   "source": []
  },
  {
   "cell_type": "code",
   "execution_count": null,
   "id": "2cceda6f-34bd-432d-a5f8-38b44b20d60c",
   "metadata": {},
   "outputs": [],
   "source": []
  }
 ],
 "metadata": {
  "kernelspec": {
   "display_name": "Python 3 (ipykernel)",
   "language": "python",
   "name": "python3"
  }
 },
 "nbformat": 4,
 "nbformat_minor": 5
}
