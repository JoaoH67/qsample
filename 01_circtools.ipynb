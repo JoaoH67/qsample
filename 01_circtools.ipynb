{
 "cells": [
  {
   "cell_type": "code",
   "execution_count": null,
   "id": "a206804f-f7a1-471f-ab95-986b28146a26",
   "metadata": {},
   "outputs": [],
   "source": [
    "# default_exp circtools"
   ]
  },
  {
   "cell_type": "markdown",
   "id": "ed991fcc-cf0d-4aaa-bae4-ff2b0b25d386",
   "metadata": {},
   "source": [
    "# Circuit tools\n",
    "\n",
    "> Implements useful methods for quantum circuits."
   ]
  },
  {
   "cell_type": "markdown",
   "id": "eeb56fe6-1a45-445f-bdcc-e1e8f5636712",
   "metadata": {},
   "source": [
    "Sometimes it is useful to get a list of all the qubits which are \"touched\" in a circuit. From this we can for example infer the total number of qubits in a circuit without ever specifying them directly. Now, we define a `Circuit` as a list of ticks where each tick is represented by a dictionary and the values of these dictionaries contain sets of qubits. These sets can either contain integers or tuples of two integers of qubit indices. Thus, we need a way to unpack (or flatten) all these tuples first before we can merge the indices together in a list. `unpack` accomplishes this recursively."
   ]
  },
  {
   "cell_type": "code",
   "execution_count": null,
   "id": "1c44eef7-1485-467e-8b5b-123a518b1a11",
   "metadata": {},
   "outputs": [],
   "source": [
    "#export\n",
    "def unpack(seq):\n",
    "    \"\"\"Generator for all qubits defined in a (sub)circuit\"\"\"\n",
    "    \n",
    "    if isinstance(seq, (tuple,set,list)):\n",
    "        yield from (x for y in seq for x in unpack(y))\n",
    "    elif isinstance(seq, dict):\n",
    "        yield from (x for v in seq.values() for y in v for x in unpack(y))\n",
    "    else:\n",
    "        yield seq"
   ]
  },
  {
   "cell_type": "markdown",
   "id": "21d51d11-ac88-490f-baa3-59102084707d",
   "metadata": {},
   "source": [
    "Let's see how it works. We give it a list of dictionaries as a representation for some circuit."
   ]
  },
  {
   "cell_type": "code",
   "execution_count": null,
   "id": "defb7aae-e543-4657-903e-645ca26c2122",
   "metadata": {},
   "outputs": [
    {
     "name": "stdout",
     "output_type": "stream",
     "text": [
      "[1, 2, 3, 0, 1, 2, 3, 1, 5]\n"
     ]
    }
   ],
   "source": [
    "circuit = [{'H': {1, 2, 3}}, {'X': {0, 1}, 'CNOT': {(2, 3), (1,5)}}]\n",
    "print(list(unpack(circuit)))"
   ]
  },
  {
   "cell_type": "markdown",
   "id": "cc89f18f-a7dc-4ca8-8d40-7be7f05b86c9",
   "metadata": {},
   "source": [
    "As we can see, the output does, exactly as we expected, contains a list of all the qubits in the order we defined them in the circuit where tuples are correctly unpacked as well."
   ]
  },
  {
   "cell_type": "markdown",
   "id": "13835efe-1d0b-48a4-b1b1-7aaa47176466",
   "metadata": {},
   "source": [
    "Another useful method which is of particular interest for the creation of multi-parameter noise models is `partition`. This function allows us to scan a `Circuit` for certain gates and return a list of `(tick_index,qubits)`-tuples which represent a certain `partition` of a circuit. For example we could pass the gate symbols for all two-qubit gates to `partition` to retrieve a list of all circuit locations where two-qubit gates are present. This list can be subsequently used for example to randomly select faulty locations with some probability."
   ]
  },
  {
   "cell_type": "code",
   "execution_count": null,
   "id": "56226643-111c-4034-b6b7-f43dd7936a42",
   "metadata": {},
   "outputs": [],
   "source": [
    "#export\n",
    "def partition(circuit,gates):\n",
    "    \"\"\"Find all (tick,qubit) circuit locations for list of `gates`\"\"\"\n",
    "    \n",
    "    return [(t_idx,q) for (t_idx,tick) in enumerate(circuit) \n",
    "            for g,qs in tick.items() for q in qs if g.upper() in gates]"
   ]
  },
  {
   "cell_type": "markdown",
   "id": "983cb86d-a42d-4695-a2f3-6398a9cdc4c4",
   "metadata": {},
   "source": [
    "Let's see what this does for the example circuit we defined above:"
   ]
  },
  {
   "cell_type": "code",
   "execution_count": null,
   "id": "b41d7a1e-77ae-4614-8367-19db3a5e5aa4",
   "metadata": {},
   "outputs": [
    {
     "name": "stdout",
     "output_type": "stream",
     "text": [
      "[(1, 0), (1, 1)]\n"
     ]
    }
   ],
   "source": [
    "print(partition(circuit, [\"X\"]))"
   ]
  },
  {
   "cell_type": "code",
   "execution_count": null,
   "id": "0fd09891-9126-4a8a-a534-16a2f80bba7e",
   "metadata": {},
   "outputs": [
    {
     "name": "stdout",
     "output_type": "stream",
     "text": [
      "[(0, 1), (0, 2), (0, 3), (1, 0), (1, 1)]\n"
     ]
    }
   ],
   "source": [
    "print(partition(circuit, [\"X\",\"H\"]))"
   ]
  },
  {
   "cell_type": "code",
   "execution_count": null,
   "id": "f580f7ce-1e66-443e-bab6-46d96a90d757",
   "metadata": {},
   "outputs": [
    {
     "name": "stdout",
     "output_type": "stream",
     "text": [
      "[(1, (2, 3)), (1, (1, 5))]\n"
     ]
    }
   ],
   "source": [
    "print(partition(circuit, [\"CNOT\"]))"
   ]
  }
 ],
 "metadata": {
  "kernelspec": {
   "display_name": "Python 3 (ipykernel)",
   "language": "python",
   "name": "python3"
  }
 },
 "nbformat": 4,
 "nbformat_minor": 5
}
