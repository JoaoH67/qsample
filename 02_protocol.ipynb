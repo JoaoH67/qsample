{
 "cells": [
  {
   "cell_type": "code",
   "execution_count": null,
   "metadata": {},
   "outputs": [],
   "source": [
    "# default_exp protocol"
   ]
  },
  {
   "cell_type": "markdown",
   "metadata": {},
   "source": [
    "# Protocol\n",
    "\n",
    "> Representation of quantum error correction protocol."
   ]
  },
  {
   "cell_type": "code",
   "execution_count": null,
   "metadata": {},
   "outputs": [],
   "source": [
    "# hide\n",
    "from nbdev.showdoc import *"
   ]
  },
  {
   "cell_type": "code",
   "execution_count": null,
   "metadata": {},
   "outputs": [],
   "source": [
    "#export\n",
    "import networkx as nx\n",
    "from re import sub\n",
    "from qsam.circuit import make_hash\n",
    "from functools import lru_cache\n",
    "import pickle"
   ]
  },
  {
   "cell_type": "markdown",
   "metadata": {},
   "source": [
    "We model a protocol as a directed graph without loops (acyclic `DiGraph`) in which each `node` represents one `circuit` and every `edge` represents a transition rule between circuits, which we call `check`. We give each `node` a **unique** label and a `circuit`. A protocol must always *START* at **one** point and *EXIT* at **one or several** points. The next circuit in a protocol must always be uniquely identifiable. Thus, for each circuit there can only be one check which evaluates to *True* at any time. If this is not a case an error is thrown. If no check evaluates to *True*, the protocol is understood to terminate implicitly, i.e. terminates with status *no logical error occurred*. If an *EXIT* node is reached on the other hand, the protocol terminates explicitly, i.e. with status *logical error occurred*. These events are later explicitly tracked in the samplers."
   ]
  },
  {
   "cell_type": "code",
   "execution_count": null,
   "metadata": {},
   "outputs": [],
   "source": [
    "#export\n",
    "class Protocol(nx.DiGraph):\n",
    "    \"\"\"Representation of a Quantum Error Correction protocol\"\"\"\n",
    "    \n",
    "    def __init__(self, *args, **kwargs):\n",
    "        super().__init__(*args, **kwargs)\n",
    "        self._circuits = {} # hash table\n",
    "        \n",
    "    def add_node(self, name, circuit):\n",
    "        circuit_hash = make_hash(circuit)\n",
    "        self._circuits[circuit_hash] = circuit\n",
    "        super().add_node(name, circuit_hash=circuit_hash)\n",
    "        \n",
    "    def add_nodes_from(self, names, circuits):\n",
    "        if not isinstance(circuits, (list,tuple,set)):\n",
    "            circuits = [circuits] * len(names)\n",
    "        for name, circuit in zip(names, circuits):\n",
    "            self.add_node(name, circuit)\n",
    "    \n",
    "    @lru_cache(maxsize=128)\n",
    "    def circuit_hash(self, node):\n",
    "        return self.nodes(data='circuit_hash')[node]\n",
    "    \n",
    "    @lru_cache(maxsize=128)\n",
    "    def checks(self, node):\n",
    "        adj_nodes = self.out_edges(node)\n",
    "        return {pair[1]: self.edges[pair]['check'] for pair in adj_nodes}"
   ]
  },
  {
   "cell_type": "markdown",
   "metadata": {},
   "source": [
    "Helper functions"
   ]
  },
  {
   "cell_type": "code",
   "execution_count": null,
   "metadata": {},
   "outputs": [],
   "source": [
    "#export\n",
    "def draw_protocol(protocol):\n",
    "    \"\"\"Draw graph representation of protocol\"\"\"\n",
    "    \n",
    "    pos = nx.kamada_kawai_layout(protocol)\n",
    "    col_val_map = {'START': '#99ccff', 'EXIT': '#ff9999'}\n",
    "    col_vals = [col_val_map.get(node, '#ffb266') for node in protocol.nodes]\n",
    "    nx.draw(protocol, pos, node_color=col_vals, with_labels=True, node_size=1200)#, font_color='white')\n",
    "    edge_labels = nx.get_edge_attributes(protocol, 'check')\n",
    "    nx.draw_networkx_edge_labels(protocol, pos, edge_labels)"
   ]
  },
  {
   "cell_type": "code",
   "execution_count": null,
   "metadata": {},
   "outputs": [],
   "source": [
    "#export \n",
    "#hide\n",
    "@lru_cache(maxsize=256)\n",
    "def cached_eval(eval_str):\n",
    "    return eval(eval_str)"
   ]
  },
  {
   "cell_type": "code",
   "execution_count": null,
   "metadata": {},
   "outputs": [],
   "source": [
    "#export\n",
    "def iterate(protocol):\n",
    "    \"\"\"Iterator over protocol\"\"\"\n",
    "    \n",
    "    hist = {}\n",
    "    node = \"START\"\n",
    "    repl_fn = lambda match: hist.get(match.group(1), \"None\")\n",
    "    eval_check = lambda check: cached_eval(sub(\"`(.*?)`\", repl_fn, check))\n",
    "    \n",
    "    while True:\n",
    "        checks = protocol.checks(node)\n",
    "        next_nodes = [n for n,c in checks.items() if eval_check(c)]\n",
    "        if len(next_nodes) == 0: \n",
    "            yield None\n",
    "        elif len(next_nodes) == 1: \n",
    "            node = next_nodes[0]\n",
    "            hist[node] = yield node\n",
    "        else: \n",
    "            raise Exception(f\"Too many checks True for node {node}.\") "
   ]
  },
  {
   "cell_type": "markdown",
   "metadata": {},
   "source": [
    "We can generate a protocol by adding nodes and edges with their corresponding `circuit`s and `check`s. Note that we also give a check from the *START* node to the first node in the protocol which always evaluates to *True*. Thus this transition will always be made. Futhermore, we define variables representing current or past measurements of circuits for a node by using backticks. We can also see that the check can be anything which evaluates to a boolean *True* or *False* - we only need to take care that in case a measurment has not occurred for a certain \"string of events\" that part of the expression involving this variable must evaluate to False."
   ]
  },
  {
   "cell_type": "code",
   "execution_count": null,
   "metadata": {},
   "outputs": [
    {
     "ename": "NameError",
     "evalue": "name 'draw_protocol' is not defined",
     "output_type": "error",
     "traceback": [
      "\u001b[0;31m---------------------------------------------------------------------------\u001b[0m",
      "\u001b[0;31mNameError\u001b[0m                                 Traceback (most recent call last)",
      "Input \u001b[0;32mIn [20]\u001b[0m, in \u001b[0;36m<cell line: 16>\u001b[0;34m()\u001b[0m\n\u001b[1;32m     12\u001b[0m p\u001b[38;5;241m.\u001b[39madd_edge(\u001b[38;5;124m'\u001b[39m\u001b[38;5;124mc3\u001b[39m\u001b[38;5;124m'\u001b[39m, \u001b[38;5;124m'\u001b[39m\u001b[38;5;124mEXIT\u001b[39m\u001b[38;5;124m'\u001b[39m, check\u001b[38;5;241m=\u001b[39m\u001b[38;5;124m'\u001b[39m\u001b[38;5;124m`c3`==1\u001b[39m\u001b[38;5;124m'\u001b[39m)\n\u001b[1;32m     14\u001b[0m p\u001b[38;5;241m.\u001b[39msave(\u001b[38;5;124m'\u001b[39m\u001b[38;5;124mtest_protocol\u001b[39m\u001b[38;5;124m'\u001b[39m)\n\u001b[0;32m---> 16\u001b[0m \u001b[43mdraw_protocol\u001b[49m(p)\n",
      "\u001b[0;31mNameError\u001b[0m: name 'draw_protocol' is not defined"
     ]
    }
   ],
   "source": [
    "p = Protocol()\n",
    "p.add_nodes_from(['c1','c2','c3'], circuits=['a','b','c'])\n",
    "p.add_edge('START', 'c1', check='True')\n",
    "p.add_edge('c1', 'c2', check='`c1`==0')\n",
    "p.add_edge('c2', 'c3', check='`c2`==0')\n",
    "\n",
    "# custom check function\n",
    "parity = lambda x, y: bin(x).count('1') % 2 == y if x else False\n",
    "\n",
    "p.add_edge('c1', 'EXIT', check='parity(`c1`,1)')\n",
    "p.add_edge('c2', 'EXIT', check='`c2`==1')\n",
    "p.add_edge('c3', 'EXIT', check='`c3`==1')\n",
    "\n",
    "draw_protocol(p)"
   ]
  },
  {
   "cell_type": "markdown",
   "metadata": {},
   "source": [
    "We can simply iterate over the protocol by calling the `iterate` iterator function. We have to provide a measurement with each iteration which is used to evaluate the checks and to finally yield a following node. At the end of the protocol the iterator will return `None` which we can use as a exit condition for the while loop. Note that we need to always call `next()` on the iterator before we can `.send()` stuff to it."
   ]
  },
  {
   "cell_type": "code",
   "execution_count": null,
   "metadata": {},
   "outputs": [
    {
     "name": "stdout",
     "output_type": "stream",
     "text": [
      "c1\n",
      "c2\n",
      "c3\n"
     ]
    }
   ],
   "source": [
    "p_it = iterate(p)\n",
    "node = next(p_it)\n",
    "\n",
    "while node:\n",
    "    print(node)\n",
    "    node = p_it.send('0')"
   ]
  },
  {
   "cell_type": "code",
   "execution_count": null,
   "metadata": {},
   "outputs": [],
   "source": [
    "#export\n",
    "def save_protocol(protocol, fname, path='.'):\n",
    "    \"\"\"Saves a protocol to `path` with file name `fname`\"\"\"\n",
    "    file = open(f'{path}/{fname}.proto', 'wb')\n",
    "    pickle.dump(protocol,file)\n",
    "    file.close()"
   ]
  },
  {
   "cell_type": "code",
   "execution_count": null,
   "metadata": {},
   "outputs": [],
   "source": [
    "#export\n",
    "def load_protocol(fname, path='.'):\n",
    "    \"\"\"Loads a protocol from `path` with file name `fname`\"\"\"\n",
    "    file = open(f'{path}/{fname}.proto', 'rb')\n",
    "    res = pickle.load(file)\n",
    "    file.close()\n",
    "    return res"
   ]
  },
  {
   "cell_type": "markdown",
   "metadata": {},
   "source": [
    "We can also save and load protocols"
   ]
  },
  {
   "cell_type": "code",
   "execution_count": null,
   "metadata": {},
   "outputs": [
    {
     "name": "stdout",
     "output_type": "stream",
     "text": [
      "Protocol with 5 nodes and 6 edges\n"
     ]
    }
   ],
   "source": [
    "save_protocol(p, 'test_protocol')\n",
    "p2 = load_protocol('test_protocol')\n",
    "print(p2)"
   ]
  }
 ],
 "metadata": {
  "kernelspec": {
   "display_name": "Python 3 (ipykernel)",
   "language": "python",
   "name": "python3"
  }
 },
 "nbformat": 4,
 "nbformat_minor": 4
}
