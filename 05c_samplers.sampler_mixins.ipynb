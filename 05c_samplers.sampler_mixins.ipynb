{
 "cells": [
  {
   "cell_type": "code",
   "execution_count": null,
   "id": "5c6a9960-ffe5-4589-880b-2b798e56e40d",
   "metadata": {},
   "outputs": [],
   "source": [
    "# default_exp samplers.sampler_mixins"
   ]
  },
  {
   "cell_type": "markdown",
   "id": "2b8cfe6e-13fd-4359-aa4c-8b7d3d27885d",
   "metadata": {},
   "source": [
    "# Sampler Mixins\n",
    "\n",
    "> Mixins for samplers to provide common functionality"
   ]
  },
  {
   "cell_type": "code",
   "execution_count": null,
   "id": "0e93e0e8-e74f-4c72-9e06-ace060a783fd",
   "metadata": {},
   "outputs": [],
   "source": [
    "# hide\n",
    "from nbdev.showdoc import *"
   ]
  },
  {
   "cell_type": "code",
   "execution_count": null,
   "id": "18096d43-40f6-468d-a141-db997c093a26",
   "metadata": {},
   "outputs": [],
   "source": [
    "#export\n",
    "import qsam.math as math\n",
    "\n",
    "import numpy as np\n",
    "import itertools as it"
   ]
  },
  {
   "cell_type": "code",
   "execution_count": null,
   "id": "a121e7c4-38cc-46fa-b6ca-35169890809c",
   "metadata": {},
   "outputs": [],
   "source": [
    "#export\n",
    "\n",
    "class SubsetAnalytics:\n",
    "    @staticmethod\n",
    "    def subset_occurence(partitions, partition_w_vecs, p_phy_per_partition):\n",
    "        \"\"\"Return (weight)x(p_phys) (parition) subset occurance matrix transforming p_SS vector to p_L vector\"\"\"\n",
    "        n_partition_elems = np.array([len(p) for p in partitions])\n",
    "        Aws = np.array([math.binom(w_vec, n_partition_elems, p_phy_per_partition) for w_vec in partition_w_vecs])\n",
    "        Aws = np.product(Aws, axis=-1) # mult Aws for multi-parameter, i.e. multi-partitions\n",
    "        return Aws\n",
    "    \n",
    "    @staticmethod\n",
    "    def weight_vectors(w_max, w_exclude={}):\n",
    "        w_exclude = set((w,) if isinstance(w, int) else w for w in w_exclude)\n",
    "        w_maxs = [w_max] if isinstance(w_max, int) else w_max\n",
    "        \n",
    "        w_upto_w_maxs = [tuple(range(w_max+1)) for w_max in w_maxs]\n",
    "        w_vecs = list(it.product( *w_upto_w_maxs ))\n",
    "        filtered_w_vecs = [w for w in w_vecs if w not in w_exclude]\n",
    "        return filtered_w_vecs"
   ]
  },
  {
   "cell_type": "code",
   "execution_count": null,
   "id": "98416c4a-4f97-4492-a95b-7a3f29ef152f",
   "metadata": {},
   "outputs": [],
   "source": []
  }
 ],
 "metadata": {
  "kernelspec": {
   "display_name": "Python 3 (ipykernel)",
   "language": "python",
   "name": "python3"
  }
 },
 "nbformat": 4,
 "nbformat_minor": 5
}
