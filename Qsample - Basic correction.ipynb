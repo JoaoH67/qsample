{
 "cells": [
  {
   "cell_type": "code",
   "execution_count": 1,
   "id": "f78bce89",
   "metadata": {},
   "outputs": [],
   "source": [
    "import qsample as qs\n",
    "import time\n",
    "import stim\n",
    "import numpy as np\n",
    "import matplotlib.pyplot as plt\n",
    "import time\n",
    "import re\n",
    "from tqdm.notebook import tqdm\n",
    "import random"
   ]
  },
  {
   "cell_type": "markdown",
   "id": "f70036df",
   "metadata": {},
   "source": [
    "# Helpers"
   ]
  },
  {
   "cell_type": "code",
   "execution_count": 2,
   "id": "4896b9b0",
   "metadata": {},
   "outputs": [],
   "source": [
    "def dem2matrices(dem, n_detectors):\n",
    "    \n",
    "    txt = dem.split('\\n')[1:-1]\n",
    "    dims = len(txt)\n",
    "    errors = np.zeros(dims)\n",
    "    err_locs = np.zeros((dims, n_detectors))\n",
    "\n",
    "    for i in range(dims):\n",
    "        errors[i] = re.findall('\\d?\\.?\\d+e?\\-?\\d+', txt[i])[0]\n",
    "        for j in re.findall('D\\d', txt[i]):\n",
    "\n",
    "            err_locs[i, int(j[1])]=1\n",
    "\n",
    "    return errors, err_locs\n",
    "\n",
    "def separate_errors(eloc, dep):\n",
    "\n",
    "    extracted = [0]*dep\n",
    "    extracted_indices = [0]*dep\n",
    "    index = 0\n",
    "    for ii in range(dep):\n",
    "        extracted_indices[ii]=index\n",
    "        index_new = sum(eloc[index:,ii]==1)+index\n",
    "        extracted[ii] = eloc[index:index_new]\n",
    "        index=index_new\n",
    "    return extracted, extracted_indices\n",
    "\n",
    "\n",
    "def sample_errors(n_samples, dep, sequence, eloc, extracted, extracted_indices):\n",
    "\n",
    "    samples = []\n",
    "    for _ in range(n_samples):\n",
    "        path = np.copy(sequence)\n",
    "        result = np.zeros(len(eloc))\n",
    "        for jj in range(dep):\n",
    "            if result is not None:\n",
    "                if path[jj]==1 and len(extracted[jj])==0: #impossible path: no error can now activate the desired detectors\n",
    "                    result = None\n",
    "                else:\n",
    "                    if len(extracted[jj]) > 3: #ignore more than 3 errors in a single subcircuit (very little chance of occuring for small p_phys)\n",
    "                        w_max = 3\n",
    "                    else:\n",
    "                        w_max = len(extracted[jj])\n",
    "                    w = random.choice(np.arange(path[jj], w_max+1,2))\n",
    "                    if w>0:\n",
    "                        locs = np.array(random.sample(sorted(np.arange(len(extracted[jj]))), w))+extracted_indices[jj]\n",
    "                        result[locs]=1\n",
    "                        path=((path+np.sum(eloc[locs], axis=0))%2).astype(int)\n",
    "        if result is not None:\n",
    "            samples.append(result)\n",
    "\n",
    "    return np.unique(samples, axis=0)"
   ]
  },
  {
   "cell_type": "code",
   "execution_count": 3,
   "id": "2aa70977",
   "metadata": {},
   "outputs": [],
   "source": [
    "class node:\n",
    "    \n",
    "    def __init__(self, circuit):\n",
    "        self.circuit = circuit\n",
    "        self.outcomes = None\n",
    "        \n",
    "    def fail_paths(self):\n",
    "        fails= []\n",
    "        circs= []\n",
    "        path = []\n",
    "        head = \"\"\n",
    "        for (k, v) in self.outcomes.items():\n",
    "            if v == \"FAIL\":\n",
    "                path = [k]\n",
    "                head = self.circuit\n",
    "                fails.append(path)\n",
    "                circs.append(head)\n",
    "            elif v != \"OK\":\n",
    "                for (p, h) in zip(v.fail_paths()[0], v.fail_paths()[1]):\n",
    "                    if isinstance(k, str):\n",
    "                        k_list = list(k)\n",
    "                        p=[int(i) for i in k_list]+p\n",
    "                    else:\n",
    "                        p=[k]+p\n",
    "                    head = self.circuit+h\n",
    "                    circs.append(head)\n",
    "                    fails.append(p)\n",
    "        return fails, circs"
   ]
  },
  {
   "cell_type": "markdown",
   "id": "b78aebbb",
   "metadata": {},
   "source": [
    "# QSample"
   ]
  },
  {
   "cell_type": "code",
   "execution_count": 4,
   "id": "de0475a8",
   "metadata": {},
   "outputs": [],
   "source": [
    "left = qs.Circuit([  {\"init\": {0}},\n",
    "                    {\"measure\": {0}} ])\n",
    "\n",
    "right = qs.Circuit([{\"measure\": {0}}], noisy = False)\n",
    "\n",
    "basic = qs.Protocol()\n",
    "basic.add_nodes_from(['left', 'right'], circuits=[left, right])\n",
    "basic.add_node('X_COR', circuit=qs.Circuit([{'X': {0}}], noisy=False))\n",
    "basic.add_edge('START', 'left', check='True')\n",
    "basic.add_edge('left', 'right', check='left[-1]==0')\n",
    "basic.add_edge('left', 'X_COR', check='left[-1]==1')\n",
    "basic.add_edge('X_COR', 'right', check='True')\n",
    "basic.add_edge('right', 'FAIL', check='right[-1]')"
   ]
  },
  {
   "cell_type": "code",
   "execution_count": 5,
   "id": "d75cebd3",
   "metadata": {},
   "outputs": [
    {
     "data": {
      "image/png": "[encoded data removed]",
      "text/plain": [
       "<Figure size 576x360 with 1 Axes>"
      ]
     },
     "metadata": {},
     "output_type": "display_data"
    }
   ],
   "source": [
    "basic.draw(figsize=(8,5))"
   ]
  },
  {
   "cell_type": "code",
   "execution_count": 6,
   "id": "d60b5652",
   "metadata": {},
   "outputs": [],
   "source": [
    "err_model = qs.noise.E1\n",
    "q = [1e-5, 1e-4, 1e-3, 1e-2, 1e-1, 0.5]\n",
    "err_params = {'q': q}"
   ]
  },
  {
   "cell_type": "code",
   "execution_count": 7,
   "id": "34d55355",
   "metadata": {},
   "outputs": [
    {
     "data": {
      "application/vnd.jupyter.widget-view+json": {
       "model_id": "33e5c3104bf14ce09d0c4584d9bc029b",
       "version_major": 2,
       "version_minor": 0
      },
      "text/plain": [
       "p=('1.00e-01',):   0%|          | 0/10 [00:00<?, ?it/s]"
      ]
     },
     "metadata": {},
     "output_type": "display_data"
    }
   ],
   "source": [
    "begin = time.time()\n",
    "ss_sam = qs.SubsetSampler(protocol=basic, simulator=qs.StabilizerSimulator,  p_max={'q': 0.1}, err_model=err_model, err_params=err_params, L=3)\n",
    "ss_sam.run(10)\n",
    "end = time.time()\n",
    "qsample_time = end-begin"
   ]
  },
  {
   "cell_type": "markdown",
   "id": "e2fca45b",
   "metadata": {},
   "source": [
    "## STIM"
   ]
  },
  {
   "cell_type": "code",
   "execution_count": 8,
   "id": "e2a60656",
   "metadata": {},
   "outputs": [],
   "source": [
    "left = \"\"\"DEPOLARIZE1({q}) 0\\n\n",
    "                    M 0\\n\n",
    "                    DETECTOR rec[-1]\n",
    "                      \"\"\"\n",
    "\n",
    "right = \"\"\"M 0\\nDETECTOR rec[-1]\\n\"\"\"\n",
    "\n",
    "x_cor = \"\"\"X 0\\n\"\"\""
   ]
  },
  {
   "cell_type": "code",
   "execution_count": 9,
   "id": "ef45d399",
   "metadata": {},
   "outputs": [
    {
     "data": {
      "image/svg+xml": [
       "<svg viewBox=\"0 0 736 160\"  version=\"1.1\" xmlns=\"http://www.w3.org/2000/svg\">\n",
       "<g id=\"qubit_lines\">\n",
       "<path id=\"qubit_line:0\" d=\"M64,64 L704,64 \" stroke=\"black\"/>\n",
       "<text dominant-baseline=\"central\" text-anchor=\"end\" font-family=\"monospace\" font-size=\"12\" x=\"64\" y=\"64\">q0</text>\n",
       "</g>\n",
       "<rect x=\"80\" y=\"48\" width=\"32\" height=\"32\" stroke=\"black\" fill=\"pink\"/>\n",
       "<text dominant-baseline=\"central\" text-anchor=\"middle\" font-family=\"monospace\" font-size=\"12\" x=\"96\" y=\"64\">DEP<tspan baseline-shift=\"sub\" font-size=\"10\">1</tspan></text>\n",
       "<text dominant-baseline=\"hanging\" text-anchor=\"middle\" font-family=\"monospace\" font-size=\"10\" stroke=\"red\" x=\"96\" y=\"84\">1e-10</text>\n",
       "<rect x=\"144\" y=\"48\" width=\"32\" height=\"32\" stroke=\"black\" fill=\"black\"/>\n",
       "<text dominant-baseline=\"central\" text-anchor=\"middle\" font-family=\"monospace\" font-size=\"30\" x=\"160\" y=\"64\" fill=\"white\">M</text>\n",
       "<text text-anchor=\"middle\" font-family=\"monospace\" font-size=\"8\" x=\"160\" y=\"44\">rec[0]</text>\n",
       "<rect x=\"208\" y=\"48\" width=\"160\" height=\"32\" stroke=\"black\" fill=\"lightgray\"/>\n",
       "<text dominant-baseline=\"central\" text-anchor=\"middle\" font-family=\"monospace\" font-size=\"16\" x=\"288\" y=\"64\">DETECTOR</text>\n",
       "<text text-anchor=\"middle\" font-family=\"monospace\" font-size=\"8\" x=\"288\" y=\"44\">D0 = rec[0]</text>\n",
       "<rect x=\"400\" y=\"48\" width=\"32\" height=\"32\" stroke=\"black\" fill=\"white\"/>\n",
       "<text dominant-baseline=\"central\" text-anchor=\"middle\" font-family=\"monospace\" font-size=\"30\" x=\"416\" y=\"64\">X</text>\n",
       "<rect x=\"464\" y=\"48\" width=\"32\" height=\"32\" stroke=\"black\" fill=\"black\"/>\n",
       "<text dominant-baseline=\"central\" text-anchor=\"middle\" font-family=\"monospace\" font-size=\"30\" x=\"480\" y=\"64\" fill=\"white\">M</text>\n",
       "<text text-anchor=\"middle\" font-family=\"monospace\" font-size=\"8\" x=\"480\" y=\"44\">rec[1]</text>\n",
       "<rect x=\"528\" y=\"48\" width=\"160\" height=\"32\" stroke=\"black\" fill=\"lightgray\"/>\n",
       "<text dominant-baseline=\"central\" text-anchor=\"middle\" font-family=\"monospace\" font-size=\"16\" x=\"608\" y=\"64\">DETECTOR</text>\n",
       "<text text-anchor=\"middle\" font-family=\"monospace\" font-size=\"8\" x=\"608\" y=\"44\">D1 = rec[1]</text>\n",
       "</svg>"
      ],
      "text/plain": [
       "<svg viewBox=\"0 0 736 160\"  version=\"1.1\" xmlns=\"http://www.w3.org/2000/svg\">\n",
       "<g id=\"qubit_lines\">\n",
       "<path id=\"qubit_line:0\" d=\"M64,64 L704,64 \" stroke=\"black\"/>\n",
       "<text dominant-baseline=\"central\" text-anchor=\"end\" font-family=\"monospace\" font-size=\"12\" x=\"64\" y=\"64\">q0</text>\n",
       "</g>\n",
       "<rect x=\"80\" y=\"48\" width=\"32\" height=\"32\" stroke=\"black\" fill=\"pink\"/>\n",
       "<text dominant-baseline=\"central\" text-anchor=\"middle\" font-family=\"monospace\" font-size=\"12\" x=\"96\" y=\"64\">DEP<tspan baseline-shift=\"sub\" font-size=\"10\">1</tspan></text>\n",
       "<text dominant-baseline=\"hanging\" text-anchor=\"middle\" font-family=\"monospace\" font-size=\"10\" stroke=\"red\" x=\"96\" y=\"84\">1e-10</text>\n",
       "<rect x=\"144\" y=\"48\" width=\"32\" height=\"32\" stroke=\"black\" fill=\"black\"/>\n",
       "<text dominant-baseline=\"central\" text-anchor=\"middle\" font-family=\"monospace\" font-size=\"30\" x=\"160\" y=\"64\" fill=\"white\">M</text>\n",
       "<text text-anchor=\"middle\" font-family=\"monospace\" font-size=\"8\" x=\"160\" y=\"44\">rec[0]</text>\n",
       "<rect x=\"208\" y=\"48\" width=\"160\" height=\"32\" stroke=\"black\" fill=\"lightgray\"/>\n",
       "<text dominant-baseline=\"central\" text-anchor=\"middle\" font-family=\"monospace\" font-size=\"16\" x=\"288\" y=\"64\">DETECTOR</text>\n",
       "<text text-anchor=\"middle\" font-family=\"monospace\" font-size=\"8\" x=\"288\" y=\"44\">D0 = rec[0]</text>\n",
       "<rect x=\"400\" y=\"48\" width=\"32\" height=\"32\" stroke=\"black\" fill=\"white\"/>\n",
       "<text dominant-baseline=\"central\" text-anchor=\"middle\" font-family=\"monospace\" font-size=\"30\" x=\"416\" y=\"64\">X</text>\n",
       "<rect x=\"464\" y=\"48\" width=\"32\" height=\"32\" stroke=\"black\" fill=\"black\"/>\n",
       "<text dominant-baseline=\"central\" text-anchor=\"middle\" font-family=\"monospace\" font-size=\"30\" x=\"480\" y=\"64\" fill=\"white\">M</text>\n",
       "<text text-anchor=\"middle\" font-family=\"monospace\" font-size=\"8\" x=\"480\" y=\"44\">rec[1]</text>\n",
       "<rect x=\"528\" y=\"48\" width=\"160\" height=\"32\" stroke=\"black\" fill=\"lightgray\"/>\n",
       "<text dominant-baseline=\"central\" text-anchor=\"middle\" font-family=\"monospace\" font-size=\"16\" x=\"608\" y=\"64\">DETECTOR</text>\n",
       "<text text-anchor=\"middle\" font-family=\"monospace\" font-size=\"8\" x=\"608\" y=\"44\">D1 = rec[1]</text>\n",
       "</svg>"
      ]
     },
     "execution_count": 9,
     "metadata": {},
     "output_type": "execute_result"
    }
   ],
   "source": [
    "circuit = stim.Circuit((left+x_cor+right).format(q=1e-10))\n",
    "circuit.diagram('timeline-svg')"
   ]
  },
  {
   "cell_type": "code",
   "execution_count": 10,
   "id": "ad61fcbe",
   "metadata": {},
   "outputs": [],
   "source": [
    "B = node(right)\n",
    "xB = node(x_cor+right)\n",
    "\n",
    "A = node(left)\n",
    "A.outcomes={0: B, 1: xB}\n",
    "\n",
    "B.outcomes = {0:\"OK\", 1:\"FAIL\"}\n",
    "xB.outcomes =B.outcomes"
   ]
  },
  {
   "cell_type": "code",
   "execution_count": 11,
   "id": "901a97fe",
   "metadata": {},
   "outputs": [],
   "source": [
    "err_total = np.zeros(len(q))\n",
    "begin = time.time()\n",
    "paths, circuits = A.fail_paths()\n",
    "for p in range(len(paths)):\n",
    "    \n",
    "    circuit = stim.Circuit(circuits[p].format(q=1e-10)) #arbitrary error rate\n",
    "    dem = circuit.detector_error_model()\n",
    "    \n",
    "    sampler = circuit.compile_sampler()\n",
    "    outcome = sampler.sample(shots=1)\n",
    "    paths[p]-=outcome[0]\n",
    "    errors, errloc = dem2matrices(repr(dem),len(paths[p]))\n",
    "    err = len(errors)\n",
    "    depth = len(paths[p])\n",
    "    extracted, extracted_indices = separate_errors(errloc, depth)\n",
    "    \n",
    "    #n_samples = np.prod([len(i)**(2*(len(i)>1)) for i in extracted])\n",
    "    #print(n_samples)\n",
    "    n_samples=10\n",
    "    result = sample_errors(n_samples, depth, paths[p], errloc, extracted, extracted_indices)\n",
    "\n",
    "    for i in range(len(q)):\n",
    "        circuit = stim.Circuit(circuits[p].format(q=q[i]))\n",
    "        dem = circuit.detector_error_model()\n",
    "        errors, errloc = dem2matrices(repr(dem),len(paths[p]))\n",
    "        if len(result)>0:\n",
    "            err_total[i]+= np.sum(np.prod(errors*result+(1-errors)*(1-result), axis=1))\n",
    "\n",
    "end = time.time()\n",
    "stim_time = end-begin"
   ]
  },
  {
   "cell_type": "markdown",
   "id": "3655a9f3",
   "metadata": {},
   "source": [
    "# Comparison"
   ]
  },
  {
   "cell_type": "code",
   "execution_count": 12,
   "id": "78b4a274",
   "metadata": {},
   "outputs": [
    {
     "data": {
      "text/plain": [
       "<matplotlib.legend.Legend at 0x7f9b4299c550>"
      ]
     },
     "execution_count": 12,
     "metadata": {},
     "output_type": "execute_result"
    },
    {
     "data": {
      "image/png": "[encoded data removed]",
      "text/plain": [
       "<Figure size 432x288 with 1 Axes>"
      ]
     },
     "metadata": {
      "needs_background": "light"
     },
     "output_type": "display_data"
    }
   ],
   "source": [
    "plt.plot(q, ss_sam.stats()[0], label = 'qsample, up')\n",
    "plt.plot(q, ss_sam.stats()[2], label = 'qsample, down')\n",
    "plt.plot(q, err_total, label = 'stim')\n",
    "plt.legend()"
   ]
  },
  {
   "cell_type": "code",
   "execution_count": 13,
   "id": "60d8847c",
   "metadata": {},
   "outputs": [
    {
     "name": "stdout",
     "output_type": "stream",
     "text": [
      "QSample time: 0.0423s\n",
      "STIM time: 0.00244s\n",
      "17.33391984359726\n"
     ]
    }
   ],
   "source": [
    "print(\"QSample time: {:.3}s\".format(qsample_time))\n",
    "print(\"STIM time: {:.3}s\".format(stim_time))\n",
    "print(qsample_time/stim_time)"
   ]
  },
  {
   "cell_type": "code",
   "execution_count": null,
   "id": "e3c2dd72",
   "metadata": {},
   "outputs": [],
   "source": []
  }
 ],
 "metadata": {
  "kernelspec": {
   "display_name": "Python 3 (ipykernel)",
   "language": "python",
   "name": "python3"
  },
  "language_info": {
   "codemirror_mode": {
    "name": "ipython",
    "version": 3
   },
   "file_extension": ".py",
   "mimetype": "text/x-python",
   "name": "python",
   "nbconvert_exporter": "python",
   "pygments_lexer": "ipython3",
   "version": "3.9.12"
  }
 },
 "nbformat": 4,
 "nbformat_minor": 5
}
