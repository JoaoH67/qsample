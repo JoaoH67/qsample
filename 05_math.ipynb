{
 "cells": [
  {
   "cell_type": "code",
   "execution_count": null,
   "metadata": {},
   "outputs": [],
   "source": [
    "# default_exp math"
   ]
  },
  {
   "cell_type": "markdown",
   "metadata": {},
   "source": [
    "# Math\n",
    "\n",
    "> Collection common (vectorized) math functions."
   ]
  },
  {
   "cell_type": "code",
   "execution_count": null,
   "metadata": {},
   "outputs": [],
   "source": [
    "# hide\n",
    "from nbdev.showdoc import *"
   ]
  },
  {
   "cell_type": "code",
   "execution_count": null,
   "metadata": {},
   "outputs": [],
   "source": [
    "#export\n",
    "import numpy as np\n",
    "from scipy.special import factorial"
   ]
  },
  {
   "cell_type": "code",
   "execution_count": null,
   "metadata": {},
   "outputs": [],
   "source": [
    "#export\n",
    "def comb(n, k):\n",
    "    \"\"\"Vectorized function to calculate a combination\"\"\"\n",
    "    return factorial(n) / (factorial(k) * factorial(n-k))"
   ]
  },
  {
   "cell_type": "code",
   "execution_count": null,
   "metadata": {},
   "outputs": [],
   "source": [
    "#export\n",
    "def binom(k, n, p):\n",
    "    \"\"\"Vectorized function to calculate binomial function\"\"\"\n",
    "    return comb(n,k) * p**k * (1-p)**(n-k)"
   ]
  },
  {
   "cell_type": "code",
   "execution_count": null,
   "metadata": {},
   "outputs": [],
   "source": [
    "#export\n",
    "def Wilson_std(p, N, z=1.96):\n",
    "    \"\"\"Wilson estimator of std of binomial distribution\"\"\"\n",
    "    wilson_max = (p + z**2/(2*N) + z*np.sqrt(p*(1-p)/N+z**2/(4*N**2)))/(1+z**2/N)\n",
    "    wilson_min = (p + z**2/(2*N) - z*np.sqrt(p*(1-p)/N+z**2/(4*N**2)))/(1+z**2/N)\n",
    "    return wilson_max - wilson_min\n",
    "\n",
    "def Wilson_var(p, N):\n",
    "    return Wilson_std(p, N)**2"
   ]
  },
  {
   "cell_type": "code",
   "execution_count": null,
   "metadata": {},
   "outputs": [],
   "source": [
    "#export\n",
    "def Wald_var(p, N):\n",
    "    \"\"\"Wald variance estimator (known issues, better use Wilson)\"\"\"\n",
    "    return p * (1-p) / N\n",
    "\n",
    "def Wald_std(p, N):\n",
    "    return np.sqrt(Wald_var(p, N))"
   ]
  },
  {
   "cell_type": "code",
   "execution_count": null,
   "metadata": {},
   "outputs": [],
   "source": [
    "#export\n",
    "def std_sum(Aws, pws, n_samples, var=Wilson_var):\n",
    "    \"\"\"Calculate standard deviation according to Gaussian error propagation \n",
    "    applied to p_L: V_L = sum_i (dp_L/dp_i)^2 * V_i\"\"\"\n",
    "    return np.sqrt( np.sum( Aws[1:]**2 * var(pws[1:],n_samples), axis=0 ) )"
   ]
  },
  {
   "cell_type": "markdown",
   "metadata": {},
   "source": [
    "**TODO** Test and example"
   ]
  },
  {
   "cell_type": "code",
   "execution_count": null,
   "metadata": {},
   "outputs": [],
   "source": []
  }
 ],
 "metadata": {
  "kernelspec": {
   "display_name": "Python 3 (ipykernel)",
   "language": "python",
   "name": "python3"
  }
 },
 "nbformat": 4,
 "nbformat_minor": 4
}
