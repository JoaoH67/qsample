{
 "cells": [
  {
   "cell_type": "code",
   "execution_count": null,
   "metadata": {},
   "outputs": [],
   "source": [
    "# default_exp math"
   ]
  },
  {
   "cell_type": "markdown",
   "metadata": {},
   "source": [
    "# Math\n",
    "\n",
    "> Collection common (vectorized) math functions."
   ]
  },
  {
   "cell_type": "code",
   "execution_count": null,
   "metadata": {},
   "outputs": [],
   "source": [
    "# hide\n",
    "from nbdev.showdoc import *"
   ]
  },
  {
   "cell_type": "code",
   "execution_count": null,
   "metadata": {},
   "outputs": [],
   "source": [
    "#export\n",
    "import numpy as np\n",
    "from scipy.special import factorial"
   ]
  },
  {
   "cell_type": "code",
   "execution_count": null,
   "metadata": {},
   "outputs": [],
   "source": [
    "#export\n",
    "def comb(n, k):\n",
    "    \"\"\"Vectorized combination\"\"\"\n",
    "    return factorial(n) / (factorial(k) * factorial(n-k))"
   ]
  },
  {
   "cell_type": "code",
   "execution_count": null,
   "metadata": {},
   "outputs": [],
   "source": [
    "#export\n",
    "def binom(k, n, p):\n",
    "    \"\"\"Vectorized binomial function\"\"\"\n",
    "    return comb(n,k) * p**k * (1-p)**(n-k)"
   ]
  },
  {
   "cell_type": "code",
   "execution_count": null,
   "metadata": {},
   "outputs": [],
   "source": [
    "#export\n",
    "def Wilson_std(p, N, z=1.96):\n",
    "    \"\"\"Wilson estimator of binomial standard deviation\"\"\"\n",
    "    wilson_max = (p + z**2/(2*N) + z*np.sqrt(p*(1-p)/N+z**2/(4*N**2)))/(1+z**2/N)\n",
    "    wilson_min = (p + z**2/(2*N) - z*np.sqrt(p*(1-p)/N+z**2/(4*N**2)))/(1+z**2/N)\n",
    "    return wilson_max - wilson_min\n",
    "\n",
    "def Wilson_var(p, N):\n",
    "    \"\"\"Wilson estimator of binomial variance\"\"\"\n",
    "    return Wilson_std(p, N)**2"
   ]
  },
  {
   "cell_type": "code",
   "execution_count": null,
   "metadata": {},
   "outputs": [],
   "source": [
    "#export\n",
    "def Wald_var(p, N):\n",
    "    \"\"\"Wald estimator of binomial variance (known issues, better use Wilson)\"\"\"\n",
    "    return p * (1-p) / N\n",
    "\n",
    "def Wald_std(p, N):\n",
    "    \"\"\"Wald estimator of binomial standard deviation\"\"\"\n",
    "    return np.sqrt(Wald_var(p, N))"
   ]
  },
  {
   "cell_type": "code",
   "execution_count": null,
   "metadata": {},
   "outputs": [],
   "source": [
    "#export\n",
    "def std_sum(Aws, pws, n_samples, var=Wilson_var):\n",
    "    \"\"\"Standard deviation due to Gaussian error propagation of p_L.\"\"\"\n",
    "    return np.sqrt( np.sum( Aws**2 * var(pws,n_samples), axis=0 ) )"
   ]
  },
  {
   "cell_type": "markdown",
   "metadata": {},
   "source": [
    "The logical variance for single and multi-parameter case is $$V_L = \\sum_{\\vec{w}=\\vec{0}}^{\\vec{w}_{max}}{\\big(\\frac{\\partial p_L}{\\partial p_{\\vec{w}}}\\big)^2 V_{\\vec{w}}}$$"
   ]
  }
 ],
 "metadata": {
  "kernelspec": {
   "display_name": "Python 3 (ipykernel)",
   "language": "python",
   "name": "python3"
  }
 },
 "nbformat": 4,
 "nbformat_minor": 4
}
