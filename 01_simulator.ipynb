{
 "cells": [
  {
   "cell_type": "code",
   "execution_count": null,
   "metadata": {},
   "outputs": [],
   "source": [
    "# default_exp simulator"
   ]
  },
  {
   "cell_type": "markdown",
   "metadata": {},
   "source": [
    "# Simulator\n",
    "\n",
    "> Defines a unified interface for working with quantum state simulators."
   ]
  },
  {
   "cell_type": "code",
   "execution_count": null,
   "metadata": {},
   "outputs": [],
   "source": [
    "# hide\n",
    "from nbdev.showdoc import *"
   ]
  },
  {
   "cell_type": "code",
   "execution_count": null,
   "metadata": {},
   "outputs": [],
   "source": [
    "# export\n",
    "from qsam.tools import patch"
   ]
  },
  {
   "cell_type": "markdown",
   "metadata": {},
   "source": [
    "We always need to specify the number of qubits to specify a state. All qubits are initialized in the $|00..0\\rangle$ state for all simulators."
   ]
  },
  {
   "cell_type": "code",
   "execution_count": null,
   "metadata": {},
   "outputs": [],
   "source": [
    "#export\n",
    "class Simulator:\n",
    "    \"\"\"Interface for quantum state simulation\"\"\"\n",
    "    def __init__(self, num_qubits):\n",
    "        self.n_qubits = num_qubits"
   ]
  },
  {
   "cell_type": "markdown",
   "metadata": {},
   "source": [
    "In order to run a state simulation, i.e. propagation of an initial state through a quantum circuit, we iterate over the `ticks` of a circuit and apply gates on the specified qubits. Each simulator implements a certain set of gates we can call. However, the user is not expected to call the `_apply_gate` method but to use the `run` method on entire `circuit`s instead."
   ]
  },
  {
   "cell_type": "code",
   "execution_count": null,
   "metadata": {},
   "outputs": [],
   "source": [
    "#export\n",
    "@patch(Simulator)\n",
    "def _apply_gate(self, gate_symbol, qubits):\n",
    "    \"\"\"Apply a gate to the `qubits` of the current state.\"\"\"\n",
    "    gate = getattr(self, gate_symbol.lower())    \n",
    "    args = (qubits,) if type(qubits)==int else qubits\n",
    "    return gate(*args)"
   ]
  },
  {
   "cell_type": "markdown",
   "metadata": {},
   "source": [
    "Thus, we can only run gates which are implemented:"
   ]
  },
  {
   "cell_type": "code",
   "execution_count": null,
   "metadata": {},
   "outputs": [
    {
     "name": "stdout",
     "output_type": "stream",
     "text": [
      "'Simulator' object has no attribute 'x'\n"
     ]
    }
   ],
   "source": [
    "s = Simulator(num_qubits=3)\n",
    "try:\n",
    "    s._apply_gate(\"X\", 2) \n",
    "except AttributeError as e:\n",
    "    print(e)"
   ]
  },
  {
   "cell_type": "markdown",
   "metadata": {},
   "source": [
    "As expected, we get an AttributeError. However, when we implement this gate in the simulator.."
   ]
  },
  {
   "cell_type": "code",
   "execution_count": null,
   "metadata": {},
   "outputs": [],
   "source": [
    "@patch(Simulator)\n",
    "def x(self,qubit):\n",
    "    pass\n",
    "\n",
    "s = Simulator(num_qubits=3)\n",
    "s._apply_gate(\"X\", 2) "
   ]
  },
  {
   "cell_type": "markdown",
   "metadata": {},
   "source": [
    "..we get no error. Now, in order to simulate the (new) state after a complete circuit application, we apply each tick sequentially in the `run` method. This method is the main interface to the simulator for a user. Additionally, the `run` method allows to pass a `fault_circuit` which is a \"blank\" copy of `circuit`, i.e. it has the same number of ticks and qubits, only that it has fault gates at specified positions. Fault gates are just regular gates which are applied at the end of a tick."
   ]
  },
  {
   "cell_type": "code",
   "execution_count": null,
   "metadata": {},
   "outputs": [],
   "source": [
    "#export\n",
    "@patch(Simulator)\n",
    "def run(self, circuit, fault_circuit=None):\n",
    "    \"\"\"Apply gates in `circuit` sequentially to current state.\n",
    "    If `fault_circuit` is specified apply fault gates after each tick.\"\"\"\n",
    "    measurements = []\n",
    "    for tick_index, tick in enumerate(circuit):\n",
    "        if type(tick) == list:\n",
    "            for sub_tick in tick:\n",
    "                res = self._apply_gate(*sub_tick)\n",
    "                if res: measurements.append( (tick_index,res) )\n",
    "        elif type(tick) == tuple:\n",
    "            res = self._apply_gate(*tick)\n",
    "            if res: measurements.append( (tick_index,res) )\n",
    "        \n",
    "        if fault_circuit:\n",
    "            fault_tick = fault_circuit[tick_index]\n",
    "            if fault_tick:\n",
    "                if type(fault_tick) == list:\n",
    "                    for sub_fault_tick in fault_tick:\n",
    "                        self._apply_gate(*sub_fault_tick)\n",
    "                elif type(fault_tick) == tuple:\n",
    "                    self._apply_gate(*fault_tick)\n",
    "    return measurements"
   ]
  },
  {
   "cell_type": "markdown",
   "metadata": {},
   "source": [
    "The `run` method will return a list of all measurements (if any) per tick. "
   ]
  }
 ],
 "metadata": {
  "kernelspec": {
   "display_name": "Python 3 (ipykernel)",
   "language": "python",
   "name": "python3"
  }
 },
 "nbformat": 4,
 "nbformat_minor": 4
}
