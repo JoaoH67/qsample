{
 "cells": [
  {
   "cell_type": "code",
   "execution_count": null,
   "metadata": {},
   "outputs": [],
   "source": [
    "# default_exp samptools"
   ]
  },
  {
   "cell_type": "markdown",
   "metadata": {},
   "source": [
    "# Sample tools\n",
    "\n",
    "> Collection functions to support sampling."
   ]
  },
  {
   "cell_type": "code",
   "execution_count": null,
   "metadata": {},
   "outputs": [],
   "source": [
    "# hide\n",
    "from nbdev.showdoc import *"
   ]
  },
  {
   "cell_type": "code",
   "execution_count": null,
   "metadata": {},
   "outputs": [],
   "source": [
    "#export\n",
    "import numpy as np\n",
    "from scipy.special import factorial"
   ]
  },
  {
   "cell_type": "code",
   "execution_count": null,
   "metadata": {},
   "outputs": [],
   "source": [
    "#export\n",
    "def combination(n, k):\n",
    "    \"\"\"Vectorized function to calculate a combination\"\"\"\n",
    "    return factorial(n) / (factorial(k) * factorial(n-k))"
   ]
  },
  {
   "cell_type": "code",
   "execution_count": null,
   "metadata": {},
   "outputs": [],
   "source": [
    "#export\n",
    "def binomial(k, n, p):\n",
    "    \"\"\"Vectorized function to calculate binomial function\"\"\"\n",
    "    return combination(n,k) * p**k * (1-p)**(n-k)"
   ]
  },
  {
   "cell_type": "code",
   "execution_count": null,
   "metadata": {},
   "outputs": [],
   "source": [
    "#export\n",
    "def Wilson_std(p, N, z=1.96):\n",
    "    \"\"\"Wilson estimator of std of binomial distribution\"\"\"\n",
    "    wilson_max = (p + z**2/(2*N) + z*np.sqrt(p*(1-p)/N+z**2/(4*N**2)))/(1+z**2/N)\n",
    "    wilson_min = (p + z**2/(2*N) - z*np.sqrt(p*(1-p)/N+z**2/(4*N**2)))/(1+z**2/N)\n",
    "    return wilson_max - wilson_min\n",
    "\n",
    "def Wilson_var(p, N):\n",
    "    return Wilson_std(p, N)**2"
   ]
  },
  {
   "cell_type": "code",
   "execution_count": null,
   "metadata": {},
   "outputs": [],
   "source": [
    "#export\n",
    "def Wald_var(p, N):\n",
    "    \"\"\"Wald variance estimator (known issues, better use Wilson)\"\"\"\n",
    "    return p * (1-p) / N\n",
    "\n",
    "def Wald_std(p, N):\n",
    "    return np.sqrt(Wald_var(p, N))"
   ]
  },
  {
   "cell_type": "code",
   "execution_count": null,
   "metadata": {},
   "outputs": [],
   "source": [
    "#export\n",
    "def std_sum(Aws, pws, n_samples, var=Wilson_var):\n",
    "    \"\"\"Calculate standard deviation according to Gaussian error propagation \n",
    "    applied to p_L: V_L = sum_i (dp_L/dp_i)^2 * V_i\"\"\"\n",
    "    return np.sqrt( np.sum( Aws[1:]**2 * var(pws[1:],n_samples), axis=0 ) )"
   ]
  },
  {
   "cell_type": "code",
   "execution_count": null,
   "metadata": {},
   "outputs": [],
   "source": [
    "#export\n",
    "def weight_cutoff(p_max, delta_max, n_circ_elems):\n",
    "    \"\"\"Calculate weight cutoff at p_max for delta_max.\"\"\"\n",
    "    delta = 1\n",
    "    for w_max in range(n_circ_elems+1):\n",
    "        # delta -= binom.pmf(w_max, n_circ_elems, p_max)\n",
    "        delta -= binom(w_max, n_circ_elems, p_max)\n",
    "        if delta < delta_max: break\n",
    "    return w_max"
   ]
  },
  {
   "cell_type": "markdown",
   "metadata": {},
   "source": [
    "Subset selectors"
   ]
  },
  {
   "cell_type": "code",
   "execution_count": null,
   "metadata": {},
   "outputs": [],
   "source": [
    "#export\n",
    "def balanced_SS_selector(counts, *args, **kwargs):\n",
    "    \"\"\"Return index of least sampled SS\"\"\"\n",
    "    return np.argmin(counts)"
   ]
  },
  {
   "cell_type": "code",
   "execution_count": null,
   "metadata": {},
   "outputs": [],
   "source": [
    "#export\n",
    "def ERV_SS_selector(counts, fail_counts, var=Wilson_var, *args, **kwargs):\n",
    "    \"\"\"Return index of SS which yields maximum ERV\"\"\"\n",
    "\n",
    "    p = fail_counts / counts # list of SS failure rates\n",
    "    v = var(p, counts) # list of variances\n",
    "\n",
    "    # prospective failure rates\n",
    "    p_p = (fail_counts+1) / (counts+1) # next msmt yields +1 (i.e. 1)\n",
    "    p_m = fail_counts / (counts+1) # next msmt yields -1 (i.e. 0)\n",
    "\n",
    "    # prospective variances\n",
    "    v_p = var(p_p, counts+1) \n",
    "    v_m = var(p_m, counts+1)\n",
    "\n",
    "    # Calculate prospective variances\n",
    "    v_prop = p*v_p + (1-p)*v_m \n",
    "\n",
    "    # Differences to current variance\n",
    "    # The larger delta, the smaller v_prop.\n",
    "    delta = v - v_prop\n",
    "\n",
    "    # Maximize the difference\n",
    "    return np.argmax(delta)"
   ]
  },
  {
   "cell_type": "markdown",
   "metadata": {},
   "source": [
    "**TODO** Document & test."
   ]
  }
 ],
 "metadata": {
  "kernelspec": {
   "display_name": "Python 3 (ipykernel)",
   "language": "python",
   "name": "python3"
  }
 },
 "nbformat": 4,
 "nbformat_minor": 4
}
