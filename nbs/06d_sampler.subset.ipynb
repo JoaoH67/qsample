{
 "cells": [
  {
   "cell_type": "raw",
   "id": "fc86c9a8",
   "metadata": {},
   "source": [
    "---\n",
    "description: Sampler class for subset Monte Carlo sampling\n",
    "output-file: sampler.subset.html\n",
    "title: Subset Monte Carlo sampler\n",
    "\n",
    "skip_showdoc: true\n",
    "skip_exec: true\n",
    "---"
   ]
  },
  {
   "cell_type": "code",
   "execution_count": null,
   "id": "d4c125ea-aca2-4dde-80c2-e5b71824ef0d",
   "metadata": {},
   "outputs": [],
   "source": [
    "#| default_exp sampler.subset"
   ]
  },
  {
   "cell_type": "code",
   "execution_count": null,
   "id": "0c7f4ee2-1f31-4636-8688-3945f73beb09",
   "metadata": {},
   "outputs": [],
   "source": [
    "#| include: false\n",
    "from nbdev.showdoc import *"
   ]
  },
  {
   "cell_type": "code",
   "execution_count": null,
   "id": "13de1d32-1cd4-4bf9-904e-a0299080b785",
   "metadata": {},
   "outputs": [],
   "source": [
    "#| export\n",
    "from qsample.sampler.base import Sampler, protocol_subset_occurence, err_probs_tomatrix, equalize_lens\n",
    "from qsample.sampler.tree import Variable, Constant\n",
    "\n",
    "import numpy as np"
   ]
  },
  {
   "cell_type": "code",
   "execution_count": null,
   "id": "370bd1a3-098e-4fbf-b639-b653575270fd",
   "metadata": {},
   "outputs": [],
   "source": [
    "#| export\n",
    "class SubsetSampler(Sampler):\n",
    "        \n",
    "    def stats(self, err_probs=None):\n",
    "        _protocol_Aws = self.tree.constants\n",
    "        \n",
    "        if set(self.protocol._circuits.keys()) != set(self.protocol_subsets.keys()):\n",
    "            # Update subsets if circuits were added during runtime.\n",
    "            self._set_subsets()\n",
    "        \n",
    "        if err_probs is not None:\n",
    "            assert isinstance(err_probs, dict)\n",
    "            err_probs = err_probs_tomatrix(err_probs, self.err_model.groups)\n",
    "            self.tree.constants = protocol_subset_occurence(self.protocol_groups, self.protocol_subsets, err_probs)\n",
    "        else:\n",
    "            self.tree.constants = protocol_subset_occurence(self.protocol_groups, self.protocol_subsets, self.err_probs)\n",
    "        \n",
    "        v_L = self.tree.uncertainty_propagated_variance(mode=1)\n",
    "        p_L = self.tree.path_sum(self.tree.root, mode=1)\n",
    "        delta = 1 - self.tree.path_sum(self.tree.root, mode=2)\n",
    "        v_L_up_var = self.tree.uncertainty_propagated_variance(mode=0)\n",
    "        \n",
    "        self.tree.constants = _protocol_Aws\n",
    "        return equalize_lens([p_L, np.sqrt(v_L), p_L+delta, np.sqrt(v_L_up_var)])\n",
    "        \n",
    "    def __init__(self, protocol, simulator, pmax, err_model=None, err_probs=None):\n",
    "        super().__init__(protocol, simulator, err_probs=pmax, err_model=err_model)\n",
    "        probs = err_probs if err_probs else pmax\n",
    "        self.err_probs = err_probs_tomatrix(probs, self.err_model.groups)\n",
    "        \n",
    "    def optimize(self, tree_node, circuit, prob_vec):\n",
    "        \n",
    "        subsets, Aws = zip(*self.tree.constants[circuit.id].items())\n",
    "        if circuit._ff_det and subsets[0] in {n.name for n in tree_node.children}: \n",
    "            Aws = np.ma.masked_array(Aws)\n",
    "            Aws[0] = np.ma.masked\n",
    "        subset = subsets[ np.random.choice(len(subsets), p=Aws) ]\n",
    "        \n",
    "        locgrps = self.protocol_groups[circuit.id]\n",
    "        flocs = self.err_model.choose_w(locgrps, subset)\n",
    "        return {'subset': subset, 'flocs': flocs}\n",
    "    \n",
    "    @property\n",
    "    def tree(self):\n",
    "        return list(self.trees.values())[0]"
   ]
  },
  {
   "cell_type": "code",
   "execution_count": null,
   "id": "43e61b4c-da94-4438-b5b3-9afd12690a12",
   "metadata": {},
   "outputs": [],
   "source": [
    "#| export\n",
    "class SubsetSamplerERV(SubsetSampler):\n",
    "    \"\"\"Subset sampler with ERV optimize function\"\"\"\n",
    "    \n",
    "    def wplus1(self, tree_node, circuit):\n",
    "        Aws = self.tree.constants[circuit.id]\n",
    "        sampled_subsets = [n.name for n in tree_node.children]\n",
    "        unsampled_Aws = {k:v for k,v in Aws.items() if k not in sampled_subsets}\n",
    "        if unsampled_Aws:\n",
    "            next_important_subset = max(unsampled_Aws, key=lambda k: unsampled_Aws.get(k))\n",
    "            subset_candidates = sampled_subsets + [next_important_subset]\n",
    "        else:\n",
    "            subset_candidates = sampled_subsets\n",
    "            \n",
    "        return subset_candidates\n",
    "    \n",
    "    def ERV(self, tree_node, circuit):\n",
    "\n",
    "        subset_candidates = self.wplus1(tree_node, circuit)\n",
    "        \n",
    "        # ERV\n",
    "        _min_path_weight = self.tree.min_path_weight\n",
    "        self.tree.min_path_weight = 0\n",
    "        \n",
    "        erv_deltas = np.ma.zeros(shape=len(subset_candidates))\n",
    "        delta = self.tree.delta\n",
    "        v_L = self.tree.variance\n",
    "        \n",
    "        for i, subset in enumerate(subset_candidates):\n",
    "            \n",
    "            if circuit._ff_det and not any(subset):\n",
    "                erv_deltas[i] = np.ma.masked\n",
    "                continue\n",
    "            \n",
    "            _tree_node = self.tree.add(subset, parent=tree_node, cid=circuit.id, nodetype=Constant)\n",
    "            children = _tree_node.children\n",
    "            \n",
    "            # delta_diff = 0\n",
    "            if len(children) == 0:\n",
    "                # delta_diff = self.tree.twig(_tree_node)\n",
    "                __tree_node_minus = self.tree.add(None, parent=_tree_node, nodetype=Variable)\n",
    "                __tree_node_plus = self.tree.add('FAIL', parent=_tree_node, nodetype=Variable, marked=True)\n",
    "            elif len(children) == 1:\n",
    "                if children[0].marked:\n",
    "                    __tree_node_minus = self.tree.add(None, parent=_tree_node, nodetype=Variable)\n",
    "                    __tree_node_plus = children[0]\n",
    "                else:\n",
    "                    __tree_node_minus = children[0]\n",
    "                    __tree_node_plus = self.tree.add('FAIL', parent=_tree_node, nodetype=Variable, marked=True)\n",
    "            elif len(children) == 2:\n",
    "                __tree_node_minus, __tree_node_plus = children\n",
    "            else:\n",
    "                raise Exception(\"Subset nodes not allowed to have more than 2 children.\")\n",
    "            \n",
    "            # v_L = self.tree.partial_variance(_tree_node)\n",
    "            \n",
    "            _tree_node.counts += 1\n",
    "            \n",
    "            # _delta = self.tree.delta\n",
    "            \n",
    "            __tree_node_minus.counts += 1\n",
    "            _delta = self.tree.delta\n",
    "            v_L_minus = self.tree.variance\n",
    "            # v_L_minus = self.tree.partial_variance(_tree_node)\n",
    "            __tree_node_minus.counts -= 1\n",
    "            \n",
    "            __tree_node_plus.counts += 1\n",
    "            v_L_plus = self.tree.variance\n",
    "            # v_L_plus = self.tree.partial_variance(_tree_node)\n",
    "            __tree_node_plus.counts -= 1\n",
    "            \n",
    "            _tree_node.counts -= 1\n",
    "            \n",
    "            _v_L = __tree_node_plus.rate * v_L_plus + __tree_node_minus.rate * v_L_minus\n",
    "            # erv_delta = v_L - _v_L + delta_diff\n",
    "            erv_delta = np.abs(v_L - _v_L + _delta - delta)\n",
    "            erv_deltas[i] = erv_delta\n",
    "            \n",
    "            if _tree_node.counts == 0: self.tree.detach(_tree_node)\n",
    "            if __tree_node_plus.counts == 0: self.tree.detach(__tree_node_plus)\n",
    "            if __tree_node_minus.counts == 0: self.tree.detach(__tree_node_minus)\n",
    "        \n",
    "        self.tree.min_path_weight = _min_path_weight\n",
    "        idx = np.argmax(erv_deltas)\n",
    "        return subset_candidates[idx], erv_deltas[idx]\n",
    "\n",
    "    def optimize(self, tree_node, circuit, prob_vec):\n",
    "        subset, erv = self.ERV(tree_node, circuit)\n",
    "        locgrps = self.protocol_groups[circuit.id]\n",
    "        flocs = self.err_model.choose_w(locgrps, subset)\n",
    "        return {'subset': subset, 'flocs': flocs, 'erv': erv}"
   ]
  },
  {
   "cell_type": "code",
   "execution_count": null,
   "id": "fd54096b-64a4-4d65-acfc-0eef914125b7",
   "metadata": {},
   "outputs": [
    {
     "data": {
      "application/vnd.jupyter.widget-view+json": {
       "model_id": "bd5c15b3b7f34d34995b828f58fb7036",
       "version_major": 2,
       "version_minor": 0
      },
      "text/plain": [
       "p_phy=4.00E-03:   0%|          | 0/100 [00:00<?, ?it/s]"
      ]
     },
     "metadata": {},
     "output_type": "display_data"
    },
    {
     "data": {
      "image/png": "[encoded data removed]",
      "text/plain": [
       "<Figure size 432x432 with 1 Axes>"
      ]
     },
     "metadata": {},
     "output_type": "display_data"
    },
    {
     "data": {
      "image/png": "[encoded data removed]",
      "text/plain": [
       "<Figure size 432x288 with 1 Axes>"
      ]
     },
     "metadata": {
      "needs_background": "light"
     },
     "output_type": "display_data"
    }
   ],
   "source": [
    "from qsample.examples import ghz1\n",
    "from qsample.noise import E1\n",
    "import qsample.callbacks as cb\n",
    "from qsample.sim.stabilizer import StabilizerSimulator as CHP\n",
    "import numpy as np\n",
    "\n",
    "sample_range = np.logspace(-3,0,5)\n",
    "pmax = {'q': 0.004}\n",
    "err_probs = {'q': sample_range}\n",
    "sam = SubsetSampler(ghz1, CHP,  pmax=pmax, err_probs=err_probs, err_model=E1)\n",
    "sam.run(100, [cb.PlotStats()])\n",
    "\n",
    "sam.save('./test')"
   ]
  },
  {
   "cell_type": "code",
   "execution_count": null,
   "id": "6559f896-c920-41ff-8348-751c382bcb29",
   "metadata": {},
   "outputs": [],
   "source": []
  }
 ],
 "metadata": {
  "kernelspec": {
   "display_name": "python3",
   "language": "python",
   "name": "python3"
  }
 },
 "nbformat": 4,
 "nbformat_minor": 5
}
