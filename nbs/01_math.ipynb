{
 "cells": [
  {
   "cell_type": "raw",
   "id": "399c274c",
   "metadata": {},
   "source": [
    "---\n",
    "description: Collection common (vectorized) math functions.\n",
    "output-file: math.html\n",
    "title: Math\n",
    "---"
   ]
  },
  {
   "cell_type": "code",
   "execution_count": null,
   "id": "5beccba0-ca43-49cf-9aed-5ad6b65119f3",
   "metadata": {},
   "outputs": [],
   "source": [
    "#| default_exp math"
   ]
  },
  {
   "cell_type": "code",
   "execution_count": null,
   "id": "de7706a9-3ad2-4515-a9fe-6aabfe7ecb10",
   "metadata": {},
   "outputs": [],
   "source": [
    "#| include: false\n",
    "from nbdev.showdoc import *"
   ]
  },
  {
   "cell_type": "code",
   "execution_count": null,
   "id": "e148854e-9c69-4f21-ae2f-33637c0071b6",
   "metadata": {},
   "outputs": [],
   "source": [
    "#| export\n",
    "import numpy as np\n",
    "from scipy.special import factorial"
   ]
  },
  {
   "cell_type": "code",
   "execution_count": null,
   "id": "d585d97a-a54b-415f-9878-71cb1d90869a",
   "metadata": {},
   "outputs": [],
   "source": [
    "#| export\n",
    "def comb(n, k):\n",
    "    \"\"\"Vectorized combination\n",
    "    \n",
    "    .. math:: comb(n,k) = n! / ((n-k)!k!)\n",
    "    \n",
    "    Parameters\n",
    "    ----------\n",
    "    n : int or np.array of int\n",
    "        First parameter of combination\n",
    "    k : int or np.array of int\n",
    "        Second parameter of combination\n",
    "        \n",
    "    Returns\n",
    "    -------\n",
    "    np.array\n",
    "        Combination (choose k out of n)\n",
    "    \"\"\"\n",
    "    return factorial(n) / (factorial(k) * factorial(n-k))"
   ]
  },
  {
   "cell_type": "code",
   "execution_count": null,
   "id": "b322987a-3bdc-4985-a05b-6623dc0557a8",
   "metadata": {},
   "outputs": [],
   "source": [
    "#| export\n",
    "def binom(k, n, p):\n",
    "    \"\"\"Vectorized binomial distribution\n",
    "    \n",
    "    Parameters\n",
    "    ----------\n",
    "    n : int or list of int\n",
    "        First parameter of combination\n",
    "    k : int or list of int\n",
    "        Second parameter of combination\n",
    "    p : float or list of float\n",
    "        Probability \n",
    "    \n",
    "    Returns\n",
    "    -------\n",
    "    np.array\n",
    "        value(s) of binomial distribution evaulated at k,n,p.\n",
    "    \"\"\"\n",
    "    k, n, p = np.array(k), np.array(n), np.array(p)\n",
    "    return comb(n,k) * p**k * (1-p)**(n-k)"
   ]
  },
  {
   "cell_type": "code",
   "execution_count": null,
   "id": "01c83ed9-e46b-4d67-865e-ce8ec17b194e",
   "metadata": {},
   "outputs": [],
   "source": [
    "#| export\n",
    "def Wilson_var(p, N):\n",
    "    \"\"\"Wilson estimator of binomial variance\n",
    "    \n",
    "    The formula for the Wilson interval is:\n",
    "    \n",
    "    .. math:: CI = p+z^2/(2n) \\pm z\\sqrt{pq/n + z^2/(4n^2)}/(1 + z^2/n)\n",
    "    \n",
    "    which we assume symmetric, s.t. we can extract the std (z=1), thus:\n",
    "    \n",
    "    .. math: Var[p] = (CI/2)^2 = (npq + 0.25) / (1 + n)^2\n",
    "    \n",
    "    Parameters\n",
    "    ----------\n",
    "    p : float\n",
    "        Estimator of probability\n",
    "    N : int\n",
    "        Sample size\n",
    "        \n",
    "    Returns\n",
    "    -------\n",
    "    float\n",
    "        Estimated variance of Wilson CI (assumed symmetric)\n",
    "    \"\"\"\n",
    "    return (N*p*(1-p) + 0.25)  / (N**2 + 2*N + 1)"
   ]
  },
  {
   "cell_type": "code",
   "execution_count": null,
   "id": "8380cd4e-4c65-4182-b98e-ee3cf0911408",
   "metadata": {},
   "outputs": [],
   "source": [
    "#| export\n",
    "def Wald_var(p, N):\n",
    "    \"\"\"Wald estimation of binomial variance\n",
    "    \n",
    "    Parameters\n",
    "    ----------\n",
    "    p : float\n",
    "        Estimator of probability\n",
    "    N : int\n",
    "        Sample size\n",
    "        \n",
    "    Returns\n",
    "    -------\n",
    "    float\n",
    "        Estimated variance of Wald CI\n",
    "    \"\"\"\n",
    "    return p * (1-p) / N"
   ]
  }
 ],
 "metadata": {
  "kernelspec": {
   "display_name": "python3",
   "language": "python",
   "name": "python3"
  }
 },
 "nbformat": 4,
 "nbformat_minor": 5
}
