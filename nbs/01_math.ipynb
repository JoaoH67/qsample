{
 "cells": [
  {
   "cell_type": "raw",
   "id": "399c274c",
   "metadata": {},
   "source": [
    "---\n",
    "description: Collection common (vectorized) math functions.\n",
    "output-file: math.html\n",
    "title: Math\n",
    "---"
   ]
  },
  {
   "cell_type": "code",
   "execution_count": null,
   "id": "5beccba0-ca43-49cf-9aed-5ad6b65119f3",
   "metadata": {},
   "outputs": [],
   "source": [
    "#| default_exp math"
   ]
  },
  {
   "cell_type": "code",
   "execution_count": null,
   "id": "de7706a9-3ad2-4515-a9fe-6aabfe7ecb10",
   "metadata": {},
   "outputs": [],
   "source": [
    "#| include: false\n",
    "from nbdev.showdoc import *"
   ]
  },
  {
   "cell_type": "code",
   "execution_count": null,
   "id": "e148854e-9c69-4f21-ae2f-33637c0071b6",
   "metadata": {},
   "outputs": [],
   "source": [
    "#| export\n",
    "import numpy as np\n",
    "from scipy.special import factorial\n",
    "import itertools as it\n",
    "\n",
    "from fastcore.test import *"
   ]
  },
  {
   "cell_type": "code",
   "execution_count": null,
   "id": "d585d97a-a54b-415f-9878-71cb1d90869a",
   "metadata": {},
   "outputs": [],
   "source": [
    "#| export\n",
    "def comb(n, k):\n",
    "    \"\"\"Vectorized combination: `comb(n,k)` = n! / ((n-k)!k!)\n",
    "    \n",
    "    Parameters\n",
    "    ----------\n",
    "    n : int or np.array of int\n",
    "        First parameter of combination\n",
    "    k : int or np.array of int\n",
    "        Second parameter of combination\n",
    "        \n",
    "    Returns\n",
    "    -------\n",
    "    np.array\n",
    "        Combination (choose k out of n)\n",
    "    \"\"\"\n",
    "    return factorial(n) / (factorial(k) * factorial(n-k))"
   ]
  },
  {
   "cell_type": "code",
   "execution_count": null,
   "id": "b322987a-3bdc-4985-a05b-6623dc0557a8",
   "metadata": {},
   "outputs": [],
   "source": [
    "#| export\n",
    "def binom(k, n, p):\n",
    "    \"\"\"Vectorized binomial distribution: `binom(k,n,p)`=`comb(n,k)` p^k (1-p)^n-k\n",
    "    \n",
    "    Example\n",
    "    -------\n",
    "    >> binom(k=[1,2], n=[3,4], p=0.1)\n",
    "    [0.243 , 0.0486]\n",
    "    \n",
    "    Parameters\n",
    "    ----------\n",
    "    n : int or list of int\n",
    "        First parameter of combination\n",
    "    k : int or list of int\n",
    "        Second parameter of combination\n",
    "    p : float or list of float\n",
    "        Probability \n",
    "    \n",
    "    Returns\n",
    "    -------\n",
    "    np.array\n",
    "        Value(s) of binomial distribution evaluated at k,n,p.\n",
    "    \"\"\"\n",
    "    k, n, p = np.array(k), np.array(n), np.array(p)\n",
    "    return comb(n,k) * p**k * (1-p)**(n-k)"
   ]
  },
  {
   "cell_type": "code",
   "execution_count": null,
   "id": "47c723d5-0604-448f-bbed-c9bfb403af8c",
   "metadata": {},
   "outputs": [],
   "source": [
    "test_close(binom(k=[1,2], n=[3,4], p=0.1), [0.243 , 0.0486], eps=1e-05)"
   ]
  },
  {
   "cell_type": "code",
   "execution_count": null,
   "id": "d89066bd-8347-4ce2-b0c8-3de20d7ae60d",
   "metadata": {},
   "outputs": [],
   "source": [
    "#| export\n",
    "def joint_binom(k, n, p):\n",
    "    \"\"\"Product of independent binomial distributions with\n",
    "    parameters `k`, `n` and `p` (can be list of lists), i.e.:\n",
    "    \n",
    "    `joint_binom(k,n,p)`=`binom(k[0],n[0],p[0])`×...×`binom(k[-1],n[-1],p[-1])`\n",
    "    \n",
    "    Example\n",
    "    -------\n",
    "    >> joint_binom(k=[1,1], n=[2,2], p=[0.5,0.5])\n",
    "    0.25\n",
    "    \n",
    "    Parameters\n",
    "    ----------\n",
    "    n : list of int\n",
    "        List of first parameters of combination\n",
    "    k : list of int\n",
    "        List of second parameters of combination\n",
    "    p : list of list, list of float, or float\n",
    "        Probability\n",
    "        \n",
    "    Returns\n",
    "    -------\n",
    "    np.array\n",
    "        Joint probability\n",
    "    \"\"\"\n",
    "    return np.prod(binom(k,n,p), axis=-1) # In case p is list of list: vector, else scalar"
   ]
  },
  {
   "cell_type": "code",
   "execution_count": null,
   "id": "8cb4f78a-4556-4570-804b-f956b39af07d",
   "metadata": {},
   "outputs": [],
   "source": [
    "test_close(joint_binom(k=[1,2], n=[3,4], p=[0.1,0.2]), binom(k=1,n=3,p=0.1) * binom(k=2,n=4,p=0.2))\n",
    "test_close(joint_binom(k=[1,2], n=[2,3], p=[[0.1,0.2],[.3,.4]]), [binom(1,2,0.1)*binom(2,3,0.2), binom(1,2,0.3)*binom(2,3,0.4)])"
   ]
  },
  {
   "cell_type": "code",
   "execution_count": null,
   "id": "01c83ed9-e46b-4d67-865e-ce8ec17b194e",
   "metadata": {},
   "outputs": [],
   "source": [
    "#| export\n",
    "def Wilson_var(p, N):\n",
    "    \"\"\"Wilson estimator of binomial variance (see Eq. C12 in paper)\n",
    "    \n",
    "    The formula for the Wilson interval is:\n",
    "    \n",
    "        CI = p+z^2/(2n) \\pm z\\sqrt{pq/n + z^2/(4n^2)}/(1 + z^2/n)\n",
    "    \n",
    "    we can extract the var (z=1) as:\n",
    "    \n",
    "        Var(p) = (CI/2)^2 = (npq + 0.25) / (1 + n)^2\n",
    "    \n",
    "    Parameters\n",
    "    ----------\n",
    "    p : float\n",
    "        Estimator of probability\n",
    "    N : int\n",
    "        Sample size\n",
    "        \n",
    "    Returns\n",
    "    -------\n",
    "    float\n",
    "        Estimated variance of Wilson CI\n",
    "    \"\"\"\n",
    "    return (N*p*(1-p) + 0.25)  / (N**2 + 2*N + 1)"
   ]
  },
  {
   "cell_type": "code",
   "execution_count": null,
   "id": "8380cd4e-4c65-4182-b98e-ee3cf0911408",
   "metadata": {},
   "outputs": [],
   "source": [
    "#| export\n",
    "def Wald_var(p, N):\n",
    "    \"\"\"Wald estimation of binomial variance (see Eq. C11 in paper)\n",
    "    \n",
    "    Parameters\n",
    "    ----------\n",
    "    p : float\n",
    "        Estimator of probability\n",
    "    N : int\n",
    "        Sample size\n",
    "        \n",
    "    Returns\n",
    "    -------\n",
    "    float\n",
    "        Estimated variance of Wald CI\n",
    "    \"\"\"\n",
    "    return p * (1-p) / N"
   ]
  },
  {
   "cell_type": "code",
   "execution_count": null,
   "id": "926f84e9-f581-4f2b-88c0-e16ccc4d4ada",
   "metadata": {},
   "outputs": [],
   "source": [
    "#| export\n",
    "def subset_cards(superset):\n",
    "    \"\"\"Calculate cardinalities of all possible subsets of `superset`\n",
    "    \n",
    "    Example\n",
    "    -------\n",
    "    >> subset_cards({1,2,3})\n",
    "    {0,1,2,3}\n",
    "    \n",
    "    Parameters\n",
    "    ----------\n",
    "    superset : set\n",
    "        Input set\n",
    "    \n",
    "    Returns\n",
    "    -------\n",
    "    list of int\n",
    "        All possible cardinalities of subsets in superset\n",
    "    \"\"\"\n",
    "    return set(range(len(superset) + 1))"
   ]
  },
  {
   "cell_type": "code",
   "execution_count": null,
   "id": "158f2b67-ff33-448c-8f1b-2338657c7b4c",
   "metadata": {},
   "outputs": [],
   "source": [
    "assert(subset_cards({1,2,3}) == {0,1,2,3})\n",
    "assert(subset_cards({(0,0), (0,1), (0,2)}) == {0,1,2,3})"
   ]
  },
  {
   "cell_type": "code",
   "execution_count": null,
   "id": "7c3e9fde-34f5-444e-9597-888bb7f74900",
   "metadata": {},
   "outputs": [],
   "source": [
    "#| export\n",
    "def cartesian_product(list_of_sets):\n",
    "    \"\"\"Calculate cartesian product between all members of sets\n",
    "    \n",
    "    Example\n",
    "    -------\n",
    "    >> cartesian_product([{1,2}, {3,4}])\n",
    "    [(1,3), (1,4), (2,3), (2,4)]\n",
    "    \n",
    "    Parameters\n",
    "    ----------\n",
    "    list_of_sets : list\n",
    "        List of sets between which to calculate Cartesian product\n",
    "        \n",
    "    Returns\n",
    "    -------\n",
    "    list of tuple\n",
    "        Cartesian products\n",
    "    \"\"\"\n",
    "    return list(it.product(*list_of_sets))"
   ]
  },
  {
   "cell_type": "code",
   "execution_count": null,
   "id": "4a353f0c-4f1a-4d3b-8055-080b16830286",
   "metadata": {},
   "outputs": [],
   "source": [
    "assert(cartesian_product([{1,2},{3,4}]) == [(1,3), (1,4), (2,3), (2,4)])"
   ]
  },
  {
   "cell_type": "code",
   "execution_count": null,
   "id": "993da753-5aa1-4e01-b713-f09884a72bc1",
   "metadata": {},
   "outputs": [],
   "source": [
    "#| export\n",
    "def subset_probs(circuit, error_model, prob):\n",
    "    \"\"\"Calculate occurence probability of subsets in `circuit` with physical\n",
    "    error rate `prob`. `error_model` defines how the circuit is to be \n",
    "    partitioned before occurence probabilities are calculated. (see Eq. 2 in paper)\n",
    "    \n",
    "    Example\n",
    "    -------\n",
    "    >> subset_probs(qsample.examples.por, qsample.noise.E1, 0.1)\n",
    "    {(0,): 0.6561,\n",
    "     (1,): 0.2916,\n",
    "     (2,): 0.04860000000000001,\n",
    "     (3,): 0.0036000000000000008,\n",
    "     (4,): 0.00010000000000000002}\n",
    "    \n",
    "    Parameters\n",
    "    ----------\n",
    "    circuit : Circuit\n",
    "        Circuit wrt. which subset probabilities are calculated\n",
    "    error_model : ErrorModel\n",
    "        Error model by which to partition `circuit`\n",
    "    prob : float or list of float\n",
    "        Physical error probabilities \n",
    "    Returns\n",
    "    -------\n",
    "    dict\n",
    "        keys: subset, values: corresponding probability\n",
    "    \"\"\"\n",
    "    list_of_sets = error_model.group(circuit).values()\n",
    "    cards = list(map(len, list_of_sets))\n",
    "    cp_subset_cards = cartesian_product([subset_cards(s) for s in list_of_sets])\n",
    "    return {cp : joint_binom(cp, cards, prob) for cp in cp_subset_cards}"
   ]
  }
 ],
 "metadata": {
  "kernelspec": {
   "display_name": "python3",
   "language": "python",
   "name": "python3"
  }
 },
 "nbformat": 4,
 "nbformat_minor": 5
}
