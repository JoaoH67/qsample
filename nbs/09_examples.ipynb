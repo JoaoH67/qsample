{
 "cells": [
  {
   "cell_type": "raw",
   "id": "1e3c910d",
   "metadata": {},
   "source": [
    "---\n",
    "description: Some circuits, protocols and sampling\n",
    "output-file: examples.html\n",
    "title: Examples\n",
    "\n",
    "skip_showdoc: true\n",
    "skip_exec: true\n",
    "---\n",
    "\n"
   ]
  },
  {
   "cell_type": "code",
   "execution_count": null,
   "id": "6c82945a-c624-4dfa-9d65-ca2750cd6eae",
   "metadata": {},
   "outputs": [],
   "source": [
    "#| default_exp examples"
   ]
  },
  {
   "cell_type": "code",
   "execution_count": null,
   "id": "721f7ce5-2534-4847-91a4-bf68d3ce7a5e",
   "metadata": {},
   "outputs": [],
   "source": [
    "#| include: false\n",
    "from nbdev.showdoc import *"
   ]
  },
  {
   "cell_type": "code",
   "execution_count": null,
   "id": "2ec3f070-deb7-4537-a66d-b43fb5bae0e0",
   "metadata": {},
   "outputs": [],
   "source": [
    "#| export\n",
    "import qsample as qs\n",
    "import numpy as np\n",
    "import matplotlib.pyplot as plt"
   ]
  },
  {
   "cell_type": "markdown",
   "id": "7f6710a9-ec44-4134-8d13-b9c329810b56",
   "metadata": {},
   "source": [
    "In this section, we show more examples of quantum protocols and sampling outcomes for both direct MC and subset sampling. All examples are also described in more detail in the linked paper."
   ]
  },
  {
   "cell_type": "markdown",
   "id": "73969752-0901-4472-adb9-7bbef62342f8",
   "metadata": {},
   "source": [
    "## 1. GHZ state preparation"
   ]
  },
  {
   "cell_type": "markdown",
   "id": "caf3f025-c56d-4b68-ab06-f4f9f251e701",
   "metadata": {},
   "source": [
    "See sections 1C and 3B in paper"
   ]
  },
  {
   "cell_type": "code",
   "execution_count": null,
   "id": "6cb70986-6cf3-4c2f-be84-b1f899b2f51a",
   "metadata": {},
   "outputs": [],
   "source": [
    "#| export\n",
    "\n",
    "## 1. Repeat-until-succes GHZ-preparation (max. depth 3)\n",
    "\n",
    "# Define quantum circuit for GHZ preparation on 4 qubits\n",
    "# with a flag on 5-th qubit, signalling fault-tolerant preparation status\n",
    "\n",
    "ghz = qs.Circuit([ {\"init\": {0,1,2,3,4}},\n",
    "                   {\"H\": {0}},\n",
    "                   {\"CNOT\": {(0,1)}},\n",
    "                   {\"CNOT\": {(1,2)}},\n",
    "                   {\"CNOT\": {(2,3)}},\n",
    "                   {\"CNOT\": {(3,4)}},\n",
    "                   {\"CNOT\": {(0,4)}},\n",
    "                   {\"measure\": {4}}   ])\n",
    "\n",
    "# Define protocol for 1 round of repetition\n",
    "\n",
    "def logErr(msmt_list):\n",
    "    return msmt_list[-1] == 1 # If True transition to FAIL\n",
    "\n",
    "functions = {'logErr': logErr}\n",
    "\n",
    "ghz1 = qs.Protocol(check_functions=functions, fault_tolerant=False)\n",
    "\n",
    "ghz1.add_node('ghz', circuit=ghz) # Add node with corresponding circuit\n",
    "ghz1.add_edge('START', 'ghz', check='True') # Transition START -> first circuit node always True\n",
    "ghz1.add_edge('ghz', 'FAIL', check='logErr(ghz)') # Transition to final node FAIL if logErr(ghz) True."
   ]
  },
  {
   "cell_type": "code",
   "execution_count": null,
   "id": "035b2074-55cc-4b9e-81ae-6d507b76bff5",
   "metadata": {},
   "outputs": [
    {
     "name": "stdout",
     "output_type": "stream",
     "text": [
      "--- Direct MC sampling ---\n"
     ]
    },
    {
     "data": {
      "application/vnd.jupyter.widget-view+json": {
       "model_id": "c30af7352b8848efbcc036e228322e73",
       "version_major": 2,
       "version_minor": 0
      },
      "text/plain": [
       "p=('1.00e-03',):   0%|          | 0/20000 [00:00<?, ?it/s]"
      ]
     },
     "metadata": {},
     "output_type": "display_data"
    },
    {
     "data": {
      "application/vnd.jupyter.widget-view+json": {
       "model_id": "85d17ff6d8e84d2db1382b3663cb8faf",
       "version_major": 2,
       "version_minor": 0
      },
      "text/plain": [
       "p=('5.62e-03',):   0%|          | 0/20000 [00:00<?, ?it/s]"
      ]
     },
     "metadata": {},
     "output_type": "display_data"
    },
    {
     "data": {
      "application/vnd.jupyter.widget-view+json": {
       "model_id": "88d947adb6e14329b6f917a2410565ce",
       "version_major": 2,
       "version_minor": 0
      },
      "text/plain": [
       "p=('3.16e-02',):   0%|          | 0/20000 [00:00<?, ?it/s]"
      ]
     },
     "metadata": {},
     "output_type": "display_data"
    },
    {
     "data": {
      "application/vnd.jupyter.widget-view+json": {
       "model_id": "dbb835f27a074435a88fadb0f7f635a5",
       "version_major": 2,
       "version_minor": 0
      },
      "text/plain": [
       "p=('1.78e-01',):   0%|          | 0/20000 [00:00<?, ?it/s]"
      ]
     },
     "metadata": {},
     "output_type": "display_data"
    },
    {
     "data": {
      "application/vnd.jupyter.widget-view+json": {
       "model_id": "c00abc8bbcb74b69a8290e609cd02b67",
       "version_major": 2,
       "version_minor": 0
      },
      "text/plain": [
       "p=('1.00e+00',):   0%|          | 0/20000 [00:00<?, ?it/s]"
      ]
     },
     "metadata": {},
     "output_type": "display_data"
    },
    {
     "name": "stdout",
     "output_type": "stream",
     "text": [
      "--- Subset sampling ---\n"
     ]
    },
    {
     "data": {
      "application/vnd.jupyter.widget-view+json": {
       "model_id": "3132f5207a9f4c5d835c559ef0faedeb",
       "version_major": 2,
       "version_minor": 0
      },
      "text/plain": [
       "p=('1.00e-02',):   0%|          | 0/10000 [00:00<?, ?it/s]"
      ]
     },
     "metadata": {},
     "output_type": "display_data"
    },
    {
     "data": {
      "text/plain": [
       "Text(0.5, 0, '$p$')"
      ]
     },
     "execution_count": null,
     "metadata": {},
     "output_type": "execute_result"
    },
    {
     "data": {
      "image/png": "[encoded data removed]",
      "text/plain": [
       "<Figure size 432x288 with 1 Axes>"
      ]
     },
     "metadata": {
      "needs_background": "light"
     },
     "output_type": "display_data"
    }
   ],
   "source": [
    "#| slow\n",
    "\n",
    "# Sampling parameters\n",
    "\n",
    "sample_range = np.logspace(-3,0,5)\n",
    "err_params = {'q': sample_range}\n",
    "err_model = qs.noise.S1\n",
    "CHP = qs.StabilizerSimulator\n",
    "p_max = {'q': 1e-2}\n",
    "\n",
    "# Direct MC sampling\n",
    "\n",
    "print(\"--- Direct MC sampling ---\")\n",
    "\n",
    "mc_sam = qs.DirectSampler(ghz1, CHP, err_params=err_params, err_model=err_model)\n",
    "mc_sam.run(20000) # Needs 20k * len(sample_range) samples\n",
    "\n",
    "print(\"--- Subset sampling ---\")\n",
    "\n",
    "ss_sam = qs.SubsetSampler(protocol=ghz1, simulator=CHP,  p_max=p_max, err_model=err_model, err_params=err_params, L=2)\n",
    "ss_sam.run(10000) # Needs only 10k samples\n",
    "\n",
    "# Plot results\n",
    "\n",
    "p_L, std = mc_sam.stats()\n",
    "p_L_low, ss_std_low, p_L_up, ss_std_up = ss_sam.stats()\n",
    "\n",
    "plt.errorbar(sample_range, p_L, fmt='--', c=\"black\", yerr=std, label=\"Direct MC\")\n",
    "plt.loglog(sample_range, p_L_low, label='SS low')\n",
    "plt.fill_between(sample_range, p_L_low-ss_std_low, p_L_low+ss_std_low, alpha=0.2)\n",
    "plt.loglog(sample_range, p_L_up, label='SS low')\n",
    "plt.fill_between(sample_range, p_L_up-ss_std_up, p_L_up+ss_std_up, alpha=0.2)\n",
    "plt.ylabel('$p_L$')\n",
    "plt.xlabel('$p$')"
   ]
  },
  {
   "cell_type": "markdown",
   "id": "45b68331-1dc5-4d72-b4f2-3cc7fffbbf92",
   "metadata": {},
   "source": [
    "## 2. Deterministic fault-tolerant preparation of Steane code state"
   ]
  },
  {
   "cell_type": "markdown",
   "id": "a788c3ed-68be-40bd-853e-272505710f47",
   "metadata": {},
   "source": [
    "See section 3C in paper"
   ]
  },
  {
   "cell_type": "code",
   "execution_count": null,
   "id": "4f13411e-1953-49a0-b4b7-6babfbd615c2",
   "metadata": {},
   "outputs": [],
   "source": [
    "#| export\n",
    "\n",
    "eft = qs.Circuit([  {\"init\": {0,1,2,4,3,5,6,7}},\n",
    "                    {\"H\": {0,1,3}},\n",
    "                    {\"CNOT\": {(0,4)}},\n",
    "                    {\"CNOT\": {(1,2)}},\n",
    "                    {\"CNOT\": {(3,5)}},\n",
    "                    {\"CNOT\": {(0,6)}},\n",
    "                    {\"CNOT\": {(3,4)}},\n",
    "                    {\"CNOT\": {(1,5)}},\n",
    "                    {\"CNOT\": {(0,2)}},\n",
    "                    {\"CNOT\": {(5,6)}},\n",
    "                    {\"CNOT\": {(4,7)}},\n",
    "                    {\"CNOT\": {(2,7)}},\n",
    "                    {\"CNOT\": {(5,7)}},\n",
    "                    {\"measure\": {7}} ])\n",
    "\n",
    "sz_123 = qs.Circuit([   {\"init\": {8}},\n",
    "                        {\"CNOT\": {(0,8)}},\n",
    "                        {\"CNOT\": {(1,8)}},\n",
    "                        {\"CNOT\": {(3,8)}},\n",
    "                        {\"CNOT\": {(6,8)}},\n",
    "                        {\"measure\": {8}}])\n",
    "\n",
    "meas7 = qs.Circuit([ {\"measure\": {0,1,2,3,4,5,6}} ], noisy=True)\n",
    "\n",
    "k1 = 0b0001111\n",
    "k2 = 0b1010101\n",
    "k3 = 0b0110011\n",
    "k12 = k1 ^ k2\n",
    "k23 = k2 ^ k3\n",
    "k13 = k1 ^ k3\n",
    "k123 = k12 ^ k3\n",
    "stabilizerGenerators = [k1, k2, k3]\n",
    "stabilizerSet = [0, k1, k2, k3, k12, k23, k13, k123]\n",
    "\n",
    "def hamming2(x, y):\n",
    "    count, z = 0, x ^ y\n",
    "    while z:\n",
    "        count += 1\n",
    "        z &= z - 1\n",
    "    return count\n",
    "\n",
    "\n",
    "def logErr(out):\n",
    "    import numpy as np\n",
    "    c = np.array([hamming2(out, i) for i in stabilizerSet])\n",
    "    d = np.flatnonzero(c <= 1)\n",
    "    e = np.array([hamming2(out ^ (0b1111111), i) for i in stabilizerSet])\n",
    "    f = np.flatnonzero(e <= 1)\n",
    "    if len(d) != 0:\n",
    "        return False\n",
    "    elif len(f) != 0:\n",
    "        return True\n",
    "    if len(d) != 0 and len(f) != 0: \n",
    "        raise('-!-!-CANNOT BE TRUE-!-!-')\n",
    "\n",
    "def flagged_z_look_up_table_1(z):\n",
    "    s = [z]\n",
    "\n",
    "    if s == [1]:\n",
    "        return True\n",
    "    else: \n",
    "        return False\n",
    "\n",
    "functions = {\"logErr\": logErr, \"lut\": flagged_z_look_up_table_1}\n",
    "\n",
    "steane0 = qs.Protocol(check_functions=functions, fault_tolerant=True)\n",
    "\n",
    "steane0.add_nodes_from(['ENC', 'Z2', 'meas'], circuits=[eft, sz_123, meas7])\n",
    "steane0.add_node('X_COR', circuit=qs.Circuit([{'X': {6}}], noisy=True))\n",
    "steane0.add_edge('START', 'ENC', check='True')\n",
    "steane0.add_edge('ENC', 'meas', check='ENC[-1]==0')\n",
    "steane0.add_edge('ENC', 'Z2', check='ENC[-1]==1')\n",
    "steane0.add_edge('Z2', 'X_COR', check='lut(Z2[-1])')\n",
    "steane0.add_edge('Z2', 'meas', check='not lut(Z2[-1])')\n",
    "steane0.add_edge('X_COR', 'meas', check='True')\n",
    "steane0.add_edge('meas', 'FAIL', check='logErr(meas[-1])')"
   ]
  },
  {
   "cell_type": "code",
   "execution_count": null,
   "id": "f71306d2-3eee-412b-8bb4-bdaaa8b0794a",
   "metadata": {},
   "outputs": [
    {
     "name": "stdout",
     "output_type": "stream",
     "text": [
      "--- Direct MC sampling ---\n"
     ]
    },
    {
     "data": {
      "application/vnd.jupyter.widget-view+json": {
       "model_id": "f39fcc91064d442ca6ee5f3e2f3db9f1",
       "version_major": 2,
       "version_minor": 0
      },
      "text/plain": [
       "p=('1.00e-04', '1.00e-03'):   0%|          | 0/20000 [00:00<?, ?it/s]"
      ]
     },
     "metadata": {},
     "output_type": "display_data"
    },
    {
     "data": {
      "application/vnd.jupyter.widget-view+json": {
       "model_id": "3337fa960307438ead25da9739eaad37",
       "version_major": 2,
       "version_minor": 0
      },
      "text/plain": [
       "p=('3.16e-04', '3.16e-03'):   0%|          | 0/20000 [00:00<?, ?it/s]"
      ]
     },
     "metadata": {},
     "output_type": "display_data"
    },
    {
     "data": {
      "application/vnd.jupyter.widget-view+json": {
       "model_id": "b986a7550f2e46fda02b35dfcbc119ed",
       "version_major": 2,
       "version_minor": 0
      },
      "text/plain": [
       "p=('1.00e-03', '1.00e-02'):   0%|          | 0/20000 [00:00<?, ?it/s]"
      ]
     },
     "metadata": {},
     "output_type": "display_data"
    },
    {
     "data": {
      "application/vnd.jupyter.widget-view+json": {
       "model_id": "f75e793da15541af950ed4425027da92",
       "version_major": 2,
       "version_minor": 0
      },
      "text/plain": [
       "p=('3.16e-03', '3.16e-02'):   0%|          | 0/20000 [00:00<?, ?it/s]"
      ]
     },
     "metadata": {},
     "output_type": "display_data"
    },
    {
     "data": {
      "application/vnd.jupyter.widget-view+json": {
       "model_id": "7bbdd326b02346ea8e7f85a064319f6f",
       "version_major": 2,
       "version_minor": 0
      },
      "text/plain": [
       "p=('1.00e-02', '1.00e-01'):   0%|          | 0/20000 [00:00<?, ?it/s]"
      ]
     },
     "metadata": {},
     "output_type": "display_data"
    },
    {
     "name": "stdout",
     "output_type": "stream",
     "text": [
      "--- Subset sampling ---\n"
     ]
    },
    {
     "data": {
      "application/vnd.jupyter.widget-view+json": {
       "model_id": "cb56b7ff9797486281361f7118761854",
       "version_major": 2,
       "version_minor": 0
      },
      "text/plain": [
       "p=('1.00e-03', '1.00e-02'):   0%|          | 0/2000 [00:00<?, ?it/s]"
      ]
     },
     "metadata": {},
     "output_type": "display_data"
    },
    {
     "data": {
      "text/plain": [
       "Text(0.5, 0, '$p$')"
      ]
     },
     "execution_count": null,
     "metadata": {},
     "output_type": "execute_result"
    },
    {
     "data": {
      "image/png": "[encoded data removed]",
      "text/plain": [
       "<Figure size 432x288 with 1 Axes>"
      ]
     },
     "metadata": {
      "needs_background": "light"
     },
     "output_type": "display_data"
    }
   ],
   "source": [
    "#| slow\n",
    "\n",
    "# Sampling parameters\n",
    "\n",
    "sample_range = np.logspace(-3,-1,5)\n",
    "err_params = {'q1': sample_range/10, 'q2': sample_range}\n",
    "err_model = qs.noise.S2\n",
    "CHP = qs.StabilizerSimulator\n",
    "p_max = {'q1': 1e-3, 'q2': 1e-2}\n",
    "\n",
    "# Direct MC sampling\n",
    "\n",
    "print(\"--- Direct MC sampling ---\")\n",
    "\n",
    "mc_sam = qs.DirectSampler(steane0, CHP, err_params=err_params, err_model=err_model)\n",
    "mc_sam.run(20000)\n",
    "\n",
    "print(\"--- Subset sampling ---\")\n",
    "\n",
    "ss_sam = qs.SubsetSampler(steane0, CHP,  p_max=p_max, err_model=err_model, err_params=err_params, L=3)\n",
    "ss_sam.run(2000)\n",
    "\n",
    "# Plot results\n",
    "\n",
    "p_L, std = mc_sam.stats()\n",
    "p_L_low, ss_std_low, p_L_up, ss_std_up = ss_sam.stats()\n",
    "\n",
    "plt.errorbar(sample_range, p_L, fmt='--', c=\"black\", yerr=std, label=\"Direct MC\")\n",
    "plt.loglog(sample_range, p_L_low, label='SS low')\n",
    "plt.fill_between(sample_range, p_L_low-ss_std_low, p_L_low+ss_std_low, alpha=0.2)\n",
    "plt.loglog(sample_range, p_L_up, label='SS low')\n",
    "plt.fill_between(sample_range, p_L_up-ss_std_up, p_L_up+ss_std_up, alpha=0.2)\n",
    "plt.ylabel('$p_L$')\n",
    "plt.xlabel('$p$')"
   ]
  },
  {
   "cell_type": "markdown",
   "id": "fcf5ed77-a143-4bea-b19a-d4ff155214cc",
   "metadata": {},
   "source": [
    "## 3. Flag-FT stabilizer $|0\\rangle_L$ measurement"
   ]
  },
  {
   "cell_type": "markdown",
   "id": "b379041b-353f-457c-89f1-0a190084c765",
   "metadata": {},
   "source": [
    "See section 3D in paper"
   ]
  },
  {
   "cell_type": "code",
   "execution_count": null,
   "id": "173ba448-b8d4-4f5d-8575-cd7ce3c9f7aa",
   "metadata": {},
   "outputs": [],
   "source": [
    "#| export\n",
    "\n",
    "fmx_1 = qs.Circuit([{\"init\": {8,9}},\n",
    "                    {\"H\": {8}},\n",
    "                    {\"CNOT\": {(8,3)}},\n",
    "                    {\"CNOT\": {(8,9)}},\n",
    "                    {\"CNOT\": {(8,4)}},\n",
    "                    {\"CNOT\": {(8,5)}},\n",
    "                    {\"CNOT\": {(8,9)}},\n",
    "                    {\"CNOT\": {(8,6)}},\n",
    "                    {\"H\": {8}},\n",
    "                    {\"measure\": {8,9}}])\n",
    "\n",
    "fmx_2 = qs.Circuit([{\"init\": {8,9}},\n",
    "                    {\"H\": {8}},\n",
    "                    {\"CNOT\": {(8,0)}},\n",
    "                    {\"CNOT\": {(8,9)}},\n",
    "                    {\"CNOT\": {(8,2)}},\n",
    "                    {\"CNOT\": {(8,4)}},\n",
    "                    {\"CNOT\": {(8,9)}},\n",
    "                    {\"CNOT\": {(8,6)}},\n",
    "                    {\"H\": {8}},\n",
    "                    {\"measure\": {8,9}}])\n",
    "\n",
    "fmx_3 = qs.Circuit([{\"init\": {8,9}},\n",
    "                    {\"H\": {8}},\n",
    "                    {\"CNOT\": {(8,1)}},\n",
    "                    {\"CNOT\": {(8,9)}},\n",
    "                    {\"CNOT\": {(8,2)}},\n",
    "                    {\"CNOT\": {(8,5)}},\n",
    "                    {\"CNOT\": {(8,9)}},\n",
    "                    {\"CNOT\": {(8,6)}},\n",
    "                    {\"H\": {8}},\n",
    "                    {\"measure\": {8,9}}])\n",
    "\n",
    "nfs = qs.Circuit([  {\"init\": {7,8,9}},\n",
    "                    {\"H\": {7,8,9}},\n",
    "                    {\"CNOT\": {(7,3)}},\n",
    "                    {\"CNOT\": {(7,4)}},\n",
    "                    {\"CNOT\": {(7,5)}},\n",
    "                    {\"CNOT\": {(7,6)}},\n",
    "                    {\"CNOT\": {(8,0)}},\n",
    "                    {\"CNOT\": {(8,2)}},\n",
    "                    {\"CNOT\": {(8,4)}},\n",
    "                    {\"CNOT\": {(8,6)}},\n",
    "                    {\"CNOT\": {(9,1)}},\n",
    "                    {\"CNOT\": {(9,2)}},\n",
    "                    {\"CNOT\": {(9,5)}},\n",
    "                    {\"CNOT\": {(9,6)}},\n",
    "                    {\"H\": {7,8,9}},\n",
    "                    {\"measure\": {7,8,9}},\n",
    "                    {\"init\": {7,8,9}},\n",
    "                    {\"CNOT\": {(3,7)}},\n",
    "                    {\"CNOT\": {(4,7)}},\n",
    "                    {\"CNOT\": {(5,7)}},\n",
    "                    {\"CNOT\": {(6,7)}},\n",
    "                    {\"CNOT\": {(0,8)}},\n",
    "                    {\"CNOT\": {(2,8)}},\n",
    "                    {\"CNOT\": {(4,8)}},\n",
    "                    {\"CNOT\": {(6,8)}},\n",
    "                    {\"CNOT\": {(1,9)}},\n",
    "                    {\"CNOT\": {(2,9)}},\n",
    "                    {\"CNOT\": {(5,9)}},\n",
    "                    {\"CNOT\": {(6,9)}},\n",
    "                    {\"measure\": {7,8,9}} ])\n",
    "\n",
    "# transitions\n",
    "\n",
    "def flagged(m):\n",
    "    v = [0b01] in m or [0b11] in m if m is not None else False\n",
    "    return v\n",
    "\n",
    "def flut(m, f1a, f1b, f2a, f2b, f3a, f3b):\n",
    "    formatter = lambda i,m: str(format(m, '06b')[i])\n",
    "\n",
    "    sx = ''.join([formatter(i,m) for i in range(3)])\n",
    "    sz = ''.join([formatter(i,m) for i in range(3,6)])\n",
    "\n",
    "    if (sz == '001' and flagged([f2a,f2b])) or (sz == '010' and (flagged([f1a,f1b]) or flagged([f3a,f3b]))):\n",
    "        corrs = {'010': {5, 6}, '001': {4, 6}}\n",
    "        return qs.Circuit([{'X': corrs[sz]}], noisy=False)\n",
    "    else: \n",
    "        return qs.Circuit([{}], noisy=False)\n",
    "\n",
    "def rep_check(m):\n",
    "    # no flag triggered, run second round regardless of syndrome\n",
    "    return m[-1] == 0b00 or m[-1] == 0b10\n",
    "\n",
    "def nft_check1(m):\n",
    "    # flag triggered in first or second round OR no flag triggered, syndromes disagree in second round\n",
    "    return (m[-1] == 0b01 or m[-1] == 0b11 or (m[-1] == 0b01) or m[-1] == 0b11)\n",
    "\n",
    "def nft_check2(m1,m2):\n",
    "    return (m2[-1] == 0b00 and m1[-1] == 0b10) or (m2[-1] == 0b10 and m1[-1] == 0b00) or (m2[-1] == 0b01 or m2[-1] == 0b11)\n",
    "\n",
    "def syn_check(m1,m2):\n",
    "    # no flag triggered, syndromes agree in second round\n",
    "    return (m2[-1] == 0b00 and m1[-1] == 0b00) or (m2[-1] == 0b10 and m1[-1] == 0b10)\n",
    "\n",
    "functions = {\"logErr\": logErr, \"flut\": flut, \"rep_check\": rep_check, \"nft_check1\": nft_check1, 'nft_check2': nft_check2, \"syn_check\": syn_check}\n",
    "\n",
    "# Define protocol\n",
    "\n",
    "flagstab = qs.Protocol(check_functions=functions, fault_tolerant=True)\n",
    "flagstab.add_nodes_from(['X1a', 'X1b', 'X2a', 'X2b', 'X3a', 'X3b', 'nonFT', 'meas'], circuits=[fmx_1, fmx_1, fmx_2,fmx_2, fmx_3,fmx_3, nfs, meas7])\n",
    "flagstab.add_node('COR')\n",
    "flagstab.add_edge('START', 'X1a', check='True')\n",
    "\n",
    "# no flag triggered, run second round regardless of syndrome\n",
    "flagstab.add_edge('X1a', 'X2a', check='rep_check(X1a)')\n",
    "flagstab.add_edge('X2a', 'X3a', check='rep_check(X2a)')\n",
    "flagstab.add_edge('X3a', 'X1b', check='rep_check(X3a)')\n",
    "\n",
    "# flag triggered in first or second round OR no flag triggered, syndromes disagree in second round\n",
    "flagstab.add_edge('X1b', 'nonFT', check='nft_check2(X1a,X1b)')\n",
    "flagstab.add_edge('X2b', 'nonFT', check='nft_check2(X2a,X2b)')\n",
    "flagstab.add_edge('X3b', 'nonFT', check='nft_check2(X3a,X3b)')\n",
    "\n",
    "# flag triggered in first or second round OR no flag triggered, syndromes disagree in second round\n",
    "flagstab.add_edge('X1a', 'nonFT', check='nft_check1(X1a)')\n",
    "flagstab.add_edge('X2a', 'nonFT', check='nft_check1(X2a)')\n",
    "flagstab.add_edge('X3a', 'nonFT', check='nft_check1(X3a)')\n",
    "\n",
    "# no flag triggered, syndromes agree in second round\n",
    "flagstab.add_edge('X1b', 'X2b', check='syn_check(X1a,X1b)')\n",
    "flagstab.add_edge('X2b', 'X3b', check='syn_check(X2a,X2b)')\n",
    "flagstab.add_edge('X3b', 'meas', check='syn_check(X3a,X3b)')\n",
    "\n",
    "# apply flag correction after nonFT if a flag was triggered\n",
    "flagstab.add_edge('nonFT', 'COR', check='flut(nonFT[-1], X1a,X1b, X2a,X2b, X3a,X3b)')\n",
    "flagstab.add_edge('COR', 'meas', check='True')\n",
    "flagstab.add_edge('meas', 'FAIL', check='logErr(meas[-1])')"
   ]
  },
  {
   "cell_type": "code",
   "execution_count": null,
   "id": "fc29fecd-9904-4d19-966b-5a6cecf5836a",
   "metadata": {},
   "outputs": [
    {
     "name": "stdout",
     "output_type": "stream",
     "text": [
      "--- Direct MC sampling ---\n"
     ]
    },
    {
     "data": {
      "application/vnd.jupyter.widget-view+json": {
       "model_id": "24e555483ef14acfbcaaa6279a9dba8d",
       "version_major": 2,
       "version_minor": 0
      },
      "text/plain": [
       "p=('1.00e-03',):   0%|          | 0/10000 [00:00<?, ?it/s]"
      ]
     },
     "metadata": {},
     "output_type": "display_data"
    },
    {
     "data": {
      "application/vnd.jupyter.widget-view+json": {
       "model_id": "3e9fd98cba8141f0a42191cbc9cc2d69",
       "version_major": 2,
       "version_minor": 0
      },
      "text/plain": [
       "p=('5.62e-03',):   0%|          | 0/10000 [00:00<?, ?it/s]"
      ]
     },
     "metadata": {},
     "output_type": "display_data"
    },
    {
     "data": {
      "application/vnd.jupyter.widget-view+json": {
       "model_id": "7fe6f27a70fa40ff922f2b470bd3f376",
       "version_major": 2,
       "version_minor": 0
      },
      "text/plain": [
       "p=('3.16e-02',):   0%|          | 0/10000 [00:00<?, ?it/s]"
      ]
     },
     "metadata": {},
     "output_type": "display_data"
    },
    {
     "data": {
      "application/vnd.jupyter.widget-view+json": {
       "model_id": "baee418f36c14b4386a2226bb755c38e",
       "version_major": 2,
       "version_minor": 0
      },
      "text/plain": [
       "p=('1.78e-01',):   0%|          | 0/10000 [00:00<?, ?it/s]"
      ]
     },
     "metadata": {},
     "output_type": "display_data"
    },
    {
     "data": {
      "application/vnd.jupyter.widget-view+json": {
       "model_id": "d4c8752a857a4be5aed7088dcbf5463f",
       "version_major": 2,
       "version_minor": 0
      },
      "text/plain": [
       "p=('1.00e+00',):   0%|          | 0/10000 [00:00<?, ?it/s]"
      ]
     },
     "metadata": {},
     "output_type": "display_data"
    },
    {
     "name": "stdout",
     "output_type": "stream",
     "text": [
      "--- Subset sampling ---\n"
     ]
    },
    {
     "data": {
      "application/vnd.jupyter.widget-view+json": {
       "model_id": "18c9774934964e68b2ba6bf40fdcb9d7",
       "version_major": 2,
       "version_minor": 0
      },
      "text/plain": [
       "p=('1.00e-02',):   0%|          | 0/10000 [00:00<?, ?it/s]"
      ]
     },
     "metadata": {},
     "output_type": "display_data"
    },
    {
     "data": {
      "text/plain": [
       "Text(0.5, 0, '$p$')"
      ]
     },
     "execution_count": null,
     "metadata": {},
     "output_type": "execute_result"
    },
    {
     "data": {
      "image/png": "[encoded data removed]",
      "text/plain": [
       "<Figure size 432x288 with 1 Axes>"
      ]
     },
     "metadata": {
      "needs_background": "light"
     },
     "output_type": "display_data"
    }
   ],
   "source": [
    "#| slow\n",
    "\n",
    "# Sampling parameters\n",
    "\n",
    "# sample_range = np.logspace(-4,-1,7)\n",
    "sample_range = np.logspace(-3,0,5)\n",
    "err_params = {'q': sample_range}\n",
    "err_model = qs.noise.S1\n",
    "CHP = qs.StabilizerSimulator\n",
    "p_max = {'q': 1e-2}\n",
    "\n",
    "# Direct MC sampling\n",
    "\n",
    "print(\"--- Direct MC sampling ---\")\n",
    "\n",
    "mc_sam = qs.DirectSampler(flagstab, CHP, err_params=err_params, err_model=err_model)\n",
    "mc_sam.run(10000)\n",
    "\n",
    "print(\"--- Subset sampling ---\")\n",
    "\n",
    "ss_sam = qs.SubsetSampler(flagstab, CHP,  p_max=p_max, err_model=err_model, err_params=err_params, L=8)\n",
    "ss_sam.run(10000)\n",
    "\n",
    "# Plot results\n",
    "\n",
    "p_L, std = mc_sam.stats()\n",
    "p_L_low, ss_std_low, p_L_up, ss_std_up = ss_sam.stats()\n",
    "\n",
    "plt.errorbar(sample_range, p_L, fmt='--', c=\"black\", yerr=std, label=\"Direct MC\")\n",
    "plt.loglog(sample_range, p_L_low, label='SS low')\n",
    "plt.fill_between(sample_range, p_L_low-ss_std_low, p_L_low+ss_std_low, alpha=0.2)\n",
    "plt.loglog(sample_range, p_L_up, label='SS low')\n",
    "plt.fill_between(sample_range, p_L_up-ss_std_up, p_L_up+ss_std_up, alpha=0.2)\n",
    "plt.ylabel('$p_L$')\n",
    "plt.xlabel('$p$')"
   ]
  }
 ],
 "metadata": {
  "kernelspec": {
   "display_name": "python3",
   "language": "python",
   "name": "python3"
  }
 },
 "nbformat": 4,
 "nbformat_minor": 5
}
