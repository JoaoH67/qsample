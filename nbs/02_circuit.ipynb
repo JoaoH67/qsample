{
 "cells": [
  {
   "cell_type": "raw",
   "id": "59862b73",
   "metadata": {},
   "source": [
    "---\n",
    "description: Representation of a quantum circuit.\n",
    "output-file: circuit.html\n",
    "title: Circuit\n",
    "\n",
    "---\n",
    "\n"
   ]
  },
  {
   "cell_type": "code",
   "execution_count": null,
   "id": "d7700484-77e8-4660-8c78-803659a31024",
   "metadata": {},
   "outputs": [],
   "source": [
    "#| default_exp circuit"
   ]
  },
  {
   "cell_type": "code",
   "execution_count": null,
   "id": "e4b23ccb-a798-4944-8b35-5958bd8a3934",
   "metadata": {},
   "outputs": [],
   "source": [
    "#| include: false\n",
    "from nbdev.showdoc import *"
   ]
  },
  {
   "cell_type": "code",
   "execution_count": null,
   "id": "6e0294e1-5f6d-4922-a0bb-7528a815f942",
   "metadata": {},
   "outputs": [],
   "source": [
    "#| export\n",
    "from collections.abc import MutableSequence\n",
    "from functools import cached_property\n",
    "from hashlib import sha1\n",
    "import latextools"
   ]
  },
  {
   "cell_type": "code",
   "execution_count": null,
   "id": "b4e47963-b371-45fc-af8a-d3b704a6de4b",
   "metadata": {},
   "outputs": [],
   "source": [
    "#| export\n",
    "GATES = {\n",
    "    \"init\": {\"init\"},\n",
    "    \"q1\": {\"I\", \"X\", \"Y\", \"Z\", \"H\", \"T\", \"Q\", \"Qd\", \"S\", \"Sd\", \"R\", \"Rd\", \"Rx\", \"Ry\", \"Rz\"},\n",
    "    \"q2\": {\"CNOT\", \"MSd\"},\n",
    "    \"meas\": {\"measure\"}\n",
    "}"
   ]
  },
  {
   "cell_type": "code",
   "execution_count": null,
   "id": "ba3829b7-b5f2-4836-bcf6-b09f82d9367c",
   "metadata": {},
   "outputs": [],
   "source": [
    "#| export\n",
    "def unpack(seq):\n",
    "    \"\"\"Generator for all qubits defined in a circuit or tick\"\"\"\n",
    "    \n",
    "    if isinstance(seq, (tuple,set,list,Circuit)):\n",
    "        yield from (x for y in seq for x in unpack(y))\n",
    "    elif isinstance(seq, dict):\n",
    "        yield from (x for v in seq.values() for y in v for x in unpack(y))\n",
    "    else:\n",
    "        yield seq"
   ]
  },
  {
   "cell_type": "code",
   "execution_count": null,
   "id": "c01c85c3-0310-442e-8d2d-ea5130a59d2f",
   "metadata": {},
   "outputs": [],
   "source": [
    "#| export\n",
    "class Circuit(MutableSequence):\n",
    "    \"\"\"Representation of a quantum circuit\"\"\"\n",
    "    \n",
    "    def __init__(self, ticks=None, noisy=True, ff_det=False):\n",
    "        self._ticks = ticks if ticks else []\n",
    "        self._noisy = noisy\n",
    "        self._ff_det = ff_det # fault-free deterministic\n",
    "        \n",
    "    def __getitem__(self, tick_index):\n",
    "        return self._ticks[tick_index]\n",
    "    \n",
    "    def __setitem__(self, tick_index, tick):\n",
    "        self._ticks[tick_index] = tick\n",
    "        \n",
    "    def __delitem__(self, tick_index):\n",
    "        del self._ticks[tick_index]\n",
    "        \n",
    "    def __len__(self):\n",
    "        return len(self._ticks)\n",
    "    \n",
    "    def insert(self, tick_index, tick):\n",
    "        self._ticks.insert(tick_index, tick)\n",
    "    \n",
    "    def __str__(self):\n",
    "        str_list = []\n",
    "        for i, tick in enumerate(self._ticks):\n",
    "            str_list.append(f\"{i}: {str(tick)}\")\n",
    "        return \"\\n\".join(str_list)\n",
    "    \n",
    "    def __repr__(self):\n",
    "        return self.__str__()\n",
    "    \n",
    "    @cached_property\n",
    "    def qubits(self):  \n",
    "        \"\"\"Set of qubits used in circuit\"\"\"\n",
    "        return set(unpack(self._ticks))\n",
    "    \n",
    "    @cached_property\n",
    "    def n_qubits(self):\n",
    "        \"\"\"Number of qubits used in circuit\"\"\"\n",
    "        return len(self.qubits)\n",
    "    \n",
    "    @cached_property\n",
    "    def n_ticks(self):\n",
    "        \"\"\"Number of ticks\"\"\"\n",
    "        return len(self._ticks)\n",
    "    \n",
    "    @property\n",
    "    def id(self):\n",
    "        return sha1((repr(self)).encode('UTF-8')).hexdigest()[:5]\n",
    "\n",
    "    def draw(self, path=None, scale=2):\n",
    "\n",
    "        n_qubits = max(unpack(self)) + 1\n",
    "        cmat = [[\"\",\"\"] + [r\"\\qw\" for _ in range(self.n_ticks - 1)] for _ in range(n_qubits)]\n",
    "\n",
    "        for col, tick in enumerate(self,1):\n",
    "            for gate, qbs in tick.items():\n",
    "                if gate in GATES['q2']:\n",
    "                    for qbtup in qbs:\n",
    "                        ctrl, targ = qbtup[0], qbtup[1]\n",
    "                        delta = targ - ctrl\n",
    "\n",
    "                        cmat[ctrl][col] = r\"\\ctrl{%d}\" % delta\n",
    "                        sym = r\"\\targ\" if gate == \"CNOT\" else r\"\\gate{%s}\" % gate\n",
    "                        cmat[targ][col] = sym\n",
    "                    continue\n",
    "                elif gate == \"measure\": sym = r\"\\meter\"\n",
    "                elif gate == \"init\": sym = r\"\\push{\\ket{0}}\"\n",
    "\n",
    "                elif gate in GATES['q1']: \n",
    "                    sym = r\"\\gate{%s}\" % gate\n",
    "                else:\n",
    "                    raise Exception(f'Unknown gate {gate}')\n",
    "                \n",
    "                for row in qbs:\n",
    "                    cmat[row][col] = sym\n",
    "\n",
    "        tex_str = r\"\\\\\".join([\" & \".join([e for e in row]) for row in cmat])\n",
    "        pdf = latextools.render_qcircuit(tex_str, const_row=False, const_col=True)\n",
    "        svg = pdf.as_svg().as_drawing(scale=scale)\n",
    "        if path: \n",
    "            svg.saveSvg(path)\n",
    "        try:\n",
    "            from IPython.display import Image, display\n",
    "            return display( svg )\n",
    "        except:\n",
    "            print('Image can only be drawn in Jupyter notebook.')"
   ]
  },
  {
   "cell_type": "code",
   "execution_count": null,
   "id": "f4194536-2ed4-4d11-8d76-e674e17eab76",
   "metadata": {},
   "outputs": [
    {
     "data": {
      "text/plain": [
       "('bceb2', '04f89', 'b597e', 'da39a')"
      ]
     },
     "execution_count": null,
     "metadata": {},
     "output_type": "execute_result"
    }
   ],
   "source": [
    "# Tests\n",
    "\n",
    "c1 = Circuit(ticks=[{'Z': {0}}])\n",
    "c2 = Circuit(ticks=[{'X': {3}}])\n",
    "c3 = Circuit(ticks=[{'X': {3}}, {'Z': {0}}])\n",
    "c4 = Circuit(ticks=[])\n",
    "assert(c1.id != c2.id != c3.id != c4.id)\n",
    "c1.id, c2.id, c3.id, c4.id"
   ]
  }
 ],
 "metadata": {
  "kernelspec": {
   "display_name": "python3",
   "language": "python",
   "name": "python3"
  }
 },
 "nbformat": 4,
 "nbformat_minor": 5
}
