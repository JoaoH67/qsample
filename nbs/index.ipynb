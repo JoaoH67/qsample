{
 "cells": [
  {
   "cell_type": "raw",
   "id": "daf63c9b",
   "metadata": {},
   "source": [
    "---\n",
    "description: Efficient sampling of noisy quantum circuits and protocols\n",
    "output-file: index.html\n",
    "title: qsample\n",
    "\n",
    "skip_showdoc: true\n",
    "skip_exec: true\n",
    "---"
   ]
  },
  {
   "cell_type": "code",
   "execution_count": null,
   "id": "d9fd7ab6-42c0-4473-8c71-2cc2f548cf96",
   "metadata": {},
   "outputs": [],
   "source": [
    "#| include: false\n",
    "import matplotlib.pyplot as plt\n",
    "import numpy as np"
   ]
  },
  {
   "cell_type": "markdown",
   "id": "a34c555b-ae2a-41a1-abc3-b8b4e5bf1411",
   "metadata": {},
   "source": [
    "## Install"
   ]
  },
  {
   "cell_type": "markdown",
   "id": "e6801c0c-cdfe-4aea-a925-133a5df793c4",
   "metadata": {},
   "source": [
    "```\n",
    "pip install qsample\n",
    "```"
   ]
  },
  {
   "cell_type": "markdown",
   "id": "562711f7",
   "metadata": {},
   "source": [
    "## Prerequisites "
   ]
  },
  {
   "cell_type": "markdown",
   "id": "06c3e9d0-deb0-4e91-aea3-8020abec514e",
   "metadata": {},
   "source": [
    "* This package requires Python 3.9 or higher.   \n",
    "* pdflatex (for circuit rendering)  "
   ]
  },
  {
   "cell_type": "markdown",
   "id": "7543f28d",
   "metadata": {},
   "source": [
    "## When to use"
   ]
  },
  {
   "cell_type": "markdown",
   "id": "f29bbae7",
   "metadata": {},
   "source": [
    "This package is for you if you want to  \n",
    "* model circuit-level incoherent Pauli noise (we don't do coherent noise here, neither are our auxiliary qubits modelled as ideal)   \n",
    "* with high fidelity physical operations aka low physical error rates  \n",
    "* for a QEC protocol that consists of execution of one or more quantum circuits with in-sequence measurements and feed-forward of measurement information  \n",
    "* over a specific range of varying physical error rates  "
   ]
  },
  {
   "cell_type": "markdown",
   "id": "5197a838-c0c9-4e68-85db-870d8f75dba1",
   "metadata": {},
   "source": [
    "## Getting started\n",
    "---"
   ]
  },
  {
   "cell_type": "markdown",
   "id": "e0c9af8e-3da1-4bf8-98c6-5a3509de117f",
   "metadata": {},
   "source": [
    "### Library overview\n",
    "1. Circuit\n",
    "2. Protocol\n",
    "3. Error Model\n",
    "4. Simulator\n",
    "5. Sampler    \n",
    "    5.1. Direct Sampler  \n",
    "    5.2. Interlude: Callbacks  \n",
    "    5.3. Subset Sampler  "
   ]
  },
  {
   "cell_type": "markdown",
   "id": "1408d2ef",
   "metadata": {},
   "source": [
    "### 1. Circuit \n",
    "* List of ticks\n",
    "* Each tick is a dictionary, key: gate type, value: set of qubit(s)\n",
    "* Recommended: 1 gate type per tick"
   ]
  },
  {
   "cell_type": "markdown",
   "id": "5bb1701d",
   "metadata": {},
   "source": [
    "**Example:** Flagged-GHZ preparation:\n",
    "* Produce GHZ state on qubits 0-3  \n",
    "* Flag-qubit 4, measure:  \n",
    "    * 0: error-free*  \n",
    "    * 1: flip on one data qubit*  \n",
    "\n",
    "\\* Only for max. 1 allowed fault."
   ]
  },
  {
   "cell_type": "code",
   "execution_count": null,
   "id": "e0e953e7-0d9e-45d4-86c7-4af7e27bad07",
   "metadata": {},
   "outputs": [],
   "source": [
    "from qsample import Circuit"
   ]
  },
  {
   "cell_type": "code",
   "execution_count": null,
   "id": "32a58d53",
   "metadata": {},
   "outputs": [],
   "source": [
    "ghz = Circuit([ {\"init\": {0,1,2,3,4}},\n",
    "                {\"H\": {0}},\n",
    "                {\"CNOT\": {(0,1)}},\n",
    "                {\"CNOT\": {(1,2)}},\n",
    "                {\"CNOT\": {(2,3)}},\n",
    "                {\"CNOT\": {(3,4)}},\n",
    "                {\"CNOT\": {(0,4)}},\n",
    "                {\"measure\": {4}}], ff_det=True)"
   ]
  },
  {
   "cell_type": "markdown",
   "id": "812b29b3",
   "metadata": {},
   "source": [
    "**ff_det**: fault-free deterministic. Set to `True` if circuit gives unique measurement result when executed without faults."
   ]
  },
  {
   "cell_type": "code",
   "execution_count": null,
   "id": "e1fb5d66-e1b2-4d8d-8525-32462d856ebe",
   "metadata": {},
   "outputs": [],
   "source": [
    "ghz.draw()"
   ]
  },
  {
   "cell_type": "markdown",
   "id": "17d69311",
   "metadata": {},
   "source": [
    "### 2. Protocol"
   ]
  },
  {
   "cell_type": "markdown",
   "id": "6aa60a8d",
   "metadata": {},
   "source": [
    "* Graph (can be cyclic)\n",
    "    * Vertices: Circuits\n",
    "    * Edges: transition rules = boolean\\* functions (*checks*)\n",
    "    * Must include **start** and **end** nodes.  \n",
    "    \n",
    "\\* Exception: Correction functions can return circuits for on-the-fly execution. (special case, will not show here)"
   ]
  },
  {
   "cell_type": "markdown",
   "id": "d560573d-48c2-4714-9d0d-245baccebc86",
   "metadata": {},
   "source": [
    "**Example:** Flagged-GHZ repeat(3)-until-success  \n",
    "* Execute flagged-GHZ circuit max. 3 times.  \n",
    "* Only repeat if measured `1`.  \n",
    "* If measured flag to be `0` within 3 iteration -> No fail  \n",
    "* If after 2 iterations 3rd measurement is also `1` -> Fail  "
   ]
  },
  {
   "cell_type": "code",
   "execution_count": null,
   "id": "1181ae78-81b3-4ba4-9a49-442fd3bcf681",
   "metadata": {},
   "outputs": [],
   "source": [
    "from qsample import Protocol"
   ]
  },
  {
   "cell_type": "code",
   "execution_count": null,
   "id": "6b830ec6",
   "metadata": {},
   "outputs": [],
   "source": [
    "ghz3 = Protocol(fault_tolerant=True)\n",
    "\n",
    "ghz3.add_node('ghz', circuit=ghz) # Add node with corresponding circuit\n",
    "ghz3.add_edge('START', 'ghz', check='True') # Transition START -> first circuit node always True\n",
    "ghz3.add_edge('ghz', 'ghz', check='repeat(ghz)') # Transition to ghz if repeat(ghz) True.\n",
    "ghz3.add_edge('ghz', 'FAIL', check='logErr(ghz)') # Transition to final node FAIL if logErr(ghz) True."
   ]
  },
  {
   "cell_type": "markdown",
   "id": "9e3afa47-88df-411c-969b-fb168fc139a8",
   "metadata": {},
   "source": [
    "**fault_tolerant:** Define all weight-1 paths (circuit sequence with max. 1 fault) to never result in a logical fail."
   ]
  },
  {
   "cell_type": "code",
   "execution_count": null,
   "id": "6ddd5162-7e5a-43e9-b929-92f14fd742f2",
   "metadata": {},
   "outputs": [],
   "source": [
    "ghz3.draw()"
   ]
  },
  {
   "cell_type": "markdown",
   "id": "a314ea92-82bd-43a2-9e67-ddf4e21f2d6c",
   "metadata": {},
   "source": [
    "* `repeat()` and `logErr()` are user-defined (boolean) check functions  \n",
    "* Measurement history of circuits stored during for protocol run  \n",
    "    * Can access measurement history of any circuit by passing its name as argument  \n",
    "    \n",
    "Next, we define what the two check functions should do:"
   ]
  },
  {
   "cell_type": "code",
   "execution_count": null,
   "id": "586a406b-abc8-4803-912d-fadd0385b140",
   "metadata": {},
   "outputs": [],
   "source": [
    "def repeat(msmt_list): # arg: list of ghz's measurment history\n",
    "    return len(msmt_list) < 3 and msmt_list[-1] == 1 # If True repeat ghz\n",
    "\n",
    "def logErr(msmt_list):\n",
    "    return len(msmt_list) == 3 and msmt_list[-1] == 1 # If True transition to `FAIL`\n",
    "\n",
    "functions = {'logErr': logErr, 'repeat': repeat}\n",
    "ghz3._check_fns.update(functions) # Let protocol know about user-defined checks"
   ]
  },
  {
   "cell_type": "markdown",
   "id": "5c1102c5-117a-4c66-b02b-b64331770ac2",
   "metadata": {},
   "source": [
    "**Note**: It is also possible that **all checks are false**. In this case the protocol exits \"insignficantly\".  \n",
    "Here: \"insignificant\" when Flag=0 within 3 protocol runs -> Go to next protocol run, i.e. sample."
   ]
  },
  {
   "cell_type": "markdown",
   "id": "2143b9b5-7495-41bc-9832-fd70fe416c52",
   "metadata": {},
   "source": [
    "### 3. Error model\n",
    "* Strategy:  \n",
    "    * Generate *fault* circuit $C_f$ of same length as reference circuit $C$  \n",
    "    * During simulation iterate $C$ and $C_f$ simulateously and apply to state  \n",
    "* Must include:  \n",
    "    * `group()`: group circuit locations by key, e.g. all 1-qubit-gates  \n",
    "    * `select()`: picks certain amount of locations from each group (not required by user)  \n",
    "    * `generate()`: generator function, returns a Pauli fault operator for given location  "
   ]
  },
  {
   "cell_type": "code",
   "execution_count": null,
   "id": "f4bc7b06-b012-49d2-878a-db9229361618",
   "metadata": {},
   "outputs": [],
   "source": [
    "from qsample import E1\n",
    "\n",
    "E1.groups, E1().group(ghz) # All gates in group `q`"
   ]
  },
  {
   "cell_type": "markdown",
   "id": "4a31320c-3498-466c-ab1f-903c56982eff",
   "metadata": {},
   "source": [
    "### 4. Simulator\n",
    "* Two types available: Stabilizer (CHP) and Statevectors (ProjectQ port), both well-tested\n",
    "    * https://github.com/Strilanc/python-chp-stabilizer-simulator\n",
    "    * https://github.com/ProjectQ-Framework/ProjectQ\n",
    "* Statevector simulator has more available gates and functions"
   ]
  },
  {
   "cell_type": "code",
   "execution_count": null,
   "id": "5161b196-0005-4c27-8f2d-d7701b7507c6",
   "metadata": {},
   "outputs": [],
   "source": [
    "from qsample import StabilizerSimulator as CHP"
   ]
  },
  {
   "cell_type": "markdown",
   "id": "c4949246-1954-42e8-9cf1-9d02bcdc3513",
   "metadata": {},
   "source": [
    "### 5. Sampler\n",
    "* Two types: Direct (Monte Carlo) and Subset sampler\n",
    "* All relevant information stored in `CountTree` data structure"
   ]
  },
  {
   "cell_type": "markdown",
   "id": "8fd0b76f-f6e7-43d8-9c4a-365c4fd2f362",
   "metadata": {},
   "source": [
    "### 5.1. Direct sampler"
   ]
  },
  {
   "cell_type": "code",
   "execution_count": null,
   "id": "9c98ecf3-bdc4-4e03-93f2-8ddd5ecba540",
   "metadata": {},
   "outputs": [],
   "source": [
    "from qsample import DirectSampler\n",
    "import numpy as np\n",
    "import matplotlib.pyplot as plt"
   ]
  },
  {
   "cell_type": "markdown",
   "id": "1f2cdd78-c393-48ab-9378-aff6303121a2",
   "metadata": {},
   "source": [
    "Let's define some physical error rates at which to sample:"
   ]
  },
  {
   "cell_type": "code",
   "execution_count": null,
   "id": "c2d1d7c7-f2ee-433f-9dbb-10e38e30346b",
   "metadata": {},
   "outputs": [],
   "source": [
    "sample_range = np.logspace(-3,0,5)\n",
    "err_probs = {'q': sample_range} # Note: Must provide rate(s) for each group specified in `ErrorModel`\n",
    "err_probs"
   ]
  },
  {
   "cell_type": "code",
   "execution_count": null,
   "id": "c196906c-647f-408b-9806-fd0ec9764260",
   "metadata": {},
   "outputs": [],
   "source": [
    "dsam = DirectSampler(protocol=ghz3, simulator=CHP, err_probs=err_probs, err_model=E1)\n",
    "dsam.run(10000)"
   ]
  },
  {
   "cell_type": "code",
   "execution_count": null,
   "id": "b93604d7-9ff0-4ecf-a389-71404e291a1b",
   "metadata": {},
   "outputs": [],
   "source": [
    "p_L, std = dsam.stats()\n",
    "\n",
    "plt.errorbar(sample_range, p_L, fmt='--', c=\"black\", yerr=std, label=\"Direct MC\")\n",
    "plt.plot(sample_range, sample_range,'k:', alpha=0.5)\n",
    "plt.xscale('log')\n",
    "plt.yscale('log')\n",
    "plt.xlabel('$p_{phy}$(q)')\n",
    "plt.ylabel('$p_L$');"
   ]
  },
  {
   "cell_type": "markdown",
   "id": "23a62ead-3da1-4e72-be64-2ff33e044516",
   "metadata": {},
   "source": [
    "Check what has been sampled for the last (1e0) physical error rate:"
   ]
  },
  {
   "cell_type": "code",
   "execution_count": null,
   "id": "5e148f1a-54af-491b-96cb-25991cabefa0",
   "metadata": {},
   "outputs": [],
   "source": [
    "dsam.trees[(1.0,)].draw()"
   ]
  },
  {
   "cell_type": "markdown",
   "id": "ed8178e8-0edd-4df2-8a95-a3830a6843e5",
   "metadata": {},
   "source": [
    "### 5.2. Interlude: Callbacks\n",
    "* Used to receive intermediate results inside sampling process\n",
    "* E.g. we might want to avoid unnecessary samples (at large $p_{phy}$)\n",
    "    * We can use the callback `RelStdTarget`"
   ]
  },
  {
   "cell_type": "code",
   "execution_count": null,
   "id": "e4ddc1b2-ffc8-4b74-955b-730db512fe80",
   "metadata": {},
   "outputs": [],
   "source": [
    "from qsample import callbacks as cb\n",
    "\n",
    "dsam2 = DirectSampler(protocol=ghz3, simulator=CHP, err_probs=err_probs, err_model=E1)\n",
    "dsam2.run(10000, callbacks=[cb.RelStdTarget(target=0.2)])"
   ]
  },
  {
   "cell_type": "markdown",
   "id": "dedc9605-0b06-4ee7-943d-5fa023660f53",
   "metadata": {},
   "source": [
    "Another callback is `VerboseCircuitExec`, which gives a detailed log of which circuits, faults and measurements took place:"
   ]
  },
  {
   "cell_type": "code",
   "execution_count": null,
   "id": "42539255-1485-4543-9bab-a3a1ae7d7af5",
   "metadata": {},
   "outputs": [],
   "source": [
    "dsam3 = DirectSampler(protocol=ghz3, simulator=CHP, err_probs={'q': 0.1}, err_model=E1)\n",
    "dsam3.run(10, callbacks=[cb.VerboseCircuitExec()])"
   ]
  },
  {
   "cell_type": "markdown",
   "id": "d5a43aaa-d818-44d8-84d2-4d673ccc152b",
   "metadata": {},
   "source": [
    "We can also write our own callback. Every sampler has 6 callback hooks:  \n",
    "* Begin/End sampler  \n",
    "* Begin/End protocol  \n",
    "* Begin/End circuit  "
   ]
  },
  {
   "cell_type": "markdown",
   "id": "3a4dc02d-48ee-40bb-b110-739a3903fb40",
   "metadata": {},
   "source": [
    "### 5.3. Subset Sampler\n",
    "* Samples only at one physical error rate `pmax`\n",
    "* Scaling obtained analytically\n",
    "* `pmax` must be chosen in \"representative\" region\n",
    "\n",
    "*Note*:\n",
    "1. For multi-parameter error model `pmax` is a tuple of one physical error rate per group.  \n",
    "2. The choice of `pmax` has a direct impact of which subsets are sampled.  "
   ]
  },
  {
   "cell_type": "markdown",
   "id": "13617fe5-f275-4d2c-b59c-376a31e4df9f",
   "metadata": {},
   "source": [
    "How to choose `pmax`? What is the heuristic?  \n",
    "* We want to sample, s.t. the subset occurence probability is max. for 0-weight subset and subsequently falling for higher order subsets.  \n",
    "* We want to have also relatively high probability for other (important) subsets, i.e. weight-1, weight-2,..  \n",
    "\n",
    "**Example:** For the Flagged-GHZ circuit we would choose a `pmax` close to 0.1:"
   ]
  },
  {
   "cell_type": "code",
   "execution_count": null,
   "id": "da43e8d3-e984-4158-8b06-73aae8807d73",
   "metadata": {},
   "outputs": [],
   "source": [
    "from qsample.sampler.base import subset_occurence, all_subsets, err_probs_tomatrix\n",
    "\n",
    "grp = E1().group(ghz).values()\n",
    "wgts_combis = all_subsets(grp)\n",
    "\n",
    "for p_phy in [0.01, 0.1, 0.3]:\n",
    "    Aws = subset_occurence(grp, wgts_combis, p_phy)\n",
    "    plt.figure()\n",
    "    plt.title(\"Subset occurence prob. $A_w$ at $p_{phy}$=%.2f\" % p_phy)\n",
    "    plt.bar(range(len(Aws)), Aws)\n",
    "    plt.ylabel(\"$A_w$\")\n",
    "    plt.xlabel(\"Subsets\")"
   ]
  },
  {
   "cell_type": "code",
   "execution_count": null,
   "id": "01b910f7-6f1c-4767-9ec4-0d4f69888667",
   "metadata": {},
   "outputs": [],
   "source": [
    "from qsample import SubsetSampler"
   ]
  },
  {
   "cell_type": "code",
   "execution_count": null,
   "id": "75a833c1-7101-40d9-8ec0-6c70f10b9d24",
   "metadata": {},
   "outputs": [],
   "source": [
    "pmax = {'q': 0.1}\n",
    "\n",
    "ss_sam = SubsetSampler(ghz3, CHP,  pmax=pmax, err_probs=err_probs, err_model=E1)\n",
    "ss_sam.run(300)"
   ]
  },
  {
   "cell_type": "markdown",
   "id": "ecfaf503-6f8d-4115-b80d-0e8a81bf909f",
   "metadata": {},
   "source": [
    "*Note*: Although we passed `err_probs` those are not used for sampling. Only when we call `stats()` those probs are used:"
   ]
  },
  {
   "cell_type": "code",
   "execution_count": null,
   "id": "cd3f822b-0208-4af2-aa88-a4bbdffdba41",
   "metadata": {},
   "outputs": [],
   "source": [
    "p_L_low, std_low, p_L_up, std_up = ss_sam.stats()\n",
    "\n",
    "plt.errorbar(sample_range, p_L, fmt='--', c=\"black\", yerr=std, label=\"Direct MC\")\n",
    "plt.loglog(sample_range, p_L_low, label='SS low')\n",
    "plt.fill_between(sample_range, p_L_low - std_low, p_L_low + std_low, alpha=0.2)\n",
    "plt.loglog(sample_range, p_L_up, label='SS low')\n",
    "plt.fill_between(sample_range, p_L_up - std_up, p_L_up + std_up, alpha=0.2)\n",
    "plt.plot(sample_range, sample_range,'k:', alpha=0.5)\n",
    "plt.xlabel('$p_{phy}$(q)')\n",
    "plt.ylabel('$p_L$')\n",
    "plt.legend();"
   ]
  },
  {
   "cell_type": "markdown",
   "id": "a94f1730-648c-49ca-9891-86d007155adc",
   "metadata": {},
   "source": [
    "We sampled at a single error rate with much less samples and get a much better bound on the logical error rate. Let's inspect what has been sampled:"
   ]
  },
  {
   "cell_type": "code",
   "execution_count": null,
   "id": "4c821cec-bd9a-422c-ad3c-a0dfda7be893",
   "metadata": {},
   "outputs": [],
   "source": [
    "ss_sam.tree.draw() # only one tree"
   ]
  },
  {
   "cell_type": "markdown",
   "id": "9e9fe2a7-463e-464f-a6f9-2007463fcc77",
   "metadata": {},
   "source": [
    "We can store and later reload our sample results:"
   ]
  },
  {
   "cell_type": "code",
   "execution_count": null,
   "id": "2448d4d6-a6b8-4cdf-b555-641aa53d573e",
   "metadata": {},
   "outputs": [],
   "source": [
    "ss_sam.save('ghz3ss.samp')\n",
    "\n",
    "from qsample import Sampler\n",
    "stored_sam = Sampler.load('ghz3ss.samp')\n",
    "counts_before = stored_sam.tree.root.counts\n",
    "\n",
    "stored_sam.run(200) # After loading we can for example run a few more samples.\n",
    "counts_after = stored_sam.tree.root.counts\n",
    "\n",
    "print(counts_before, counts_after)"
   ]
  },
  {
   "cell_type": "markdown",
   "id": "6da65467-ea28-4916-a107-05390901bf51",
   "metadata": {},
   "source": [
    "More complex examples can be found here: https://github.com/dpwinter/qsample/blob/master/08_examples.ipynb"
   ]
  },
  {
   "cell_type": "markdown",
   "id": "9b993d0a",
   "metadata": {},
   "source": [
    "## Contribute "
   ]
  },
  {
   "cell_type": "markdown",
   "id": "3a87f2d9-bb0b-41a7-af5a-a150447874d7",
   "metadata": {},
   "source": [
    "* submit your feature request via github issue"
   ]
  },
  {
   "cell_type": "markdown",
   "id": "f0da992f",
   "metadata": {},
   "source": [
    "## Team "
   ]
  },
  {
   "cell_type": "markdown",
   "id": "ad1b09e7",
   "metadata": {},
   "source": [
    "`qsample` was developed by Don Winter based on \\cite{DSS} and in collaboration with Sascha Heußen under supervision of Prof. Dr. Markus Müller."
   ]
  }
 ],
 "metadata": {
  "kernelspec": {
   "display_name": "python3",
   "language": "python",
   "name": "python3"
  }
 },
 "nbformat": 4,
 "nbformat_minor": 5
}
