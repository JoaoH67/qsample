{
 "cells": [
  {
   "cell_type": "raw",
   "id": "aefc0d4e",
   "metadata": {},
   "source": [
    "---\n",
    "description: Sampler class for direct Monte Carlo sampling\n",
    "output-file: sampler.direct.html\n",
    "title: Direct Monte Carlo sampler\n",
    "\n",
    "skip_showdoc: true\n",
    "skip_exec: true\n",
    "---\n",
    "\n"
   ]
  },
  {
   "cell_type": "code",
   "execution_count": null,
   "id": "dd8008ee-6cf2-4bbe-875f-b9cd17c28cef",
   "metadata": {},
   "outputs": [],
   "source": [
    "#| default_exp sampler.direct"
   ]
  },
  {
   "cell_type": "code",
   "execution_count": null,
   "id": "e31e478d-b9fc-419c-99dc-e035b40a28c1",
   "metadata": {},
   "outputs": [],
   "source": [
    "#| include: false\n",
    "from nbdev.showdoc import *"
   ]
  },
  {
   "cell_type": "code",
   "execution_count": null,
   "id": "ec9b1b36-44a9-4472-a12f-e9e5f5a6b1ad",
   "metadata": {},
   "outputs": [],
   "source": [
    "#| export\n",
    "from qsample.sampler.base import Sampler, err_probs_tomatrix\n",
    "import numpy as np"
   ]
  },
  {
   "cell_type": "code",
   "execution_count": null,
   "id": "1e4f3094-4cc6-487d-a422-d0f426f6de0f",
   "metadata": {},
   "outputs": [],
   "source": [
    "#| export\n",
    "class DirectSampler(Sampler):\n",
    "    \n",
    "    def __init__(self, protocol, simulator, err_model=None, err_probs=None):\n",
    "        super().__init__(protocol, simulator, err_probs=err_probs, err_model=err_model)\n",
    "        self.err_probs = err_probs_tomatrix(err_probs, self.err_model.groups)\n",
    "    \n",
    "    def stats(self, tree_idx=None):\n",
    "        if tree_idx:\n",
    "            p_L = self.trees[tree_idx].root_leaf_rate\n",
    "            v_L = self.trees[tree_idx].root_leaf_variance\n",
    "        else:\n",
    "            p_L, v_L = [], []\n",
    "            for tree in self.trees.values():\n",
    "                p_L.append(tree.root_leaf_rate)\n",
    "                v_L.append(tree.root_leaf_variance)\n",
    "        return p_L, np.sqrt(v_L)\n",
    "    \n",
    "    def optimize(self, tree_node, circuit, grp_probs):\n",
    "        locgrps = self.protocol_groups[circuit.id]\n",
    "        flocs = self.err_model.choose_p(locgrps,grp_probs)\n",
    "        subset = tuple(len(locs) for locs in flocs.values())\n",
    "        return {'subset': subset, 'flocs': flocs}"
   ]
  },
  {
   "cell_type": "code",
   "execution_count": null,
   "id": "caec78c3-adfb-4b00-895f-eace55885184",
   "metadata": {},
   "outputs": [],
   "source": [
    "#| slow\n",
    "from qsample.examples import ghz3\n",
    "from qsample.noise import E1, E2\n",
    "from qsample.sim.stabilizer import StabilizerSimulator as CHP\n",
    "from qsample.callbacks import *\n",
    "\n",
    "from ipywidgets import interact\n",
    "import ipywidgets as widgets"
   ]
  },
  {
   "cell_type": "code",
   "execution_count": null,
   "id": "e627b654-4279-4cfd-a4ee-3ccaf014579c",
   "metadata": {},
   "outputs": [
    {
     "data": {
      "application/vnd.jupyter.widget-view+json": {
       "model_id": "d3c1e53528d84b4f89e4187d3be36cb1",
       "version_major": 2,
       "version_minor": 0
      },
      "text/plain": [
       "p_phy=1.00E-03:   0%|          | 0/1000 [00:00<?, ?it/s]"
      ]
     },
     "metadata": {},
     "output_type": "display_data"
    },
    {
     "data": {
      "application/vnd.jupyter.widget-view+json": {
       "model_id": "5532982487e54dbca847dd3b2d1ea883",
       "version_major": 2,
       "version_minor": 0
      },
      "text/plain": [
       "p_phy=5.62E-03:   0%|          | 0/1000 [00:00<?, ?it/s]"
      ]
     },
     "metadata": {},
     "output_type": "display_data"
    },
    {
     "data": {
      "application/vnd.jupyter.widget-view+json": {
       "model_id": "d3cf553e90cf4ecebe165837c04efc07",
       "version_major": 2,
       "version_minor": 0
      },
      "text/plain": [
       "p_phy=3.16E-02:   0%|          | 0/1000 [00:00<?, ?it/s]"
      ]
     },
     "metadata": {},
     "output_type": "display_data"
    },
    {
     "data": {
      "application/vnd.jupyter.widget-view+json": {
       "model_id": "4ea3fb183f234011bb6f14c796036b12",
       "version_major": 2,
       "version_minor": 0
      },
      "text/plain": [
       "p_phy=1.78E-01:   0%|          | 0/1000 [00:00<?, ?it/s]"
      ]
     },
     "metadata": {},
     "output_type": "display_data"
    },
    {
     "data": {
      "application/vnd.jupyter.widget-view+json": {
       "model_id": "eb4fa8d4f27041f6ad6c3c6a61af82bb",
       "version_major": 2,
       "version_minor": 0
      },
      "text/plain": [
       "p_phy=1.00E+00:   0%|          | 0/1000 [00:00<?, ?it/s]"
      ]
     },
     "metadata": {},
     "output_type": "display_data"
    },
    {
     "data": {
      "image/png": "[encoded data removed]",
      "text/plain": [
       "<Figure size 432x288 with 1 Axes>"
      ]
     },
     "metadata": {
      "needs_background": "light"
     },
     "output_type": "display_data"
    }
   ],
   "source": [
    "#| slow\n",
    "\n",
    "e = E1\n",
    "\n",
    "sample_range = np.logspace(-3,0,5)\n",
    "\n",
    "err_probs = {\n",
    "    # \"q1\": 0,\n",
    "    \"q\": sample_range\n",
    "}\n",
    "\n",
    "sam = DirectSampler(ghz3, CHP, err_probs=err_probs, err_model=e)\n",
    "\n",
    "sam.run(1000, callbacks=[PlotStats()])"
   ]
  },
  {
   "cell_type": "code",
   "execution_count": null,
   "id": "909a74f6-8ddd-4ad0-af07-5114e052cdcb",
   "metadata": {},
   "outputs": [],
   "source": [
    "#| slow\n",
    "\n",
    "e = E2\n",
    "\n",
    "sample_range = np.logspace(-3,0,5)\n",
    "\n",
    "err_probs = {\n",
    "    \"q2\": sample_range,\n",
    "    \"q1\": 0.01\n",
    "}\n",
    "\n",
    "sam = DirectSampler(ghz3, CHP, err_probs=err_probs, err_model=e)\n",
    "\n",
    "sam.run(1000, callbacks=[PlotStats()])"
   ]
  },
  {
   "cell_type": "code",
   "execution_count": null,
   "id": "22040b41-aa32-490e-a977-5b2da4ba6762",
   "metadata": {},
   "outputs": [
    {
     "data": {
      "application/vnd.jupyter.widget-view+json": {
       "model_id": "de86b6795f1e4f6b83a88aa86b19511e",
       "version_major": 2,
       "version_minor": 0
      },
      "text/plain": [
       "interactive(children=(IntSlider(value=0, description='i', max=0), Output()), _dom_classes=('widget-interact',)…"
      ]
     },
     "metadata": {},
     "output_type": "display_data"
    }
   ],
   "source": [
    "#| slow\n",
    "\n",
    "def get_tree(i):\n",
    "    print(\"p_phy=\", list(sam.trees.keys())[i])\n",
    "    return (list(sam.trees.values())[i]).draw()\n",
    "interact(get_tree, i=widgets.IntSlider(min=0, max=len(sam.trees)-1, step=1, value=0));"
   ]
  },
  {
   "cell_type": "code",
   "execution_count": null,
   "id": "0228563e-c98c-4a83-9ef5-80a370a2e8dc",
   "metadata": {},
   "outputs": [],
   "source": [
    "#| slow\n",
    "sam.save('./test')"
   ]
  },
  {
   "cell_type": "code",
   "execution_count": null,
   "id": "ee007b00-362e-459e-97a8-650090dc4ffb",
   "metadata": {},
   "outputs": [
    {
     "data": {
      "application/vnd.jupyter.widget-view+json": {
       "model_id": "8e6dbcc9e39e40d6878fd9abdab9202e",
       "version_major": 2,
       "version_minor": 0
      },
      "text/plain": [
       "p_phy=1.00E-01:   0%|          | 0/100 [00:00<?, ?it/s]"
      ]
     },
     "metadata": {},
     "output_type": "display_data"
    }
   ],
   "source": [
    "#| slow\n",
    "sam2 = Sampler.load('./test')\n",
    "sam2.run(100)"
   ]
  }
 ],
 "metadata": {
  "kernelspec": {
   "display_name": "python3",
   "language": "python",
   "name": "python3"
  }
 },
 "nbformat": 4,
 "nbformat_minor": 5
}
