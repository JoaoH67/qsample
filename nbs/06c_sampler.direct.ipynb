{
 "cells": [
  {
   "cell_type": "raw",
   "id": "aefc0d4e",
   "metadata": {},
   "source": [
    "---\n",
    "description: Sampler class for direct Monte Carlo sampling\n",
    "output-file: sampler.direct.html\n",
    "title: Direct Sampler\n",
    "\n",
    "skip_showdoc: true\n",
    "skip_exec: true\n",
    "---\n",
    "\n"
   ]
  },
  {
   "cell_type": "code",
   "execution_count": null,
   "id": "dd8008ee-6cf2-4bbe-875f-b9cd17c28cef",
   "metadata": {},
   "outputs": [],
   "source": [
    "#| default_exp sampler.direct"
   ]
  },
  {
   "cell_type": "code",
   "execution_count": null,
   "id": "e31e478d-b9fc-419c-99dc-e035b40a28c1",
   "metadata": {},
   "outputs": [],
   "source": [
    "#| include: false\n",
    "from nbdev.showdoc import *"
   ]
  },
  {
   "cell_type": "code",
   "execution_count": null,
   "id": "ec9b1b36-44a9-4472-a12f-e9e5f5a6b1ad",
   "metadata": {},
   "outputs": [],
   "source": [
    "#| export\n",
    "import numpy as np\n",
    "import qsample.math as math\n",
    "import qsample.utils as utils\n",
    "from tqdm.auto import tqdm\n",
    "from qsample.callbacks import CallbackList"
   ]
  },
  {
   "cell_type": "code",
   "execution_count": null,
   "id": "f17e2da5-d8d0-4a2b-9f62-02679c2582e8",
   "metadata": {},
   "outputs": [],
   "source": [
    "#| export\n",
    "class DirectSampler:\n",
    "    \"\"\"Direct Monte Carlo Sampler\n",
    "    \n",
    "    Attributes\n",
    "    ----------\n",
    "    protocol : Protocol\n",
    "        Protocol to sample from\n",
    "    simulator : StabilizerSimulator or StatevectorSimulator\n",
    "        Simulator used during sampling\n",
    "    err_model : ErrorModel\n",
    "        Error model used during sampling\n",
    "    err_params : dict\n",
    "        Physical error rates per faulty partition group at which plots generated.  \n",
    "    partitions : dict\n",
    "        Grouping of faulty circuit elements fore each circuit in protocol\n",
    "    counts : np.array\n",
    "        List to accumulate counts for \"marked\" events\n",
    "    shots : np.array\n",
    "        List to accumulate shots per physical error rate\n",
    "    \"\"\"\n",
    "    \n",
    "    def __init__(self, protocol, simulator, err_model, err_params=None):\n",
    "        \"\"\"\n",
    "        Parameters\n",
    "        ----------\n",
    "        protocol : Protocol\n",
    "            The protocol to sample from\n",
    "        simulator : ChpSimulator or StatevectorSimulator\n",
    "            The simulator used in sampling process\n",
    "        err_model : ErrorModel\n",
    "            Error model used in sampling process\n",
    "        err_params : dict\n",
    "            Physical error rates per faulty partition group at which plots generated.\n",
    "        \"\"\"\n",
    "        self.protocol = protocol\n",
    "        self.simulator = simulator\n",
    "        self.err_model = err_model()\n",
    "        self.err_params = self.__err_params_to_matrix(err_params)\n",
    "        self.partitions = {cid: self.err_model.group(circuit) for cid, circuit in self.protocol.circuits.items()}\n",
    "        self.counts = np.array([0] * self.err_params.shape[0])\n",
    "        self.shots = np.array([0] * self.err_params.shape[0])\n",
    "        \n",
    "    def __err_params_to_matrix(self, err_params):\n",
    "        sorted_params = [err_params[k] for k in self.err_model.groups]\n",
    "        return np.array(np.broadcast_arrays(*sorted_params)).T\n",
    "    \n",
    "    def save(self, path):\n",
    "        \"\"\"Save sampler to path\n",
    "        \n",
    "        Parameters\n",
    "        ----------\n",
    "        path : str\n",
    "            File path to save to\n",
    "        \"\"\"\n",
    "        utils.save(path)\n",
    "            \n",
    "    def stats(self, idx=None):\n",
    "        \"\"\"Calculate sampling statistics\n",
    "        \n",
    "        Returns\n",
    "        -------\n",
    "        tuple\n",
    "            (Logical failure rate, Wilson variance on logical failure rate)\n",
    "        \"\"\"\n",
    "        p_L = np.array([0 if s==0 else c/s for (c,s) in zip(self.counts, self.shots)])\n",
    "        v_L = math.Wilson_var(p_L, self.shots)\n",
    "        if idx != None: p_L, v_L = p_L[idx], v_L[idx]\n",
    "        \n",
    "        return p_L, np.sqrt(v_L)\n",
    "            \n",
    "    def run(self, n_shots, callbacks=[]):\n",
    "        \"\"\"Execute n_shots of subset sampling\n",
    "        \n",
    "        Parameters\n",
    "        ----------\n",
    "        n_shots : int\n",
    "            Number of shots sampled in total\n",
    "        callbacks : list of Callback\n",
    "            Callback instances executed during sampling\n",
    "        \"\"\"\n",
    "        self.n_shots = n_shots\n",
    "        \n",
    "        if not isinstance(callbacks, CallbackList):\n",
    "            callbacks = CallbackList(sampler=self, callbacks=callbacks)\n",
    "                    \n",
    "        callbacks.on_sampler_begin()\n",
    "        \n",
    "        for i, p in enumerate(self.err_params):\n",
    "            \n",
    "            self.stop_sampling = False # Flag can be controlled in callbacks\n",
    "            self.i = i\n",
    "            \n",
    "            for _ in tqdm(range(n_shots), desc=f\"p={tuple(map('{:.2e}'.format, p))}\", leave=True):\n",
    "                \n",
    "                self.shots[i] += 1\n",
    "                callbacks.on_protocol_begin()\n",
    "                pnode = self.protocol.root # get protocol start node\n",
    "                state = self.simulator(len(self.protocol.qubits)) # init state\n",
    "                msmt_hist = {} # init measurement history\n",
    "                \n",
    "                while True:\n",
    "                    callbacks.on_circuit_begin()\n",
    "                    pnode, circuit = self.protocol.successor(pnode, msmt_hist)\n",
    "                    if circuit:\n",
    "                        if not circuit._noisy:\n",
    "                            msmt = state.run(circuit)\n",
    "                        else:\n",
    "                            fault_locs = self.err_model.choose_p(self.partitions[circuit.id], p)\n",
    "                            fault_circuit = self.err_model.run(circuit, fault_locs)\n",
    "                            msmt = state.run(circuit, fault_circuit)\n",
    "                        msmt = msmt if msmt==None else int(msmt,2) # convert to int for comparison in checks\n",
    "                        msmt_hist[pnode] = msmt_hist.get(pnode, []) + [msmt]\n",
    "                    else:\n",
    "                        if pnode != None:\n",
    "                            # \"Interesting\" event happened\n",
    "                            self.counts[i] += 1\n",
    "                        break\n",
    "                    callbacks.on_circuit_end(locals())\n",
    "                callbacks.on_protocol_end()\n",
    "                if self.stop_sampling:\n",
    "                    break\n",
    "        \n",
    "        del self.stop_sampling\n",
    "        callbacks.on_sampler_end()"
   ]
  },
  {
   "cell_type": "code",
   "execution_count": null,
   "id": "caec78c3-adfb-4b00-895f-eace55885184",
   "metadata": {},
   "outputs": [],
   "source": [
    "#| slow\n",
    "from qsample.examples import ghz3\n",
    "from qsample.noise import E1, E2\n",
    "from qsample.sim.stabilizer import StabilizerSimulator as CHP\n",
    "from qsample.callbacks import *"
   ]
  },
  {
   "cell_type": "code",
   "execution_count": null,
   "id": "e627b654-4279-4cfd-a4ee-3ccaf014579c",
   "metadata": {},
   "outputs": [
    {
     "data": {
      "application/vnd.jupyter.widget-view+json": {
       "model_id": "e1808af1cbef4080b5ed232897f8f2c5",
       "version_major": 2,
       "version_minor": 0
      },
      "text/plain": [
       "p=('1.00e-03',):   0%|          | 0/1000 [00:00<?, ?it/s]"
      ]
     },
     "metadata": {},
     "output_type": "display_data"
    },
    {
     "data": {
      "application/vnd.jupyter.widget-view+json": {
       "model_id": "17f96130ba274a99bdc115bbd83b941b",
       "version_major": 2,
       "version_minor": 0
      },
      "text/plain": [
       "p=('5.62e-03',):   0%|          | 0/1000 [00:00<?, ?it/s]"
      ]
     },
     "metadata": {},
     "output_type": "display_data"
    },
    {
     "data": {
      "application/vnd.jupyter.widget-view+json": {
       "model_id": "26151470d9cb471b86febacd32141187",
       "version_major": 2,
       "version_minor": 0
      },
      "text/plain": [
       "p=('3.16e-02',):   0%|          | 0/1000 [00:00<?, ?it/s]"
      ]
     },
     "metadata": {},
     "output_type": "display_data"
    },
    {
     "data": {
      "application/vnd.jupyter.widget-view+json": {
       "model_id": "776c2afde8894e76bb6392a45ba1fe43",
       "version_major": 2,
       "version_minor": 0
      },
      "text/plain": [
       "p=('1.78e-01',):   0%|          | 0/1000 [00:00<?, ?it/s]"
      ]
     },
     "metadata": {},
     "output_type": "display_data"
    },
    {
     "data": {
      "application/vnd.jupyter.widget-view+json": {
       "model_id": "6c28ae5698ea41efa00a74a55048d793",
       "version_major": 2,
       "version_minor": 0
      },
      "text/plain": [
       "p=('1.00e+00',):   0%|          | 0/1000 [00:00<?, ?it/s]"
      ]
     },
     "metadata": {},
     "output_type": "display_data"
    },
    {
     "data": {
      "image/png": "[encoded data removed]",
      "text/plain": [
       "<Figure size 432x288 with 1 Axes>"
      ]
     },
     "metadata": {
      "needs_background": "light"
     },
     "output_type": "display_data"
    }
   ],
   "source": [
    "#| slow\n",
    "\n",
    "e = E1\n",
    "\n",
    "sample_range = np.logspace(-3,0,5)\n",
    "\n",
    "err_probs = {\n",
    "    \"q\": sample_range,\n",
    "}\n",
    "\n",
    "sam = DirectSampler(ghz3, CHP, err_params=err_probs, err_model=e)\n",
    "\n",
    "sam.run(1000, callbacks=[PlotStats()])"
   ]
  },
  {
   "cell_type": "code",
   "execution_count": null,
   "id": "909a74f6-8ddd-4ad0-af07-5114e052cdcb",
   "metadata": {},
   "outputs": [
    {
     "data": {
      "application/vnd.jupyter.widget-view+json": {
       "model_id": "589f4e548ce644b6b3c24fc2a5045d2f",
       "version_major": 2,
       "version_minor": 0
      },
      "text/plain": [
       "p=('1.00e-02', '1.00e-03'):   0%|          | 0/1000 [00:00<?, ?it/s]"
      ]
     },
     "metadata": {},
     "output_type": "display_data"
    },
    {
     "data": {
      "application/vnd.jupyter.widget-view+json": {
       "model_id": "c1b3e9e3ecf34177a1d2965665e2e6af",
       "version_major": 2,
       "version_minor": 0
      },
      "text/plain": [
       "p=('1.00e-02', '5.62e-03'):   0%|          | 0/1000 [00:00<?, ?it/s]"
      ]
     },
     "metadata": {},
     "output_type": "display_data"
    },
    {
     "data": {
      "application/vnd.jupyter.widget-view+json": {
       "model_id": "8c341196c4cf4ac1a6af16a635b22ad4",
       "version_major": 2,
       "version_minor": 0
      },
      "text/plain": [
       "p=('1.00e-02', '3.16e-02'):   0%|          | 0/1000 [00:00<?, ?it/s]"
      ]
     },
     "metadata": {},
     "output_type": "display_data"
    },
    {
     "data": {
      "application/vnd.jupyter.widget-view+json": {
       "model_id": "076cce08d2be4cd18913fca89df9ae64",
       "version_major": 2,
       "version_minor": 0
      },
      "text/plain": [
       "p=('1.00e-02', '1.78e-01'):   0%|          | 0/1000 [00:00<?, ?it/s]"
      ]
     },
     "metadata": {},
     "output_type": "display_data"
    },
    {
     "data": {
      "application/vnd.jupyter.widget-view+json": {
       "model_id": "9462dec8bf234b6098c805a22c658c35",
       "version_major": 2,
       "version_minor": 0
      },
      "text/plain": [
       "p=('1.00e-02', '1.00e+00'):   0%|          | 0/1000 [00:00<?, ?it/s]"
      ]
     },
     "metadata": {},
     "output_type": "display_data"
    },
    {
     "data": {
      "image/png": "[encoded data removed]",
      "text/plain": [
       "<Figure size 432x288 with 2 Axes>"
      ]
     },
     "metadata": {
      "needs_background": "light"
     },
     "output_type": "display_data"
    }
   ],
   "source": [
    "#| slow\n",
    "\n",
    "e = E2\n",
    "\n",
    "sample_range = np.logspace(-3,0,5)\n",
    "\n",
    "err_params = {\n",
    "    \"q2\": sample_range,\n",
    "    \"q1\": 0.01\n",
    "}\n",
    "\n",
    "sam = DirectSampler(ghz3, CHP, err_params=err_params, err_model=e)\n",
    "\n",
    "sam.run(1000, callbacks=[PlotStats()])"
   ]
  }
 ],
 "metadata": {
  "kernelspec": {
   "display_name": "python3",
   "language": "python",
   "name": "python3"
  }
 },
 "nbformat": 4,
 "nbformat_minor": 5
}
