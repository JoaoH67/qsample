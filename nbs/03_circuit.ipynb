{
 "cells": [
  {
   "cell_type": "raw",
   "id": "59862b73",
   "metadata": {},
   "source": [
    "---\n",
    "description: Representation of a quantum circuit.\n",
    "output-file: circuit.html\n",
    "title: Circuit\n",
    "\n",
    "---\n",
    "\n"
   ]
  },
  {
   "cell_type": "code",
   "execution_count": null,
   "id": "d7700484-77e8-4660-8c78-803659a31024",
   "metadata": {},
   "outputs": [],
   "source": [
    "#| default_exp circuit"
   ]
  },
  {
   "cell_type": "code",
   "execution_count": null,
   "id": "e4b23ccb-a798-4944-8b35-5958bd8a3934",
   "metadata": {},
   "outputs": [],
   "source": [
    "#| include: false\n",
    "from nbdev.showdoc import *"
   ]
  },
  {
   "cell_type": "code",
   "execution_count": null,
   "id": "6e0294e1-5f6d-4922-a0bb-7528a815f942",
   "metadata": {},
   "outputs": [],
   "source": [
    "#| export\n",
    "from collections.abc import MutableSequence\n",
    "from functools import cached_property\n",
    "from hashlib import sha1\n",
    "import latextools"
   ]
  },
  {
   "cell_type": "code",
   "execution_count": null,
   "id": "b4e47963-b371-45fc-af8a-d3b704a6de4b",
   "metadata": {},
   "outputs": [],
   "source": [
    "#| export\n",
    "GATES = {\n",
    "    \"init\": {\"init\"},\n",
    "    \"q1\": {\"I\", \"X\", \"Y\", \"Z\", \"H\", \"T\", \"Q\", \"Qd\", \"S\", \"Sd\", \"R\", \"Rd\", \"Rx\", \"Ry\", \"Rz\"},\n",
    "    \"q2\": {\"CNOT\", \"MSd\"},\n",
    "    \"meas\": {\"measure\"}\n",
    "}"
   ]
  },
  {
   "cell_type": "code",
   "execution_count": null,
   "id": "ba3829b7-b5f2-4836-bcf6-b09f82d9367c",
   "metadata": {},
   "outputs": [],
   "source": [
    "#| export\n",
    "def unpack(seq):\n",
    "    \"\"\"Generator to unpack all values of dicts inside\n",
    "    a list of dicts\n",
    "    \n",
    "    Parameters\n",
    "    ----------\n",
    "    seq : Iterable\n",
    "        Iterable to recursively unpack\n",
    "    \"\"\"\n",
    "    \n",
    "    if isinstance(seq, (tuple,set,list,Circuit)):\n",
    "        yield from (x for y in seq for x in unpack(y))\n",
    "    elif isinstance(seq, dict):\n",
    "        yield from (x for v in seq.values() for y in v for x in unpack(y))\n",
    "    else:\n",
    "        yield seq"
   ]
  },
  {
   "cell_type": "code",
   "execution_count": null,
   "id": "625d6d36-b1b2-4d57-b6c8-7cc1553b4f30",
   "metadata": {},
   "outputs": [],
   "source": [
    "#| export\n",
    "def draw_circuit(circuit, path=None, scale=2):\n",
    "    \"\"\"Draw circuit using `latextools` library\n",
    "    \n",
    "    Parameters\n",
    "    ----------\n",
    "    circuit : Circuit\n",
    "        The circuit to draw\n",
    "    path : str or None\n",
    "        The path to save the resulting image to (optional)\n",
    "    scale : int\n",
    "        The scale of the image\n",
    "        \n",
    "    Returns\n",
    "    -------\n",
    "    drawSvg.drawing.Drawing\n",
    "        Image object\n",
    "    \"\"\"\n",
    "    \n",
    "    n_qubits = max(unpack(circuit)) + 1\n",
    "    cmat = [[\"\",\"\"] + [r\"\\qw\" for _ in range(circuit.n_ticks - 1)] for _ in range(n_qubits)]\n",
    "\n",
    "    for col, tick in enumerate(circuit,1):\n",
    "        for gate, qbs in tick.items():\n",
    "            if gate in GATES['q2']:\n",
    "                for qbtup in qbs:\n",
    "                    ctrl, targ = qbtup[0], qbtup[1]\n",
    "                    delta = targ - ctrl\n",
    "\n",
    "                    cmat[ctrl][col] = r\"\\ctrl{%d}\" % delta\n",
    "                    sym = r\"\\targ\" if gate == \"CNOT\" else r\"\\gate{%s}\" % gate\n",
    "                    cmat[targ][col] = sym\n",
    "                continue\n",
    "            elif gate == \"measure\": sym = r\"\\meter\"\n",
    "            elif gate == \"init\": sym = r\"\\push{\\ket{0}}\"\n",
    "\n",
    "            elif gate in GATES['q1']: \n",
    "                sym = r\"\\gate{%s}\" % gate\n",
    "            else:\n",
    "                raise Exception(f'Unknown gate {gate}')\n",
    "\n",
    "            for row in qbs:\n",
    "                cmat[row][col] = sym\n",
    "\n",
    "    tex_str = r\"\\\\\".join([\" & \".join([e for e in row]) for row in cmat])\n",
    "    pdf = latextools.render_qcircuit(tex_str, const_row=False, const_col=True)\n",
    "    svg = pdf.as_svg().as_drawing(scale=scale)\n",
    "    if path: svg.saveSvg(path)\n",
    "    return svg"
   ]
  },
  {
   "cell_type": "code",
   "execution_count": null,
   "id": "c01c85c3-0310-442e-8d2d-ea5130a59d2f",
   "metadata": {},
   "outputs": [],
   "source": [
    "#| export\n",
    "class Circuit(MutableSequence):\n",
    "    \"\"\"Representation of a quantum circuit\n",
    "    \n",
    "    Attributes\n",
    "    ----------\n",
    "    _ticks : list of dict\n",
    "        List of ticks in the circuit\n",
    "    noisy : bool\n",
    "        If true, circuit is subject to noise during sampling\n",
    "    ff_deterministic : bool\n",
    "        If true, the measurement result of the circuit in the\n",
    "        fault-free case is always deterministic\n",
    "    qubits : set\n",
    "        Set of qubits \"touched\" by circuit\n",
    "    n_qubits : int\n",
    "        Numbers of qubits \"touched\" by circuit\n",
    "    n_ticks : int\n",
    "        Number of ticks in circuit\n",
    "    id : str\n",
    "        Unique circuit identifier\n",
    "    \"\"\"\n",
    "    \n",
    "    def __init__(self, ticks=None, noisy=True):#, ff_deterministic=False):\n",
    "        \"\"\"\n",
    "        Parameters\n",
    "        ----------\n",
    "        ticks : list\n",
    "            List of ticks defining a circuit\n",
    "        noisy : bool\n",
    "            If true, circuit is subject to noise during sampling\n",
    "        ff_deterministic : bool or None\n",
    "            If true, the measurement result of the circuit in the\n",
    "            fault-free case is always deterministic. If None the truth\n",
    "            value is automatically inferred.\n",
    "        \"\"\"\n",
    "        self._ticks = ticks if ticks else [] # Must do this way, else keeps appending to same instance\n",
    "        self.noisy = noisy\n",
    "        \n",
    "    def __getitem__(self, tick_index):\n",
    "        return self._ticks[tick_index]\n",
    "    \n",
    "    def __setitem__(self, tick_index, tick):\n",
    "        self._ticks[tick_index] = tick\n",
    "        \n",
    "    def __delitem__(self, tick_index):\n",
    "        del self._ticks[tick_index]\n",
    "        \n",
    "    def __len__(self):\n",
    "        return len(self._ticks)\n",
    "    \n",
    "    def insert(self, tick_index, tick):\n",
    "        \"\"\"Insert a tick into a circuit\n",
    "        \n",
    "        Parameters\n",
    "        ----------\n",
    "        tick_index : int\n",
    "            Index at which tick is inserted (tick indices to right incremented by 1)\n",
    "        tick : dict\n",
    "            Tick dictionary to insert\n",
    "        \"\"\"\n",
    "        self._ticks.insert(tick_index, tick)\n",
    "    \n",
    "    def __str__(self):\n",
    "        if self._ticks == []:\n",
    "            return \"__empty__\"\n",
    "        str_list = []\n",
    "        for i, tick in enumerate(self._ticks):\n",
    "            str_list.append(f\"{i}: {str(tick)}\")\n",
    "        return \"\\n\".join(str_list)\n",
    "    \n",
    "    @cached_property\n",
    "    def qubits(self):  \n",
    "        \"\"\"Set of qubits used in circuit\"\"\"\n",
    "        return set(unpack(self._ticks))\n",
    "    \n",
    "    @cached_property\n",
    "    def n_qubits(self):\n",
    "        \"\"\"Number of qubits used in circuit\"\"\"\n",
    "        return len(self.qubits)\n",
    "    \n",
    "    @cached_property\n",
    "    def n_ticks(self):\n",
    "        \"\"\"Number of ticks\"\"\"\n",
    "        return len(self._ticks)\n",
    "    \n",
    "    @property\n",
    "    def id(self):\n",
    "        \"\"\"Unique circuit identifier\"\"\"\n",
    "        return sha1((repr(self)).encode('UTF-8')).hexdigest()[:5]\n",
    "\n",
    "    def draw(self, path=None, scale=2):\n",
    "        \"\"\"Draw the circuit\"\"\"\n",
    "        return draw_circuit(self, path, scale)"
   ]
  },
  {
   "cell_type": "code",
   "execution_count": null,
   "id": "440468a5-c8e4-4335-a77b-904f958dcef5",
   "metadata": {},
   "outputs": [
    {
     "data": {
      "text/plain": [
       "[1, 2, 3, 0, 1, 1, 3]"
      ]
     },
     "execution_count": null,
     "metadata": {},
     "output_type": "execute_result"
    }
   ],
   "source": [
    "list(unpack([{'X': {1,2,3}},{'CNOT': {(0,1), (1,3)}}]))"
   ]
  },
  {
   "cell_type": "code",
   "execution_count": null,
   "id": "f4194536-2ed4-4d11-8d76-e674e17eab76",
   "metadata": {},
   "outputs": [
    {
     "data": {
      "text/plain": [
       "('14476', '5b6e8', 'c5aff', '6cc48')"
      ]
     },
     "execution_count": null,
     "metadata": {},
     "output_type": "execute_result"
    }
   ],
   "source": [
    "# Tests\n",
    "\n",
    "c1 = Circuit(ticks=[{'Z': {0}}])\n",
    "c2 = Circuit(ticks=[{'X': {3}}])\n",
    "c3 = Circuit(ticks=[{'X': {3}}, {'Z': {0}}])\n",
    "c4 = Circuit(ticks=[])\n",
    "assert(c1.id != c2.id != c3.id != c4.id)\n",
    "c1.id, c2.id, c3.id, c4.id"
   ]
  }
 ],
 "metadata": {
  "kernelspec": {
   "display_name": "python3",
   "language": "python",
   "name": "python3"
  }
 },
 "nbformat": 4,
 "nbformat_minor": 5
}
