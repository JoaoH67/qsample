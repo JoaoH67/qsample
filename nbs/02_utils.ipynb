{
 "cells": [
  {
   "cell_type": "raw",
   "id": "23dcd26c-1c2c-4551-a8c1-1003b87afa39",
   "metadata": {},
   "source": [
    "---\n",
    "description: Collection of common methods\n",
    "output-file: utils.html\n",
    "title: Utilities\n",
    "\n",
    "skip_showdoc: true\n",
    "skip_exec: true\n",
    "---"
   ]
  },
  {
   "cell_type": "code",
   "execution_count": null,
   "id": "5beccba0-ca43-49cf-9aed-5ad6b65119f3",
   "metadata": {},
   "outputs": [],
   "source": [
    "#| default_exp utils"
   ]
  },
  {
   "cell_type": "code",
   "execution_count": null,
   "id": "de7706a9-3ad2-4515-a9fe-6aabfe7ecb10",
   "metadata": {},
   "outputs": [],
   "source": [
    "#| include: false\n",
    "from nbdev.showdoc import *"
   ]
  },
  {
   "cell_type": "code",
   "execution_count": null,
   "id": "e148854e-9c69-4f21-ae2f-33637c0071b6",
   "metadata": {},
   "outputs": [],
   "source": [
    "#| export\n",
    "import dill as pickle"
   ]
  },
  {
   "cell_type": "code",
   "execution_count": null,
   "id": "a6950f42-f2e0-4a49-91ea-2defb3f3d554",
   "metadata": {},
   "outputs": [],
   "source": [
    "#| export\n",
    "def save(data, path):\n",
    "    \"\"\"Save data to path\n",
    "\n",
    "    Parameters\n",
    "    ----------\n",
    "    path : str\n",
    "        File path to save to\n",
    "    data : *\n",
    "        Data to write to path\n",
    "    \"\"\"\n",
    "    with open(path, 'wb') as fp:\n",
    "        pickle.dump(data, fp)"
   ]
  },
  {
   "cell_type": "code",
   "execution_count": null,
   "id": "51a83b0e-94a7-4fe1-b307-2971cd479317",
   "metadata": {},
   "outputs": [],
   "source": [
    "#| export\n",
    "def load(path):\n",
    "    \"\"\"Load data from path\n",
    "\n",
    "    Parameters\n",
    "    ----------\n",
    "    path : str\n",
    "        File path to load from\n",
    "        \n",
    "    Returns\n",
    "    -------\n",
    "    *\n",
    "        Loaded data\n",
    "    \"\"\"\n",
    "    with open(path, 'wb') as fp:\n",
    "        data = pickle.load(fp)\n",
    "    return data"
   ]
  }
 ],
 "metadata": {
  "kernelspec": {
   "display_name": "python3",
   "language": "python",
   "name": "python3"
  }
 },
 "nbformat": 4,
 "nbformat_minor": 5
}
