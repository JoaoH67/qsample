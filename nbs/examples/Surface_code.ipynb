{
 "cells": [
  {
   "cell_type": "code",
   "execution_count": null,
   "id": "f78bce89",
   "metadata": {},
   "outputs": [],
   "source": [
    "#export\n",
    "import qsample as qs\n",
    "import qiskit\n",
    "import time\n",
    "import stim\n",
    "import numpy as np\n",
    "import matplotlib.pyplot as plt\n",
    "import time\n",
    "import re\n",
    "from tqdm.notebook import tqdm\n",
    "import pymatching"
   ]
  },
  {
   "cell_type": "markdown",
   "id": "a8169fc3",
   "metadata": {},
   "source": [
    "# "
   ]
  },
  {
   "cell_type": "markdown",
   "id": "cb164a80",
   "metadata": {},
   "source": [
    "# "
   ]
  },
  {
   "cell_type": "markdown",
   "id": "bf156350",
   "metadata": {},
   "source": [
    "# "
   ]
  },
  {
   "cell_type": "markdown",
   "id": "791a5497",
   "metadata": {},
   "source": [
    "# "
   ]
  },
  {
   "cell_type": "markdown",
   "id": "0093a885",
   "metadata": {},
   "source": [
    "# "
   ]
  },
  {
   "cell_type": "markdown",
   "id": "292b41d3",
   "metadata": {},
   "source": [
    "# "
   ]
  },
  {
   "cell_type": "markdown",
   "id": "26b09f0f",
   "metadata": {},
   "source": [
    "# "
   ]
  },
  {
   "cell_type": "markdown",
   "id": "22a973f7",
   "metadata": {},
   "source": [
    "# "
   ]
  },
  {
   "cell_type": "markdown",
   "id": "1a1a3cd1",
   "metadata": {},
   "source": [
    "# "
   ]
  },
  {
   "cell_type": "markdown",
   "id": "c8cc85c0",
   "metadata": {},
   "source": [
    "# "
   ]
  },
  {
   "cell_type": "markdown",
   "id": "760dc2bc",
   "metadata": {},
   "source": [
    "# "
   ]
  },
  {
   "cell_type": "markdown",
   "id": "7341e548",
   "metadata": {},
   "source": [
    "# "
   ]
  },
  {
   "cell_type": "markdown",
   "id": "5d1711fa",
   "metadata": {},
   "source": [
    "# Surface code"
   ]
  },
  {
   "cell_type": "code",
   "execution_count": null,
   "id": "2c61e3cd-8cda-45b9-a147-7b8e6e663b03",
   "metadata": {},
   "outputs": [],
   "source": [
    "#export\n",
    "circuit = stim.Circuit.generated(\"surface_code:rotated_memory_x\", rounds=1, distance=3)\n",
    "circuit.diagram(\"timeline-svg\")\n",
    "\n",
    "\"\"\"\n",
    "IMPORTANT NOTE: The predictions output by pyMatching depend on the error rate of the STIM circuit,\n",
    "but the prediction error is nearly independent of the error rate if it is sufficient low (which is the\n",
    "regime we care about in QSample anyway), so in order to generate the first detector error model and \n",
    "Matching object, it is advisable to use a physical error rate by the lower end of your range.\n",
    "\n",
    "\"\"\"\n",
    "\n",
    "circuit = stim.Circuit.generated(\"surface_code:rotated_memory_x\", rounds=1, distance=3, after_clifford_depolarization=0.05,\n",
    "    after_reset_flip_probability=0.001,\n",
    "    before_measure_flip_probability=0.001,\n",
    "    before_round_data_depolarization=0.001,)\n",
    "surface_code = qs.Circuit(noisy=True).from_stim_circuit(circuit)\n",
    "\n",
    "matching = pymatching.Matching(surface_code.dem)\n",
    "num_detectors = matching.num_detectors\n",
    "detector_array = surface_code.detector_array\n",
    "\n",
    "\n",
    "corr = qs.Circuit(noisy=False).from_stim_circuit(\"\"\"X 1 8 15\"\"\")\n",
    "meas = qs.Circuit(noisy=False).from_stim_circuit(\"\"\"M 1 8 15\"\"\")\n",
    "\n",
    "round_ = 0\n",
    "def reset_count():\n",
    "    global round_\n",
    "    round_=0\n",
    "    return True\n",
    "\n",
    "def increase_count():\n",
    "    global round_\n",
    "    round_+=1\n",
    "    return round_\n",
    "\n",
    "def count():\n",
    "    global round_\n",
    "    return round_\n",
    "\n",
    "def int2meas(out):\n",
    "    result = []\n",
    "    for i in np.arange(surface_code.n_measurements)[::-1]:\n",
    "        result.append(out//(2**i))\n",
    "        out-=result[-1]*2**i\n",
    "    return result\n",
    "\n",
    "def measurement2detector(out, detector_array):\n",
    "    out = int2meas(out[-1])\n",
    "    detection_events = np.zeros(num_detectors)\n",
    "    for ii in range(num_detectors):\n",
    "        event = 0\n",
    "        for jj in detector_array[ii]:\n",
    "            event^=int(out[jj])\n",
    "        detection_events[ii]=event\n",
    "    return detection_events\n",
    "    \n",
    "def decoder(out):\n",
    "    detection_events = measurement2detector(out, detector_array)\n",
    "    result = matching.decode(detection_events)\n",
    "    return result\n",
    "\n",
    "def logErr(out):\n",
    "    return out[0] in [1, 2, 4, 7]\n",
    "\n",
    "functions = {'decoder': decoder, 'matching':matching, 'logErr':logErr,\n",
    "            'reset_count': reset_count, 'count': count, 'increase_count': increase_count}\n",
    "surface = qs.Protocol(check_functions=functions)\n",
    "\n",
    "\n",
    "n_rounds = 4\n",
    "surface.add_nodes_from(['SC', 'corr', 'meas'], circuits=[surface_code, corr, meas])\n",
    "surface.add_node('Round_counter', circuit=qs.Circuit([{\"I\": {0}}],noisy=False))\n",
    "surface.add_edge('START', 'Round_counter', check='reset_count()')\n",
    "surface.add_edge('Round_counter', 'SC', check='increase_count()')\n",
    "surface.add_edge('SC', 'corr', check='decoder(SC)')\n",
    "surface.add_edge('SC', 'Round_counter', check=f'(not decoder(SC)) and count()<{n_rounds}')\n",
    "surface.add_edge('SC', 'meas', check=f'(not decoder(SC)) and count()=={n_rounds}')\n",
    "surface.add_edge('corr', 'Round_counter', check=f'count()<{n_rounds}')\n",
    "surface.add_edge('corr', 'meas', check=f'count()=={n_rounds}')\n",
    "surface.add_edge('meas', 'FAIL', check='logErr(meas)')"
   ]
  },
  {
   "cell_type": "code",
   "execution_count": null,
   "id": "fc3c72f4",
   "metadata": {},
   "outputs": [
    {
     "data": {
      "application/json": {
       "ascii": false,
       "bar_format": null,
       "colour": null,
       "elapsed": 0.02109074592590332,
       "initial": 0,
       "n": 0,
       "ncols": null,
       "nrows": 24,
       "postfix": null,
       "prefix": "p=('1.00e-02',)",
       "rate": null,
       "total": 25000,
       "unit": "it",
       "unit_divisor": 1000,
       "unit_scale": false
      },
      "application/vnd.jupyter.widget-view+json": {
       "model_id": "d263edc2f83e4561820b83e5d9e10db2",
       "version_major": 2,
       "version_minor": 0
      },
      "text/plain": [
       "p=('1.00e-02',):   0%|          | 0/25000 [00:00<?, ?it/s]"
      ]
     },
     "metadata": {},
     "output_type": "display_data"
    },
    {
     "name": "stdout",
     "output_type": "stream",
     "text": [
      "time: 53.046889781951904 s\n"
     ]
    },
    {
     "name": "stderr",
     "output_type": "stream",
     "text": [
      "/Users/jhfontes/Desktop/qsample/qsample/sampler/subset.py:92: RuntimeWarning: invalid value encountered in sqrt\n",
      "  return np.broadcast_arrays(p_L, np.sqrt(var), p_L+delta, np.sqrt(var_up))\n"
     ]
    },
    {
     "data": {
      "image/png": "[encoded data removed]",
      "text/plain": [
       "<Figure size 432x288 with 1 Axes>"
      ]
     },
     "metadata": {
      "needs_background": "light"
     },
     "output_type": "display_data"
    }
   ],
   "source": [
    "#export\n",
    "err_model = qs.noise.E1\n",
    "q = [1e-5, 1e-4, 1e-3, 1e-2, 1e-1]\n",
    "err_params = {'q': q}\n",
    "\n",
    "begin = time.time()\n",
    "ss_sam = qs.SubsetSampler(protocol=surface, simulator=qs.StimSimulator,  p_max={'q': 0.01}, err_model=err_model, err_params=err_params, L=5)\n",
    "ss_sam.run(25000)\n",
    "end = time.time()\n",
    "qsample_time = end-begin\n",
    "\n",
    "v1 = ss_sam.stats()[0]\n",
    "w1 = ss_sam.stats()[2]\n",
    "\n",
    "plt.plot(q, v1)\n",
    "plt.plot(q, w1)\n",
    "plt.xscale('log')\n",
    "plt.yscale('log')\n",
    "print('time:', qsample_time, 's')"
   ]
  },
  {
   "cell_type": "code",
   "execution_count": null,
   "id": "8cea5da8",
   "metadata": {},
   "outputs": [],
   "source": [
    "\"\"\"\n",
    "IMPORTANT NOTE: The predictions output by pyMatching depend on the error rate of the STIM circuit,\n",
    "but the prediction error is nearly independent of the error rate if it is sufficient low (which is the\n",
    "regime we care about in QSample anyway), so in order to generate the first detector error model and \n",
    "Matching object, it is advisable to use a physical error rate by the lower end of your range.\n",
    "\"\"\"\n",
    "\n",
    "circuit = stim.Circuit.generated(\"surface_code:rotated_memory_x\", rounds=1, distance=3, after_clifford_depolarization=0.05,\n",
    "    after_reset_flip_probability=0.001,\n",
    "    before_measure_flip_probability=0.001,\n",
    "    before_round_data_depolarization=0.001,)\n",
    "surface_code = qs.Circuit(noisy=True).from_stim_circuit(circuit)\n",
    "\n",
    "matching = pymatching.Matching(surface_code.dem)\n",
    "num_detectors = matching.num_detectors\n",
    "detector_array = surface_code.detector_array\n",
    "\n",
    "\n",
    "corr = qs.Circuit(noisy=False).from_stim_circuit(\"\"\"X 1 8 15\"\"\")\n",
    "meas = qs.Circuit(noisy=False).from_stim_circuit(\"\"\"M 1 8 15\"\"\")\n",
    "\n",
    "round_ = 0\n",
    "def reset_count():\n",
    "    global round_\n",
    "    round_=0\n",
    "    return True\n",
    "\n",
    "def increase_count():\n",
    "    global round_\n",
    "    round_+=1\n",
    "    return round_\n",
    "\n",
    "def count():\n",
    "    global round_\n",
    "    return round_\n",
    "\n",
    "def int2meas(out):\n",
    "    result = []\n",
    "    for i in np.arange(surface_code.n_measurements)[::-1]:\n",
    "        result.append(out//(2**i))\n",
    "        out-=result[-1]*2**i\n",
    "    return result\n",
    "\n",
    "def measurement2detector(out, detector_array):\n",
    "    out = int2meas(out[-1])\n",
    "    detection_events = np.zeros(num_detectors)\n",
    "    for ii in range(num_detectors):\n",
    "        event = 0\n",
    "        for jj in detector_array[ii]:\n",
    "            event^=int(out[jj])\n",
    "        detection_events[ii]=event\n",
    "    return detection_events\n",
    "    \n",
    "def decoder(out):\n",
    "    detection_events = measurement2detector(out, detector_array)\n",
    "    result = matching.decode(detection_events)\n",
    "    return result\n",
    "\n",
    "def logErr(out):\n",
    "    return out[0] in [1, 2, 4, 7]\n",
    "\n",
    "functions = {'decoder': decoder, 'matching':matching, 'logErr':logErr,\n",
    "            'reset_count': reset_count, 'count': count, 'increase_count': increase_count}\n",
    "surface = qs.Protocol(check_functions=functions)\n",
    "\n",
    "\n",
    "n_rounds = 1\n",
    "surface.add_nodes_from(['SC', 'corr', 'meas'], circuits=[surface_code, corr, meas])\n",
    "surface.add_node('Round_counter', circuit=qs.Circuit([{\"I\": {0}}],noisy=False))\n",
    "surface.add_edge('START', 'Round_counter', check='reset_count()')\n",
    "surface.add_edge('Round_counter', 'SC', check='increase_count()')\n",
    "surface.add_edge('SC', 'corr', check='decoder(SC)')\n",
    "surface.add_edge('SC', 'Round_counter', check=f'(not decoder(SC)) and count()<{n_rounds}')\n",
    "surface.add_edge('SC', 'meas', check=f'(not decoder(SC)) and count()=={n_rounds}')\n",
    "surface.add_edge('corr', 'Round_counter', check=f'count()<{n_rounds}')\n",
    "surface.add_edge('corr', 'meas', check=f'count()=={n_rounds}')\n",
    "surface.add_edge('meas', 'FAIL', check='logErr(meas)')"
   ]
  },
  {
   "cell_type": "code",
   "execution_count": null,
   "id": "b92164f0",
   "metadata": {},
   "outputs": [
    {
     "data": {
      "application/json": {
       "ascii": false,
       "bar_format": null,
       "colour": null,
       "elapsed": 0.02099299430847168,
       "initial": 0,
       "n": 0,
       "ncols": null,
       "nrows": 24,
       "postfix": null,
       "prefix": "p=('1.00e-02',)",
       "rate": null,
       "total": 25000,
       "unit": "it",
       "unit_divisor": 1000,
       "unit_scale": false
      },
      "application/vnd.jupyter.widget-view+json": {
       "model_id": "f93b0f1d674c4763924caaa3e4d29489",
       "version_major": 2,
       "version_minor": 0
      },
      "text/plain": [
       "p=('1.00e-02',):   0%|          | 0/25000 [00:00<?, ?it/s]"
      ]
     },
     "metadata": {},
     "output_type": "display_data"
    },
    {
     "name": "stderr",
     "output_type": "stream",
     "text": [
      "/Users/jhfontes/Desktop/qsample/qsample/sampler/subset.py:92: RuntimeWarning: invalid value encountered in sqrt\n",
      "  return np.broadcast_arrays(p_L, np.sqrt(var), p_L+delta, np.sqrt(var_up))\n"
     ]
    },
    {
     "name": "stdout",
     "output_type": "stream",
     "text": [
      "time: 14.701840162277222 s\n"
     ]
    },
    {
     "data": {
      "image/png": "[encoded data removed]",
      "text/plain": [
       "<Figure size 432x288 with 1 Axes>"
      ]
     },
     "metadata": {
      "needs_background": "light"
     },
     "output_type": "display_data"
    }
   ],
   "source": [
    "err_model = qs.noise.E1\n",
    "q = [1e-5, 1e-4, 1e-3, 1e-2, 1e-1]\n",
    "err_params = {'q': q}\n",
    "\n",
    "begin = time.time()\n",
    "ss_sam = qs.SubsetSampler(protocol=surface, simulator=qs.StimSimulator,  p_max={'q': 0.01}, err_model=err_model, err_params=err_params, L=5)\n",
    "ss_sam.run(25000)\n",
    "end = time.time()\n",
    "qsample_time = end-begin\n",
    "\n",
    "v1b = ss_sam.stats()[0]\n",
    "w1b = ss_sam.stats()[2]\n",
    "\n",
    "plt.plot(q, v1)\n",
    "plt.plot(q, w1)\n",
    "plt.plot(q, v1b)\n",
    "plt.plot(q, w1b)\n",
    "plt.xscale('log')\n",
    "plt.yscale('log')\n",
    "print('time:', qsample_time, 's')"
   ]
  },
  {
   "cell_type": "code",
   "execution_count": null,
   "id": "2692d4c4",
   "metadata": {},
   "outputs": [],
   "source": [
    "\"\"\"\n",
    "IMPORTANT NOTE: The predictions output by pyMatching depend on the error rate of the STIM circuit,\n",
    "but the prediction error is nearly independent of the error rate if it is sufficient low (which is the\n",
    "regime we care about in QSample anyway), so in order to generate the first detector error model and \n",
    "Matching object, it is advisable to use a physical error rate by the lower end of your range.\n",
    "\"\"\"\n",
    "\n",
    "circuit = stim.Circuit.generated(\"surface_code:rotated_memory_x\", rounds=1, distance=3, after_clifford_depolarization=0.05,\n",
    "    after_reset_flip_probability=0.001,\n",
    "    before_measure_flip_probability=0.001,\n",
    "    before_round_data_depolarization=0.001,)\n",
    "surface_code = qs.Circuit(noisy=True).from_stim_circuit(circuit)\n",
    "\n",
    "matching = pymatching.Matching(surface_code.dem)\n",
    "num_detectors = matching.num_detectors\n",
    "detector_array = surface_code.detector_array\n",
    "\n",
    "\n",
    "corr = qs.Circuit(noisy=False).from_stim_circuit(\"\"\"X 1 8 15\"\"\")\n",
    "meas = qs.Circuit(noisy=False).from_stim_circuit(\"\"\"M 1 8 15\"\"\")\n",
    "\n",
    "round_ = 0\n",
    "def reset_count():\n",
    "    global round_\n",
    "    round_=0\n",
    "    return True\n",
    "\n",
    "def increase_count():\n",
    "    global round_\n",
    "    round_+=1\n",
    "    return round_\n",
    "\n",
    "def count():\n",
    "    global round_\n",
    "    return round_\n",
    "\n",
    "def int2meas(out):\n",
    "    result = []\n",
    "    for i in np.arange(surface_code.n_measurements)[::-1]:\n",
    "        result.append(out//(2**i))\n",
    "        out-=result[-1]*2**i\n",
    "    return result\n",
    "\n",
    "def measurement2detector(out, detector_array):\n",
    "    out = int2meas(out[-1])\n",
    "    detection_events = np.zeros(num_detectors)\n",
    "    for ii in range(num_detectors):\n",
    "        event = 0\n",
    "        for jj in detector_array[ii]:\n",
    "            event^=int(out[jj])\n",
    "        detection_events[ii]=event\n",
    "    return detection_events\n",
    "    \n",
    "def decoder(out):\n",
    "    detection_events = measurement2detector(out, detector_array)\n",
    "    result = matching.decode(detection_events)\n",
    "    return result\n",
    "\n",
    "def logErr(out):\n",
    "    return out[0] in [1, 2, 4, 7]\n",
    "\n",
    "functions = {'decoder': decoder, 'matching':matching, 'logErr':logErr,\n",
    "            'reset_count': reset_count, 'count': count, 'increase_count': increase_count}\n",
    "surface = qs.Protocol(check_functions=functions)\n",
    "\n",
    "\n",
    "n_rounds = 8\n",
    "surface.add_nodes_from(['SC', 'corr', 'meas'], circuits=[surface_code, corr, meas])\n",
    "surface.add_node('Round_counter', circuit=qs.Circuit([{\"I\": {0}}],noisy=False))\n",
    "surface.add_edge('START', 'Round_counter', check='reset_count()')\n",
    "surface.add_edge('Round_counter', 'SC', check='increase_count()')\n",
    "surface.add_edge('SC', 'corr', check='decoder(SC)')\n",
    "surface.add_edge('SC', 'Round_counter', check=f'(not decoder(SC)) and count()<{n_rounds}')\n",
    "surface.add_edge('SC', 'meas', check=f'(not decoder(SC)) and count()=={n_rounds}')\n",
    "surface.add_edge('corr', 'Round_counter', check=f'count()<{n_rounds}')\n",
    "surface.add_edge('corr', 'meas', check=f'count()=={n_rounds}')\n",
    "surface.add_edge('meas', 'FAIL', check='logErr(meas)')"
   ]
  },
  {
   "cell_type": "code",
   "execution_count": null,
   "id": "872cd7d2",
   "metadata": {},
   "outputs": [
    {
     "data": {
      "application/json": {
       "ascii": false,
       "bar_format": null,
       "colour": null,
       "elapsed": 0.022003889083862305,
       "initial": 0,
       "n": 0,
       "ncols": null,
       "nrows": 24,
       "postfix": null,
       "prefix": "p=('1.00e-02',)",
       "rate": null,
       "total": 25000,
       "unit": "it",
       "unit_divisor": 1000,
       "unit_scale": false
      },
      "application/vnd.jupyter.widget-view+json": {
       "model_id": "9241632730fa4ed7ac2d8b1b3ec94d76",
       "version_major": 2,
       "version_minor": 0
      },
      "text/plain": [
       "p=('1.00e-02',):   0%|          | 0/25000 [00:00<?, ?it/s]"
      ]
     },
     "metadata": {},
     "output_type": "display_data"
    },
    {
     "ename": "KeyboardInterrupt",
     "evalue": "",
     "output_type": "error",
     "traceback": [
      "\u001b[0;31m---------------------------------------------------------------------------\u001b[0m",
      "\u001b[0;31mKeyboardInterrupt\u001b[0m                         Traceback (most recent call last)",
      "Cell \u001b[0;32mIn[12], line 13\u001b[0m\n\u001b[1;32m     10\u001b[0m end \u001b[38;5;241m=\u001b[39m time\u001b[38;5;241m.\u001b[39mtime()\n\u001b[1;32m     11\u001b[0m qsample_time \u001b[38;5;241m=\u001b[39m end\u001b[38;5;241m-\u001b[39mbegin\n\u001b[0;32m---> 13\u001b[0m v1 \u001b[38;5;241m=\u001b[39m \u001b[43mss_sam\u001b[49m\u001b[38;5;241;43m.\u001b[39;49m\u001b[43mstats\u001b[49m\u001b[43m(\u001b[49m\u001b[43m)\u001b[49m[\u001b[38;5;241m0\u001b[39m]\n\u001b[1;32m     14\u001b[0m w1 \u001b[38;5;241m=\u001b[39m ss_sam\u001b[38;5;241m.\u001b[39mstats()[\u001b[38;5;241m2\u001b[39m]\n\u001b[1;32m     16\u001b[0m plt\u001b[38;5;241m.\u001b[39mplot(q, v1)\n",
      "File \u001b[0;32m~/Desktop/qsample/qsample/sampler/subset.py:89\u001b[0m, in \u001b[0;36mSubsetSampler.stats\u001b[0;34m(self, err_params)\u001b[0m\n\u001b[1;32m     87\u001b[0m delta \u001b[38;5;241m=\u001b[39m \u001b[38;5;28mself\u001b[39m\u001b[38;5;241m.\u001b[39mtree\u001b[38;5;241m.\u001b[39mdelta\n\u001b[1;32m     88\u001b[0m var \u001b[38;5;241m=\u001b[39m \u001b[38;5;28mself\u001b[39m\u001b[38;5;241m.\u001b[39mtree\u001b[38;5;241m.\u001b[39mvar(mode\u001b[38;5;241m=\u001b[39m\u001b[38;5;241m1\u001b[39m)\n\u001b[0;32m---> 89\u001b[0m var_up \u001b[38;5;241m=\u001b[39m \u001b[38;5;28;43mself\u001b[39;49m\u001b[38;5;241;43m.\u001b[39;49m\u001b[43mtree\u001b[49m\u001b[38;5;241;43m.\u001b[39;49m\u001b[43mvar\u001b[49m\u001b[43m(\u001b[49m\u001b[43mmode\u001b[49m\u001b[38;5;241;43m=\u001b[39;49m\u001b[38;5;241;43m0\u001b[39;49m\u001b[43m)\u001b[49m\n\u001b[1;32m     91\u001b[0m \u001b[38;5;28mself\u001b[39m\u001b[38;5;241m.\u001b[39mtree\u001b[38;5;241m.\u001b[39mconstants \u001b[38;5;241m=\u001b[39m _constants\n\u001b[1;32m     92\u001b[0m \u001b[38;5;28;01mreturn\u001b[39;00m np\u001b[38;5;241m.\u001b[39mbroadcast_arrays(p_L, np\u001b[38;5;241m.\u001b[39msqrt(var), p_L\u001b[38;5;241m+\u001b[39mdelta, np\u001b[38;5;241m.\u001b[39msqrt(var_up))\n",
      "File \u001b[0;32m~/Desktop/qsample/qsample/sampler/tree.py:532\u001b[0m, in \u001b[0;36mTree.var\u001b[0;34m(self, mode)\u001b[0m\n\u001b[1;32m    530\u001b[0m \u001b[38;5;28;01mfor\u001b[39;00m leaf \u001b[38;5;129;01min\u001b[39;00m leaves: \u001b[38;5;66;03m# path variances\u001b[39;00m\n\u001b[1;32m    531\u001b[0m     \u001b[38;5;28;01mif\u001b[39;00m \u001b[38;5;28mself\u001b[39m\u001b[38;5;241m.\u001b[39mpath_weight(leaf) \u001b[38;5;241m>\u001b[39m\u001b[38;5;241m=\u001b[39m \u001b[38;5;241m1\u001b[39m: \u001b[38;5;66;03m# exclude weight-0 paths\u001b[39;00m\n\u001b[0;32m--> 532\u001b[0m         acc \u001b[38;5;241m+\u001b[39m\u001b[38;5;241m=\u001b[39m \u001b[38;5;28;43mself\u001b[39;49m\u001b[38;5;241;43m.\u001b[39;49m\u001b[43mpath_var\u001b[49m\u001b[43m(\u001b[49m\u001b[43mleaf\u001b[49m\u001b[43m)\u001b[49m\n\u001b[1;32m    535\u001b[0m \u001b[38;5;66;03m# Add contributions to variance from no-fail paths\u001b[39;00m\n\u001b[1;32m    536\u001b[0m nf_leaves \u001b[38;5;241m=\u001b[39m \u001b[38;5;28mset\u001b[39m(n \u001b[38;5;28;01mfor\u001b[39;00m n \u001b[38;5;129;01min\u001b[39;00m leaf_set\u001b[38;5;241m.\u001b[39mdifference(\u001b[38;5;28mself\u001b[39m\u001b[38;5;241m.\u001b[39mmarked) \u001b[38;5;28;01mif\u001b[39;00m \u001b[38;5;28misinstance\u001b[39m(n,Variable) \u001b[38;5;129;01mand\u001b[39;00m \u001b[38;5;129;01mnot\u001b[39;00m n\u001b[38;5;241m.\u001b[39minvariant \u001b[38;5;129;01mand\u001b[39;00m \u001b[38;5;28mlen\u001b[39m(n\u001b[38;5;241m.\u001b[39msiblings)\u001b[38;5;241m==\u001b[39m\u001b[38;5;241m0\u001b[39m)\n",
      "File \u001b[0;32m~/Desktop/qsample/qsample/sampler/tree.py:460\u001b[0m, in \u001b[0;36mTree.path_var\u001b[0;34m(self, node, zero_leaf)\u001b[0m\n\u001b[1;32m    458\u001b[0m     v \u001b[38;5;241m=\u001b[39m \u001b[38;5;28mself\u001b[39m\u001b[38;5;241m.\u001b[39mvalue(n)\u001b[38;5;241m*\u001b[39m\u001b[38;5;241m*\u001b[39m\u001b[38;5;241m2\u001b[39m\n\u001b[1;32m    459\u001b[0m     \u001b[38;5;28;01mif\u001b[39;00m zero_leaf \u001b[38;5;129;01mand\u001b[39;00m n \u001b[38;5;241m==\u001b[39m node: v \u001b[38;5;241m=\u001b[39m \u001b[38;5;241m0\u001b[39m\n\u001b[0;32m--> 460\u001b[0m     E2 \u001b[38;5;241m*\u001b[39m\u001b[38;5;241m=\u001b[39m v\n\u001b[1;32m    461\u001b[0m     VpE2 \u001b[38;5;241m*\u001b[39m\u001b[38;5;241m=\u001b[39m (n\u001b[38;5;241m.\u001b[39mvar \u001b[38;5;241m+\u001b[39m v) \u001b[38;5;28;01mif\u001b[39;00m \u001b[38;5;28misinstance\u001b[39m(n,Variable) \u001b[38;5;28;01melse\u001b[39;00m v\n\u001b[1;32m    463\u001b[0m \u001b[38;5;28;01mreturn\u001b[39;00m VpE2 \u001b[38;5;241m-\u001b[39m E2\n",
      "\u001b[0;31mKeyboardInterrupt\u001b[0m: "
     ]
    }
   ],
   "source": [
    "\"\"\"RUNTIME > 20 min\n",
    "\n",
    "err_model = qs.noise.E1\n",
    "q = [1e-5, 1e-4, 1e-3, 1e-2, 1e-1]\n",
    "err_params = {'q': q}\n",
    "\n",
    "begin = time.time()\n",
    "ss_sam = qs.SubsetSampler(protocol=surface, simulator=qs.StimSimulator,  p_max={'q': 0.01}, err_model=err_model, err_params=err_params, L=5)\n",
    "ss_sam.run(25000)\n",
    "end = time.time()\n",
    "qsample_time = end-begin\n",
    "\n",
    "v1 = ss_sam.stats()[0]\n",
    "w1 = ss_sam.stats()[2]\n",
    "\n",
    "plt.plot(q, v1)\n",
    "plt.plot(q, w1)\n",
    "plt.xscale('log')\n",
    "plt.yscale('log')\n",
    "print('time:', qsample_time, 's')\n",
    "\"\"\""
   ]
  },
  {
   "cell_type": "code",
   "execution_count": null,
   "id": "1166aadd",
   "metadata": {},
   "outputs": [],
   "source": []
  }
 ],
 "metadata": {
  "kernelspec": {
   "display_name": "python3",
   "language": "python",
   "name": "python3"
  }
 },
 "nbformat": 4,
 "nbformat_minor": 5
}
