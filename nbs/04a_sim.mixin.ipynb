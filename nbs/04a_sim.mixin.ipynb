{
 "cells": [
  {
   "cell_type": "raw",
   "id": "44bff63e",
   "metadata": {},
   "source": [
    "---\n",
    "description: A mixin for simulators to implement gate application defined in a given `circuit` and optional `fault_circuit`.\n",
    "output-file: sim.mixin.html\n",
    "title: Simulator Mixin\n",
    "\n",
    "---\n",
    "\n"
   ]
  },
  {
   "cell_type": "code",
   "execution_count": null,
   "id": "d65c420c-79b4-4a30-9584-1b7dbaf41233",
   "metadata": {},
   "outputs": [],
   "source": [
    "#| default_exp sim.mixin"
   ]
  },
  {
   "cell_type": "code",
   "execution_count": null,
   "id": "4bf947c3-289a-4614-919f-fc7a15cd83a4",
   "metadata": {},
   "outputs": [],
   "source": [
    "#| include: false\n",
    "from nbdev.showdoc import *"
   ]
  },
  {
   "cell_type": "code",
   "execution_count": null,
   "id": "98b28c4e-bc9a-44ae-8465-b2a0186f32df",
   "metadata": {},
   "outputs": [],
   "source": [
    "#| export\n",
    "class CircuitRunnerMixin:\n",
    "    \"\"\"Simulator mixin for running quantum circuits\"\"\"\n",
    "        \n",
    "    def _apply_gate(self, gate_symbol: str, qubits: (int,tuple)) -> \"MeasurementResult\":\n",
    "        \"\"\"Apply a gate to the `qubits` of the current state.\"\"\"\n",
    "        \n",
    "        gate = getattr(self, gate_symbol)    \n",
    "        args = (qubits,) if type(qubits)==int else qubits\n",
    "        return gate(*args)\n",
    "    \n",
    "    def run(self, circuit, fault_circuit=None):\n",
    "        \"\"\"Apply gates in `circuit` sequentially to current state.\n",
    "        If `fault_circuit` is specified apply fault gates at end of each tick.\n",
    "        \n",
    "        Measurements are stored and executed at the end of a tick.\n",
    "        Measurement results are saved in the order in which they appear in the\n",
    "        circuit into an output string.\"\"\"\n",
    "        \n",
    "        msmt_res = []\n",
    "        for tick_index in range(circuit.n_ticks):\n",
    "            \n",
    "            msmts = []\n",
    "            \n",
    "            for gate, qubits in circuit[tick_index].items():\n",
    "                for qubit in qubits:\n",
    "                    if 'measure' in gate:\n",
    "                        msmts.append( (gate,qubit) ) # store measure gate, do not execute right away.\n",
    "                        continue\n",
    "                    res = self._apply_gate(gate, qubit) # execute gates in tick of circuit\n",
    "                        \n",
    "            if fault_circuit:\n",
    "                for f_gate, f_qubits in fault_circuit[tick_index].items():\n",
    "                    for f_qubit in f_qubits:\n",
    "                        self._apply_gate(f_gate, f_qubit) # execute gates in tick of fault circuit\n",
    "                    \n",
    "            for gate, qubit in msmts: # exec stored measurement at end of tick.\n",
    "                res = self._apply_gate(gate, qubit) # Execute measuremnt\n",
    "                msmt_res.append( int(res.value) ) # Append measurement result to list in order of appearance in tick.\n",
    "\n",
    "        if msmt_res: \n",
    "            return ''.join(map(str, msmt_res))\n",
    "        else: \n",
    "            return None # no measurement"
   ]
  }
 ],
 "metadata": {
  "kernelspec": {
   "display_name": "Python 3 (ipykernel)",
   "language": "python",
   "name": "python3"
  }
 },
 "nbformat": 4,
 "nbformat_minor": 5
}
