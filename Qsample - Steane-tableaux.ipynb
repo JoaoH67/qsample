{
 "cells": [
  {
   "cell_type": "code",
   "execution_count": 1,
   "id": "f78bce89",
   "metadata": {},
   "outputs": [],
   "source": [
    "import qsample as qs\n",
    "import time\n",
    "import stim\n",
    "import numpy as np\n",
    "import matplotlib.pyplot as plt\n",
    "import time\n",
    "import re\n",
    "from tqdm.notebook import tqdm\n",
    "import random"
   ]
  },
  {
   "cell_type": "code",
   "execution_count": 2,
   "id": "0ceaabcc",
   "metadata": {},
   "outputs": [],
   "source": [
    "eft = qs.Circuit(\"\"\"R 0 1 2 3 4 5 6 7\n",
    "H 0 1 3\n",
    "                        CNOT 0 4\n",
    "                        CNOT 1 2\n",
    "                        TICK\n",
    "                        CNOT 3 5\n",
    "                        TICK\n",
    "                        CNOT 0 6\n",
    "                        TICK\n",
    "                        CNOT 3 4\n",
    "                        TICK\n",
    "                        CNOT 1 5\n",
    "                        TICK\n",
    "                        CNOT 0 2\n",
    "                        TICK\n",
    "                        CNOT 5 6\n",
    "                        TICK\n",
    "                        CNOT 4 7\n",
    "                        TICK\n",
    "                        CNOT 2 7\n",
    "                        TICK\n",
    "                        CNOT 5 7\n",
    "                        M 7\"\"\")\n",
    "\n",
    "sz_123 = qs.Circuit(\"\"\"R 8\n",
    "CNOT 0 8\n",
    "                        TICK\n",
    "                        CNOT 1 8\n",
    "                        TICK\n",
    "                        CNOT 3 8\n",
    "                        TICK\n",
    "                        CNOT 6 8\n",
    "                            M 8\"\"\")\n",
    "\n",
    "meas7 = qs.Circuit(\"\"\"M 0 1 2 3 4 5 6\"\"\", noisy=False)\n",
    "\n",
    "\n",
    "\n",
    "\n",
    "\n",
    "k1 = 0b0001111\n",
    "k2 = 0b1010101\n",
    "k3 = 0b0110011\n",
    "k12 = k1 ^ k2\n",
    "k23 = k2 ^ k3\n",
    "k13 = k1 ^ k3\n",
    "k123 = k12 ^ k3\n",
    "stabilizerGenerators = [k1, k2, k3]\n",
    "stabilizerSet = [0, k1, k2, k3, k12, k23, k13, k123]\n",
    "\n",
    "def hamming2(x, y):\n",
    "    count, z = 0, x ^ y\n",
    "    while z:\n",
    "        count += 1\n",
    "        z &= z - 1\n",
    "    return count\n",
    "\n",
    "fails = []\n",
    "def logErr(out):\n",
    "    global fails\n",
    "    c = np.array([hamming2(out, i) for i in stabilizerSet])\n",
    "    d = np.flatnonzero(c <= 1)\n",
    "    e = np.array([hamming2(out ^ (0b1111111), i) for i in stabilizerSet])\n",
    "    f = np.flatnonzero(e <= 1)\n",
    "    if len(d) != 0:\n",
    "        return False\n",
    "    elif len(f) != 0:\n",
    "        fails.append(out)\n",
    "        return True\n",
    "    if len(d) != 0 and len(f) != 0: \n",
    "        raise('-!-!-CANNOT BE TRUE-!-!-')\n",
    "\n",
    "def flagged_z_look_up_table_1(z):\n",
    "    s = [z]\n",
    "\n",
    "    if s == [1]:\n",
    "        return True\n",
    "    else: \n",
    "        return False\n",
    "\n",
    "functions = {\"logErr\": logErr, \"lut\": flagged_z_look_up_table_1}\n",
    "\n",
    "steane0 = qs.Protocol(check_functions=functions, fault_tolerant=True)\n",
    "\n",
    "steane0.add_nodes_from(['ENC', 'Z2', 'meas'], circuits=[eft, sz_123, meas7])\n",
    "steane0.add_node('X_COR', circuit=qs.Circuit(\"\"\"X 6\"\"\", noisy=True))\n",
    "steane0.add_edge('START', 'ENC', check='True')\n",
    "steane0.add_edge('ENC', 'meas', check='ENC[-1]==0')\n",
    "steane0.add_edge('ENC', 'Z2', check='ENC[-1]==1')\n",
    "steane0.add_edge('Z2', 'X_COR', check='lut(Z2[-1])')\n",
    "steane0.add_edge('Z2', 'meas', check='not lut(Z2[-1])')\n",
    "steane0.add_edge('X_COR', 'meas', check='True')\n",
    "steane0.add_edge('meas', 'FAIL', check='logErr(meas[-1])')"
   ]
  },
  {
   "cell_type": "code",
   "execution_count": 3,
   "id": "bdfaec41",
   "metadata": {},
   "outputs": [
    {
     "data": {
      "application/vnd.jupyter.widget-view+json": {
       "model_id": "5c5c36a33acc49469f9fa630ef232541",
       "version_major": 2,
       "version_minor": 0
      },
      "text/plain": [
       "p=('1.00e-01',):   0%|          | 0/2000 [00:00<?, ?it/s]"
      ]
     },
     "metadata": {},
     "output_type": "display_data"
    },
    {
     "name": "stdout",
     "output_type": "stream",
     "text": [
      "0: {}\n",
      "1: {'X': {0}}\n",
      "2: {}\n",
      "3: {}\n",
      "4: {'Z': {3}, 'X': {5}}\n",
      "5: {}\n",
      "6: {'Y': {4}}\n",
      "7: {}\n",
      "8: {}\n",
      "9: {}\n",
      "10: {}\n",
      "11: {}\n",
      "12: {'X': {5}, 'Y': {7}}\n",
      "13: {}\n"
     ]
    },
    {
     "ename": "ValueError",
     "evalue": "Index is out of range. Need -len(circuit) <= index <= len(circuit).\n    index=9\n    len(circuit)=7",
     "output_type": "error",
     "traceback": [
      "\u001b[0;31m---------------------------------------------------------------------------\u001b[0m",
      "\u001b[0;31mValueError\u001b[0m                                Traceback (most recent call last)",
      "Input \u001b[0;32mIn [3]\u001b[0m, in \u001b[0;36m<cell line: 7>\u001b[0;34m()\u001b[0m\n\u001b[1;32m      5\u001b[0m begin \u001b[38;5;241m=\u001b[39m time\u001b[38;5;241m.\u001b[39mtime()\n\u001b[1;32m      6\u001b[0m stim_sam \u001b[38;5;241m=\u001b[39m qs\u001b[38;5;241m.\u001b[39mSubsetSampler(protocol\u001b[38;5;241m=\u001b[39msteane0, simulator\u001b[38;5;241m=\u001b[39mqs\u001b[38;5;241m.\u001b[39mStimSimulator,  p_max\u001b[38;5;241m=\u001b[39m{\u001b[38;5;124m'\u001b[39m\u001b[38;5;124mq\u001b[39m\u001b[38;5;124m'\u001b[39m: \u001b[38;5;241m0.1\u001b[39m}, err_model\u001b[38;5;241m=\u001b[39merr_model, err_params\u001b[38;5;241m=\u001b[39merr_params, L\u001b[38;5;241m=\u001b[39m\u001b[38;5;241m3\u001b[39m)\n\u001b[0;32m----> 7\u001b[0m \u001b[43mstim_sam\u001b[49m\u001b[38;5;241;43m.\u001b[39;49m\u001b[43mrun\u001b[49m\u001b[43m(\u001b[49m\u001b[38;5;241;43m2000\u001b[39;49m\u001b[43m)\u001b[49m\n\u001b[1;32m      8\u001b[0m end \u001b[38;5;241m=\u001b[39m time\u001b[38;5;241m.\u001b[39mtime()\n\u001b[1;32m      9\u001b[0m stim_time \u001b[38;5;241m=\u001b[39m end\u001b[38;5;241m-\u001b[39mbegin\n",
      "File \u001b[0;32m~/Desktop/qsample/qsample/sampler/subset.py:205\u001b[0m, in \u001b[0;36mSubsetSampler.run\u001b[0;34m(self, n_shots, callbacks)\u001b[0m\n\u001b[1;32m    201\u001b[0m fault_locs \u001b[38;5;241m=\u001b[39m \u001b[38;5;28mself\u001b[39m\u001b[38;5;241m.\u001b[39merr_model\u001b[38;5;241m.\u001b[39mchoose_w(\u001b[38;5;28mself\u001b[39m\u001b[38;5;241m.\u001b[39mpartitions[circuit\u001b[38;5;241m.\u001b[39mid], subset)\n\u001b[1;32m    203\u001b[0m fault_circuit \u001b[38;5;241m=\u001b[39m \u001b[38;5;28mself\u001b[39m\u001b[38;5;241m.\u001b[39merr_model\u001b[38;5;241m.\u001b[39mrun(circuit, fault_locs)\n\u001b[0;32m--> 205\u001b[0m msmt \u001b[38;5;241m=\u001b[39m \u001b[43mstate\u001b[49m\u001b[38;5;241;43m.\u001b[39;49m\u001b[43mrun\u001b[49m\u001b[43m(\u001b[49m\u001b[43mcircuit\u001b[49m\u001b[43m,\u001b[49m\u001b[43m \u001b[49m\u001b[43mfault_circuit\u001b[49m\u001b[43m)\u001b[49m\n\u001b[1;32m    206\u001b[0m tnode \u001b[38;5;241m=\u001b[39m \u001b[38;5;28mself\u001b[39m\u001b[38;5;241m.\u001b[39mtree\u001b[38;5;241m.\u001b[39madd(name\u001b[38;5;241m=\u001b[39msubset, parent\u001b[38;5;241m=\u001b[39mtnode, node_type\u001b[38;5;241m=\u001b[39mConstant)\n\u001b[1;32m    207\u001b[0m tnode\u001b[38;5;241m.\u001b[39mcount \u001b[38;5;241m+\u001b[39m\u001b[38;5;241m=\u001b[39m \u001b[38;5;241m1\u001b[39m\n",
      "File \u001b[0;32m~/Desktop/qsample/qsample/sim/stim_simulator.py:28\u001b[0m, in \u001b[0;36mStimSimulator.run\u001b[0;34m(self, circuit, fault_circuit)\u001b[0m\n\u001b[1;32m     26\u001b[0m     \u001b[38;5;28;01mfor\u001b[39;00m i, j \u001b[38;5;129;01min\u001b[39;00m \u001b[38;5;28menumerate\u001b[39m(fault_circuit\u001b[38;5;241m.\u001b[39m_ticks):\n\u001b[1;32m     27\u001b[0m         \u001b[38;5;28;01mif\u001b[39;00m \u001b[38;5;28mlen\u001b[39m(j):\n\u001b[0;32m---> 28\u001b[0m             \u001b[43mnew_circuit\u001b[49m\u001b[38;5;241;43m.\u001b[39;49m\u001b[43minsert\u001b[49m\u001b[43m(\u001b[49m\u001b[43mi\u001b[49m\u001b[38;5;241;43m+\u001b[39;49m\u001b[43moffset\u001b[49m\u001b[43m,\u001b[49m\u001b[43m \u001b[49m\u001b[43mCircuit\u001b[49m\u001b[43m(\u001b[49m\u001b[43m[\u001b[49m\u001b[43mj\u001b[49m\u001b[43m]\u001b[49m\u001b[43m)\u001b[49m\u001b[38;5;241;43m.\u001b[39;49m\u001b[43mstim_circuit\u001b[49m\u001b[43m)\u001b[49m\n\u001b[1;32m     29\u001b[0m             offset\u001b[38;5;241m+\u001b[39m\u001b[38;5;241m=\u001b[39m\u001b[38;5;28mlen\u001b[39m(j)\n\u001b[1;32m     30\u001b[0m \u001b[38;5;28mprint\u001b[39m(\u001b[38;5;28mrepr\u001b[39m(new_circuit))\n",
      "\u001b[0;31mValueError\u001b[0m: Index is out of range. Need -len(circuit) <= index <= len(circuit).\n    index=9\n    len(circuit)=7"
     ]
    }
   ],
   "source": [
    "err_model = qs.noise.E1\n",
    "q = [1e-5, 1e-4, 1e-3, 1e-2, 1e-1, 0.5]\n",
    "err_params = {'q': q}\n",
    "\n",
    "begin = time.time()\n",
    "stim_sam = qs.SubsetSampler(protocol=steane0, simulator=qs.StimSimulator,  p_max={'q': 0.1}, err_model=err_model, err_params=err_params, L=3)\n",
    "stim_sam.run(2000)\n",
    "end = time.time()\n",
    "stim_time = end-begin\n",
    "\n",
    "v2 = stim_sam.stats()[0]\n",
    "w2 = stim_sam.stats()[2]"
   ]
  },
  {
   "cell_type": "code",
   "execution_count": 14,
   "id": "a4fde547",
   "metadata": {},
   "outputs": [
    {
     "data": {
      "text/plain": [
       "4"
      ]
     },
     "execution_count": 14,
     "metadata": {},
     "output_type": "execute_result"
    }
   ],
   "source": [
    "aa = stim.Circuit('''\n",
    "    R 0 1 2 3 4 5 6 7\n",
    "    H 0 1 3\n",
    "    Z 0\n",
    "    X 0''')\n",
    "len(aa)"
   ]
  },
  {
   "cell_type": "code",
   "execution_count": 3,
   "id": "5d4bd367",
   "metadata": {},
   "outputs": [
    {
     "name": "stdout",
     "output_type": "stream",
     "text": [
      "dict_keys(['Y', 'X'])\n"
     ]
    },
    {
     "data": {
      "text/plain": [
       "stim.Circuit('''\n",
       "    Y 5\n",
       "    X 5\n",
       "''')"
      ]
     },
     "execution_count": 3,
     "metadata": {},
     "output_type": "execute_result"
    }
   ],
   "source": [
    "qiw = qs.Circuit([{'Y': {5}, 'X': {6}}])\n",
    "for tick in qiw._ticks:\n",
    "    print(tick.keys())\n",
    "qiw.stim_circuit"
   ]
  },
  {
   "cell_type": "code",
   "execution_count": 4,
   "id": "6b11d58c",
   "metadata": {},
   "outputs": [],
   "source": [
    "eft = qs.Circuit([  {\"init\": {0,1,2,4,3,5,6,7}},\n",
    "                    {\"H\": {0,1,3}},\n",
    "                    {\"CNOT\": {(0,4)}},\n",
    "                    {\"CNOT\": {(1,2)}},\n",
    "                    {\"CNOT\": {(3,5)}},\n",
    "                    {\"CNOT\": {(0,6)}},\n",
    "                    {\"CNOT\": {(3,4)}},\n",
    "                    {\"CNOT\": {(1,5)}},\n",
    "                    {\"CNOT\": {(0,2)}},\n",
    "                    {\"CNOT\": {(5,6)}},\n",
    "                    {\"CNOT\": {(4,7)}},\n",
    "                    {\"CNOT\": {(2,7)}},\n",
    "                    {\"CNOT\": {(5,7)}},\n",
    "                    {\"measure\": {7}} ])\n",
    "\n",
    "sz_123 = qs.Circuit([   {\"init\": {8}},\n",
    "                        {\"CNOT\": {(0,8)}},\n",
    "                        {\"CNOT\": {(1,8)}},\n",
    "                        {\"CNOT\": {(3,8)}},\n",
    "                        {\"CNOT\": {(6,8)}},\n",
    "                        {\"measure\": {8}}])\n",
    "\n",
    "meas7 = qs.Circuit([ {\"measure\": {0,1,2,3,4,5,6}} ], noisy=False)\n",
    "\n",
    "\n",
    "\n",
    "\n",
    "\n",
    "k1 = 0b0001111\n",
    "k2 = 0b1010101\n",
    "k3 = 0b0110011\n",
    "k12 = k1 ^ k2\n",
    "k23 = k2 ^ k3\n",
    "k13 = k1 ^ k3\n",
    "k123 = k12 ^ k3\n",
    "stabilizerGenerators = [k1, k2, k3]\n",
    "stabilizerSet = [0, k1, k2, k3, k12, k23, k13, k123]\n",
    "\n",
    "def hamming2(x, y):\n",
    "    count, z = 0, x ^ y\n",
    "    while z:\n",
    "        count += 1\n",
    "        z &= z - 1\n",
    "    return count\n",
    "\n",
    "fails = []\n",
    "\n",
    "def logErr(out):\n",
    "    global fails\n",
    "    \n",
    "    c = np.array([hamming2(out, i) for i in stabilizerSet])\n",
    "    d = np.flatnonzero(c <= 1)\n",
    "    e = np.array([hamming2(out ^ (0b1111111), i) for i in stabilizerSet])\n",
    "    f = np.flatnonzero(e <= 1)\n",
    "    if len(d) != 0:\n",
    "        return False\n",
    "    elif len(f) != 0:\n",
    "        fails.append(out)\n",
    "        return True\n",
    "    if len(d) != 0 and len(f) != 0: \n",
    "        raise('-!-!-CANNOT BE TRUE-!-!-')\n",
    "\n",
    "def flagged_z_look_up_table_1(z):\n",
    "    s = [z]\n",
    "\n",
    "    if s == [1]:\n",
    "        return True\n",
    "    else: \n",
    "        return False\n",
    "\n",
    "functions = {\"logErr\": logErr, \"lut\": flagged_z_look_up_table_1}\n",
    "\n",
    "steane0 = qs.Protocol(check_functions=functions, fault_tolerant=True)\n",
    "\n",
    "steane0.add_nodes_from(['ENC', 'Z2', 'meas'], circuits=[eft, sz_123, meas7])\n",
    "steane0.add_node('X_COR', circuit=qs.Circuit([{'X': {6}}], noisy=True))\n",
    "steane0.add_edge('START', 'ENC', check='True')\n",
    "steane0.add_edge('ENC', 'meas', check='ENC[-1]==0')\n",
    "steane0.add_edge('ENC', 'Z2', check='ENC[-1]==1')\n",
    "steane0.add_edge('Z2', 'X_COR', check='lut(Z2[-1])')\n",
    "steane0.add_edge('Z2', 'meas', check='not lut(Z2[-1])')\n",
    "steane0.add_edge('X_COR', 'meas', check='True')\n",
    "steane0.add_edge('meas', 'FAIL', check='logErr(meas[-1])')"
   ]
  },
  {
   "cell_type": "code",
   "execution_count": 5,
   "id": "a4587cd3",
   "metadata": {},
   "outputs": [
    {
     "data": {
      "application/vnd.jupyter.widget-view+json": {
       "model_id": "0218526a3570423db38aa6a18d3f104b",
       "version_major": 2,
       "version_minor": 0
      },
      "text/plain": [
       "p=('1.00e-01',):   0%|          | 0/2000 [00:00<?, ?it/s]"
      ]
     },
     "metadata": {},
     "output_type": "display_data"
    }
   ],
   "source": [
    "err_model = qs.noise.E1\n",
    "q = [1e-5, 1e-4, 1e-3, 1e-2, 1e-1, 0.5]\n",
    "err_params = {'q': q}\n",
    "\n",
    "begin = time.time()\n",
    "ss_sam = qs.SubsetSampler(protocol=steane0, simulator=qs.StabilizerSimulator,  p_max={'q': 0.1}, err_model=err_model, err_params=err_params, L=3)\n",
    "ss_sam.run(2000)\n",
    "end = time.time()\n",
    "qsample_time = end-begin\n",
    "\n",
    "v1 = ss_sam.stats()[0]\n",
    "w1 = ss_sam.stats()[2]"
   ]
  },
  {
   "cell_type": "code",
   "execution_count": 6,
   "id": "b3a687f0",
   "metadata": {},
   "outputs": [
    {
     "name": "stdout",
     "output_type": "stream",
     "text": [
      "1.872802972793579\n",
      "1.9106721878051758\n"
     ]
    },
    {
     "data": {
      "image/png": "[encoded data removed]",
      "text/plain": [
       "<Figure size 432x288 with 1 Axes>"
      ]
     },
     "metadata": {
      "needs_background": "light"
     },
     "output_type": "display_data"
    }
   ],
   "source": [
    "plt.plot(q, v1)\n",
    "plt.plot(q, w1)\n",
    "plt.plot(q, v2)\n",
    "plt.plot(q, w2)\n",
    "\n",
    "plt.xscale('log')\n",
    "plt.yscale('log')\n",
    "\n",
    "print(qsample_time)\n",
    "print(stim_time)"
   ]
  },
  {
   "cell_type": "code",
   "execution_count": null,
   "id": "38c3fa41",
   "metadata": {},
   "outputs": [],
   "source": [
    "qsample_times = []\n",
    "stim_times = []\n",
    "\n",
    "samples = [100, 300, 1000, 3000, 10000, 50000]\n",
    "\n",
    "for s in samples:\n",
    "    begin = time.time()\n",
    "    ss_sam = qs.SubsetSampler(protocol=steane0, simulator=qs.StabilizerSimulator,  p_max={'q': 0.01}, err_model=err_model, err_params=err_params, L=3)\n",
    "    ss_sam.run(s)\n",
    "    end = time.time()\n",
    "    qsample_times.append(end-begin)\n",
    "\n",
    "    begin = time.time()\n",
    "    ss_sam = qs.SubsetSampler(protocol=steane0, simulator=qs.StimSimulator,  p_max={'q': 0.01}, err_model=err_model, err_params=err_params, L=3)\n",
    "    ss_sam.run(s)\n",
    "    end = time.time()\n",
    "    stim_times.append(end-begin)"
   ]
  },
  {
   "cell_type": "code",
   "execution_count": null,
   "id": "69bdf562",
   "metadata": {},
   "outputs": [],
   "source": [
    "plt.plot(samples, qsample_times, label = 'stabilizer sim.')\n",
    "plt.plot(samples, stim_times, label = 'stim sim.')\n",
    "plt.legend()\n",
    "plt.xscale('log')\n",
    "plt.yscale('log')\n",
    "plt.ylabel('time (s)')\n",
    "plt.xlabel('# of samples')\n",
    "\n",
    "print('Average ratio of stim time/stabilizer time: {:.2f}'.format(np.average(np.array(stim_times)/np.array(qsample_times))))"
   ]
  },
  {
   "cell_type": "code",
   "execution_count": null,
   "id": "97fab293",
   "metadata": {},
   "outputs": [],
   "source": []
  }
 ],
 "metadata": {
  "kernelspec": {
   "display_name": "Python 3 (ipykernel)",
   "language": "python",
   "name": "python3"
  },
  "language_info": {
   "codemirror_mode": {
    "name": "ipython",
    "version": 3
   },
   "file_extension": ".py",
   "mimetype": "text/x-python",
   "name": "python",
   "nbconvert_exporter": "python",
   "pygments_lexer": "ipython3",
   "version": "3.9.12"
  }
 },
 "nbformat": 4,
 "nbformat_minor": 5
}
