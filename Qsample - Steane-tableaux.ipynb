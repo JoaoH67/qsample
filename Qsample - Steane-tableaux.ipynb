{
 "cells": [
  {
   "cell_type": "code",
   "execution_count": 1,
   "id": "f78bce89",
   "metadata": {},
   "outputs": [],
   "source": [
    "import qsample as qs\n",
    "import qiskit\n",
    "import time\n",
    "import stim\n",
    "import numpy as np\n",
    "import matplotlib.pyplot as plt\n",
    "import time\n",
    "import re\n",
    "from tqdm.notebook import tqdm\n",
    "import random"
   ]
  },
  {
   "cell_type": "markdown",
   "id": "5d1711fa",
   "metadata": {},
   "source": [
    "# Input = STIM"
   ]
  },
  {
   "cell_type": "code",
   "execution_count": 2,
   "id": "280c99aa",
   "metadata": {},
   "outputs": [],
   "source": [
    "eft = qs.Circuit(noisy=True)\n",
    "sz_123 = qs.Circuit(noisy=True)\n",
    "meas7 = qs.Circuit(noisy=False)\n",
    "\n",
    "eft.from_stim_circuit(\"\"\"R 0 1 2 3 4 5 6 7\n",
    "H 0 1 3\n",
    "                        CNOT 0 4\n",
    "                        CNOT 1 2\n",
    "                        TICK\n",
    "                        CNOT 3 5\n",
    "                        TICK\n",
    "                        CNOT 0 6\n",
    "                        TICK\n",
    "                        CNOT 3 4\n",
    "                        TICK\n",
    "                        CNOT 1 5\n",
    "                        TICK\n",
    "                        CNOT 0 2\n",
    "                        TICK\n",
    "                        CNOT 5 6\n",
    "                        TICK\n",
    "                        CNOT 4 7\n",
    "                        TICK\n",
    "                        CNOT 2 7\n",
    "                        TICK\n",
    "                        CNOT 5 7\n",
    "                        M 7\"\"\")\n",
    "\n",
    "sz_123.from_stim_circuit(\"\"\"R 8\n",
    "CNOT 0 8\n",
    "                        TICK\n",
    "                        CNOT 1 8\n",
    "                        TICK\n",
    "                        CNOT 3 8\n",
    "                        TICK\n",
    "                        CNOT 6 8\n",
    "                            M 8\"\"\")\n",
    "\n",
    "meas7.from_stim_circuit(\"\"\"M 0 1 2 3 4 5 6\"\"\")\n",
    "\n",
    "\n",
    "\n",
    "\n",
    "\n",
    "k1 = 0b0001111\n",
    "k2 = 0b1010101\n",
    "k3 = 0b0110011\n",
    "k12 = k1 ^ k2\n",
    "k23 = k2 ^ k3\n",
    "k13 = k1 ^ k3\n",
    "k123 = k12 ^ k3\n",
    "stabilizerGenerators = [k1, k2, k3]\n",
    "stabilizerSet = [0, k1, k2, k3, k12, k23, k13, k123]\n",
    "\n",
    "def hamming2(x, y):\n",
    "    count, z = 0, x ^ y\n",
    "    while z:\n",
    "        count += 1\n",
    "        z &= z - 1\n",
    "    return count\n",
    "\n",
    "fails = []\n",
    "def logErr(out):\n",
    "    global fails\n",
    "    c = np.array([hamming2(out, i) for i in stabilizerSet])\n",
    "    d = np.flatnonzero(c <= 1)\n",
    "    e = np.array([hamming2(out ^ (0b1111111), i) for i in stabilizerSet])\n",
    "    f = np.flatnonzero(e <= 1)\n",
    "    if len(d) != 0:\n",
    "        return False\n",
    "    elif len(f) != 0:\n",
    "        fails.append(out)\n",
    "        return True\n",
    "    if len(d) != 0 and len(f) != 0: \n",
    "        raise('-!-!-CANNOT BE TRUE-!-!-')\n",
    "\n",
    "def flagged_z_look_up_table_1(z):\n",
    "    s = [z]\n",
    "\n",
    "    if s == [1]:\n",
    "        return True\n",
    "    else: \n",
    "        return False\n",
    "\n",
    "functions = {\"logErr\": logErr, \"lut\": flagged_z_look_up_table_1}\n",
    "\n",
    "steane0 = qs.Protocol(check_functions=functions, fault_tolerant=True)\n",
    "\n",
    "steane0.add_nodes_from(['ENC', 'Z2', 'meas'], circuits=[eft, sz_123, meas7])\n",
    "steane0.add_node('X_COR', circuit=qs.Circuit(noisy=True).from_stim_circuit(\"\"\"X 6\"\"\"))\n",
    "steane0.add_edge('START', 'ENC', check='True')\n",
    "steane0.add_edge('ENC', 'meas', check='ENC[-1]==0')\n",
    "steane0.add_edge('ENC', 'Z2', check='ENC[-1]==1')\n",
    "steane0.add_edge('Z2', 'X_COR', check='lut(Z2[-1])')\n",
    "steane0.add_edge('Z2', 'meas', check='not lut(Z2[-1])')\n",
    "steane0.add_edge('X_COR', 'meas', check='True')\n",
    "steane0.add_edge('meas', 'FAIL', check='logErr(meas[-1])')"
   ]
  },
  {
   "cell_type": "code",
   "execution_count": 3,
   "id": "bdfaec41",
   "metadata": {},
   "outputs": [
    {
     "data": {
      "application/vnd.jupyter.widget-view+json": {
       "model_id": "85eeb51398434fb4b914c6fb7662f968",
       "version_major": 2,
       "version_minor": 0
      },
      "text/plain": [
       "p=('1.00e-01',):   0%|          | 0/2000 [00:00<?, ?it/s]"
      ]
     },
     "metadata": {},
     "output_type": "display_data"
    }
   ],
   "source": [
    "err_model = qs.noise.E1\n",
    "q = [1e-5, 1e-4, 1e-3, 1e-2, 1e-1, 0.5]\n",
    "err_params = {'q': q}\n",
    "\n",
    "begin = time.time()\n",
    "stim_sam = qs.SubsetSampler(protocol=steane0, simulator=qs.StimSimulator,  p_max={'q': 0.1}, err_model=err_model, err_params=err_params, L=3)\n",
    "stim_sam.run(2000)\n",
    "end = time.time()\n",
    "stim_time = end-begin\n",
    "\n",
    "v2 = stim_sam.stats()[0]\n",
    "w2 = stim_sam.stats()[2]"
   ]
  },
  {
   "cell_type": "markdown",
   "id": "497cb522",
   "metadata": {},
   "source": [
    "# Input = qsample"
   ]
  },
  {
   "cell_type": "code",
   "execution_count": 4,
   "id": "6b11d58c",
   "metadata": {},
   "outputs": [],
   "source": [
    "eft = qs.Circuit([  {\"init\": {0,1,2,4,3,5,6,7}},\n",
    "                    {\"H\": {0,1,3}},\n",
    "                    {\"CNOT\": {(0,4)}},\n",
    "                    {\"CNOT\": {(1,2)}},\n",
    "                    {\"CNOT\": {(3,5)}},\n",
    "                    {\"CNOT\": {(0,6)}},\n",
    "                    {\"CNOT\": {(3,4)}},\n",
    "                    {\"CNOT\": {(1,5)}},\n",
    "                    {\"CNOT\": {(0,2)}},\n",
    "                    {\"CNOT\": {(5,6)}},\n",
    "                    {\"CNOT\": {(4,7)}},\n",
    "                    {\"CNOT\": {(2,7)}},\n",
    "                    {\"CNOT\": {(5,7)}},\n",
    "                    {\"measure\": {7}} ])\n",
    "\n",
    "sz_123 = qs.Circuit([   {\"init\": {8}},\n",
    "                        {\"CNOT\": {(0,8)}},\n",
    "                        {\"CNOT\": {(1,8)}},\n",
    "                        {\"CNOT\": {(3,8)}},\n",
    "                        {\"CNOT\": {(6,8)}},\n",
    "                        {\"measure\": {8}}])\n",
    "\n",
    "meas7 = qs.Circuit([ {\"measure\": {0,1,2,3,4,5,6}} ], noisy=False)\n",
    "\n",
    "\n",
    "\n",
    "\n",
    "\n",
    "k1 = 0b0001111\n",
    "k2 = 0b1010101\n",
    "k3 = 0b0110011\n",
    "k12 = k1 ^ k2\n",
    "k23 = k2 ^ k3\n",
    "k13 = k1 ^ k3\n",
    "k123 = k12 ^ k3\n",
    "stabilizerGenerators = [k1, k2, k3]\n",
    "stabilizerSet = [0, k1, k2, k3, k12, k23, k13, k123]\n",
    "\n",
    "def hamming2(x, y):\n",
    "    count, z = 0, x ^ y\n",
    "    while z:\n",
    "        count += 1\n",
    "        z &= z - 1\n",
    "    return count\n",
    "\n",
    "fails = []\n",
    "\n",
    "def logErr(out):\n",
    "    global fails\n",
    "    \n",
    "    c = np.array([hamming2(out, i) for i in stabilizerSet])\n",
    "    d = np.flatnonzero(c <= 1)\n",
    "    e = np.array([hamming2(out ^ (0b1111111), i) for i in stabilizerSet])\n",
    "    f = np.flatnonzero(e <= 1)\n",
    "    if len(d) != 0:\n",
    "        return False\n",
    "    elif len(f) != 0:\n",
    "        fails.append(out)\n",
    "        return True\n",
    "    if len(d) != 0 and len(f) != 0: \n",
    "        raise('-!-!-CANNOT BE TRUE-!-!-')\n",
    "\n",
    "def flagged_z_look_up_table_1(z):\n",
    "    s = [z]\n",
    "\n",
    "    if s == [1]:\n",
    "        return True\n",
    "    else: \n",
    "        return False\n",
    "\n",
    "functions = {\"logErr\": logErr, \"lut\": flagged_z_look_up_table_1}\n",
    "\n",
    "steane0 = qs.Protocol(check_functions=functions, fault_tolerant=True)\n",
    "\n",
    "steane0.add_nodes_from(['ENC', 'Z2', 'meas'], circuits=[eft, sz_123, meas7])\n",
    "steane0.add_node('X_COR', circuit=qs.Circuit([{'X': {6}}], noisy=True))\n",
    "steane0.add_edge('START', 'ENC', check='True')\n",
    "steane0.add_edge('ENC', 'meas', check='ENC[-1]==0')\n",
    "steane0.add_edge('ENC', 'Z2', check='ENC[-1]==1')\n",
    "steane0.add_edge('Z2', 'X_COR', check='lut(Z2[-1])')\n",
    "steane0.add_edge('Z2', 'meas', check='not lut(Z2[-1])')\n",
    "steane0.add_edge('X_COR', 'meas', check='True')\n",
    "steane0.add_edge('meas', 'FAIL', check='logErr(meas[-1])')"
   ]
  },
  {
   "cell_type": "code",
   "execution_count": 5,
   "id": "a4587cd3",
   "metadata": {},
   "outputs": [
    {
     "data": {
      "application/vnd.jupyter.widget-view+json": {
       "model_id": "c246524119664bccae441f6c645d1d7f",
       "version_major": 2,
       "version_minor": 0
      },
      "text/plain": [
       "p=('1.00e-01',):   0%|          | 0/2000 [00:00<?, ?it/s]"
      ]
     },
     "metadata": {},
     "output_type": "display_data"
    }
   ],
   "source": [
    "err_model = qs.noise.E1\n",
    "q = [1e-5, 1e-4, 1e-3, 1e-2, 1e-1, 0.5]\n",
    "err_params = {'q': q}\n",
    "\n",
    "begin = time.time()\n",
    "ss_sam = qs.SubsetSampler(protocol=steane0, simulator=qs.StabilizerSimulator,  p_max={'q': 0.1}, err_model=err_model, err_params=err_params, L=3)\n",
    "ss_sam.run(2000)\n",
    "end = time.time()\n",
    "qsample_time = end-begin\n",
    "\n",
    "v1 = ss_sam.stats()[0]\n",
    "w1 = ss_sam.stats()[2]"
   ]
  },
  {
   "cell_type": "markdown",
   "id": "5f4518a1",
   "metadata": {},
   "source": [
    "# Input = QASM"
   ]
  },
  {
   "cell_type": "code",
   "execution_count": 6,
   "id": "d93be979",
   "metadata": {},
   "outputs": [],
   "source": [
    "eft = qs.Circuit().from_qasm_circuit(\"\"\"OPENQASM 2.0;\n",
    "include \"qelib1.inc\";\n",
    "\n",
    "qreg q[8];\n",
    "creg c[1];\n",
    "\n",
    "h q[0];\n",
    "h q[1];\n",
    "h q[3];\n",
    "\n",
    "cx q[0], q[4];\n",
    "cx q[1], q[2];\n",
    "cx q[3], q[5];\n",
    "cx q[0], q[6];\n",
    "cx q[3], q[4];\n",
    "cx q[1], q[5];\n",
    "cx q[0], q[2];\n",
    "cx q[5], q[6];\n",
    "cx q[4], q[7];\n",
    "cx q[2], q[7];\n",
    "cx q[5], q[7];\n",
    "\n",
    "measure q[7] -> c[0];\"\"\")\n",
    "\n",
    "sz_123 = qs.Circuit().from_qasm_circuit(\"\"\"OPENQASM 2.0;\n",
    "include \"qelib1.inc\";\n",
    "\n",
    "qreg q[9];\n",
    "creg c[1];\n",
    "\n",
    "// Initialize qubit 8 (default is |0⟩)\n",
    "\n",
    "// Apply CNOT gates with control qubits 0,1,3,6 and target qubit 8\n",
    "cx q[0], q[8];\n",
    "cx q[1], q[8];\n",
    "cx q[3], q[8];\n",
    "cx q[6], q[8];\n",
    "\n",
    "// Measure qubit 8 into classical bit 0\n",
    "measure q[8] -> c[0];\"\"\")\n",
    "\n",
    "meas7 = qs.Circuit(noisy=False).from_qasm_circuit(\"\"\"OPENQASM 2.0;\n",
    "include \"qelib1.inc\";\n",
    "\n",
    "qreg q[7];\n",
    "creg c[7];\n",
    "\n",
    "measure q[0] -> c[0];\n",
    "measure q[1] -> c[1];\n",
    "measure q[2] -> c[2];\n",
    "measure q[3] -> c[3];\n",
    "measure q[4] -> c[4];\n",
    "measure q[5] -> c[5];\n",
    "measure q[6] -> c[6];\"\"\")\n",
    "\n",
    "\n",
    "\n",
    "\n",
    "\n",
    "k1 = 0b0001111\n",
    "k2 = 0b1010101\n",
    "k3 = 0b0110011\n",
    "k12 = k1 ^ k2\n",
    "k23 = k2 ^ k3\n",
    "k13 = k1 ^ k3\n",
    "k123 = k12 ^ k3\n",
    "stabilizerGenerators = [k1, k2, k3]\n",
    "stabilizerSet = [0, k1, k2, k3, k12, k23, k13, k123]\n",
    "\n",
    "def hamming2(x, y):\n",
    "    count, z = 0, x ^ y\n",
    "    while z:\n",
    "        count += 1\n",
    "        z &= z - 1\n",
    "    return count\n",
    "\n",
    "fails = []\n",
    "\n",
    "def logErr(out):\n",
    "    global fails\n",
    "    \n",
    "    c = np.array([hamming2(out, i) for i in stabilizerSet])\n",
    "    d = np.flatnonzero(c <= 1)\n",
    "    e = np.array([hamming2(out ^ (0b1111111), i) for i in stabilizerSet])\n",
    "    f = np.flatnonzero(e <= 1)\n",
    "    if len(d) != 0:\n",
    "        return False\n",
    "    elif len(f) != 0:\n",
    "        fails.append(out)\n",
    "        return True\n",
    "    if len(d) != 0 and len(f) != 0: \n",
    "        raise('-!-!-CANNOT BE TRUE-!-!-')\n",
    "\n",
    "def flagged_z_look_up_table_1(z):\n",
    "    s = [z]\n",
    "\n",
    "    if s == [1]:\n",
    "        return True\n",
    "    else: \n",
    "        return False\n",
    "\n",
    "functions = {\"logErr\": logErr, \"lut\": flagged_z_look_up_table_1}\n",
    "\n",
    "steane0 = qs.Protocol(check_functions=functions, fault_tolerant=True)\n",
    "\n",
    "steane0.add_nodes_from(['ENC', 'Z2', 'meas'], circuits=[eft, sz_123, meas7])\n",
    "steane0.add_node('X_COR', circuit=qs.Circuit().from_qasm_circuit(\"\"\"OPENQASM 2.0;\n",
    "include \"qelib1.inc\";\n",
    "\n",
    "qreg q[8];\n",
    "x q[6];\"\"\"))\n",
    "steane0.add_edge('START', 'ENC', check='True')\n",
    "steane0.add_edge('ENC', 'meas', check='ENC[-1]==0')\n",
    "steane0.add_edge('ENC', 'Z2', check='ENC[-1]==1')\n",
    "steane0.add_edge('Z2', 'X_COR', check='lut(Z2[-1])')\n",
    "steane0.add_edge('Z2', 'meas', check='not lut(Z2[-1])')\n",
    "steane0.add_edge('X_COR', 'meas', check='True')\n",
    "steane0.add_edge('meas', 'FAIL', check='logErr(meas[-1])')"
   ]
  },
  {
   "cell_type": "code",
   "execution_count": 7,
   "id": "e886709e",
   "metadata": {},
   "outputs": [
    {
     "data": {
      "application/vnd.jupyter.widget-view+json": {
       "model_id": "c6a928d2c0af4108a1b365159fe8005a",
       "version_major": 2,
       "version_minor": 0
      },
      "text/plain": [
       "p=('1.00e-01',):   0%|          | 0/2000 [00:00<?, ?it/s]"
      ]
     },
     "metadata": {},
     "output_type": "display_data"
    }
   ],
   "source": [
    "err_model = qs.noise.E1\n",
    "q = [1e-5, 1e-4, 1e-3, 1e-2, 1e-1, 0.5]\n",
    "err_params = {'q': q}\n",
    "\n",
    "begin = time.time()\n",
    "ss_sam = qs.SubsetSampler(protocol=steane0, simulator=qs.StimSimulator,  p_max={'q': 0.1}, err_model=err_model, err_params=err_params, L=3)\n",
    "ss_sam.run(2000)\n",
    "end = time.time()\n",
    "stim_time = end-begin\n",
    "\n",
    "v3 = ss_sam.stats()[0]\n",
    "w3 = ss_sam.stats()[2]"
   ]
  },
  {
   "cell_type": "markdown",
   "id": "c8081a40",
   "metadata": {},
   "source": [
    "# Input = Qiskit"
   ]
  },
  {
   "cell_type": "code",
   "execution_count": 8,
   "id": "78a6c8b0",
   "metadata": {},
   "outputs": [],
   "source": [
    "q = qiskit.QuantumRegister(8)\n",
    "c = qiskit.ClassicalRegister(1)\n",
    "eft = qiskit.QuantumCircuit(q, c)\n",
    "\n",
    "eft.h(q[0])\n",
    "eft.h(q[1])\n",
    "eft.h(q[3])\n",
    "\n",
    "\n",
    "eft.cx(q[0], q[4])\n",
    "eft.cx(q[1], q[2])\n",
    "eft.cx(q[3], q[5])\n",
    "eft.cx(q[0], q[6])\n",
    "eft.cx(q[3], q[4])\n",
    "eft.cx(q[1], q[5])\n",
    "eft.cx(q[0], q[2])\n",
    "eft.cx(q[5], q[6])\n",
    "eft.cx(q[4], q[7])\n",
    "eft.cx(q[2], q[7])\n",
    "eft.cx(q[5], q[7])\n",
    "\n",
    "eft.measure(q[7], c[0])\n",
    "\n",
    "eft = qs.Circuit().from_qiskit_circuit(eft)\n",
    "\n",
    "# ==========\n",
    "\n",
    "q = qiskit.QuantumRegister(7)\n",
    "c = qiskit.ClassicalRegister(7)\n",
    "meas7 = qiskit.QuantumCircuit(q, c)\n",
    "\n",
    "meas7.measure(q[0], c[0])\n",
    "meas7.measure(q[1], c[1])\n",
    "meas7.measure(q[2], c[2])\n",
    "meas7.measure(q[3], c[3])\n",
    "meas7.measure(q[4], c[4])\n",
    "meas7.measure(q[5], c[5])\n",
    "meas7.measure(q[6], c[6])\n",
    "\n",
    "\n",
    "meas7 = qs.Circuit().from_qiskit_circuit(meas7)\n",
    "\n",
    "# =========\n",
    "q = qiskit.QuantumRegister(9)\n",
    "c = qiskit.ClassicalRegister(1)\n",
    "sz_123 = qiskit.QuantumCircuit(q, c)\n",
    "\n",
    "sz_123.cx(q[0], q[8])\n",
    "sz_123.cx(q[1], q[8])\n",
    "sz_123.cx(q[3], q[8])\n",
    "sz_123.cx(q[6], q[8])\n",
    "sz_123.measure(q[8], c[0])\n",
    "\n",
    "\n",
    "sz_123 = qs.Circuit().from_qiskit_circuit(sz_123)\n",
    "\n",
    "# ===========\n",
    "\n",
    "\n",
    "\n",
    "\n",
    "\n",
    "\n",
    "k1 = 0b0001111\n",
    "k2 = 0b1010101\n",
    "k3 = 0b0110011\n",
    "k12 = k1 ^ k2\n",
    "k23 = k2 ^ k3\n",
    "k13 = k1 ^ k3\n",
    "k123 = k12 ^ k3\n",
    "stabilizerGenerators = [k1, k2, k3]\n",
    "stabilizerSet = [0, k1, k2, k3, k12, k23, k13, k123]\n",
    "\n",
    "def hamming2(x, y):\n",
    "    count, z = 0, x ^ y\n",
    "    while z:\n",
    "        count += 1\n",
    "        z &= z - 1\n",
    "    return count\n",
    "\n",
    "fails = []\n",
    "\n",
    "def logErr(out):\n",
    "    global fails\n",
    "    \n",
    "    c = np.array([hamming2(out, i) for i in stabilizerSet])\n",
    "    d = np.flatnonzero(c <= 1)\n",
    "    e = np.array([hamming2(out ^ (0b1111111), i) for i in stabilizerSet])\n",
    "    f = np.flatnonzero(e <= 1)\n",
    "    if len(d) != 0:\n",
    "        return False\n",
    "    elif len(f) != 0:\n",
    "        fails.append(out)\n",
    "        return True\n",
    "    if len(d) != 0 and len(f) != 0: \n",
    "        raise('-!-!-CANNOT BE TRUE-!-!-')\n",
    "\n",
    "def flagged_z_look_up_table_1(z):\n",
    "    s = [z]\n",
    "\n",
    "    if s == [1]:\n",
    "        return True\n",
    "    else: \n",
    "        return False\n",
    "\n",
    "functions = {\"logErr\": logErr, \"lut\": flagged_z_look_up_table_1}\n",
    "\n",
    "steane0 = qs.Protocol(check_functions=functions, fault_tolerant=True)\n",
    "\n",
    "steane0.add_nodes_from(['ENC', 'Z2', 'meas'], circuits=[eft, sz_123, meas7])\n",
    "steane0.add_node('X_COR', circuit=qs.Circuit().from_qasm_circuit(\"\"\"OPENQASM 2.0;\n",
    "include \"qelib1.inc\";\n",
    "\n",
    "qreg q[8];\n",
    "x q[6];\"\"\"))\n",
    "steane0.add_edge('START', 'ENC', check='True')\n",
    "steane0.add_edge('ENC', 'meas', check='ENC[-1]==0')\n",
    "steane0.add_edge('ENC', 'Z2', check='ENC[-1]==1')\n",
    "steane0.add_edge('Z2', 'X_COR', check='lut(Z2[-1])')\n",
    "steane0.add_edge('Z2', 'meas', check='not lut(Z2[-1])')\n",
    "steane0.add_edge('X_COR', 'meas', check='True')\n",
    "steane0.add_edge('meas', 'FAIL', check='logErr(meas[-1])')"
   ]
  },
  {
   "cell_type": "code",
   "execution_count": 9,
   "id": "186efdab",
   "metadata": {},
   "outputs": [
    {
     "data": {
      "application/vnd.jupyter.widget-view+json": {
       "model_id": "382251d3afa04e3cb236f6c3bad79baa",
       "version_major": 2,
       "version_minor": 0
      },
      "text/plain": [
       "p=('1.00e-01',):   0%|          | 0/2000 [00:00<?, ?it/s]"
      ]
     },
     "metadata": {},
     "output_type": "display_data"
    }
   ],
   "source": [
    "err_model = qs.noise.E1\n",
    "q = [1e-5, 1e-4, 1e-3, 1e-2, 1e-1, 0.5]\n",
    "err_params = {'q': q}\n",
    "\n",
    "begin = time.time()\n",
    "ss_sam = qs.SubsetSampler(protocol=steane0, simulator=qs.StimSimulator,  p_max={'q': 0.1}, err_model=err_model, err_params=err_params, L=3)\n",
    "ss_sam.run(2000)\n",
    "end = time.time()\n",
    "stim_time = end-begin\n",
    "\n",
    "v4 = ss_sam.stats()[0]\n",
    "w4 = ss_sam.stats()[2]"
   ]
  },
  {
   "cell_type": "code",
   "execution_count": 10,
   "id": "b3a687f0",
   "metadata": {},
   "outputs": [
    {
     "name": "stdout",
     "output_type": "stream",
     "text": [
      "1.8705940246582031\n",
      "0.95461106300354\n"
     ]
    },
    {
     "data": {
      "image/png": "[encoded data removed]",
      "text/plain": [
       "<Figure size 432x288 with 1 Axes>"
      ]
     },
     "metadata": {
      "needs_background": "light"
     },
     "output_type": "display_data"
    }
   ],
   "source": [
    "plt.plot(q, v1, label = \"Input = QSample\")\n",
    "plt.plot(q, w1)\n",
    "plt.plot(q, v2, label = \"Input = STIM\")\n",
    "plt.plot(q, w2)\n",
    "plt.plot(q, v3, label = \"Input = QASM\")\n",
    "plt.plot(q, w3)\n",
    "plt.plot(q, v4, label = \"Input = Qiskit\")\n",
    "plt.plot(q, w4)\n",
    "\n",
    "plt.xscale('log')\n",
    "plt.yscale('log')\n",
    "plt.legend()\n",
    "\n",
    "print(qsample_time)\n",
    "print(stim_time)"
   ]
  },
  {
   "cell_type": "code",
   "execution_count": 11,
   "id": "38c3fa41",
   "metadata": {},
   "outputs": [
    {
     "data": {
      "application/vnd.jupyter.widget-view+json": {
       "model_id": "79940094cb0b47b2a71e8455e800801f",
       "version_major": 2,
       "version_minor": 0
      },
      "text/plain": [
       "p=('1.00e-01',):   0%|          | 0/100 [00:00<?, ?it/s]"
      ]
     },
     "metadata": {},
     "output_type": "display_data"
    },
    {
     "data": {
      "application/vnd.jupyter.widget-view+json": {
       "model_id": "44180320855e4a5b9d16872ae6a181f5",
       "version_major": 2,
       "version_minor": 0
      },
      "text/plain": [
       "p=('1.00e-02',):   0%|          | 0/100 [00:00<?, ?it/s]"
      ]
     },
     "metadata": {},
     "output_type": "display_data"
    },
    {
     "data": {
      "application/vnd.jupyter.widget-view+json": {
       "model_id": "ef2f76e6258d442a8b7617f555863e2e",
       "version_major": 2,
       "version_minor": 0
      },
      "text/plain": [
       "p=('1.00e-01',):   0%|          | 0/300 [00:00<?, ?it/s]"
      ]
     },
     "metadata": {},
     "output_type": "display_data"
    },
    {
     "data": {
      "application/vnd.jupyter.widget-view+json": {
       "model_id": "97a2defbc4804fc09fda44abd29324a2",
       "version_major": 2,
       "version_minor": 0
      },
      "text/plain": [
       "p=('1.00e-02',):   0%|          | 0/300 [00:00<?, ?it/s]"
      ]
     },
     "metadata": {},
     "output_type": "display_data"
    },
    {
     "data": {
      "application/vnd.jupyter.widget-view+json": {
       "model_id": "e71e2c23609a4c3c9931795901435162",
       "version_major": 2,
       "version_minor": 0
      },
      "text/plain": [
       "p=('1.00e-01',):   0%|          | 0/1000 [00:00<?, ?it/s]"
      ]
     },
     "metadata": {},
     "output_type": "display_data"
    },
    {
     "data": {
      "application/vnd.jupyter.widget-view+json": {
       "model_id": "19f913bdd89642068f89ac21fdbd733e",
       "version_major": 2,
       "version_minor": 0
      },
      "text/plain": [
       "p=('1.00e-02',):   0%|          | 0/1000 [00:00<?, ?it/s]"
      ]
     },
     "metadata": {},
     "output_type": "display_data"
    },
    {
     "data": {
      "application/vnd.jupyter.widget-view+json": {
       "model_id": "0bf0d7695aa542aeaaf8c08f38370bbe",
       "version_major": 2,
       "version_minor": 0
      },
      "text/plain": [
       "p=('1.00e-01',):   0%|          | 0/3000 [00:00<?, ?it/s]"
      ]
     },
     "metadata": {},
     "output_type": "display_data"
    },
    {
     "data": {
      "application/vnd.jupyter.widget-view+json": {
       "model_id": "6d6c34002e7841efacbbb1ee546e32e4",
       "version_major": 2,
       "version_minor": 0
      },
      "text/plain": [
       "p=('1.00e-02',):   0%|          | 0/3000 [00:00<?, ?it/s]"
      ]
     },
     "metadata": {},
     "output_type": "display_data"
    },
    {
     "ename": "KeyboardInterrupt",
     "evalue": "",
     "output_type": "error",
     "traceback": [
      "\u001b[0;31m---------------------------------------------------------------------------\u001b[0m",
      "\u001b[0;31mKeyboardInterrupt\u001b[0m                         Traceback (most recent call last)",
      "Input \u001b[0;32mIn [11]\u001b[0m, in \u001b[0;36m<cell line: 6>\u001b[0;34m()\u001b[0m\n\u001b[1;32m     13\u001b[0m begin \u001b[38;5;241m=\u001b[39m time\u001b[38;5;241m.\u001b[39mtime()\n\u001b[1;32m     14\u001b[0m ss_sam \u001b[38;5;241m=\u001b[39m qs\u001b[38;5;241m.\u001b[39mSubsetSampler(protocol\u001b[38;5;241m=\u001b[39msteane0, simulator\u001b[38;5;241m=\u001b[39mqs\u001b[38;5;241m.\u001b[39mStimSimulator,  p_max\u001b[38;5;241m=\u001b[39m{\u001b[38;5;124m'\u001b[39m\u001b[38;5;124mq\u001b[39m\u001b[38;5;124m'\u001b[39m: \u001b[38;5;241m0.01\u001b[39m}, err_model\u001b[38;5;241m=\u001b[39merr_model, err_params\u001b[38;5;241m=\u001b[39merr_params, L\u001b[38;5;241m=\u001b[39m\u001b[38;5;241m3\u001b[39m)\n\u001b[0;32m---> 15\u001b[0m \u001b[43mss_sam\u001b[49m\u001b[38;5;241;43m.\u001b[39;49m\u001b[43mrun\u001b[49m\u001b[43m(\u001b[49m\u001b[43ms\u001b[49m\u001b[43m)\u001b[49m\n\u001b[1;32m     16\u001b[0m end \u001b[38;5;241m=\u001b[39m time\u001b[38;5;241m.\u001b[39mtime()\n\u001b[1;32m     17\u001b[0m stim_times\u001b[38;5;241m.\u001b[39mappend(end\u001b[38;5;241m-\u001b[39mbegin)\n",
      "File \u001b[0;32m~/Desktop/qsample/qsample/sampler/subset.py:138\u001b[0m, in \u001b[0;36mSubsetSampler.run\u001b[0;34m(self, n_shots, callbacks)\u001b[0m\n\u001b[1;32m    135\u001b[0m \u001b[38;5;28mself\u001b[39m\u001b[38;5;241m.\u001b[39mstop_sampling \u001b[38;5;241m=\u001b[39m \u001b[38;5;28;01mFalse\u001b[39;00m \u001b[38;5;66;03m# Flag can be controlled in callbacks\u001b[39;00m\n\u001b[1;32m    136\u001b[0m callbacks\u001b[38;5;241m.\u001b[39mon_sampler_begin()\n\u001b[0;32m--> 138\u001b[0m \u001b[38;5;28;01mfor\u001b[39;00m _ \u001b[38;5;129;01min\u001b[39;00m tqdm(\u001b[38;5;28mrange\u001b[39m(n_shots), desc\u001b[38;5;241m=\u001b[39m\u001b[38;5;124mf\u001b[39m\u001b[38;5;124m\"\u001b[39m\u001b[38;5;124mp=\u001b[39m\u001b[38;5;132;01m{\u001b[39;00m\u001b[38;5;28mtuple\u001b[39m(\u001b[38;5;28mmap\u001b[39m(\u001b[38;5;124m'\u001b[39m\u001b[38;5;132;01m{:.2e}\u001b[39;00m\u001b[38;5;124m'\u001b[39m\u001b[38;5;241m.\u001b[39mformat,\u001b[38;5;250m \u001b[39m\u001b[38;5;28mself\u001b[39m\u001b[38;5;241m.\u001b[39mp_max))\u001b[38;5;132;01m}\u001b[39;00m\u001b[38;5;124m\"\u001b[39m):\n\u001b[1;32m    139\u001b[0m     tableau \u001b[38;5;241m=\u001b[39m \u001b[38;5;28;01mNone\u001b[39;00m\n\u001b[1;32m    140\u001b[0m     callbacks\u001b[38;5;241m.\u001b[39mon_protocol_begin()\n",
      "File \u001b[0;32m/opt/anaconda3/lib/python3.9/site-packages/tqdm/notebook.py:258\u001b[0m, in \u001b[0;36mtqdm_notebook.__iter__\u001b[0;34m(self)\u001b[0m\n\u001b[1;32m    256\u001b[0m \u001b[38;5;28;01mtry\u001b[39;00m:\n\u001b[1;32m    257\u001b[0m     it \u001b[38;5;241m=\u001b[39m \u001b[38;5;28msuper\u001b[39m(tqdm_notebook, \u001b[38;5;28mself\u001b[39m)\u001b[38;5;241m.\u001b[39m\u001b[38;5;21m__iter__\u001b[39m()\n\u001b[0;32m--> 258\u001b[0m     \u001b[38;5;28;01mfor\u001b[39;00m obj \u001b[38;5;129;01min\u001b[39;00m it:\n\u001b[1;32m    259\u001b[0m         \u001b[38;5;66;03m# return super(tqdm...) will not catch exception\u001b[39;00m\n\u001b[1;32m    260\u001b[0m         \u001b[38;5;28;01myield\u001b[39;00m obj\n\u001b[1;32m    261\u001b[0m \u001b[38;5;66;03m# NB: except ... [ as ...] breaks IPython async KeyboardInterrupt\u001b[39;00m\n",
      "File \u001b[0;32m/opt/anaconda3/lib/python3.9/site-packages/tqdm/std.py:1210\u001b[0m, in \u001b[0;36mtqdm.__iter__\u001b[0;34m(self)\u001b[0m\n\u001b[1;32m   1208\u001b[0m \u001b[38;5;28;01mfinally\u001b[39;00m:\n\u001b[1;32m   1209\u001b[0m     \u001b[38;5;28mself\u001b[39m\u001b[38;5;241m.\u001b[39mn \u001b[38;5;241m=\u001b[39m n\n\u001b[0;32m-> 1210\u001b[0m     \u001b[38;5;28;43mself\u001b[39;49m\u001b[38;5;241;43m.\u001b[39;49m\u001b[43mclose\u001b[49m\u001b[43m(\u001b[49m\u001b[43m)\u001b[49m\n",
      "File \u001b[0;32m/opt/anaconda3/lib/python3.9/site-packages/tqdm/notebook.py:290\u001b[0m, in \u001b[0;36mtqdm_notebook.close\u001b[0;34m(self)\u001b[0m\n\u001b[1;32m    288\u001b[0m \u001b[38;5;28;01melse\u001b[39;00m:\n\u001b[1;32m    289\u001b[0m     \u001b[38;5;28;01mif\u001b[39;00m \u001b[38;5;28mself\u001b[39m\u001b[38;5;241m.\u001b[39mleave:\n\u001b[0;32m--> 290\u001b[0m         \u001b[38;5;28;43mself\u001b[39;49m\u001b[38;5;241;43m.\u001b[39;49m\u001b[43mdisp\u001b[49m\u001b[43m(\u001b[49m\u001b[43mbar_style\u001b[49m\u001b[38;5;241;43m=\u001b[39;49m\u001b[38;5;124;43m'\u001b[39;49m\u001b[38;5;124;43msuccess\u001b[39;49m\u001b[38;5;124;43m'\u001b[39;49m\u001b[43m,\u001b[49m\u001b[43m \u001b[49m\u001b[43mcheck_delay\u001b[49m\u001b[38;5;241;43m=\u001b[39;49m\u001b[38;5;28;43;01mFalse\u001b[39;49;00m\u001b[43m)\u001b[49m\n\u001b[1;32m    291\u001b[0m     \u001b[38;5;28;01melse\u001b[39;00m:\n\u001b[1;32m    292\u001b[0m         \u001b[38;5;28mself\u001b[39m\u001b[38;5;241m.\u001b[39mdisp(close\u001b[38;5;241m=\u001b[39m\u001b[38;5;28;01mTrue\u001b[39;00m, check_delay\u001b[38;5;241m=\u001b[39m\u001b[38;5;28;01mFalse\u001b[39;00m)\n",
      "File \u001b[0;32m/opt/anaconda3/lib/python3.9/site-packages/tqdm/notebook.py:177\u001b[0m, in \u001b[0;36mtqdm_notebook.display\u001b[0;34m(self, msg, pos, close, bar_style, check_delay)\u001b[0m\n\u001b[1;32m    174\u001b[0m     left, right \u001b[38;5;241m=\u001b[39m \u001b[38;5;124m'\u001b[39m\u001b[38;5;124m'\u001b[39m, escape(msg)\n\u001b[1;32m    176\u001b[0m \u001b[38;5;66;03m# Update description\u001b[39;00m\n\u001b[0;32m--> 177\u001b[0m ltext\u001b[38;5;241m.\u001b[39mvalue \u001b[38;5;241m=\u001b[39m left\n\u001b[1;32m    178\u001b[0m \u001b[38;5;66;03m# never clear the bar (signal: msg='')\u001b[39;00m\n\u001b[1;32m    179\u001b[0m \u001b[38;5;28;01mif\u001b[39;00m right:\n",
      "File \u001b[0;32m/opt/anaconda3/lib/python3.9/site-packages/traitlets/traitlets.py:606\u001b[0m, in \u001b[0;36mTraitType.__set__\u001b[0;34m(self, obj, value)\u001b[0m\n\u001b[1;32m    604\u001b[0m     \u001b[38;5;28;01mraise\u001b[39;00m TraitError(\u001b[38;5;124m'\u001b[39m\u001b[38;5;124mThe \u001b[39m\u001b[38;5;124m\"\u001b[39m\u001b[38;5;132;01m%s\u001b[39;00m\u001b[38;5;124m\"\u001b[39m\u001b[38;5;124m trait is read-only.\u001b[39m\u001b[38;5;124m'\u001b[39m \u001b[38;5;241m%\u001b[39m \u001b[38;5;28mself\u001b[39m\u001b[38;5;241m.\u001b[39mname)\n\u001b[1;32m    605\u001b[0m \u001b[38;5;28;01melse\u001b[39;00m:\n\u001b[0;32m--> 606\u001b[0m     \u001b[38;5;28;43mself\u001b[39;49m\u001b[38;5;241;43m.\u001b[39;49m\u001b[43mset\u001b[49m\u001b[43m(\u001b[49m\u001b[43mobj\u001b[49m\u001b[43m,\u001b[49m\u001b[43m \u001b[49m\u001b[43mvalue\u001b[49m\u001b[43m)\u001b[49m\n",
      "File \u001b[0;32m/opt/anaconda3/lib/python3.9/site-packages/traitlets/traitlets.py:595\u001b[0m, in \u001b[0;36mTraitType.set\u001b[0;34m(self, obj, value)\u001b[0m\n\u001b[1;32m    591\u001b[0m     silent \u001b[38;5;241m=\u001b[39m \u001b[38;5;28;01mFalse\u001b[39;00m\n\u001b[1;32m    592\u001b[0m \u001b[38;5;28;01mif\u001b[39;00m silent \u001b[38;5;129;01mis\u001b[39;00m \u001b[38;5;129;01mnot\u001b[39;00m \u001b[38;5;28;01mTrue\u001b[39;00m:\n\u001b[1;32m    593\u001b[0m     \u001b[38;5;66;03m# we explicitly compare silent to True just in case the equality\u001b[39;00m\n\u001b[1;32m    594\u001b[0m     \u001b[38;5;66;03m# comparison above returns something other than True/False\u001b[39;00m\n\u001b[0;32m--> 595\u001b[0m     \u001b[43mobj\u001b[49m\u001b[38;5;241;43m.\u001b[39;49m\u001b[43m_notify_trait\u001b[49m\u001b[43m(\u001b[49m\u001b[38;5;28;43mself\u001b[39;49m\u001b[38;5;241;43m.\u001b[39;49m\u001b[43mname\u001b[49m\u001b[43m,\u001b[49m\u001b[43m \u001b[49m\u001b[43mold_value\u001b[49m\u001b[43m,\u001b[49m\u001b[43m \u001b[49m\u001b[43mnew_value\u001b[49m\u001b[43m)\u001b[49m\n",
      "File \u001b[0;32m/opt/anaconda3/lib/python3.9/site-packages/traitlets/traitlets.py:1219\u001b[0m, in \u001b[0;36mHasTraits._notify_trait\u001b[0;34m(self, name, old_value, new_value)\u001b[0m\n\u001b[1;32m   1218\u001b[0m \u001b[38;5;28;01mdef\u001b[39;00m \u001b[38;5;21m_notify_trait\u001b[39m(\u001b[38;5;28mself\u001b[39m, name, old_value, new_value):\n\u001b[0;32m-> 1219\u001b[0m     \u001b[38;5;28;43mself\u001b[39;49m\u001b[38;5;241;43m.\u001b[39;49m\u001b[43mnotify_change\u001b[49m\u001b[43m(\u001b[49m\u001b[43mBunch\u001b[49m\u001b[43m(\u001b[49m\n\u001b[1;32m   1220\u001b[0m \u001b[43m        \u001b[49m\u001b[43mname\u001b[49m\u001b[38;5;241;43m=\u001b[39;49m\u001b[43mname\u001b[49m\u001b[43m,\u001b[49m\n\u001b[1;32m   1221\u001b[0m \u001b[43m        \u001b[49m\u001b[43mold\u001b[49m\u001b[38;5;241;43m=\u001b[39;49m\u001b[43mold_value\u001b[49m\u001b[43m,\u001b[49m\n\u001b[1;32m   1222\u001b[0m \u001b[43m        \u001b[49m\u001b[43mnew\u001b[49m\u001b[38;5;241;43m=\u001b[39;49m\u001b[43mnew_value\u001b[49m\u001b[43m,\u001b[49m\n\u001b[1;32m   1223\u001b[0m \u001b[43m        \u001b[49m\u001b[43mowner\u001b[49m\u001b[38;5;241;43m=\u001b[39;49m\u001b[38;5;28;43mself\u001b[39;49m\u001b[43m,\u001b[49m\n\u001b[1;32m   1224\u001b[0m \u001b[43m        \u001b[49m\u001b[38;5;28;43mtype\u001b[39;49m\u001b[38;5;241;43m=\u001b[39;49m\u001b[38;5;124;43m'\u001b[39;49m\u001b[38;5;124;43mchange\u001b[39;49m\u001b[38;5;124;43m'\u001b[39;49m\u001b[43m,\u001b[49m\n\u001b[1;32m   1225\u001b[0m \u001b[43m    \u001b[49m\u001b[43m)\u001b[49m\u001b[43m)\u001b[49m\n",
      "File \u001b[0;32m/opt/anaconda3/lib/python3.9/site-packages/ipywidgets/widgets/widget.py:605\u001b[0m, in \u001b[0;36mWidget.notify_change\u001b[0;34m(self, change)\u001b[0m\n\u001b[1;32m    601\u001b[0m \u001b[38;5;28;01mif\u001b[39;00m \u001b[38;5;28mself\u001b[39m\u001b[38;5;241m.\u001b[39mcomm \u001b[38;5;129;01mis\u001b[39;00m \u001b[38;5;129;01mnot\u001b[39;00m \u001b[38;5;28;01mNone\u001b[39;00m \u001b[38;5;129;01mand\u001b[39;00m \u001b[38;5;28mself\u001b[39m\u001b[38;5;241m.\u001b[39mcomm\u001b[38;5;241m.\u001b[39mkernel \u001b[38;5;129;01mis\u001b[39;00m \u001b[38;5;129;01mnot\u001b[39;00m \u001b[38;5;28;01mNone\u001b[39;00m:\n\u001b[1;32m    602\u001b[0m     \u001b[38;5;66;03m# Make sure this isn't information that the front-end just sent us.\u001b[39;00m\n\u001b[1;32m    603\u001b[0m     \u001b[38;5;28;01mif\u001b[39;00m name \u001b[38;5;129;01min\u001b[39;00m \u001b[38;5;28mself\u001b[39m\u001b[38;5;241m.\u001b[39mkeys \u001b[38;5;129;01mand\u001b[39;00m \u001b[38;5;28mself\u001b[39m\u001b[38;5;241m.\u001b[39m_should_send_property(name, \u001b[38;5;28mgetattr\u001b[39m(\u001b[38;5;28mself\u001b[39m, name)):\n\u001b[1;32m    604\u001b[0m         \u001b[38;5;66;03m# Send new state to front-end\u001b[39;00m\n\u001b[0;32m--> 605\u001b[0m         \u001b[38;5;28;43mself\u001b[39;49m\u001b[38;5;241;43m.\u001b[39;49m\u001b[43msend_state\u001b[49m\u001b[43m(\u001b[49m\u001b[43mkey\u001b[49m\u001b[38;5;241;43m=\u001b[39;49m\u001b[43mname\u001b[49m\u001b[43m)\u001b[49m\n\u001b[1;32m    606\u001b[0m \u001b[38;5;28msuper\u001b[39m(Widget, \u001b[38;5;28mself\u001b[39m)\u001b[38;5;241m.\u001b[39mnotify_change(change)\n",
      "File \u001b[0;32m/opt/anaconda3/lib/python3.9/site-packages/ipywidgets/widgets/widget.py:489\u001b[0m, in \u001b[0;36mWidget.send_state\u001b[0;34m(self, key)\u001b[0m\n\u001b[1;32m    487\u001b[0m state, buffer_paths, buffers \u001b[38;5;241m=\u001b[39m _remove_buffers(state)\n\u001b[1;32m    488\u001b[0m msg \u001b[38;5;241m=\u001b[39m {\u001b[38;5;124m'\u001b[39m\u001b[38;5;124mmethod\u001b[39m\u001b[38;5;124m'\u001b[39m: \u001b[38;5;124m'\u001b[39m\u001b[38;5;124mupdate\u001b[39m\u001b[38;5;124m'\u001b[39m, \u001b[38;5;124m'\u001b[39m\u001b[38;5;124mstate\u001b[39m\u001b[38;5;124m'\u001b[39m: state, \u001b[38;5;124m'\u001b[39m\u001b[38;5;124mbuffer_paths\u001b[39m\u001b[38;5;124m'\u001b[39m: buffer_paths}\n\u001b[0;32m--> 489\u001b[0m \u001b[38;5;28;43mself\u001b[39;49m\u001b[38;5;241;43m.\u001b[39;49m\u001b[43m_send\u001b[49m\u001b[43m(\u001b[49m\u001b[43mmsg\u001b[49m\u001b[43m,\u001b[49m\u001b[43m \u001b[49m\u001b[43mbuffers\u001b[49m\u001b[38;5;241;43m=\u001b[39;49m\u001b[43mbuffers\u001b[49m\u001b[43m)\u001b[49m\n",
      "File \u001b[0;32m/opt/anaconda3/lib/python3.9/site-packages/ipywidgets/widgets/widget.py:737\u001b[0m, in \u001b[0;36mWidget._send\u001b[0;34m(self, msg, buffers)\u001b[0m\n\u001b[1;32m    735\u001b[0m \u001b[38;5;250m\u001b[39m\u001b[38;5;124;03m\"\"\"Sends a message to the model in the front-end.\"\"\"\u001b[39;00m\n\u001b[1;32m    736\u001b[0m \u001b[38;5;28;01mif\u001b[39;00m \u001b[38;5;28mself\u001b[39m\u001b[38;5;241m.\u001b[39mcomm \u001b[38;5;129;01mis\u001b[39;00m \u001b[38;5;129;01mnot\u001b[39;00m \u001b[38;5;28;01mNone\u001b[39;00m \u001b[38;5;129;01mand\u001b[39;00m \u001b[38;5;28mself\u001b[39m\u001b[38;5;241m.\u001b[39mcomm\u001b[38;5;241m.\u001b[39mkernel \u001b[38;5;129;01mis\u001b[39;00m \u001b[38;5;129;01mnot\u001b[39;00m \u001b[38;5;28;01mNone\u001b[39;00m:\n\u001b[0;32m--> 737\u001b[0m     \u001b[38;5;28;43mself\u001b[39;49m\u001b[38;5;241;43m.\u001b[39;49m\u001b[43mcomm\u001b[49m\u001b[38;5;241;43m.\u001b[39;49m\u001b[43msend\u001b[49m\u001b[43m(\u001b[49m\u001b[43mdata\u001b[49m\u001b[38;5;241;43m=\u001b[39;49m\u001b[43mmsg\u001b[49m\u001b[43m,\u001b[49m\u001b[43m \u001b[49m\u001b[43mbuffers\u001b[49m\u001b[38;5;241;43m=\u001b[39;49m\u001b[43mbuffers\u001b[49m\u001b[43m)\u001b[49m\n",
      "File \u001b[0;32m/opt/anaconda3/lib/python3.9/site-packages/ipykernel/comm/comm.py:122\u001b[0m, in \u001b[0;36mComm.send\u001b[0;34m(self, data, metadata, buffers)\u001b[0m\n\u001b[1;32m    120\u001b[0m \u001b[38;5;28;01mdef\u001b[39;00m \u001b[38;5;21msend\u001b[39m(\u001b[38;5;28mself\u001b[39m, data\u001b[38;5;241m=\u001b[39m\u001b[38;5;28;01mNone\u001b[39;00m, metadata\u001b[38;5;241m=\u001b[39m\u001b[38;5;28;01mNone\u001b[39;00m, buffers\u001b[38;5;241m=\u001b[39m\u001b[38;5;28;01mNone\u001b[39;00m):\n\u001b[1;32m    121\u001b[0m \u001b[38;5;250m    \u001b[39m\u001b[38;5;124;03m\"\"\"Send a message to the frontend-side version of this comm\"\"\"\u001b[39;00m\n\u001b[0;32m--> 122\u001b[0m     \u001b[38;5;28;43mself\u001b[39;49m\u001b[38;5;241;43m.\u001b[39;49m\u001b[43m_publish_msg\u001b[49m\u001b[43m(\u001b[49m\u001b[38;5;124;43m'\u001b[39;49m\u001b[38;5;124;43mcomm_msg\u001b[39;49m\u001b[38;5;124;43m'\u001b[39;49m\u001b[43m,\u001b[49m\n\u001b[1;32m    123\u001b[0m \u001b[43m        \u001b[49m\u001b[43mdata\u001b[49m\u001b[38;5;241;43m=\u001b[39;49m\u001b[43mdata\u001b[49m\u001b[43m,\u001b[49m\u001b[43m \u001b[49m\u001b[43mmetadata\u001b[49m\u001b[38;5;241;43m=\u001b[39;49m\u001b[43mmetadata\u001b[49m\u001b[43m,\u001b[49m\u001b[43m \u001b[49m\u001b[43mbuffers\u001b[49m\u001b[38;5;241;43m=\u001b[39;49m\u001b[43mbuffers\u001b[49m\u001b[43m,\u001b[49m\n\u001b[1;32m    124\u001b[0m \u001b[43m    \u001b[49m\u001b[43m)\u001b[49m\n",
      "File \u001b[0;32m/opt/anaconda3/lib/python3.9/site-packages/ipykernel/comm/comm.py:66\u001b[0m, in \u001b[0;36mComm._publish_msg\u001b[0;34m(self, msg_type, data, metadata, buffers, **keys)\u001b[0m\n\u001b[1;32m     64\u001b[0m metadata \u001b[38;5;241m=\u001b[39m {} \u001b[38;5;28;01mif\u001b[39;00m metadata \u001b[38;5;129;01mis\u001b[39;00m \u001b[38;5;28;01mNone\u001b[39;00m \u001b[38;5;28;01melse\u001b[39;00m metadata\n\u001b[1;32m     65\u001b[0m content \u001b[38;5;241m=\u001b[39m json_clean(\u001b[38;5;28mdict\u001b[39m(data\u001b[38;5;241m=\u001b[39mdata, comm_id\u001b[38;5;241m=\u001b[39m\u001b[38;5;28mself\u001b[39m\u001b[38;5;241m.\u001b[39mcomm_id, \u001b[38;5;241m*\u001b[39m\u001b[38;5;241m*\u001b[39mkeys))\n\u001b[0;32m---> 66\u001b[0m \u001b[38;5;28;43mself\u001b[39;49m\u001b[38;5;241;43m.\u001b[39;49m\u001b[43mkernel\u001b[49m\u001b[38;5;241;43m.\u001b[39;49m\u001b[43msession\u001b[49m\u001b[38;5;241;43m.\u001b[39;49m\u001b[43msend\u001b[49m\u001b[43m(\u001b[49m\u001b[38;5;28;43mself\u001b[39;49m\u001b[38;5;241;43m.\u001b[39;49m\u001b[43mkernel\u001b[49m\u001b[38;5;241;43m.\u001b[39;49m\u001b[43miopub_socket\u001b[49m\u001b[43m,\u001b[49m\u001b[43m \u001b[49m\u001b[43mmsg_type\u001b[49m\u001b[43m,\u001b[49m\n\u001b[1;32m     67\u001b[0m \u001b[43m    \u001b[49m\u001b[43mcontent\u001b[49m\u001b[43m,\u001b[49m\n\u001b[1;32m     68\u001b[0m \u001b[43m    \u001b[49m\u001b[43mmetadata\u001b[49m\u001b[38;5;241;43m=\u001b[39;49m\u001b[43mjson_clean\u001b[49m\u001b[43m(\u001b[49m\u001b[43mmetadata\u001b[49m\u001b[43m)\u001b[49m\u001b[43m,\u001b[49m\n\u001b[1;32m     69\u001b[0m \u001b[43m    \u001b[49m\u001b[43mparent\u001b[49m\u001b[38;5;241;43m=\u001b[39;49m\u001b[38;5;28;43mself\u001b[39;49m\u001b[38;5;241;43m.\u001b[39;49m\u001b[43mkernel\u001b[49m\u001b[38;5;241;43m.\u001b[39;49m\u001b[43mget_parent\u001b[49m\u001b[43m(\u001b[49m\u001b[38;5;124;43m\"\u001b[39;49m\u001b[38;5;124;43mshell\u001b[39;49m\u001b[38;5;124;43m\"\u001b[39;49m\u001b[43m)\u001b[49m\u001b[43m,\u001b[49m\n\u001b[1;32m     70\u001b[0m \u001b[43m    \u001b[49m\u001b[43mident\u001b[49m\u001b[38;5;241;43m=\u001b[39;49m\u001b[38;5;28;43mself\u001b[39;49m\u001b[38;5;241;43m.\u001b[39;49m\u001b[43mtopic\u001b[49m\u001b[43m,\u001b[49m\n\u001b[1;32m     71\u001b[0m \u001b[43m    \u001b[49m\u001b[43mbuffers\u001b[49m\u001b[38;5;241;43m=\u001b[39;49m\u001b[43mbuffers\u001b[49m\u001b[43m,\u001b[49m\n\u001b[1;32m     72\u001b[0m \u001b[43m\u001b[49m\u001b[43m)\u001b[49m\n",
      "File \u001b[0;32m/opt/anaconda3/lib/python3.9/site-packages/jupyter_client/session.py:717\u001b[0m, in \u001b[0;36mSession.send\u001b[0;34m(self, stream, msg_or_type, content, parent, ident, buffers, track, header, metadata)\u001b[0m\n\u001b[1;32m    715\u001b[0m     buffers \u001b[38;5;241m=\u001b[39m buffers \u001b[38;5;129;01mor\u001b[39;00m msg\u001b[38;5;241m.\u001b[39mget(\u001b[38;5;124m'\u001b[39m\u001b[38;5;124mbuffers\u001b[39m\u001b[38;5;124m'\u001b[39m, [])\n\u001b[1;32m    716\u001b[0m \u001b[38;5;28;01melse\u001b[39;00m:\n\u001b[0;32m--> 717\u001b[0m     msg \u001b[38;5;241m=\u001b[39m \u001b[38;5;28;43mself\u001b[39;49m\u001b[38;5;241;43m.\u001b[39;49m\u001b[43mmsg\u001b[49m\u001b[43m(\u001b[49m\u001b[43mmsg_or_type\u001b[49m\u001b[43m,\u001b[49m\u001b[43m \u001b[49m\u001b[43mcontent\u001b[49m\u001b[38;5;241;43m=\u001b[39;49m\u001b[43mcontent\u001b[49m\u001b[43m,\u001b[49m\u001b[43m \u001b[49m\u001b[43mparent\u001b[49m\u001b[38;5;241;43m=\u001b[39;49m\u001b[43mparent\u001b[49m\u001b[43m,\u001b[49m\n\u001b[1;32m    718\u001b[0m \u001b[43m                   \u001b[49m\u001b[43mheader\u001b[49m\u001b[38;5;241;43m=\u001b[39;49m\u001b[43mheader\u001b[49m\u001b[43m,\u001b[49m\u001b[43m \u001b[49m\u001b[43mmetadata\u001b[49m\u001b[38;5;241;43m=\u001b[39;49m\u001b[43mmetadata\u001b[49m\u001b[43m)\u001b[49m\n\u001b[1;32m    719\u001b[0m \u001b[38;5;28;01mif\u001b[39;00m \u001b[38;5;28mself\u001b[39m\u001b[38;5;241m.\u001b[39mcheck_pid \u001b[38;5;129;01mand\u001b[39;00m \u001b[38;5;129;01mnot\u001b[39;00m os\u001b[38;5;241m.\u001b[39mgetpid() \u001b[38;5;241m==\u001b[39m \u001b[38;5;28mself\u001b[39m\u001b[38;5;241m.\u001b[39mpid:\n\u001b[1;32m    720\u001b[0m     get_logger()\u001b[38;5;241m.\u001b[39mwarning(\u001b[38;5;124m\"\u001b[39m\u001b[38;5;124mWARNING: attempted to send message from fork\u001b[39m\u001b[38;5;130;01m\\n\u001b[39;00m\u001b[38;5;132;01m%s\u001b[39;00m\u001b[38;5;124m\"\u001b[39m,\n\u001b[1;32m    721\u001b[0m         msg\n\u001b[1;32m    722\u001b[0m     )\n",
      "File \u001b[0;32m/opt/anaconda3/lib/python3.9/site-packages/jupyter_client/session.py:577\u001b[0m, in \u001b[0;36mSession.msg\u001b[0;34m(self, msg_type, content, parent, header, metadata)\u001b[0m\n\u001b[1;32m    570\u001b[0m \u001b[38;5;250m\u001b[39m\u001b[38;5;124;03m\"\"\"Return the nested message dict.\u001b[39;00m\n\u001b[1;32m    571\u001b[0m \n\u001b[1;32m    572\u001b[0m \u001b[38;5;124;03mThis format is different from what is sent over the wire. The\u001b[39;00m\n\u001b[1;32m    573\u001b[0m \u001b[38;5;124;03mserialize/deserialize methods converts this nested message dict to the wire\u001b[39;00m\n\u001b[1;32m    574\u001b[0m \u001b[38;5;124;03mformat, which is a list of message parts.\u001b[39;00m\n\u001b[1;32m    575\u001b[0m \u001b[38;5;124;03m\"\"\"\u001b[39;00m\n\u001b[1;32m    576\u001b[0m msg \u001b[38;5;241m=\u001b[39m {}\n\u001b[0;32m--> 577\u001b[0m header \u001b[38;5;241m=\u001b[39m \u001b[38;5;28;43mself\u001b[39;49m\u001b[38;5;241;43m.\u001b[39;49m\u001b[43mmsg_header\u001b[49m\u001b[43m(\u001b[49m\u001b[43mmsg_type\u001b[49m\u001b[43m)\u001b[49m \u001b[38;5;28;01mif\u001b[39;00m header \u001b[38;5;129;01mis\u001b[39;00m \u001b[38;5;28;01mNone\u001b[39;00m \u001b[38;5;28;01melse\u001b[39;00m header\n\u001b[1;32m    578\u001b[0m msg[\u001b[38;5;124m'\u001b[39m\u001b[38;5;124mheader\u001b[39m\u001b[38;5;124m'\u001b[39m] \u001b[38;5;241m=\u001b[39m header\n\u001b[1;32m    579\u001b[0m msg[\u001b[38;5;124m'\u001b[39m\u001b[38;5;124mmsg_id\u001b[39m\u001b[38;5;124m'\u001b[39m] \u001b[38;5;241m=\u001b[39m header[\u001b[38;5;124m'\u001b[39m\u001b[38;5;124mmsg_id\u001b[39m\u001b[38;5;124m'\u001b[39m]\n",
      "File \u001b[0;32m/opt/anaconda3/lib/python3.9/site-packages/jupyter_client/session.py:567\u001b[0m, in \u001b[0;36mSession.msg_header\u001b[0;34m(self, msg_type)\u001b[0m\n\u001b[1;32m    566\u001b[0m \u001b[38;5;28;01mdef\u001b[39;00m \u001b[38;5;21mmsg_header\u001b[39m(\u001b[38;5;28mself\u001b[39m, msg_type):\n\u001b[0;32m--> 567\u001b[0m     \u001b[38;5;28;01mreturn\u001b[39;00m \u001b[43mmsg_header\u001b[49m\u001b[43m(\u001b[49m\u001b[38;5;28;43mself\u001b[39;49m\u001b[38;5;241;43m.\u001b[39;49m\u001b[43mmsg_id\u001b[49m\u001b[43m,\u001b[49m\u001b[43m \u001b[49m\u001b[43mmsg_type\u001b[49m\u001b[43m,\u001b[49m\u001b[43m \u001b[49m\u001b[38;5;28;43mself\u001b[39;49m\u001b[38;5;241;43m.\u001b[39;49m\u001b[43musername\u001b[49m\u001b[43m,\u001b[49m\u001b[43m \u001b[49m\u001b[38;5;28;43mself\u001b[39;49m\u001b[38;5;241;43m.\u001b[39;49m\u001b[43msession\u001b[49m\u001b[43m)\u001b[49m\n",
      "File \u001b[0;32m/opt/anaconda3/lib/python3.9/site-packages/jupyter_client/session.py:220\u001b[0m, in \u001b[0;36mmsg_header\u001b[0;34m(msg_id, msg_type, username, session)\u001b[0m\n\u001b[1;32m    218\u001b[0m \u001b[38;5;28;01mdef\u001b[39;00m \u001b[38;5;21mmsg_header\u001b[39m(msg_id, msg_type, username, session):\n\u001b[1;32m    219\u001b[0m \u001b[38;5;250m    \u001b[39m\u001b[38;5;124;03m\"\"\"Create a new message header\"\"\"\u001b[39;00m\n\u001b[0;32m--> 220\u001b[0m     date \u001b[38;5;241m=\u001b[39m \u001b[43mutcnow\u001b[49m\u001b[43m(\u001b[49m\u001b[43m)\u001b[49m\n\u001b[1;32m    221\u001b[0m     version \u001b[38;5;241m=\u001b[39m protocol_version\n\u001b[1;32m    222\u001b[0m     \u001b[38;5;28;01mreturn\u001b[39;00m \u001b[38;5;28mlocals\u001b[39m()\n",
      "File \u001b[0;32m/opt/anaconda3/lib/python3.9/site-packages/jupyter_client/session.py:151\u001b[0m, in \u001b[0;36mutcnow\u001b[0;34m()\u001b[0m\n\u001b[1;32m    149\u001b[0m \u001b[38;5;28;01mdef\u001b[39;00m \u001b[38;5;21mutcnow\u001b[39m():\n\u001b[1;32m    150\u001b[0m \u001b[38;5;250m    \u001b[39m\u001b[38;5;124;03m\"\"\"Return timezone-aware UTC timestamp\"\"\"\u001b[39;00m\n\u001b[0;32m--> 151\u001b[0m     \u001b[38;5;28;01mreturn\u001b[39;00m \u001b[43mdatetime\u001b[49m\u001b[38;5;241;43m.\u001b[39;49m\u001b[43mutcnow\u001b[49m\u001b[43m(\u001b[49m\u001b[43m)\u001b[49m\u001b[38;5;241m.\u001b[39mreplace(tzinfo\u001b[38;5;241m=\u001b[39mutc)\n",
      "\u001b[0;31mKeyboardInterrupt\u001b[0m: "
     ]
    }
   ],
   "source": [
    "qsample_times = []\n",
    "stim_times = []\n",
    "\n",
    "samples = [100, 300, 1000, 3000, 10000, 50000]\n",
    "\n",
    "for s in samples:\n",
    "    begin = time.time()\n",
    "    stim_sam = qs.SubsetSampler(protocol=steane0, simulator=qs.StabilizerSimulator,  p_max={'q': 0.1}, err_model=err_model, err_params=err_params, L=3)\n",
    "    stim_sam.run(s)\n",
    "    end = time.time()\n",
    "    qsample_times.append(end-begin)\n",
    "\n",
    "    begin = time.time()\n",
    "    ss_sam = qs.SubsetSampler(protocol=steane0, simulator=qs.StimSimulator,  p_max={'q': 0.01}, err_model=err_model, err_params=err_params, L=3)\n",
    "    ss_sam.run(s)\n",
    "    end = time.time()\n",
    "    stim_times.append(end-begin)\n",
    "\n",
    "plt.plot(samples, stim_sam.stats()[0])\n",
    "plt.plot(samples, stim_sam.stats()[2])\n",
    "plt.plot(samples, ss_sam.stats()[0])\n",
    "plt.plot(samples, ss_sam.stats()[2])\n",
    "plt.xscale('log')\n",
    "plt.yscale('log')"
   ]
  },
  {
   "cell_type": "code",
   "execution_count": 27,
   "id": "69bdf562",
   "metadata": {},
   "outputs": [
    {
     "name": "stdout",
     "output_type": "stream",
     "text": [
      "Average ratio of stim time/stabilizer time: 0.45\n"
     ]
    },
    {
     "data": {
      "image/png": "[encoded data removed]",
      "text/plain": [
       "<Figure size 432x288 with 1 Axes>"
      ]
     },
     "metadata": {
      "needs_background": "light"
     },
     "output_type": "display_data"
    }
   ],
   "source": [
    "plt.plot(samples, qsample_times, label = 'stabilizer sim.')\n",
    "plt.plot(samples, stim_times, label = 'stim sim.')\n",
    "plt.legend()\n",
    "plt.xscale('log')\n",
    "plt.yscale('log')\n",
    "plt.ylabel('time (s)')\n",
    "plt.xlabel('# of samples')\n",
    "\n",
    "print('Average ratio of stim time/stabilizer time: {:.2f}'.format(np.average(np.array(stim_times)/np.array(qsample_times))))"
   ]
  },
  {
   "cell_type": "code",
   "execution_count": null,
   "id": "97fab293",
   "metadata": {},
   "outputs": [],
   "source": []
  }
 ],
 "metadata": {
  "kernelspec": {
   "display_name": "Python 3 (ipykernel)",
   "language": "python",
   "name": "python3"
  },
  "language_info": {
   "codemirror_mode": {
    "name": "ipython",
    "version": 3
   },
   "file_extension": ".py",
   "mimetype": "text/x-python",
   "name": "python",
   "nbconvert_exporter": "python",
   "pygments_lexer": "ipython3",
   "version": "3.9.12"
  }
 },
 "nbformat": 4,
 "nbformat_minor": 5
}
