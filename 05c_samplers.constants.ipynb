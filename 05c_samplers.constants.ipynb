{
 "cells": [
  {
   "cell_type": "code",
   "execution_count": null,
   "id": "1eac109e-5c8d-4d65-95a7-b940f3b9adff",
   "metadata": {},
   "outputs": [],
   "source": [
    "# default_exp samplers.constants"
   ]
  },
  {
   "cell_type": "markdown",
   "id": "dd36eecc-4aad-4517-b973-e476772cda9f",
   "metadata": {},
   "source": [
    "# Samplers Constants\n",
    "\n",
    "> Common constants"
   ]
  },
  {
   "cell_type": "code",
   "execution_count": null,
   "id": "87000734-a882-46da-9637-503eea0a3ee1",
   "metadata": {},
   "outputs": [],
   "source": [
    "# hide\n",
    "from nbdev.showdoc import *"
   ]
  },
  {
   "cell_type": "code",
   "execution_count": null,
   "id": "5d10c28d-14cc-4027-8ecd-97d0cff59e93",
   "metadata": {},
   "outputs": [],
   "source": [
    "#export\n",
    "ONE_QUBIT_GATES = {'H', 'X', 'Z'}\n",
    "TWO_QUBIT_GATES = {'CNOT'}\n",
    "\n",
    "GATE_GROUPS = {'p': ONE_QUBIT_GATES | TWO_QUBIT_GATES,\n",
    "               'p1': ONE_QUBIT_GATES,\n",
    "               'p2': TWO_QUBIT_GATES,\n",
    "               }"
   ]
  }
 ],
 "metadata": {
  "kernelspec": {
   "display_name": "Python 3 (ipykernel)",
   "language": "python",
   "name": "python3"
  }
 },
 "nbformat": 4,
 "nbformat_minor": 5
}
